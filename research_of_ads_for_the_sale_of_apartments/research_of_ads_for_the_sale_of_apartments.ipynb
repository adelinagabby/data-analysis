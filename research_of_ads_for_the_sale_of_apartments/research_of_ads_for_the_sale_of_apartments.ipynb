{
 "cells": [
  {
   "cell_type": "markdown",
   "metadata": {},
   "source": [
    "# Исследование объявлений о продаже квартир\n",
    "\n",
    "Входные данные — архив объявлений о продаже квартир в Санкт-Петербурге и соседних населённых пунктов за несколько лет. Требуется выполнить предобработку данных и изучить их, чтобы найти интересные особенности и зависимости, которые существуют на рынке недвижимости."
   ]
  },
  {
   "cell_type": "markdown",
   "metadata": {},
   "source": [
    "### Открытие файла с данными и изучение общей информации. "
   ]
  },
  {
   "cell_type": "markdown",
   "metadata": {},
   "source": [
    "1.1 Импортируем библиотеки pandas и matplotlib.pyplot."
   ]
  },
  {
   "cell_type": "code",
   "execution_count": 1,
   "metadata": {},
   "outputs": [],
   "source": [
    "import pandas as pd\n",
    "import matplotlib.pyplot as plt"
   ]
  },
  {
   "cell_type": "markdown",
   "metadata": {},
   "source": [
    "1.2 Считаем данные из csv-файла в датафрейм и сохраним в переменную data."
   ]
  },
  {
   "cell_type": "code",
   "execution_count": 2,
   "metadata": {},
   "outputs": [],
   "source": [
    "data = pd.read_csv('/datasets/real_estate_data.csv', sep='\\t')"
   ]
  },
  {
   "cell_type": "markdown",
   "metadata": {},
   "source": [
    "1.3 Выведем первые 15 строчек датафрейма data на экран."
   ]
  },
  {
   "cell_type": "code",
   "execution_count": 3,
   "metadata": {},
   "outputs": [
    {
     "data": {
      "text/html": [
       "<div>\n",
       "<style scoped>\n",
       "    .dataframe tbody tr th:only-of-type {\n",
       "        vertical-align: middle;\n",
       "    }\n",
       "\n",
       "    .dataframe tbody tr th {\n",
       "        vertical-align: top;\n",
       "    }\n",
       "\n",
       "    .dataframe thead th {\n",
       "        text-align: right;\n",
       "    }\n",
       "</style>\n",
       "<table border=\"1\" class=\"dataframe\">\n",
       "  <thead>\n",
       "    <tr style=\"text-align: right;\">\n",
       "      <th></th>\n",
       "      <th>total_images</th>\n",
       "      <th>last_price</th>\n",
       "      <th>total_area</th>\n",
       "      <th>first_day_exposition</th>\n",
       "      <th>rooms</th>\n",
       "      <th>ceiling_height</th>\n",
       "      <th>floors_total</th>\n",
       "      <th>living_area</th>\n",
       "      <th>floor</th>\n",
       "      <th>is_apartment</th>\n",
       "      <th>studio</th>\n",
       "      <th>open_plan</th>\n",
       "      <th>kitchen_area</th>\n",
       "      <th>balcony</th>\n",
       "      <th>locality_name</th>\n",
       "      <th>airports_nearest</th>\n",
       "      <th>cityCenters_nearest</th>\n",
       "      <th>parks_around3000</th>\n",
       "      <th>parks_nearest</th>\n",
       "      <th>ponds_around3000</th>\n",
       "      <th>ponds_nearest</th>\n",
       "      <th>days_exposition</th>\n",
       "    </tr>\n",
       "  </thead>\n",
       "  <tbody>\n",
       "    <tr>\n",
       "      <th>0</th>\n",
       "      <td>20</td>\n",
       "      <td>13000000.0</td>\n",
       "      <td>108.00</td>\n",
       "      <td>2019-03-07T00:00:00</td>\n",
       "      <td>3</td>\n",
       "      <td>2.70</td>\n",
       "      <td>16.0</td>\n",
       "      <td>51.00</td>\n",
       "      <td>8</td>\n",
       "      <td>NaN</td>\n",
       "      <td>False</td>\n",
       "      <td>False</td>\n",
       "      <td>25.00</td>\n",
       "      <td>NaN</td>\n",
       "      <td>Санкт-Петербург</td>\n",
       "      <td>18863.0</td>\n",
       "      <td>16028.0</td>\n",
       "      <td>1.0</td>\n",
       "      <td>482.0</td>\n",
       "      <td>2.0</td>\n",
       "      <td>755.0</td>\n",
       "      <td>NaN</td>\n",
       "    </tr>\n",
       "    <tr>\n",
       "      <th>1</th>\n",
       "      <td>7</td>\n",
       "      <td>3350000.0</td>\n",
       "      <td>40.40</td>\n",
       "      <td>2018-12-04T00:00:00</td>\n",
       "      <td>1</td>\n",
       "      <td>NaN</td>\n",
       "      <td>11.0</td>\n",
       "      <td>18.60</td>\n",
       "      <td>1</td>\n",
       "      <td>NaN</td>\n",
       "      <td>False</td>\n",
       "      <td>False</td>\n",
       "      <td>11.00</td>\n",
       "      <td>2.0</td>\n",
       "      <td>посёлок Шушары</td>\n",
       "      <td>12817.0</td>\n",
       "      <td>18603.0</td>\n",
       "      <td>0.0</td>\n",
       "      <td>NaN</td>\n",
       "      <td>0.0</td>\n",
       "      <td>NaN</td>\n",
       "      <td>81.0</td>\n",
       "    </tr>\n",
       "    <tr>\n",
       "      <th>2</th>\n",
       "      <td>10</td>\n",
       "      <td>5196000.0</td>\n",
       "      <td>56.00</td>\n",
       "      <td>2015-08-20T00:00:00</td>\n",
       "      <td>2</td>\n",
       "      <td>NaN</td>\n",
       "      <td>5.0</td>\n",
       "      <td>34.30</td>\n",
       "      <td>4</td>\n",
       "      <td>NaN</td>\n",
       "      <td>False</td>\n",
       "      <td>False</td>\n",
       "      <td>8.30</td>\n",
       "      <td>0.0</td>\n",
       "      <td>Санкт-Петербург</td>\n",
       "      <td>21741.0</td>\n",
       "      <td>13933.0</td>\n",
       "      <td>1.0</td>\n",
       "      <td>90.0</td>\n",
       "      <td>2.0</td>\n",
       "      <td>574.0</td>\n",
       "      <td>558.0</td>\n",
       "    </tr>\n",
       "    <tr>\n",
       "      <th>3</th>\n",
       "      <td>0</td>\n",
       "      <td>64900000.0</td>\n",
       "      <td>159.00</td>\n",
       "      <td>2015-07-24T00:00:00</td>\n",
       "      <td>3</td>\n",
       "      <td>NaN</td>\n",
       "      <td>14.0</td>\n",
       "      <td>NaN</td>\n",
       "      <td>9</td>\n",
       "      <td>NaN</td>\n",
       "      <td>False</td>\n",
       "      <td>False</td>\n",
       "      <td>NaN</td>\n",
       "      <td>0.0</td>\n",
       "      <td>Санкт-Петербург</td>\n",
       "      <td>28098.0</td>\n",
       "      <td>6800.0</td>\n",
       "      <td>2.0</td>\n",
       "      <td>84.0</td>\n",
       "      <td>3.0</td>\n",
       "      <td>234.0</td>\n",
       "      <td>424.0</td>\n",
       "    </tr>\n",
       "    <tr>\n",
       "      <th>4</th>\n",
       "      <td>2</td>\n",
       "      <td>10000000.0</td>\n",
       "      <td>100.00</td>\n",
       "      <td>2018-06-19T00:00:00</td>\n",
       "      <td>2</td>\n",
       "      <td>3.03</td>\n",
       "      <td>14.0</td>\n",
       "      <td>32.00</td>\n",
       "      <td>13</td>\n",
       "      <td>NaN</td>\n",
       "      <td>False</td>\n",
       "      <td>False</td>\n",
       "      <td>41.00</td>\n",
       "      <td>NaN</td>\n",
       "      <td>Санкт-Петербург</td>\n",
       "      <td>31856.0</td>\n",
       "      <td>8098.0</td>\n",
       "      <td>2.0</td>\n",
       "      <td>112.0</td>\n",
       "      <td>1.0</td>\n",
       "      <td>48.0</td>\n",
       "      <td>121.0</td>\n",
       "    </tr>\n",
       "    <tr>\n",
       "      <th>5</th>\n",
       "      <td>10</td>\n",
       "      <td>2890000.0</td>\n",
       "      <td>30.40</td>\n",
       "      <td>2018-09-10T00:00:00</td>\n",
       "      <td>1</td>\n",
       "      <td>NaN</td>\n",
       "      <td>12.0</td>\n",
       "      <td>14.40</td>\n",
       "      <td>5</td>\n",
       "      <td>NaN</td>\n",
       "      <td>False</td>\n",
       "      <td>False</td>\n",
       "      <td>9.10</td>\n",
       "      <td>NaN</td>\n",
       "      <td>городской посёлок Янино-1</td>\n",
       "      <td>NaN</td>\n",
       "      <td>NaN</td>\n",
       "      <td>NaN</td>\n",
       "      <td>NaN</td>\n",
       "      <td>NaN</td>\n",
       "      <td>NaN</td>\n",
       "      <td>55.0</td>\n",
       "    </tr>\n",
       "    <tr>\n",
       "      <th>6</th>\n",
       "      <td>6</td>\n",
       "      <td>3700000.0</td>\n",
       "      <td>37.30</td>\n",
       "      <td>2017-11-02T00:00:00</td>\n",
       "      <td>1</td>\n",
       "      <td>NaN</td>\n",
       "      <td>26.0</td>\n",
       "      <td>10.60</td>\n",
       "      <td>6</td>\n",
       "      <td>NaN</td>\n",
       "      <td>False</td>\n",
       "      <td>False</td>\n",
       "      <td>14.40</td>\n",
       "      <td>1.0</td>\n",
       "      <td>посёлок Парголово</td>\n",
       "      <td>52996.0</td>\n",
       "      <td>19143.0</td>\n",
       "      <td>0.0</td>\n",
       "      <td>NaN</td>\n",
       "      <td>0.0</td>\n",
       "      <td>NaN</td>\n",
       "      <td>155.0</td>\n",
       "    </tr>\n",
       "    <tr>\n",
       "      <th>7</th>\n",
       "      <td>5</td>\n",
       "      <td>7915000.0</td>\n",
       "      <td>71.60</td>\n",
       "      <td>2019-04-18T00:00:00</td>\n",
       "      <td>2</td>\n",
       "      <td>NaN</td>\n",
       "      <td>24.0</td>\n",
       "      <td>NaN</td>\n",
       "      <td>22</td>\n",
       "      <td>NaN</td>\n",
       "      <td>False</td>\n",
       "      <td>False</td>\n",
       "      <td>18.90</td>\n",
       "      <td>2.0</td>\n",
       "      <td>Санкт-Петербург</td>\n",
       "      <td>23982.0</td>\n",
       "      <td>11634.0</td>\n",
       "      <td>0.0</td>\n",
       "      <td>NaN</td>\n",
       "      <td>0.0</td>\n",
       "      <td>NaN</td>\n",
       "      <td>NaN</td>\n",
       "    </tr>\n",
       "    <tr>\n",
       "      <th>8</th>\n",
       "      <td>20</td>\n",
       "      <td>2900000.0</td>\n",
       "      <td>33.16</td>\n",
       "      <td>2018-05-23T00:00:00</td>\n",
       "      <td>1</td>\n",
       "      <td>NaN</td>\n",
       "      <td>27.0</td>\n",
       "      <td>15.43</td>\n",
       "      <td>26</td>\n",
       "      <td>NaN</td>\n",
       "      <td>False</td>\n",
       "      <td>False</td>\n",
       "      <td>8.81</td>\n",
       "      <td>NaN</td>\n",
       "      <td>посёлок Мурино</td>\n",
       "      <td>NaN</td>\n",
       "      <td>NaN</td>\n",
       "      <td>NaN</td>\n",
       "      <td>NaN</td>\n",
       "      <td>NaN</td>\n",
       "      <td>NaN</td>\n",
       "      <td>189.0</td>\n",
       "    </tr>\n",
       "    <tr>\n",
       "      <th>9</th>\n",
       "      <td>18</td>\n",
       "      <td>5400000.0</td>\n",
       "      <td>61.00</td>\n",
       "      <td>2017-02-26T00:00:00</td>\n",
       "      <td>3</td>\n",
       "      <td>2.50</td>\n",
       "      <td>9.0</td>\n",
       "      <td>43.60</td>\n",
       "      <td>7</td>\n",
       "      <td>NaN</td>\n",
       "      <td>False</td>\n",
       "      <td>False</td>\n",
       "      <td>6.50</td>\n",
       "      <td>2.0</td>\n",
       "      <td>Санкт-Петербург</td>\n",
       "      <td>50898.0</td>\n",
       "      <td>15008.0</td>\n",
       "      <td>0.0</td>\n",
       "      <td>NaN</td>\n",
       "      <td>0.0</td>\n",
       "      <td>NaN</td>\n",
       "      <td>289.0</td>\n",
       "    </tr>\n",
       "    <tr>\n",
       "      <th>10</th>\n",
       "      <td>5</td>\n",
       "      <td>5050000.0</td>\n",
       "      <td>39.60</td>\n",
       "      <td>2017-11-16T00:00:00</td>\n",
       "      <td>1</td>\n",
       "      <td>2.67</td>\n",
       "      <td>12.0</td>\n",
       "      <td>20.30</td>\n",
       "      <td>3</td>\n",
       "      <td>NaN</td>\n",
       "      <td>False</td>\n",
       "      <td>False</td>\n",
       "      <td>8.50</td>\n",
       "      <td>NaN</td>\n",
       "      <td>Санкт-Петербург</td>\n",
       "      <td>38357.0</td>\n",
       "      <td>13878.0</td>\n",
       "      <td>1.0</td>\n",
       "      <td>310.0</td>\n",
       "      <td>2.0</td>\n",
       "      <td>553.0</td>\n",
       "      <td>137.0</td>\n",
       "    </tr>\n",
       "    <tr>\n",
       "      <th>11</th>\n",
       "      <td>9</td>\n",
       "      <td>3300000.0</td>\n",
       "      <td>44.00</td>\n",
       "      <td>2018-08-27T00:00:00</td>\n",
       "      <td>2</td>\n",
       "      <td>NaN</td>\n",
       "      <td>5.0</td>\n",
       "      <td>31.00</td>\n",
       "      <td>4</td>\n",
       "      <td>False</td>\n",
       "      <td>False</td>\n",
       "      <td>False</td>\n",
       "      <td>6.00</td>\n",
       "      <td>1.0</td>\n",
       "      <td>Ломоносов</td>\n",
       "      <td>48252.0</td>\n",
       "      <td>51677.0</td>\n",
       "      <td>0.0</td>\n",
       "      <td>NaN</td>\n",
       "      <td>0.0</td>\n",
       "      <td>NaN</td>\n",
       "      <td>7.0</td>\n",
       "    </tr>\n",
       "    <tr>\n",
       "      <th>12</th>\n",
       "      <td>10</td>\n",
       "      <td>3890000.0</td>\n",
       "      <td>54.00</td>\n",
       "      <td>2016-06-30T00:00:00</td>\n",
       "      <td>2</td>\n",
       "      <td>NaN</td>\n",
       "      <td>5.0</td>\n",
       "      <td>30.00</td>\n",
       "      <td>5</td>\n",
       "      <td>NaN</td>\n",
       "      <td>False</td>\n",
       "      <td>False</td>\n",
       "      <td>9.00</td>\n",
       "      <td>0.0</td>\n",
       "      <td>Сертолово</td>\n",
       "      <td>NaN</td>\n",
       "      <td>NaN</td>\n",
       "      <td>NaN</td>\n",
       "      <td>NaN</td>\n",
       "      <td>NaN</td>\n",
       "      <td>NaN</td>\n",
       "      <td>90.0</td>\n",
       "    </tr>\n",
       "    <tr>\n",
       "      <th>13</th>\n",
       "      <td>20</td>\n",
       "      <td>3550000.0</td>\n",
       "      <td>42.80</td>\n",
       "      <td>2017-07-01T00:00:00</td>\n",
       "      <td>2</td>\n",
       "      <td>2.56</td>\n",
       "      <td>5.0</td>\n",
       "      <td>27.00</td>\n",
       "      <td>5</td>\n",
       "      <td>NaN</td>\n",
       "      <td>False</td>\n",
       "      <td>False</td>\n",
       "      <td>5.20</td>\n",
       "      <td>1.0</td>\n",
       "      <td>Петергоф</td>\n",
       "      <td>37868.0</td>\n",
       "      <td>33058.0</td>\n",
       "      <td>1.0</td>\n",
       "      <td>294.0</td>\n",
       "      <td>3.0</td>\n",
       "      <td>298.0</td>\n",
       "      <td>366.0</td>\n",
       "    </tr>\n",
       "    <tr>\n",
       "      <th>14</th>\n",
       "      <td>1</td>\n",
       "      <td>4400000.0</td>\n",
       "      <td>36.00</td>\n",
       "      <td>2016-06-23T00:00:00</td>\n",
       "      <td>1</td>\n",
       "      <td>NaN</td>\n",
       "      <td>6.0</td>\n",
       "      <td>17.00</td>\n",
       "      <td>1</td>\n",
       "      <td>NaN</td>\n",
       "      <td>False</td>\n",
       "      <td>False</td>\n",
       "      <td>8.00</td>\n",
       "      <td>0.0</td>\n",
       "      <td>Пушкин</td>\n",
       "      <td>20782.0</td>\n",
       "      <td>30759.0</td>\n",
       "      <td>0.0</td>\n",
       "      <td>NaN</td>\n",
       "      <td>1.0</td>\n",
       "      <td>96.0</td>\n",
       "      <td>203.0</td>\n",
       "    </tr>\n",
       "  </tbody>\n",
       "</table>\n",
       "</div>"
      ],
      "text/plain": [
       "    total_images  last_price  total_area first_day_exposition  rooms  \\\n",
       "0             20  13000000.0      108.00  2019-03-07T00:00:00      3   \n",
       "1              7   3350000.0       40.40  2018-12-04T00:00:00      1   \n",
       "2             10   5196000.0       56.00  2015-08-20T00:00:00      2   \n",
       "3              0  64900000.0      159.00  2015-07-24T00:00:00      3   \n",
       "4              2  10000000.0      100.00  2018-06-19T00:00:00      2   \n",
       "5             10   2890000.0       30.40  2018-09-10T00:00:00      1   \n",
       "6              6   3700000.0       37.30  2017-11-02T00:00:00      1   \n",
       "7              5   7915000.0       71.60  2019-04-18T00:00:00      2   \n",
       "8             20   2900000.0       33.16  2018-05-23T00:00:00      1   \n",
       "9             18   5400000.0       61.00  2017-02-26T00:00:00      3   \n",
       "10             5   5050000.0       39.60  2017-11-16T00:00:00      1   \n",
       "11             9   3300000.0       44.00  2018-08-27T00:00:00      2   \n",
       "12            10   3890000.0       54.00  2016-06-30T00:00:00      2   \n",
       "13            20   3550000.0       42.80  2017-07-01T00:00:00      2   \n",
       "14             1   4400000.0       36.00  2016-06-23T00:00:00      1   \n",
       "\n",
       "    ceiling_height  floors_total  living_area  floor is_apartment  studio  \\\n",
       "0             2.70          16.0        51.00      8          NaN   False   \n",
       "1              NaN          11.0        18.60      1          NaN   False   \n",
       "2              NaN           5.0        34.30      4          NaN   False   \n",
       "3              NaN          14.0          NaN      9          NaN   False   \n",
       "4             3.03          14.0        32.00     13          NaN   False   \n",
       "5              NaN          12.0        14.40      5          NaN   False   \n",
       "6              NaN          26.0        10.60      6          NaN   False   \n",
       "7              NaN          24.0          NaN     22          NaN   False   \n",
       "8              NaN          27.0        15.43     26          NaN   False   \n",
       "9             2.50           9.0        43.60      7          NaN   False   \n",
       "10            2.67          12.0        20.30      3          NaN   False   \n",
       "11             NaN           5.0        31.00      4        False   False   \n",
       "12             NaN           5.0        30.00      5          NaN   False   \n",
       "13            2.56           5.0        27.00      5          NaN   False   \n",
       "14             NaN           6.0        17.00      1          NaN   False   \n",
       "\n",
       "    open_plan  kitchen_area  balcony              locality_name  \\\n",
       "0       False         25.00      NaN            Санкт-Петербург   \n",
       "1       False         11.00      2.0             посёлок Шушары   \n",
       "2       False          8.30      0.0            Санкт-Петербург   \n",
       "3       False           NaN      0.0            Санкт-Петербург   \n",
       "4       False         41.00      NaN            Санкт-Петербург   \n",
       "5       False          9.10      NaN  городской посёлок Янино-1   \n",
       "6       False         14.40      1.0          посёлок Парголово   \n",
       "7       False         18.90      2.0            Санкт-Петербург   \n",
       "8       False          8.81      NaN             посёлок Мурино   \n",
       "9       False          6.50      2.0            Санкт-Петербург   \n",
       "10      False          8.50      NaN            Санкт-Петербург   \n",
       "11      False          6.00      1.0                  Ломоносов   \n",
       "12      False          9.00      0.0                  Сертолово   \n",
       "13      False          5.20      1.0                   Петергоф   \n",
       "14      False          8.00      0.0                     Пушкин   \n",
       "\n",
       "    airports_nearest  cityCenters_nearest  parks_around3000  parks_nearest  \\\n",
       "0            18863.0              16028.0               1.0          482.0   \n",
       "1            12817.0              18603.0               0.0            NaN   \n",
       "2            21741.0              13933.0               1.0           90.0   \n",
       "3            28098.0               6800.0               2.0           84.0   \n",
       "4            31856.0               8098.0               2.0          112.0   \n",
       "5                NaN                  NaN               NaN            NaN   \n",
       "6            52996.0              19143.0               0.0            NaN   \n",
       "7            23982.0              11634.0               0.0            NaN   \n",
       "8                NaN                  NaN               NaN            NaN   \n",
       "9            50898.0              15008.0               0.0            NaN   \n",
       "10           38357.0              13878.0               1.0          310.0   \n",
       "11           48252.0              51677.0               0.0            NaN   \n",
       "12               NaN                  NaN               NaN            NaN   \n",
       "13           37868.0              33058.0               1.0          294.0   \n",
       "14           20782.0              30759.0               0.0            NaN   \n",
       "\n",
       "    ponds_around3000  ponds_nearest  days_exposition  \n",
       "0                2.0          755.0              NaN  \n",
       "1                0.0            NaN             81.0  \n",
       "2                2.0          574.0            558.0  \n",
       "3                3.0          234.0            424.0  \n",
       "4                1.0           48.0            121.0  \n",
       "5                NaN            NaN             55.0  \n",
       "6                0.0            NaN            155.0  \n",
       "7                0.0            NaN              NaN  \n",
       "8                NaN            NaN            189.0  \n",
       "9                0.0            NaN            289.0  \n",
       "10               2.0          553.0            137.0  \n",
       "11               0.0            NaN              7.0  \n",
       "12               NaN            NaN             90.0  \n",
       "13               3.0          298.0            366.0  \n",
       "14               1.0           96.0            203.0  "
      ]
     },
     "execution_count": 3,
     "metadata": {},
     "output_type": "execute_result"
    }
   ],
   "source": [
    "pd.set_option('display.max_columns', None)\n",
    "data.head(15)"
   ]
  },
  {
   "cell_type": "markdown",
   "metadata": {},
   "source": [
    "1.4 Выведем основную информацию о датафрейме."
   ]
  },
  {
   "cell_type": "code",
   "execution_count": 4,
   "metadata": {},
   "outputs": [
    {
     "name": "stdout",
     "output_type": "stream",
     "text": [
      "<class 'pandas.core.frame.DataFrame'>\n",
      "RangeIndex: 23699 entries, 0 to 23698\n",
      "Data columns (total 22 columns):\n",
      " #   Column                Non-Null Count  Dtype  \n",
      "---  ------                --------------  -----  \n",
      " 0   total_images          23699 non-null  int64  \n",
      " 1   last_price            23699 non-null  float64\n",
      " 2   total_area            23699 non-null  float64\n",
      " 3   first_day_exposition  23699 non-null  object \n",
      " 4   rooms                 23699 non-null  int64  \n",
      " 5   ceiling_height        14504 non-null  float64\n",
      " 6   floors_total          23613 non-null  float64\n",
      " 7   living_area           21796 non-null  float64\n",
      " 8   floor                 23699 non-null  int64  \n",
      " 9   is_apartment          2775 non-null   object \n",
      " 10  studio                23699 non-null  bool   \n",
      " 11  open_plan             23699 non-null  bool   \n",
      " 12  kitchen_area          21421 non-null  float64\n",
      " 13  balcony               12180 non-null  float64\n",
      " 14  locality_name         23650 non-null  object \n",
      " 15  airports_nearest      18157 non-null  float64\n",
      " 16  cityCenters_nearest   18180 non-null  float64\n",
      " 17  parks_around3000      18181 non-null  float64\n",
      " 18  parks_nearest         8079 non-null   float64\n",
      " 19  ponds_around3000      18181 non-null  float64\n",
      " 20  ponds_nearest         9110 non-null   float64\n",
      " 21  days_exposition       20518 non-null  float64\n",
      "dtypes: bool(2), float64(14), int64(3), object(3)\n",
      "memory usage: 3.7+ MB\n"
     ]
    }
   ],
   "source": [
    "data.info()"
   ]
  },
  {
   "cell_type": "markdown",
   "metadata": {},
   "source": [
    "1.4 Рассмотрим столбцы датафрейма:\n",
    "<br><br>\n",
    "<li>airports_nearest — расстояние до ближайшего аэропорта в метрах (м)</li>\n",
    "<li>balcony — число балконов</li>\n",
    "<li>ceiling_height — высота потолков (м)</li>\n",
    "<li>cityCenters_nearest — расстояние до центра города (м)</li>\n",
    "<li>days_exposition — сколько дней было размещено объявление (от публикации до снятия)</li>\n",
    "<li>first_day_exposition — дата публикации</li>\n",
    "<li>floor — этаж</li>\n",
    "<li>floors_total — всего этажей в доме</li>\n",
    "<li>is_apartment — апартаменты (булев тип)</li>\n",
    "<li>kitchen_area — площадь кухни в квадратных метрах (м²)</li>\n",
    "<li>last_price — цена на момент снятия с публикации</li>\n",
    "<li>living_area — жилая площадь в квадратных метрах (м²)</li>\n",
    "<li>locality_name — название населённого пункта</li>\n",
    "<li>open_plan — свободная планировка (булев тип)</li>\n",
    "<li>parks_around3000 — число парков в радиусе 3 км</li>\n",
    "<li>parks_nearest — расстояние до ближайшего парка (м)</li>\n",
    "<li>ponds_around3000 — число водоёмов в радиусе 3 км</li>\n",
    "<li>ponds_nearest — расстояние до ближайшего водоёма (м)</li>\n",
    "<li>rooms — число комнат</li>\n",
    "<li>studio — квартира-студия (булев тип)</li>\n",
    "<li>total_area — общая площадь квартиры в квадратных метрах (м²)</li>\n",
    "<li>total_images — число фотографий квартиры в объявлении</li>\n"
   ]
  },
  {
   "cell_type": "markdown",
   "metadata": {},
   "source": [
    "1.5 Построим общую гистограмму для всех столбцов таблицы."
   ]
  },
  {
   "cell_type": "code",
   "execution_count": 5,
   "metadata": {},
   "outputs": [
    {
     "data": {
      "image/png": "[encoded data removed]",
      "text/plain": [
       "<Figure size 1080x1440 with 20 Axes>"
      ]
     },
     "metadata": {
      "needs_background": "light"
     },
     "output_type": "display_data"
    }
   ],
   "source": [
    "data.hist(figsize=(15, 20));"
   ]
  },
  {
   "cell_type": "markdown",
   "metadata": {},
   "source": [
    "### Предобработка данных"
   ]
  },
  {
   "cell_type": "markdown",
   "metadata": {},
   "source": [
    "2.1 Приведем названия столбцов в соответствие с хорошим стилем: "
   ]
  },
  {
   "cell_type": "code",
   "execution_count": 6,
   "metadata": {},
   "outputs": [
    {
     "name": "stdout",
     "output_type": "stream",
     "text": [
      "<class 'pandas.core.frame.DataFrame'>\n",
      "RangeIndex: 23699 entries, 0 to 23698\n",
      "Data columns (total 22 columns):\n",
      " #   Column                Non-Null Count  Dtype  \n",
      "---  ------                --------------  -----  \n",
      " 0   total_images          23699 non-null  int64  \n",
      " 1   last_price            23699 non-null  float64\n",
      " 2   total_area            23699 non-null  float64\n",
      " 3   first_day_exposition  23699 non-null  object \n",
      " 4   rooms                 23699 non-null  int64  \n",
      " 5   ceiling_height        14504 non-null  float64\n",
      " 6   floors_total          23613 non-null  float64\n",
      " 7   living_area           21796 non-null  float64\n",
      " 8   floor                 23699 non-null  int64  \n",
      " 9   is_apartment          2775 non-null   object \n",
      " 10  studio                23699 non-null  bool   \n",
      " 11  open_plan             23699 non-null  bool   \n",
      " 12  kitchen_area          21421 non-null  float64\n",
      " 13  balcony               12180 non-null  float64\n",
      " 14  locality_name         23650 non-null  object \n",
      " 15  airports_nearest      18157 non-null  float64\n",
      " 16  city_сenters_nearest  18180 non-null  float64\n",
      " 17  parks_around_3000     18181 non-null  float64\n",
      " 18  parks_nearest         8079 non-null   float64\n",
      " 19  ponds_around_3000     18181 non-null  float64\n",
      " 20  ponds_nearest         9110 non-null   float64\n",
      " 21  days_exposition       20518 non-null  float64\n",
      "dtypes: bool(2), float64(14), int64(3), object(3)\n",
      "memory usage: 3.7+ MB\n"
     ]
    }
   ],
   "source": [
    "data = data.rename(columns = {'cityCenters_nearest':'city_сenters_nearest',\n",
    "                         'parks_around3000':'parks_around_3000',\n",
    "                         'ponds_around3000':'ponds_around_3000'})\n",
    "data.info()"
   ]
  },
  {
   "cell_type": "markdown",
   "metadata": {},
   "source": [
    "2.2 Выведем количество пропущенных значений для каждого столбца."
   ]
  },
  {
   "cell_type": "code",
   "execution_count": 7,
   "metadata": {},
   "outputs": [
    {
     "data": {
      "text/plain": [
       "total_images                0\n",
       "last_price                  0\n",
       "total_area                  0\n",
       "first_day_exposition        0\n",
       "rooms                       0\n",
       "ceiling_height           9195\n",
       "floors_total               86\n",
       "living_area              1903\n",
       "floor                       0\n",
       "is_apartment            20924\n",
       "studio                      0\n",
       "open_plan                   0\n",
       "kitchen_area             2278\n",
       "balcony                 11519\n",
       "locality_name              49\n",
       "airports_nearest         5542\n",
       "city_сenters_nearest     5519\n",
       "parks_around_3000        5518\n",
       "parks_nearest           15620\n",
       "ponds_around_3000        5518\n",
       "ponds_nearest           14589\n",
       "days_exposition          3181\n",
       "dtype: int64"
      ]
     },
     "execution_count": 7,
     "metadata": {},
     "output_type": "execute_result"
    }
   ],
   "source": [
    "data.isna().sum()"
   ]
  },
  {
   "cell_type": "markdown",
   "metadata": {},
   "source": [
    "2.3 Заполним пропущенные значения там, где это возможно. \n",
    "\n",
    "Например, если продавец не указал число балконов, то, скорее всего, в его квартире их нет. Такие пропуски правильно заменить на 0. \n",
    "\n",
    "Аналогично для столбцов 'parks_around_3000' (наличие парков в округе) и 'ponds_around_3000' (наличие водоемов в округе). \n",
    "\n",
    "Также поступим и со столбцом 'is_apartment' (аппартаменты), только вместо 0 укажем значение False."
   ]
  },
  {
   "cell_type": "code",
   "execution_count": 8,
   "metadata": {},
   "outputs": [
    {
     "data": {
      "text/plain": [
       "total_images                0\n",
       "last_price                  0\n",
       "total_area                  0\n",
       "first_day_exposition        0\n",
       "rooms                       0\n",
       "ceiling_height           9195\n",
       "floors_total               86\n",
       "living_area              1903\n",
       "floor                       0\n",
       "is_apartment                0\n",
       "studio                      0\n",
       "open_plan                   0\n",
       "kitchen_area             2278\n",
       "balcony                     0\n",
       "locality_name              49\n",
       "airports_nearest         5542\n",
       "city_сenters_nearest     5519\n",
       "parks_around_3000           0\n",
       "parks_nearest           15620\n",
       "ponds_around_3000           0\n",
       "ponds_nearest           14589\n",
       "days_exposition          3181\n",
       "dtype: int64"
      ]
     },
     "execution_count": 8,
     "metadata": {},
     "output_type": "execute_result"
    }
   ],
   "source": [
    "data['is_apartment']=data['is_apartment'].fillna(False)\n",
    "data['balcony']=data['balcony'].fillna(0)\n",
    "data['parks_around_3000']=data['parks_around_3000'].fillna(0)\n",
    "data['ponds_around_3000']=data['ponds_around_3000'].fillna(0)\n",
    "data.isna().sum()"
   ]
  },
  {
   "cell_type": "markdown",
   "metadata": {},
   "source": [
    "Причиной отсутствия значений может являться то, что продавец не посчитал нужным указывать ту или иную информацию при продаже квартиры. Также причиной может являться человеческий фактор (продавец забыл заполнить поля)."
   ]
  },
  {
   "cell_type": "markdown",
   "metadata": {},
   "source": [
    "2.4 Изучим типы столбцов и изменим, там, где это необходимо."
   ]
  },
  {
   "cell_type": "markdown",
   "metadata": {},
   "source": [
    "В столбце 'first_day_exposition' явно хранится дата дня, в который квартиру выставили на продажу.\n",
    "\n",
    "Преобразуем формат данного столбца и округлим результат до одного дня."
   ]
  },
  {
   "cell_type": "code",
   "execution_count": 9,
   "metadata": {},
   "outputs": [],
   "source": [
    "data['first_day_exposition'] = pd.to_datetime(data['first_day_exposition'], format = '%Y-%m-%dT%H:%M:%S')\n",
    "data['first_day_exposition'] = data['first_day_exposition'].dt.round('1D')"
   ]
  },
  {
   "cell_type": "markdown",
   "metadata": {},
   "source": [
    "В столбце 'balcony' отображается наличие балконов и их количество. \n",
    "\n",
    "Данный столбец необходимо преобразовать в целочисленный тип.\n",
    "\n",
    "Аналогично для столбцов 'parks_around_3000' (наличие парков в округе), 'ponds_around_3000' (наличие водоемов в округе). "
   ]
  },
  {
   "cell_type": "code",
   "execution_count": 10,
   "metadata": {},
   "outputs": [
    {
     "data": {
      "text/html": [
       "<div>\n",
       "<style scoped>\n",
       "    .dataframe tbody tr th:only-of-type {\n",
       "        vertical-align: middle;\n",
       "    }\n",
       "\n",
       "    .dataframe tbody tr th {\n",
       "        vertical-align: top;\n",
       "    }\n",
       "\n",
       "    .dataframe thead th {\n",
       "        text-align: right;\n",
       "    }\n",
       "</style>\n",
       "<table border=\"1\" class=\"dataframe\">\n",
       "  <thead>\n",
       "    <tr style=\"text-align: right;\">\n",
       "      <th></th>\n",
       "      <th>total_images</th>\n",
       "      <th>last_price</th>\n",
       "      <th>total_area</th>\n",
       "      <th>first_day_exposition</th>\n",
       "      <th>rooms</th>\n",
       "      <th>ceiling_height</th>\n",
       "      <th>floors_total</th>\n",
       "      <th>living_area</th>\n",
       "      <th>floor</th>\n",
       "      <th>is_apartment</th>\n",
       "      <th>studio</th>\n",
       "      <th>open_plan</th>\n",
       "      <th>kitchen_area</th>\n",
       "      <th>balcony</th>\n",
       "      <th>locality_name</th>\n",
       "      <th>airports_nearest</th>\n",
       "      <th>city_сenters_nearest</th>\n",
       "      <th>parks_around_3000</th>\n",
       "      <th>parks_nearest</th>\n",
       "      <th>ponds_around_3000</th>\n",
       "      <th>ponds_nearest</th>\n",
       "      <th>days_exposition</th>\n",
       "    </tr>\n",
       "  </thead>\n",
       "  <tbody>\n",
       "    <tr>\n",
       "      <th>0</th>\n",
       "      <td>20</td>\n",
       "      <td>13000000.0</td>\n",
       "      <td>108.00</td>\n",
       "      <td>2019-03-07</td>\n",
       "      <td>3</td>\n",
       "      <td>2.70</td>\n",
       "      <td>16.0</td>\n",
       "      <td>51.0</td>\n",
       "      <td>8</td>\n",
       "      <td>False</td>\n",
       "      <td>False</td>\n",
       "      <td>False</td>\n",
       "      <td>25.00</td>\n",
       "      <td>0</td>\n",
       "      <td>Санкт-Петербург</td>\n",
       "      <td>18863.0</td>\n",
       "      <td>16028.0</td>\n",
       "      <td>1</td>\n",
       "      <td>482.0</td>\n",
       "      <td>2</td>\n",
       "      <td>755.0</td>\n",
       "      <td>NaN</td>\n",
       "    </tr>\n",
       "    <tr>\n",
       "      <th>1</th>\n",
       "      <td>7</td>\n",
       "      <td>3350000.0</td>\n",
       "      <td>40.40</td>\n",
       "      <td>2018-12-04</td>\n",
       "      <td>1</td>\n",
       "      <td>NaN</td>\n",
       "      <td>11.0</td>\n",
       "      <td>18.6</td>\n",
       "      <td>1</td>\n",
       "      <td>False</td>\n",
       "      <td>False</td>\n",
       "      <td>False</td>\n",
       "      <td>11.00</td>\n",
       "      <td>2</td>\n",
       "      <td>посёлок Шушары</td>\n",
       "      <td>12817.0</td>\n",
       "      <td>18603.0</td>\n",
       "      <td>0</td>\n",
       "      <td>NaN</td>\n",
       "      <td>0</td>\n",
       "      <td>NaN</td>\n",
       "      <td>81.0</td>\n",
       "    </tr>\n",
       "    <tr>\n",
       "      <th>2</th>\n",
       "      <td>10</td>\n",
       "      <td>5196000.0</td>\n",
       "      <td>56.00</td>\n",
       "      <td>2015-08-20</td>\n",
       "      <td>2</td>\n",
       "      <td>NaN</td>\n",
       "      <td>5.0</td>\n",
       "      <td>34.3</td>\n",
       "      <td>4</td>\n",
       "      <td>False</td>\n",
       "      <td>False</td>\n",
       "      <td>False</td>\n",
       "      <td>8.30</td>\n",
       "      <td>0</td>\n",
       "      <td>Санкт-Петербург</td>\n",
       "      <td>21741.0</td>\n",
       "      <td>13933.0</td>\n",
       "      <td>1</td>\n",
       "      <td>90.0</td>\n",
       "      <td>2</td>\n",
       "      <td>574.0</td>\n",
       "      <td>558.0</td>\n",
       "    </tr>\n",
       "    <tr>\n",
       "      <th>3</th>\n",
       "      <td>0</td>\n",
       "      <td>64900000.0</td>\n",
       "      <td>159.00</td>\n",
       "      <td>2015-07-24</td>\n",
       "      <td>3</td>\n",
       "      <td>NaN</td>\n",
       "      <td>14.0</td>\n",
       "      <td>NaN</td>\n",
       "      <td>9</td>\n",
       "      <td>False</td>\n",
       "      <td>False</td>\n",
       "      <td>False</td>\n",
       "      <td>NaN</td>\n",
       "      <td>0</td>\n",
       "      <td>Санкт-Петербург</td>\n",
       "      <td>28098.0</td>\n",
       "      <td>6800.0</td>\n",
       "      <td>2</td>\n",
       "      <td>84.0</td>\n",
       "      <td>3</td>\n",
       "      <td>234.0</td>\n",
       "      <td>424.0</td>\n",
       "    </tr>\n",
       "    <tr>\n",
       "      <th>4</th>\n",
       "      <td>2</td>\n",
       "      <td>10000000.0</td>\n",
       "      <td>100.00</td>\n",
       "      <td>2018-06-19</td>\n",
       "      <td>2</td>\n",
       "      <td>3.03</td>\n",
       "      <td>14.0</td>\n",
       "      <td>32.0</td>\n",
       "      <td>13</td>\n",
       "      <td>False</td>\n",
       "      <td>False</td>\n",
       "      <td>False</td>\n",
       "      <td>41.00</td>\n",
       "      <td>0</td>\n",
       "      <td>Санкт-Петербург</td>\n",
       "      <td>31856.0</td>\n",
       "      <td>8098.0</td>\n",
       "      <td>2</td>\n",
       "      <td>112.0</td>\n",
       "      <td>1</td>\n",
       "      <td>48.0</td>\n",
       "      <td>121.0</td>\n",
       "    </tr>\n",
       "    <tr>\n",
       "      <th>...</th>\n",
       "      <td>...</td>\n",
       "      <td>...</td>\n",
       "      <td>...</td>\n",
       "      <td>...</td>\n",
       "      <td>...</td>\n",
       "      <td>...</td>\n",
       "      <td>...</td>\n",
       "      <td>...</td>\n",
       "      <td>...</td>\n",
       "      <td>...</td>\n",
       "      <td>...</td>\n",
       "      <td>...</td>\n",
       "      <td>...</td>\n",
       "      <td>...</td>\n",
       "      <td>...</td>\n",
       "      <td>...</td>\n",
       "      <td>...</td>\n",
       "      <td>...</td>\n",
       "      <td>...</td>\n",
       "      <td>...</td>\n",
       "      <td>...</td>\n",
       "      <td>...</td>\n",
       "    </tr>\n",
       "    <tr>\n",
       "      <th>23694</th>\n",
       "      <td>9</td>\n",
       "      <td>9700000.0</td>\n",
       "      <td>133.81</td>\n",
       "      <td>2017-03-21</td>\n",
       "      <td>3</td>\n",
       "      <td>3.70</td>\n",
       "      <td>5.0</td>\n",
       "      <td>73.3</td>\n",
       "      <td>3</td>\n",
       "      <td>False</td>\n",
       "      <td>False</td>\n",
       "      <td>False</td>\n",
       "      <td>13.83</td>\n",
       "      <td>0</td>\n",
       "      <td>Санкт-Петербург</td>\n",
       "      <td>24665.0</td>\n",
       "      <td>4232.0</td>\n",
       "      <td>1</td>\n",
       "      <td>796.0</td>\n",
       "      <td>3</td>\n",
       "      <td>381.0</td>\n",
       "      <td>NaN</td>\n",
       "    </tr>\n",
       "    <tr>\n",
       "      <th>23695</th>\n",
       "      <td>14</td>\n",
       "      <td>3100000.0</td>\n",
       "      <td>59.00</td>\n",
       "      <td>2018-01-15</td>\n",
       "      <td>3</td>\n",
       "      <td>NaN</td>\n",
       "      <td>5.0</td>\n",
       "      <td>38.0</td>\n",
       "      <td>4</td>\n",
       "      <td>False</td>\n",
       "      <td>False</td>\n",
       "      <td>False</td>\n",
       "      <td>8.50</td>\n",
       "      <td>0</td>\n",
       "      <td>Тосно</td>\n",
       "      <td>NaN</td>\n",
       "      <td>NaN</td>\n",
       "      <td>0</td>\n",
       "      <td>NaN</td>\n",
       "      <td>0</td>\n",
       "      <td>NaN</td>\n",
       "      <td>45.0</td>\n",
       "    </tr>\n",
       "    <tr>\n",
       "      <th>23696</th>\n",
       "      <td>18</td>\n",
       "      <td>2500000.0</td>\n",
       "      <td>56.70</td>\n",
       "      <td>2018-02-11</td>\n",
       "      <td>2</td>\n",
       "      <td>NaN</td>\n",
       "      <td>3.0</td>\n",
       "      <td>29.7</td>\n",
       "      <td>1</td>\n",
       "      <td>False</td>\n",
       "      <td>False</td>\n",
       "      <td>False</td>\n",
       "      <td>NaN</td>\n",
       "      <td>0</td>\n",
       "      <td>село Рождествено</td>\n",
       "      <td>NaN</td>\n",
       "      <td>NaN</td>\n",
       "      <td>0</td>\n",
       "      <td>NaN</td>\n",
       "      <td>0</td>\n",
       "      <td>NaN</td>\n",
       "      <td>NaN</td>\n",
       "    </tr>\n",
       "    <tr>\n",
       "      <th>23697</th>\n",
       "      <td>13</td>\n",
       "      <td>11475000.0</td>\n",
       "      <td>76.75</td>\n",
       "      <td>2017-03-28</td>\n",
       "      <td>2</td>\n",
       "      <td>3.00</td>\n",
       "      <td>17.0</td>\n",
       "      <td>NaN</td>\n",
       "      <td>12</td>\n",
       "      <td>False</td>\n",
       "      <td>False</td>\n",
       "      <td>False</td>\n",
       "      <td>23.30</td>\n",
       "      <td>2</td>\n",
       "      <td>Санкт-Петербург</td>\n",
       "      <td>39140.0</td>\n",
       "      <td>10364.0</td>\n",
       "      <td>2</td>\n",
       "      <td>173.0</td>\n",
       "      <td>3</td>\n",
       "      <td>196.0</td>\n",
       "      <td>602.0</td>\n",
       "    </tr>\n",
       "    <tr>\n",
       "      <th>23698</th>\n",
       "      <td>4</td>\n",
       "      <td>1350000.0</td>\n",
       "      <td>32.30</td>\n",
       "      <td>2017-07-21</td>\n",
       "      <td>1</td>\n",
       "      <td>2.50</td>\n",
       "      <td>5.0</td>\n",
       "      <td>12.3</td>\n",
       "      <td>1</td>\n",
       "      <td>False</td>\n",
       "      <td>False</td>\n",
       "      <td>False</td>\n",
       "      <td>9.00</td>\n",
       "      <td>0</td>\n",
       "      <td>поселок Новый Учхоз</td>\n",
       "      <td>NaN</td>\n",
       "      <td>NaN</td>\n",
       "      <td>0</td>\n",
       "      <td>NaN</td>\n",
       "      <td>0</td>\n",
       "      <td>NaN</td>\n",
       "      <td>NaN</td>\n",
       "    </tr>\n",
       "  </tbody>\n",
       "</table>\n",
       "<p>23699 rows × 22 columns</p>\n",
       "</div>"
      ],
      "text/plain": [
       "       total_images  last_price  total_area first_day_exposition  rooms  \\\n",
       "0                20  13000000.0      108.00           2019-03-07      3   \n",
       "1                 7   3350000.0       40.40           2018-12-04      1   \n",
       "2                10   5196000.0       56.00           2015-08-20      2   \n",
       "3                 0  64900000.0      159.00           2015-07-24      3   \n",
       "4                 2  10000000.0      100.00           2018-06-19      2   \n",
       "...             ...         ...         ...                  ...    ...   \n",
       "23694             9   9700000.0      133.81           2017-03-21      3   \n",
       "23695            14   3100000.0       59.00           2018-01-15      3   \n",
       "23696            18   2500000.0       56.70           2018-02-11      2   \n",
       "23697            13  11475000.0       76.75           2017-03-28      2   \n",
       "23698             4   1350000.0       32.30           2017-07-21      1   \n",
       "\n",
       "       ceiling_height  floors_total  living_area  floor  is_apartment  studio  \\\n",
       "0                2.70          16.0         51.0      8         False   False   \n",
       "1                 NaN          11.0         18.6      1         False   False   \n",
       "2                 NaN           5.0         34.3      4         False   False   \n",
       "3                 NaN          14.0          NaN      9         False   False   \n",
       "4                3.03          14.0         32.0     13         False   False   \n",
       "...               ...           ...          ...    ...           ...     ...   \n",
       "23694            3.70           5.0         73.3      3         False   False   \n",
       "23695             NaN           5.0         38.0      4         False   False   \n",
       "23696             NaN           3.0         29.7      1         False   False   \n",
       "23697            3.00          17.0          NaN     12         False   False   \n",
       "23698            2.50           5.0         12.3      1         False   False   \n",
       "\n",
       "       open_plan  kitchen_area  balcony        locality_name  \\\n",
       "0          False         25.00        0      Санкт-Петербург   \n",
       "1          False         11.00        2       посёлок Шушары   \n",
       "2          False          8.30        0      Санкт-Петербург   \n",
       "3          False           NaN        0      Санкт-Петербург   \n",
       "4          False         41.00        0      Санкт-Петербург   \n",
       "...          ...           ...      ...                  ...   \n",
       "23694      False         13.83        0      Санкт-Петербург   \n",
       "23695      False          8.50        0                Тосно   \n",
       "23696      False           NaN        0     село Рождествено   \n",
       "23697      False         23.30        2      Санкт-Петербург   \n",
       "23698      False          9.00        0  поселок Новый Учхоз   \n",
       "\n",
       "       airports_nearest  city_сenters_nearest  parks_around_3000  \\\n",
       "0               18863.0               16028.0                  1   \n",
       "1               12817.0               18603.0                  0   \n",
       "2               21741.0               13933.0                  1   \n",
       "3               28098.0                6800.0                  2   \n",
       "4               31856.0                8098.0                  2   \n",
       "...                 ...                   ...                ...   \n",
       "23694           24665.0                4232.0                  1   \n",
       "23695               NaN                   NaN                  0   \n",
       "23696               NaN                   NaN                  0   \n",
       "23697           39140.0               10364.0                  2   \n",
       "23698               NaN                   NaN                  0   \n",
       "\n",
       "       parks_nearest  ponds_around_3000  ponds_nearest  days_exposition  \n",
       "0              482.0                  2          755.0              NaN  \n",
       "1                NaN                  0            NaN             81.0  \n",
       "2               90.0                  2          574.0            558.0  \n",
       "3               84.0                  3          234.0            424.0  \n",
       "4              112.0                  1           48.0            121.0  \n",
       "...              ...                ...            ...              ...  \n",
       "23694          796.0                  3          381.0              NaN  \n",
       "23695            NaN                  0            NaN             45.0  \n",
       "23696            NaN                  0            NaN              NaN  \n",
       "23697          173.0                  3          196.0            602.0  \n",
       "23698            NaN                  0            NaN              NaN  \n",
       "\n",
       "[23699 rows x 22 columns]"
      ]
     },
     "execution_count": 10,
     "metadata": {},
     "output_type": "execute_result"
    }
   ],
   "source": [
    "data['balcony'] = data['balcony'].astype('int')\n",
    "data['parks_around_3000'] = data['parks_around_3000'].astype('int')\n",
    "data['ponds_around_3000'] = data['ponds_around_3000'].astype('int')\n",
    "data\n"
   ]
  },
  {
   "cell_type": "code",
   "execution_count": 11,
   "metadata": {},
   "outputs": [
    {
     "name": "stdout",
     "output_type": "stream",
     "text": [
      "<class 'pandas.core.frame.DataFrame'>\n",
      "RangeIndex: 23699 entries, 0 to 23698\n",
      "Data columns (total 22 columns):\n",
      " #   Column                Non-Null Count  Dtype         \n",
      "---  ------                --------------  -----         \n",
      " 0   total_images          23699 non-null  int64         \n",
      " 1   last_price            23699 non-null  float64       \n",
      " 2   total_area            23699 non-null  float64       \n",
      " 3   first_day_exposition  23699 non-null  datetime64[ns]\n",
      " 4   rooms                 23699 non-null  int64         \n",
      " 5   ceiling_height        14504 non-null  float64       \n",
      " 6   floors_total          23613 non-null  float64       \n",
      " 7   living_area           21796 non-null  float64       \n",
      " 8   floor                 23699 non-null  int64         \n",
      " 9   is_apartment          23699 non-null  bool          \n",
      " 10  studio                23699 non-null  bool          \n",
      " 11  open_plan             23699 non-null  bool          \n",
      " 12  kitchen_area          21421 non-null  float64       \n",
      " 13  balcony               23699 non-null  int64         \n",
      " 14  locality_name         23650 non-null  object        \n",
      " 15  airports_nearest      18157 non-null  float64       \n",
      " 16  city_сenters_nearest  18180 non-null  float64       \n",
      " 17  parks_around_3000     23699 non-null  int64         \n",
      " 18  parks_nearest         8079 non-null   float64       \n",
      " 19  ponds_around_3000     23699 non-null  int64         \n",
      " 20  ponds_nearest         9110 non-null   float64       \n",
      " 21  days_exposition       20518 non-null  float64       \n",
      "dtypes: bool(3), datetime64[ns](1), float64(11), int64(6), object(1)\n",
      "memory usage: 3.5+ MB\n"
     ]
    },
    {
     "data": {
      "text/html": [
       "<div>\n",
       "<style scoped>\n",
       "    .dataframe tbody tr th:only-of-type {\n",
       "        vertical-align: middle;\n",
       "    }\n",
       "\n",
       "    .dataframe tbody tr th {\n",
       "        vertical-align: top;\n",
       "    }\n",
       "\n",
       "    .dataframe thead th {\n",
       "        text-align: right;\n",
       "    }\n",
       "</style>\n",
       "<table border=\"1\" class=\"dataframe\">\n",
       "  <thead>\n",
       "    <tr style=\"text-align: right;\">\n",
       "      <th></th>\n",
       "      <th>total_images</th>\n",
       "      <th>last_price</th>\n",
       "      <th>total_area</th>\n",
       "      <th>first_day_exposition</th>\n",
       "      <th>rooms</th>\n",
       "      <th>ceiling_height</th>\n",
       "      <th>floors_total</th>\n",
       "      <th>living_area</th>\n",
       "      <th>floor</th>\n",
       "      <th>is_apartment</th>\n",
       "      <th>studio</th>\n",
       "      <th>open_plan</th>\n",
       "      <th>kitchen_area</th>\n",
       "      <th>balcony</th>\n",
       "      <th>locality_name</th>\n",
       "      <th>airports_nearest</th>\n",
       "      <th>city_сenters_nearest</th>\n",
       "      <th>parks_around_3000</th>\n",
       "      <th>parks_nearest</th>\n",
       "      <th>ponds_around_3000</th>\n",
       "      <th>ponds_nearest</th>\n",
       "      <th>days_exposition</th>\n",
       "    </tr>\n",
       "  </thead>\n",
       "  <tbody>\n",
       "    <tr>\n",
       "      <th>0</th>\n",
       "      <td>20</td>\n",
       "      <td>13000000.0</td>\n",
       "      <td>108.00</td>\n",
       "      <td>2019-03-07</td>\n",
       "      <td>3</td>\n",
       "      <td>2.70</td>\n",
       "      <td>16.0</td>\n",
       "      <td>51.0</td>\n",
       "      <td>8</td>\n",
       "      <td>False</td>\n",
       "      <td>False</td>\n",
       "      <td>False</td>\n",
       "      <td>25.00</td>\n",
       "      <td>0</td>\n",
       "      <td>Санкт-Петербург</td>\n",
       "      <td>18863.0</td>\n",
       "      <td>16028.0</td>\n",
       "      <td>1</td>\n",
       "      <td>482.0</td>\n",
       "      <td>2</td>\n",
       "      <td>755.0</td>\n",
       "      <td>NaN</td>\n",
       "    </tr>\n",
       "    <tr>\n",
       "      <th>1</th>\n",
       "      <td>7</td>\n",
       "      <td>3350000.0</td>\n",
       "      <td>40.40</td>\n",
       "      <td>2018-12-04</td>\n",
       "      <td>1</td>\n",
       "      <td>NaN</td>\n",
       "      <td>11.0</td>\n",
       "      <td>18.6</td>\n",
       "      <td>1</td>\n",
       "      <td>False</td>\n",
       "      <td>False</td>\n",
       "      <td>False</td>\n",
       "      <td>11.00</td>\n",
       "      <td>2</td>\n",
       "      <td>посёлок Шушары</td>\n",
       "      <td>12817.0</td>\n",
       "      <td>18603.0</td>\n",
       "      <td>0</td>\n",
       "      <td>NaN</td>\n",
       "      <td>0</td>\n",
       "      <td>NaN</td>\n",
       "      <td>81.0</td>\n",
       "    </tr>\n",
       "    <tr>\n",
       "      <th>2</th>\n",
       "      <td>10</td>\n",
       "      <td>5196000.0</td>\n",
       "      <td>56.00</td>\n",
       "      <td>2015-08-20</td>\n",
       "      <td>2</td>\n",
       "      <td>NaN</td>\n",
       "      <td>5.0</td>\n",
       "      <td>34.3</td>\n",
       "      <td>4</td>\n",
       "      <td>False</td>\n",
       "      <td>False</td>\n",
       "      <td>False</td>\n",
       "      <td>8.30</td>\n",
       "      <td>0</td>\n",
       "      <td>Санкт-Петербург</td>\n",
       "      <td>21741.0</td>\n",
       "      <td>13933.0</td>\n",
       "      <td>1</td>\n",
       "      <td>90.0</td>\n",
       "      <td>2</td>\n",
       "      <td>574.0</td>\n",
       "      <td>558.0</td>\n",
       "    </tr>\n",
       "    <tr>\n",
       "      <th>3</th>\n",
       "      <td>0</td>\n",
       "      <td>64900000.0</td>\n",
       "      <td>159.00</td>\n",
       "      <td>2015-07-24</td>\n",
       "      <td>3</td>\n",
       "      <td>NaN</td>\n",
       "      <td>14.0</td>\n",
       "      <td>NaN</td>\n",
       "      <td>9</td>\n",
       "      <td>False</td>\n",
       "      <td>False</td>\n",
       "      <td>False</td>\n",
       "      <td>NaN</td>\n",
       "      <td>0</td>\n",
       "      <td>Санкт-Петербург</td>\n",
       "      <td>28098.0</td>\n",
       "      <td>6800.0</td>\n",
       "      <td>2</td>\n",
       "      <td>84.0</td>\n",
       "      <td>3</td>\n",
       "      <td>234.0</td>\n",
       "      <td>424.0</td>\n",
       "    </tr>\n",
       "    <tr>\n",
       "      <th>4</th>\n",
       "      <td>2</td>\n",
       "      <td>10000000.0</td>\n",
       "      <td>100.00</td>\n",
       "      <td>2018-06-19</td>\n",
       "      <td>2</td>\n",
       "      <td>3.03</td>\n",
       "      <td>14.0</td>\n",
       "      <td>32.0</td>\n",
       "      <td>13</td>\n",
       "      <td>False</td>\n",
       "      <td>False</td>\n",
       "      <td>False</td>\n",
       "      <td>41.00</td>\n",
       "      <td>0</td>\n",
       "      <td>Санкт-Петербург</td>\n",
       "      <td>31856.0</td>\n",
       "      <td>8098.0</td>\n",
       "      <td>2</td>\n",
       "      <td>112.0</td>\n",
       "      <td>1</td>\n",
       "      <td>48.0</td>\n",
       "      <td>121.0</td>\n",
       "    </tr>\n",
       "    <tr>\n",
       "      <th>...</th>\n",
       "      <td>...</td>\n",
       "      <td>...</td>\n",
       "      <td>...</td>\n",
       "      <td>...</td>\n",
       "      <td>...</td>\n",
       "      <td>...</td>\n",
       "      <td>...</td>\n",
       "      <td>...</td>\n",
       "      <td>...</td>\n",
       "      <td>...</td>\n",
       "      <td>...</td>\n",
       "      <td>...</td>\n",
       "      <td>...</td>\n",
       "      <td>...</td>\n",
       "      <td>...</td>\n",
       "      <td>...</td>\n",
       "      <td>...</td>\n",
       "      <td>...</td>\n",
       "      <td>...</td>\n",
       "      <td>...</td>\n",
       "      <td>...</td>\n",
       "      <td>...</td>\n",
       "    </tr>\n",
       "    <tr>\n",
       "      <th>23694</th>\n",
       "      <td>9</td>\n",
       "      <td>9700000.0</td>\n",
       "      <td>133.81</td>\n",
       "      <td>2017-03-21</td>\n",
       "      <td>3</td>\n",
       "      <td>3.70</td>\n",
       "      <td>5.0</td>\n",
       "      <td>73.3</td>\n",
       "      <td>3</td>\n",
       "      <td>False</td>\n",
       "      <td>False</td>\n",
       "      <td>False</td>\n",
       "      <td>13.83</td>\n",
       "      <td>0</td>\n",
       "      <td>Санкт-Петербург</td>\n",
       "      <td>24665.0</td>\n",
       "      <td>4232.0</td>\n",
       "      <td>1</td>\n",
       "      <td>796.0</td>\n",
       "      <td>3</td>\n",
       "      <td>381.0</td>\n",
       "      <td>NaN</td>\n",
       "    </tr>\n",
       "    <tr>\n",
       "      <th>23695</th>\n",
       "      <td>14</td>\n",
       "      <td>3100000.0</td>\n",
       "      <td>59.00</td>\n",
       "      <td>2018-01-15</td>\n",
       "      <td>3</td>\n",
       "      <td>NaN</td>\n",
       "      <td>5.0</td>\n",
       "      <td>38.0</td>\n",
       "      <td>4</td>\n",
       "      <td>False</td>\n",
       "      <td>False</td>\n",
       "      <td>False</td>\n",
       "      <td>8.50</td>\n",
       "      <td>0</td>\n",
       "      <td>Тосно</td>\n",
       "      <td>NaN</td>\n",
       "      <td>NaN</td>\n",
       "      <td>0</td>\n",
       "      <td>NaN</td>\n",
       "      <td>0</td>\n",
       "      <td>NaN</td>\n",
       "      <td>45.0</td>\n",
       "    </tr>\n",
       "    <tr>\n",
       "      <th>23696</th>\n",
       "      <td>18</td>\n",
       "      <td>2500000.0</td>\n",
       "      <td>56.70</td>\n",
       "      <td>2018-02-11</td>\n",
       "      <td>2</td>\n",
       "      <td>NaN</td>\n",
       "      <td>3.0</td>\n",
       "      <td>29.7</td>\n",
       "      <td>1</td>\n",
       "      <td>False</td>\n",
       "      <td>False</td>\n",
       "      <td>False</td>\n",
       "      <td>NaN</td>\n",
       "      <td>0</td>\n",
       "      <td>село Рождествено</td>\n",
       "      <td>NaN</td>\n",
       "      <td>NaN</td>\n",
       "      <td>0</td>\n",
       "      <td>NaN</td>\n",
       "      <td>0</td>\n",
       "      <td>NaN</td>\n",
       "      <td>NaN</td>\n",
       "    </tr>\n",
       "    <tr>\n",
       "      <th>23697</th>\n",
       "      <td>13</td>\n",
       "      <td>11475000.0</td>\n",
       "      <td>76.75</td>\n",
       "      <td>2017-03-28</td>\n",
       "      <td>2</td>\n",
       "      <td>3.00</td>\n",
       "      <td>17.0</td>\n",
       "      <td>NaN</td>\n",
       "      <td>12</td>\n",
       "      <td>False</td>\n",
       "      <td>False</td>\n",
       "      <td>False</td>\n",
       "      <td>23.30</td>\n",
       "      <td>2</td>\n",
       "      <td>Санкт-Петербург</td>\n",
       "      <td>39140.0</td>\n",
       "      <td>10364.0</td>\n",
       "      <td>2</td>\n",
       "      <td>173.0</td>\n",
       "      <td>3</td>\n",
       "      <td>196.0</td>\n",
       "      <td>602.0</td>\n",
       "    </tr>\n",
       "    <tr>\n",
       "      <th>23698</th>\n",
       "      <td>4</td>\n",
       "      <td>1350000.0</td>\n",
       "      <td>32.30</td>\n",
       "      <td>2017-07-21</td>\n",
       "      <td>1</td>\n",
       "      <td>2.50</td>\n",
       "      <td>5.0</td>\n",
       "      <td>12.3</td>\n",
       "      <td>1</td>\n",
       "      <td>False</td>\n",
       "      <td>False</td>\n",
       "      <td>False</td>\n",
       "      <td>9.00</td>\n",
       "      <td>0</td>\n",
       "      <td>поселок Новый Учхоз</td>\n",
       "      <td>NaN</td>\n",
       "      <td>NaN</td>\n",
       "      <td>0</td>\n",
       "      <td>NaN</td>\n",
       "      <td>0</td>\n",
       "      <td>NaN</td>\n",
       "      <td>NaN</td>\n",
       "    </tr>\n",
       "  </tbody>\n",
       "</table>\n",
       "<p>23699 rows × 22 columns</p>\n",
       "</div>"
      ],
      "text/plain": [
       "       total_images  last_price  total_area first_day_exposition  rooms  \\\n",
       "0                20  13000000.0      108.00           2019-03-07      3   \n",
       "1                 7   3350000.0       40.40           2018-12-04      1   \n",
       "2                10   5196000.0       56.00           2015-08-20      2   \n",
       "3                 0  64900000.0      159.00           2015-07-24      3   \n",
       "4                 2  10000000.0      100.00           2018-06-19      2   \n",
       "...             ...         ...         ...                  ...    ...   \n",
       "23694             9   9700000.0      133.81           2017-03-21      3   \n",
       "23695            14   3100000.0       59.00           2018-01-15      3   \n",
       "23696            18   2500000.0       56.70           2018-02-11      2   \n",
       "23697            13  11475000.0       76.75           2017-03-28      2   \n",
       "23698             4   1350000.0       32.30           2017-07-21      1   \n",
       "\n",
       "       ceiling_height  floors_total  living_area  floor  is_apartment  studio  \\\n",
       "0                2.70          16.0         51.0      8         False   False   \n",
       "1                 NaN          11.0         18.6      1         False   False   \n",
       "2                 NaN           5.0         34.3      4         False   False   \n",
       "3                 NaN          14.0          NaN      9         False   False   \n",
       "4                3.03          14.0         32.0     13         False   False   \n",
       "...               ...           ...          ...    ...           ...     ...   \n",
       "23694            3.70           5.0         73.3      3         False   False   \n",
       "23695             NaN           5.0         38.0      4         False   False   \n",
       "23696             NaN           3.0         29.7      1         False   False   \n",
       "23697            3.00          17.0          NaN     12         False   False   \n",
       "23698            2.50           5.0         12.3      1         False   False   \n",
       "\n",
       "       open_plan  kitchen_area  balcony        locality_name  \\\n",
       "0          False         25.00        0      Санкт-Петербург   \n",
       "1          False         11.00        2       посёлок Шушары   \n",
       "2          False          8.30        0      Санкт-Петербург   \n",
       "3          False           NaN        0      Санкт-Петербург   \n",
       "4          False         41.00        0      Санкт-Петербург   \n",
       "...          ...           ...      ...                  ...   \n",
       "23694      False         13.83        0      Санкт-Петербург   \n",
       "23695      False          8.50        0                Тосно   \n",
       "23696      False           NaN        0     село Рождествено   \n",
       "23697      False         23.30        2      Санкт-Петербург   \n",
       "23698      False          9.00        0  поселок Новый Учхоз   \n",
       "\n",
       "       airports_nearest  city_сenters_nearest  parks_around_3000  \\\n",
       "0               18863.0               16028.0                  1   \n",
       "1               12817.0               18603.0                  0   \n",
       "2               21741.0               13933.0                  1   \n",
       "3               28098.0                6800.0                  2   \n",
       "4               31856.0                8098.0                  2   \n",
       "...                 ...                   ...                ...   \n",
       "23694           24665.0                4232.0                  1   \n",
       "23695               NaN                   NaN                  0   \n",
       "23696               NaN                   NaN                  0   \n",
       "23697           39140.0               10364.0                  2   \n",
       "23698               NaN                   NaN                  0   \n",
       "\n",
       "       parks_nearest  ponds_around_3000  ponds_nearest  days_exposition  \n",
       "0              482.0                  2          755.0              NaN  \n",
       "1                NaN                  0            NaN             81.0  \n",
       "2               90.0                  2          574.0            558.0  \n",
       "3               84.0                  3          234.0            424.0  \n",
       "4              112.0                  1           48.0            121.0  \n",
       "...              ...                ...            ...              ...  \n",
       "23694          796.0                  3          381.0              NaN  \n",
       "23695            NaN                  0            NaN             45.0  \n",
       "23696            NaN                  0            NaN              NaN  \n",
       "23697          173.0                  3          196.0            602.0  \n",
       "23698            NaN                  0            NaN              NaN  \n",
       "\n",
       "[23699 rows x 22 columns]"
      ]
     },
     "execution_count": 11,
     "metadata": {},
     "output_type": "execute_result"
    }
   ],
   "source": [
    "data.info()\n",
    "data"
   ]
  },
  {
   "cell_type": "markdown",
   "metadata": {},
   "source": [
    "2.5 Изучим уникальные значения в столбце с названиями и устраним неявные дубликаты."
   ]
  },
  {
   "cell_type": "markdown",
   "metadata": {},
   "source": [
    "Узнаем количество уникальных значений в столбце 'locality_name':"
   ]
  },
  {
   "cell_type": "code",
   "execution_count": 12,
   "metadata": {},
   "outputs": [
    {
     "data": {
      "text/plain": [
       "365"
      ]
     },
     "execution_count": 12,
     "metadata": {},
     "output_type": "execute_result"
    }
   ],
   "source": [
    "len(data['locality_name'].unique())"
   ]
  },
  {
   "cell_type": "markdown",
   "metadata": {},
   "source": [
    "Выведем все уникальные значения:"
   ]
  },
  {
   "cell_type": "code",
   "execution_count": 13,
   "metadata": {},
   "outputs": [
    {
     "name": "stdout",
     "output_type": "stream",
     "text": [
      "Бокситогорск\n",
      "Волосово\n",
      "Волхов\n",
      "Всеволожск\n",
      "Выборг\n",
      "Высоцк\n",
      "Гатчина\n",
      "Зеленогорск\n",
      "Ивангород\n",
      "Каменногорск\n",
      "Кингисепп\n",
      "Кириши\n",
      "Кировск\n",
      "Колпино\n",
      "Коммунар\n",
      "Красное Село\n",
      "Кронштадт\n",
      "Кудрово\n",
      "Лодейное Поле\n",
      "Ломоносов\n",
      "Луга\n",
      "Любань\n",
      "Мурино\n",
      "Никольское\n",
      "Новая Ладога\n",
      "Отрадное\n",
      "Павловск\n",
      "Петергоф\n",
      "Пикалёво\n",
      "Подпорожье\n",
      "Приморск\n",
      "Приозерск\n",
      "Пушкин\n",
      "Санкт-Петербург\n",
      "Светогорск\n",
      "Сертолово\n",
      "Сестрорецк\n",
      "Сланцы\n",
      "Сосновый Бор\n",
      "Сясьстрой\n",
      "Тихвин\n",
      "Тосно\n",
      "Шлиссельбург\n",
      "городской поселок Большая Ижора\n",
      "городской поселок Янино-1\n",
      "городской посёлок Будогощь\n",
      "городской посёлок Виллози\n",
      "городской посёлок Лесогорский\n",
      "городской посёлок Мга\n",
      "городской посёлок Назия\n",
      "городской посёлок Новоселье\n",
      "городской посёлок Павлово\n",
      "городской посёлок Рощино\n",
      "городской посёлок Свирьстрой\n",
      "городской посёлок Советский\n",
      "городской посёлок Фёдоровское\n",
      "городской посёлок Янино-1\n",
      "деревня Агалатово\n",
      "деревня Аро\n",
      "деревня Батово\n",
      "деревня Бегуницы\n",
      "деревня Белогорка\n",
      "деревня Большая Вруда\n",
      "деревня Большая Пустомержа\n",
      "деревня Большие Колпаны\n",
      "деревня Большое Рейзино\n",
      "деревня Большой Сабск\n",
      "деревня Бор\n",
      "деревня Борисова Грива\n",
      "деревня Ваганово\n",
      "деревня Вартемяги\n",
      "деревня Вахнова Кара\n",
      "деревня Выскатка\n",
      "деревня Гарболово\n",
      "деревня Глинка\n",
      "деревня Горбунки\n",
      "деревня Гостилицы\n",
      "деревня Заклинье\n",
      "деревня Заневка\n",
      "деревня Зимитицы\n",
      "деревня Извара\n",
      "деревня Иссад\n",
      "деревня Калитино\n",
      "деревня Кальтино\n",
      "деревня Камышовка\n",
      "деревня Каськово\n",
      "деревня Келози\n",
      "деревня Кипень\n",
      "деревня Кисельня\n",
      "деревня Колтуши\n",
      "деревня Коркино\n",
      "деревня Котлы\n",
      "деревня Кривко\n",
      "деревня Кудрово\n",
      "деревня Кузьмолово\n",
      "деревня Курковицы\n",
      "деревня Куровицы\n",
      "деревня Куттузи\n",
      "деревня Лаврики\n",
      "деревня Лаголово\n",
      "деревня Лампово\n",
      "деревня Лесколово\n",
      "деревня Лопухинка\n",
      "деревня Лупполово\n",
      "деревня Малая Романовка\n",
      "деревня Малое Верево\n",
      "деревня Малое Карлино\n",
      "деревня Малые Колпаны\n",
      "деревня Мануйлово\n",
      "деревня Меньково\n",
      "деревня Мины\n",
      "деревня Мистолово\n",
      "деревня Ненимяки\n",
      "деревня Нижние Осельки\n",
      "деревня Нижняя\n",
      "деревня Низино\n",
      "деревня Новое Девяткино\n",
      "деревня Новолисино\n",
      "деревня Нурма\n",
      "деревня Оржицы\n",
      "деревня Парицы\n",
      "деревня Пельгора\n",
      "деревня Пеники\n",
      "деревня Пижма\n",
      "деревня Пикколово\n",
      "деревня Пудомяги\n",
      "деревня Пустынка\n",
      "деревня Пчева\n",
      "деревня Рабитицы\n",
      "деревня Разбегаево\n",
      "деревня Раздолье\n",
      "деревня Разметелево\n",
      "деревня Рапполово\n",
      "деревня Реброво\n",
      "деревня Русско\n",
      "деревня Сижно\n",
      "деревня Снегирёвка\n",
      "деревня Старая\n",
      "деревня Старая Пустошь\n",
      "деревня Старое Хинколово\n",
      "деревня Старополье\n",
      "деревня Старосиверская\n",
      "деревня Старые Бегуницы\n",
      "деревня Суоранда\n",
      "деревня Сяськелево\n",
      "деревня Тарасово\n",
      "деревня Терпилицы\n",
      "деревня Тихковицы\n",
      "деревня Тойворово\n",
      "деревня Торосово\n",
      "деревня Торошковичи\n",
      "деревня Трубников Бор\n",
      "деревня Фалилеево\n",
      "деревня Фёдоровское\n",
      "деревня Хапо-Ое\n",
      "деревня Хязельки\n",
      "деревня Чудской Бор\n",
      "деревня Шпаньково\n",
      "деревня Щеглово\n",
      "деревня Юкки\n",
      "деревня Ялгино\n",
      "деревня Яльгелево\n",
      "деревня Ям-Тесово\n",
      "коттеджный поселок Кивеннапа Север\n",
      "коттеджный поселок Счастье\n",
      "коттеджный посёлок Лесное\n",
      "поселок Аннино\n",
      "поселок Барышево\n",
      "поселок Бугры\n",
      "поселок Возрождение\n",
      "поселок Войсковицы\n",
      "поселок Володарское\n",
      "поселок Гаврилово\n",
      "поселок Гарболово\n",
      "поселок Гладкое\n",
      "поселок Глажево\n",
      "поселок Глебычево\n",
      "поселок Гончарово\n",
      "поселок Громово\n",
      "поселок Дружноселье\n",
      "поселок Елизаветино\n",
      "поселок Жилгородок\n",
      "поселок Жилпосёлок\n",
      "поселок Житково\n",
      "поселок Заводской\n",
      "поселок Запорожское\n",
      "поселок Зимитицы\n",
      "поселок Ильичёво\n",
      "поселок Калитино\n",
      "поселок Каложицы\n",
      "поселок Кингисеппский\n",
      "поселок Кирпичное\n",
      "поселок Кобралово\n",
      "поселок Кобринское\n",
      "поселок Коммунары\n",
      "поселок Коробицыно\n",
      "поселок Котельский\n",
      "поселок Красная Долина\n",
      "поселок Красносельское\n",
      "поселок Лесное\n",
      "поселок Лисий Нос\n",
      "поселок Лукаши\n",
      "поселок Любань\n",
      "поселок Мельниково\n",
      "поселок Мичуринское\n",
      "поселок Молодцово\n",
      "поселок Мурино\n",
      "поселок Новый Свет\n",
      "поселок Новый Учхоз\n",
      "поселок Оредеж\n",
      "поселок Пансионат Зелёный Бор\n",
      "поселок Первомайское\n",
      "поселок Перово\n",
      "поселок Петровское\n",
      "поселок Победа\n",
      "поселок Поляны\n",
      "поселок Почап\n",
      "поселок Починок\n",
      "поселок Пушное\n",
      "поселок Пчевжа\n",
      "поселок Рабитицы\n",
      "поселок Романовка\n",
      "поселок Ромашки\n",
      "поселок Рябово\n",
      "поселок Севастьяново\n",
      "поселок Селезнёво\n",
      "поселок Сельцо\n",
      "поселок Семиозерье\n",
      "поселок Семрино\n",
      "поселок Серебрянский\n",
      "поселок Совхозный\n",
      "поселок Старая Малукса\n",
      "поселок Стеклянный\n",
      "поселок Сумино\n",
      "поселок Суходолье\n",
      "поселок Тельмана\n",
      "поселок Терволово\n",
      "поселок Торковичи\n",
      "поселок Тёсово-4\n",
      "поселок Углово\n",
      "поселок Усть-Луга\n",
      "поселок Ушаки\n",
      "поселок Цвелодубово\n",
      "поселок Цвылёво\n",
      "поселок городского типа Большая Ижора\n",
      "поселок городского типа Вырица\n",
      "поселок городского типа Дружная Горка\n",
      "поселок городского типа Дубровка\n",
      "поселок городского типа Ефимовский\n",
      "поселок городского типа Кондратьево\n",
      "поселок городского типа Красный Бор\n",
      "поселок городского типа Кузьмоловский\n",
      "поселок городского типа Лебяжье\n",
      "поселок городского типа Лесогорский\n",
      "поселок городского типа Назия\n",
      "поселок городского типа Никольский\n",
      "поселок городского типа Приладожский\n",
      "поселок городского типа Рахья\n",
      "поселок городского типа Рощино\n",
      "поселок городского типа Рябово\n",
      "поселок городского типа Синявино\n",
      "поселок городского типа Советский\n",
      "поселок городского типа Токсово\n",
      "поселок городского типа Форносово\n",
      "поселок городского типа имени Свердлова\n",
      "поселок станции Вещево\n",
      "поселок станции Корнево\n",
      "поселок станции Лужайка\n",
      "поселок станции Приветнинское\n",
      "посёлок Александровская\n",
      "посёлок Алексеевка\n",
      "посёлок Аннино\n",
      "посёлок Белоостров\n",
      "посёлок Бугры\n",
      "посёлок Возрождение\n",
      "посёлок Войскорово\n",
      "посёлок Высокоключевой\n",
      "посёлок Гаврилово\n",
      "посёлок Дзержинского\n",
      "посёлок Жилгородок\n",
      "посёлок Ильичёво\n",
      "посёлок Кикерино\n",
      "посёлок Кобралово\n",
      "посёлок Коробицыно\n",
      "посёлок Левашово\n",
      "посёлок Ленинское\n",
      "посёлок Лисий Нос\n",
      "посёлок Мельниково\n",
      "посёлок Металлострой\n",
      "посёлок Мичуринское\n",
      "посёлок Молодёжное\n",
      "посёлок Мурино\n",
      "посёлок Мыза-Ивановка\n",
      "посёлок Новогорелово\n",
      "посёлок Новый Свет\n",
      "посёлок Пансионат Зелёный Бор\n",
      "посёлок Парголово\n",
      "посёлок Перово\n",
      "посёлок Песочный\n",
      "посёлок Петро-Славянка\n",
      "посёлок Петровское\n",
      "посёлок Платформа 69-й километр\n",
      "посёлок Плодовое\n",
      "посёлок Плоское\n",
      "посёлок Победа\n",
      "посёлок Поляны\n",
      "посёлок Понтонный\n",
      "посёлок Пригородный\n",
      "посёлок Пудость\n",
      "посёлок Репино\n",
      "посёлок Ропша\n",
      "посёлок Сапёрное\n",
      "посёлок Сапёрный\n",
      "посёлок Сосново\n",
      "посёлок Старая Малукса\n",
      "посёлок Стеклянный\n",
      "посёлок Стрельна\n",
      "посёлок Суйда\n",
      "посёлок Сумино\n",
      "посёлок Тельмана\n",
      "посёлок Терволово\n",
      "посёлок Торфяное\n",
      "посёлок Усть-Ижора\n",
      "посёлок Усть-Луга\n",
      "посёлок Форт Красная Горка\n",
      "посёлок Шугозеро\n",
      "посёлок Шушары\n",
      "посёлок Щеглово\n",
      "посёлок городского типа Важины\n",
      "посёлок городского типа Вознесенье\n",
      "посёлок городского типа Вырица\n",
      "посёлок городского типа Красный Бор\n",
      "посёлок городского типа Кузнечное\n",
      "посёлок городского типа Кузьмоловский\n",
      "посёлок городского типа Лебяжье\n",
      "посёлок городского типа Мга\n",
      "посёлок городского типа Павлово\n",
      "посёлок городского типа Рощино\n",
      "посёлок городского типа Рябово\n",
      "посёлок городского типа Сиверский\n",
      "посёлок городского типа Тайцы\n",
      "посёлок городского типа Токсово\n",
      "посёлок городского типа Ульяновка\n",
      "посёлок городского типа Форносово\n",
      "посёлок городского типа имени Морозова\n",
      "посёлок городского типа имени Свердлова\n",
      "посёлок при железнодорожной станции Вещево\n",
      "посёлок при железнодорожной станции Приветнинское\n",
      "посёлок станции Громово\n",
      "посёлок станции Свирь\n",
      "садоводческое некоммерческое товарищество Лесная Поляна\n",
      "садовое товарищество Новая Ропша\n",
      "садовое товарищество Приладожский\n",
      "садовое товарищество Рахья\n",
      "садовое товарищество Садко\n",
      "село Копорье\n",
      "село Никольское\n",
      "село Павлово\n",
      "село Паша\n",
      "село Путилово\n",
      "село Рождествено\n",
      "село Русско-Высоцкое\n",
      "село Старая Ладога\n",
      "село Шум\n",
      "nan\n"
     ]
    }
   ],
   "source": [
    "\n",
    "for value in data['locality_name'].sort_values().unique():\n",
    "    print(value)\n"
   ]
  },
  {
   "cell_type": "markdown",
   "metadata": {},
   "source": [
    "Заменим похожие слова ('посёлок' на 'поселок', 'городской поселок' на 'поселок городского типа')"
   ]
  },
  {
   "cell_type": "code",
   "execution_count": 14,
   "metadata": {},
   "outputs": [],
   "source": [
    "data['locality_name'] = data['locality_name'].str.replace('посёлок','поселок')\n",
    "data['locality_name'] = data['locality_name'].str.replace('городской поселок','поселок городского типа')\n",
    "data['locality_name'] = data['locality_name'].str.replace('поселок при железнодорожной станции','поселок станции')"
   ]
  },
  {
   "cell_type": "markdown",
   "metadata": {},
   "source": [
    "В столбце 'locality_name' отсутствуют значения в 49 строчках. Так как это важный параметр для исследования, удалим эти строчки."
   ]
  },
  {
   "cell_type": "code",
   "execution_count": 15,
   "metadata": {},
   "outputs": [],
   "source": [
    "data=data.dropna(subset=['locality_name']).reset_index(drop=True)"
   ]
  },
  {
   "cell_type": "markdown",
   "metadata": {},
   "source": [
    "Найдем те названия, которые полностью входят в другие, например 'Мурино' и 'поселок Мурино'"
   ]
  },
  {
   "cell_type": "code",
   "execution_count": 16,
   "metadata": {},
   "outputs": [
    {
     "name": "stdout",
     "output_type": "stream",
     "text": [
      "Есть совпадение Высоцк село Русско-Высоцкое\n",
      "Есть совпадение Кингисепп поселок Кингисеппский\n",
      "Есть совпадение Коммунар поселок Коммунары\n",
      "Есть совпадение Кудрово деревня Кудрово\n",
      "Есть совпадение Луга поселок Усть-Луга\n",
      "Есть совпадение Любань поселок Любань\n",
      "Есть совпадение Мурино поселок Мурино\n",
      "Есть совпадение Никольское село Никольское\n",
      "Есть совпадение деревня Бор деревня Борисова Грива\n",
      "Есть совпадение деревня Старая деревня Старая Пустошь\n",
      "Есть совпадение поселок Лесное коттеджный поселок Лесное\n"
     ]
    }
   ],
   "source": [
    "for value in data['locality_name'].sort_values().unique():\n",
    "    for value2 in data['locality_name'].sort_values().unique():\n",
    "        if((not not value) and (not not value2)):\n",
    "            if ((value != value2) and (value in value2)):\n",
    "                print('Есть совпадение', value,value2)"
   ]
  },
  {
   "cell_type": "markdown",
   "metadata": {},
   "source": [
    "Из данного списка найдем и заменим неявные дубликаты."
   ]
  },
  {
   "cell_type": "code",
   "execution_count": 17,
   "metadata": {},
   "outputs": [],
   "source": [
    "data['locality_name'] = data['locality_name'].replace('Кудрово','деревня Кудрово')\n",
    "data['locality_name'] = data['locality_name'].replace('Любань','поселок Любань')\n",
    "data['locality_name'] = data['locality_name'].replace('Мурино','поселок Мурино')\n",
    "data['locality_name'] = data['locality_name'].replace('Никольское','село Никольское')\n",
    "data['locality_name'] = data['locality_name'].replace('коттеджный поселок Лесное','поселок Лесное')"
   ]
  },
  {
   "cell_type": "markdown",
   "metadata": {},
   "source": [
    "Выведем новое количество уникальных значений в столбце 'locality_name':"
   ]
  },
  {
   "cell_type": "code",
   "execution_count": 18,
   "metadata": {},
   "outputs": [
    {
     "data": {
      "text/plain": [
       "316"
      ]
     },
     "execution_count": 18,
     "metadata": {},
     "output_type": "execute_result"
    }
   ],
   "source": [
    "len(data['locality_name'].unique())"
   ]
  },
  {
   "cell_type": "markdown",
   "metadata": {},
   "source": [
    "Выведем все уникальные значения:"
   ]
  },
  {
   "cell_type": "code",
   "execution_count": 19,
   "metadata": {},
   "outputs": [
    {
     "name": "stdout",
     "output_type": "stream",
     "text": [
      "Бокситогорск\n",
      "Волосово\n",
      "Волхов\n",
      "Всеволожск\n",
      "Выборг\n",
      "Высоцк\n",
      "Гатчина\n",
      "Зеленогорск\n",
      "Ивангород\n",
      "Каменногорск\n",
      "Кингисепп\n",
      "Кириши\n",
      "Кировск\n",
      "Колпино\n",
      "Коммунар\n",
      "Красное Село\n",
      "Кронштадт\n",
      "Лодейное Поле\n",
      "Ломоносов\n",
      "Луга\n",
      "Новая Ладога\n",
      "Отрадное\n",
      "Павловск\n",
      "Петергоф\n",
      "Пикалёво\n",
      "Подпорожье\n",
      "Приморск\n",
      "Приозерск\n",
      "Пушкин\n",
      "Санкт-Петербург\n",
      "Светогорск\n",
      "Сертолово\n",
      "Сестрорецк\n",
      "Сланцы\n",
      "Сосновый Бор\n",
      "Сясьстрой\n",
      "Тихвин\n",
      "Тосно\n",
      "Шлиссельбург\n",
      "деревня Агалатово\n",
      "деревня Аро\n",
      "деревня Батово\n",
      "деревня Бегуницы\n",
      "деревня Белогорка\n",
      "деревня Большая Вруда\n",
      "деревня Большая Пустомержа\n",
      "деревня Большие Колпаны\n",
      "деревня Большое Рейзино\n",
      "деревня Большой Сабск\n",
      "деревня Бор\n",
      "деревня Борисова Грива\n",
      "деревня Ваганово\n",
      "деревня Вартемяги\n",
      "деревня Вахнова Кара\n",
      "деревня Выскатка\n",
      "деревня Гарболово\n",
      "деревня Глинка\n",
      "деревня Горбунки\n",
      "деревня Гостилицы\n",
      "деревня Заклинье\n",
      "деревня Заневка\n",
      "деревня Зимитицы\n",
      "деревня Извара\n",
      "деревня Иссад\n",
      "деревня Калитино\n",
      "деревня Кальтино\n",
      "деревня Камышовка\n",
      "деревня Каськово\n",
      "деревня Келози\n",
      "деревня Кипень\n",
      "деревня Кисельня\n",
      "деревня Колтуши\n",
      "деревня Коркино\n",
      "деревня Котлы\n",
      "деревня Кривко\n",
      "деревня Кудрово\n",
      "деревня Кузьмолово\n",
      "деревня Курковицы\n",
      "деревня Куровицы\n",
      "деревня Куттузи\n",
      "деревня Лаврики\n",
      "деревня Лаголово\n",
      "деревня Лампово\n",
      "деревня Лесколово\n",
      "деревня Лопухинка\n",
      "деревня Лупполово\n",
      "деревня Малая Романовка\n",
      "деревня Малое Верево\n",
      "деревня Малое Карлино\n",
      "деревня Малые Колпаны\n",
      "деревня Мануйлово\n",
      "деревня Меньково\n",
      "деревня Мины\n",
      "деревня Мистолово\n",
      "деревня Ненимяки\n",
      "деревня Нижние Осельки\n",
      "деревня Нижняя\n",
      "деревня Низино\n",
      "деревня Новое Девяткино\n",
      "деревня Новолисино\n",
      "деревня Нурма\n",
      "деревня Оржицы\n",
      "деревня Парицы\n",
      "деревня Пельгора\n",
      "деревня Пеники\n",
      "деревня Пижма\n",
      "деревня Пикколово\n",
      "деревня Пудомяги\n",
      "деревня Пустынка\n",
      "деревня Пчева\n",
      "деревня Рабитицы\n",
      "деревня Разбегаево\n",
      "деревня Раздолье\n",
      "деревня Разметелево\n",
      "деревня Рапполово\n",
      "деревня Реброво\n",
      "деревня Русско\n",
      "деревня Сижно\n",
      "деревня Снегирёвка\n",
      "деревня Старая\n",
      "деревня Старая Пустошь\n",
      "деревня Старое Хинколово\n",
      "деревня Старополье\n",
      "деревня Старосиверская\n",
      "деревня Старые Бегуницы\n",
      "деревня Суоранда\n",
      "деревня Сяськелево\n",
      "деревня Тарасово\n",
      "деревня Терпилицы\n",
      "деревня Тихковицы\n",
      "деревня Тойворово\n",
      "деревня Торосово\n",
      "деревня Торошковичи\n",
      "деревня Трубников Бор\n",
      "деревня Фалилеево\n",
      "деревня Фёдоровское\n",
      "деревня Хапо-Ое\n",
      "деревня Хязельки\n",
      "деревня Чудской Бор\n",
      "деревня Шпаньково\n",
      "деревня Щеглово\n",
      "деревня Юкки\n",
      "деревня Ялгино\n",
      "деревня Яльгелево\n",
      "деревня Ям-Тесово\n",
      "коттеджный поселок Кивеннапа Север\n",
      "коттеджный поселок Счастье\n",
      "поселок Александровская\n",
      "поселок Алексеевка\n",
      "поселок Аннино\n",
      "поселок Барышево\n",
      "поселок Белоостров\n",
      "поселок Бугры\n",
      "поселок Возрождение\n",
      "поселок Войсковицы\n",
      "поселок Войскорово\n",
      "поселок Володарское\n",
      "поселок Высокоключевой\n",
      "поселок Гаврилово\n",
      "поселок Гарболово\n",
      "поселок Гладкое\n",
      "поселок Глажево\n",
      "поселок Глебычево\n",
      "поселок Гончарово\n",
      "поселок Громово\n",
      "поселок Дзержинского\n",
      "поселок Дружноселье\n",
      "поселок Елизаветино\n",
      "поселок Жилгородок\n",
      "поселок Жилпоселок\n",
      "поселок Житково\n",
      "поселок Заводской\n",
      "поселок Запорожское\n",
      "поселок Зимитицы\n",
      "поселок Ильичёво\n",
      "поселок Калитино\n",
      "поселок Каложицы\n",
      "поселок Кикерино\n",
      "поселок Кингисеппский\n",
      "поселок Кирпичное\n",
      "поселок Кобралово\n",
      "поселок Кобринское\n",
      "поселок Коммунары\n",
      "поселок Коробицыно\n",
      "поселок Котельский\n",
      "поселок Красная Долина\n",
      "поселок Красносельское\n",
      "поселок Левашово\n",
      "поселок Ленинское\n",
      "поселок Лесное\n",
      "поселок Лисий Нос\n",
      "поселок Лукаши\n",
      "поселок Любань\n",
      "поселок Мельниково\n",
      "поселок Металлострой\n",
      "поселок Мичуринское\n",
      "поселок Молодцово\n",
      "поселок Молодёжное\n",
      "поселок Мурино\n",
      "поселок Мыза-Ивановка\n",
      "поселок Новогорелово\n",
      "поселок Новый Свет\n",
      "поселок Новый Учхоз\n",
      "поселок Оредеж\n",
      "поселок Пансионат Зелёный Бор\n",
      "поселок Парголово\n",
      "поселок Первомайское\n",
      "поселок Перово\n",
      "поселок Песочный\n",
      "поселок Петро-Славянка\n",
      "поселок Петровское\n",
      "поселок Платформа 69-й километр\n",
      "поселок Плодовое\n",
      "поселок Плоское\n",
      "поселок Победа\n",
      "поселок Поляны\n",
      "поселок Понтонный\n",
      "поселок Почап\n",
      "поселок Починок\n",
      "поселок Пригородный\n",
      "поселок Пудость\n",
      "поселок Пушное\n",
      "поселок Пчевжа\n",
      "поселок Рабитицы\n",
      "поселок Репино\n",
      "поселок Романовка\n",
      "поселок Ромашки\n",
      "поселок Ропша\n",
      "поселок Рябово\n",
      "поселок Сапёрное\n",
      "поселок Сапёрный\n",
      "поселок Севастьяново\n",
      "поселок Селезнёво\n",
      "поселок Сельцо\n",
      "поселок Семиозерье\n",
      "поселок Семрино\n",
      "поселок Серебрянский\n",
      "поселок Совхозный\n",
      "поселок Сосново\n",
      "поселок Старая Малукса\n",
      "поселок Стеклянный\n",
      "поселок Стрельна\n",
      "поселок Суйда\n",
      "поселок Сумино\n",
      "поселок Суходолье\n",
      "поселок Тельмана\n",
      "поселок Терволово\n",
      "поселок Торковичи\n",
      "поселок Торфяное\n",
      "поселок Тёсово-4\n",
      "поселок Углово\n",
      "поселок Усть-Ижора\n",
      "поселок Усть-Луга\n",
      "поселок Ушаки\n",
      "поселок Форт Красная Горка\n",
      "поселок Цвелодубово\n",
      "поселок Цвылёво\n",
      "поселок Шугозеро\n",
      "поселок Шушары\n",
      "поселок Щеглово\n",
      "поселок городского типа Большая Ижора\n",
      "поселок городского типа Будогощь\n",
      "поселок городского типа Важины\n",
      "поселок городского типа Виллози\n",
      "поселок городского типа Вознесенье\n",
      "поселок городского типа Вырица\n",
      "поселок городского типа Дружная Горка\n",
      "поселок городского типа Дубровка\n",
      "поселок городского типа Ефимовский\n",
      "поселок городского типа Кондратьево\n",
      "поселок городского типа Красный Бор\n",
      "поселок городского типа Кузнечное\n",
      "поселок городского типа Кузьмоловский\n",
      "поселок городского типа Лебяжье\n",
      "поселок городского типа Лесогорский\n",
      "поселок городского типа Мга\n",
      "поселок городского типа Назия\n",
      "поселок городского типа Никольский\n",
      "поселок городского типа Новоселье\n",
      "поселок городского типа Павлово\n",
      "поселок городского типа Приладожский\n",
      "поселок городского типа Рахья\n",
      "поселок городского типа Рощино\n",
      "поселок городского типа Рябово\n",
      "поселок городского типа Свирьстрой\n",
      "поселок городского типа Сиверский\n",
      "поселок городского типа Синявино\n",
      "поселок городского типа Советский\n",
      "поселок городского типа Тайцы\n",
      "поселок городского типа Токсово\n",
      "поселок городского типа Ульяновка\n",
      "поселок городского типа Форносово\n",
      "поселок городского типа Фёдоровское\n",
      "поселок городского типа Янино-1\n",
      "поселок городского типа имени Морозова\n",
      "поселок городского типа имени Свердлова\n",
      "поселок станции Вещево\n",
      "поселок станции Громово\n",
      "поселок станции Корнево\n",
      "поселок станции Лужайка\n",
      "поселок станции Приветнинское\n",
      "поселок станции Свирь\n",
      "садоводческое некоммерческое товарищество Лесная Поляна\n",
      "садовое товарищество Новая Ропша\n",
      "садовое товарищество Приладожский\n",
      "садовое товарищество Рахья\n",
      "садовое товарищество Садко\n",
      "село Копорье\n",
      "село Никольское\n",
      "село Павлово\n",
      "село Паша\n",
      "село Путилово\n",
      "село Рождествено\n",
      "село Русско-Высоцкое\n",
      "село Старая Ладога\n",
      "село Шум\n"
     ]
    }
   ],
   "source": [
    "for value in data['locality_name'].sort_values().unique():\n",
    "    print(value)"
   ]
  },
  {
   "cell_type": "markdown",
   "metadata": {},
   "source": [
    "2.6 Найдем и устраним редкие и выбивающиеся значения."
   ]
  },
  {
   "cell_type": "code",
   "execution_count": 20,
   "metadata": {},
   "outputs": [
    {
     "data": {
      "text/plain": [
       "array([20,  7, 10,  0,  2,  6,  5, 18,  9,  1, 16, 11,  8, 12, 13,  3, 15,\n",
       "       17, 14, 19, 32,  4, 35, 39, 23, 21, 27, 30, 24, 25, 28, 31, 22, 29,\n",
       "       26, 50, 42, 37])"
      ]
     },
     "execution_count": 20,
     "metadata": {},
     "output_type": "execute_result"
    }
   ],
   "source": [
    "data['total_images'].unique()"
   ]
  },
  {
   "cell_type": "markdown",
   "metadata": {},
   "source": [
    "Аномалии в столбце 'total_images' не наблюдаются"
   ]
  },
  {
   "cell_type": "markdown",
   "metadata": {},
   "source": []
  },
  {
   "cell_type": "code",
   "execution_count": 21,
   "metadata": {},
   "outputs": [
    {
     "data": {
      "text/plain": [
       "<AxesSubplot:>"
      ]
     },
     "execution_count": 21,
     "metadata": {},
     "output_type": "execute_result"
    },
    {
     "data": {
      "image/png": "[encoded data removed]",
      "text/plain": [
       "<Figure size 432x288 with 1 Axes>"
      ]
     },
     "metadata": {
      "needs_background": "light"
     },
     "output_type": "display_data"
    }
   ],
   "source": [
    "data['ceiling_height'].hist(bins=100, range = (2,6))"
   ]
  },
  {
   "cell_type": "code",
   "execution_count": 22,
   "metadata": {},
   "outputs": [
    {
     "data": {
      "text/plain": [
       "22822    100.0\n",
       "3144      32.0\n",
       "22291     32.0\n",
       "21334     27.5\n",
       "17825     27.0\n",
       "21780     27.0\n",
       "10755     27.0\n",
       "5238      27.0\n",
       "5797      27.0\n",
       "20440     27.0\n",
       "22890     27.0\n",
       "4868      27.0\n",
       "5660      26.0\n",
       "11266     25.0\n",
       "4636      25.0\n",
       "355       25.0\n",
       "18512     25.0\n",
       "9363      25.0\n",
       "14357     25.0\n",
       "6236      25.0\n",
       "5068      24.0\n",
       "20469     22.6\n",
       "17466     20.0\n",
       "15036     14.0\n",
       "22264     10.3\n",
       "5853       8.3\n",
       "15717      8.0\n",
       "3470       8.0\n",
       "17412      8.0\n",
       "20227      6.0\n",
       "Name: ceiling_height, dtype: float64"
      ]
     },
     "execution_count": 22,
     "metadata": {},
     "output_type": "execute_result"
    }
   ],
   "source": [
    "data['ceiling_height'].sort_values(ascending = False).head(30)"
   ]
  },
  {
   "cell_type": "markdown",
   "metadata": {},
   "source": [
    "Логично предлоложить, что значения значения выше 20 м скорее всего записали ошибочно (например не 25 м , а 2.5 м)."
   ]
  },
  {
   "cell_type": "code",
   "execution_count": 23,
   "metadata": {},
   "outputs": [],
   "source": [
    "data.loc[(data['ceiling_height'] >=20),'ceiling_height'] = data['ceiling_height']/10.0"
   ]
  },
  {
   "cell_type": "markdown",
   "metadata": {},
   "source": [
    "Выведем значение столбца 'total_area'."
   ]
  },
  {
   "cell_type": "code",
   "execution_count": 24,
   "metadata": {},
   "outputs": [
    {
     "data": {
      "text/plain": [
       "19869     12.0\n",
       "19772     13.0\n",
       "17929     13.0\n",
       "19511     13.0\n",
       "19523     13.2\n",
       "         ...  \n",
       "5349     590.0\n",
       "15626    618.0\n",
       "3113     631.0\n",
       "12840    631.2\n",
       "19505    900.0\n",
       "Name: total_area, Length: 23650, dtype: float64"
      ]
     },
     "execution_count": 24,
     "metadata": {},
     "output_type": "execute_result"
    }
   ],
   "source": [
    "data['total_area'].sort_values()"
   ]
  },
  {
   "cell_type": "code",
   "execution_count": 25,
   "metadata": {},
   "outputs": [
    {
     "data": {
      "text/plain": [
       "count    23650.000000\n",
       "mean        60.329069\n",
       "std         35.661808\n",
       "min         12.000000\n",
       "25%         40.000000\n",
       "50%         52.000000\n",
       "75%         69.700000\n",
       "max        900.000000\n",
       "Name: total_area, dtype: float64"
      ]
     },
     "execution_count": 25,
     "metadata": {},
     "output_type": "execute_result"
    }
   ],
   "source": [
    "data['total_area'].describe()"
   ]
  },
  {
   "cell_type": "code",
   "execution_count": 26,
   "metadata": {},
   "outputs": [
    {
     "data": {
      "text/plain": [
       "<AxesSubplot:>"
      ]
     },
     "execution_count": 26,
     "metadata": {},
     "output_type": "execute_result"
    },
    {
     "data": {
      "image/png": "[encoded data removed]",
      "text/plain": [
       "<Figure size 432x288 with 1 Axes>"
      ]
     },
     "metadata": {
      "needs_background": "light"
     },
     "output_type": "display_data"
    }
   ],
   "source": [
    "data['total_area'].hist(bins=100)"
   ]
  },
  {
   "cell_type": "markdown",
   "metadata": {},
   "source": [
    "Отбросим большие значения параметра 'total_area', а именно которые больше или равны 200."
   ]
  },
  {
   "cell_type": "code",
   "execution_count": 27,
   "metadata": {},
   "outputs": [
    {
     "data": {
      "text/plain": [
       "count    23419.000000\n",
       "mean        58.131265\n",
       "std         26.455600\n",
       "min         12.000000\n",
       "25%         40.000000\n",
       "50%         51.800000\n",
       "75%         68.800000\n",
       "max        199.200000\n",
       "Name: total_area, dtype: float64"
      ]
     },
     "execution_count": 27,
     "metadata": {},
     "output_type": "execute_result"
    }
   ],
   "source": [
    "data = data.query('total_area < 200')\n",
    "data['total_area'].describe()"
   ]
  },
  {
   "cell_type": "markdown",
   "metadata": {},
   "source": [
    "Выведем значение столбца 'rooms'."
   ]
  },
  {
   "cell_type": "code",
   "execution_count": 28,
   "metadata": {},
   "outputs": [
    {
     "data": {
      "text/plain": [
       "12210     0\n",
       "17595     0\n",
       "17629     0\n",
       "10702     0\n",
       "6462      0\n",
       "         ..\n",
       "14578     7\n",
       "4428      8\n",
       "8743      8\n",
       "648      11\n",
       "9672     11\n",
       "Name: rooms, Length: 23419, dtype: int64"
      ]
     },
     "execution_count": 28,
     "metadata": {},
     "output_type": "execute_result"
    }
   ],
   "source": [
    "data['rooms'].sort_values()"
   ]
  },
  {
   "cell_type": "code",
   "execution_count": 29,
   "metadata": {},
   "outputs": [
    {
     "data": {
      "text/plain": [
       "count    23419.000000\n",
       "mean         2.033691\n",
       "std          0.995429\n",
       "min          0.000000\n",
       "25%          1.000000\n",
       "50%          2.000000\n",
       "75%          3.000000\n",
       "max         11.000000\n",
       "Name: rooms, dtype: float64"
      ]
     },
     "execution_count": 29,
     "metadata": {},
     "output_type": "execute_result"
    }
   ],
   "source": [
    "data['rooms'].describe()"
   ]
  },
  {
   "cell_type": "code",
   "execution_count": 30,
   "metadata": {},
   "outputs": [
    {
     "data": {
      "text/html": [
       "<div>\n",
       "<style scoped>\n",
       "    .dataframe tbody tr th:only-of-type {\n",
       "        vertical-align: middle;\n",
       "    }\n",
       "\n",
       "    .dataframe tbody tr th {\n",
       "        vertical-align: top;\n",
       "    }\n",
       "\n",
       "    .dataframe thead th {\n",
       "        text-align: right;\n",
       "    }\n",
       "</style>\n",
       "<table border=\"1\" class=\"dataframe\">\n",
       "  <thead>\n",
       "    <tr style=\"text-align: right;\">\n",
       "      <th></th>\n",
       "      <th>total_images</th>\n",
       "      <th>last_price</th>\n",
       "      <th>total_area</th>\n",
       "      <th>first_day_exposition</th>\n",
       "      <th>rooms</th>\n",
       "      <th>ceiling_height</th>\n",
       "      <th>floors_total</th>\n",
       "      <th>living_area</th>\n",
       "      <th>floor</th>\n",
       "      <th>is_apartment</th>\n",
       "      <th>studio</th>\n",
       "      <th>open_plan</th>\n",
       "      <th>kitchen_area</th>\n",
       "      <th>balcony</th>\n",
       "      <th>locality_name</th>\n",
       "      <th>airports_nearest</th>\n",
       "      <th>city_сenters_nearest</th>\n",
       "      <th>parks_around_3000</th>\n",
       "      <th>parks_nearest</th>\n",
       "      <th>ponds_around_3000</th>\n",
       "      <th>ponds_nearest</th>\n",
       "      <th>days_exposition</th>\n",
       "    </tr>\n",
       "  </thead>\n",
       "  <tbody>\n",
       "    <tr>\n",
       "      <th>144</th>\n",
       "      <td>1</td>\n",
       "      <td>2450000.0</td>\n",
       "      <td>27.00</td>\n",
       "      <td>2017-03-30</td>\n",
       "      <td>0</td>\n",
       "      <td>NaN</td>\n",
       "      <td>24.0</td>\n",
       "      <td>15.50</td>\n",
       "      <td>2</td>\n",
       "      <td>False</td>\n",
       "      <td>True</td>\n",
       "      <td>False</td>\n",
       "      <td>NaN</td>\n",
       "      <td>2</td>\n",
       "      <td>поселок Мурино</td>\n",
       "      <td>NaN</td>\n",
       "      <td>NaN</td>\n",
       "      <td>0</td>\n",
       "      <td>NaN</td>\n",
       "      <td>0</td>\n",
       "      <td>NaN</td>\n",
       "      <td>181.0</td>\n",
       "    </tr>\n",
       "    <tr>\n",
       "      <th>349</th>\n",
       "      <td>4</td>\n",
       "      <td>2320000.0</td>\n",
       "      <td>25.00</td>\n",
       "      <td>2017-09-27</td>\n",
       "      <td>0</td>\n",
       "      <td>NaN</td>\n",
       "      <td>14.0</td>\n",
       "      <td>17.00</td>\n",
       "      <td>1</td>\n",
       "      <td>False</td>\n",
       "      <td>False</td>\n",
       "      <td>True</td>\n",
       "      <td>NaN</td>\n",
       "      <td>0</td>\n",
       "      <td>деревня Кудрово</td>\n",
       "      <td>NaN</td>\n",
       "      <td>NaN</td>\n",
       "      <td>0</td>\n",
       "      <td>NaN</td>\n",
       "      <td>0</td>\n",
       "      <td>NaN</td>\n",
       "      <td>45.0</td>\n",
       "    </tr>\n",
       "    <tr>\n",
       "      <th>440</th>\n",
       "      <td>8</td>\n",
       "      <td>2480000.0</td>\n",
       "      <td>27.11</td>\n",
       "      <td>2018-03-12</td>\n",
       "      <td>0</td>\n",
       "      <td>NaN</td>\n",
       "      <td>17.0</td>\n",
       "      <td>24.75</td>\n",
       "      <td>4</td>\n",
       "      <td>False</td>\n",
       "      <td>True</td>\n",
       "      <td>False</td>\n",
       "      <td>NaN</td>\n",
       "      <td>2</td>\n",
       "      <td>Санкт-Петербург</td>\n",
       "      <td>38171.0</td>\n",
       "      <td>15015.0</td>\n",
       "      <td>0</td>\n",
       "      <td>NaN</td>\n",
       "      <td>2</td>\n",
       "      <td>982.0</td>\n",
       "      <td>64.0</td>\n",
       "    </tr>\n",
       "    <tr>\n",
       "      <th>508</th>\n",
       "      <td>0</td>\n",
       "      <td>3375000.0</td>\n",
       "      <td>34.40</td>\n",
       "      <td>2017-03-28</td>\n",
       "      <td>0</td>\n",
       "      <td>NaN</td>\n",
       "      <td>26.0</td>\n",
       "      <td>24.30</td>\n",
       "      <td>19</td>\n",
       "      <td>False</td>\n",
       "      <td>False</td>\n",
       "      <td>True</td>\n",
       "      <td>NaN</td>\n",
       "      <td>1</td>\n",
       "      <td>поселок Парголово</td>\n",
       "      <td>53115.0</td>\n",
       "      <td>19292.0</td>\n",
       "      <td>0</td>\n",
       "      <td>NaN</td>\n",
       "      <td>1</td>\n",
       "      <td>593.0</td>\n",
       "      <td>430.0</td>\n",
       "    </tr>\n",
       "    <tr>\n",
       "      <th>608</th>\n",
       "      <td>2</td>\n",
       "      <td>1850000.0</td>\n",
       "      <td>25.00</td>\n",
       "      <td>2019-02-20</td>\n",
       "      <td>0</td>\n",
       "      <td>NaN</td>\n",
       "      <td>10.0</td>\n",
       "      <td>NaN</td>\n",
       "      <td>7</td>\n",
       "      <td>False</td>\n",
       "      <td>True</td>\n",
       "      <td>False</td>\n",
       "      <td>NaN</td>\n",
       "      <td>0</td>\n",
       "      <td>поселок Шушары</td>\n",
       "      <td>NaN</td>\n",
       "      <td>NaN</td>\n",
       "      <td>0</td>\n",
       "      <td>NaN</td>\n",
       "      <td>0</td>\n",
       "      <td>NaN</td>\n",
       "      <td>29.0</td>\n",
       "    </tr>\n",
       "    <tr>\n",
       "      <th>...</th>\n",
       "      <td>...</td>\n",
       "      <td>...</td>\n",
       "      <td>...</td>\n",
       "      <td>...</td>\n",
       "      <td>...</td>\n",
       "      <td>...</td>\n",
       "      <td>...</td>\n",
       "      <td>...</td>\n",
       "      <td>...</td>\n",
       "      <td>...</td>\n",
       "      <td>...</td>\n",
       "      <td>...</td>\n",
       "      <td>...</td>\n",
       "      <td>...</td>\n",
       "      <td>...</td>\n",
       "      <td>...</td>\n",
       "      <td>...</td>\n",
       "      <td>...</td>\n",
       "      <td>...</td>\n",
       "      <td>...</td>\n",
       "      <td>...</td>\n",
       "      <td>...</td>\n",
       "    </tr>\n",
       "    <tr>\n",
       "      <th>23162</th>\n",
       "      <td>7</td>\n",
       "      <td>3200000.0</td>\n",
       "      <td>26.00</td>\n",
       "      <td>2017-09-01</td>\n",
       "      <td>0</td>\n",
       "      <td>NaN</td>\n",
       "      <td>25.0</td>\n",
       "      <td>18.00</td>\n",
       "      <td>16</td>\n",
       "      <td>False</td>\n",
       "      <td>True</td>\n",
       "      <td>False</td>\n",
       "      <td>NaN</td>\n",
       "      <td>0</td>\n",
       "      <td>Санкт-Петербург</td>\n",
       "      <td>11405.0</td>\n",
       "      <td>13222.0</td>\n",
       "      <td>0</td>\n",
       "      <td>NaN</td>\n",
       "      <td>1</td>\n",
       "      <td>623.0</td>\n",
       "      <td>14.0</td>\n",
       "    </tr>\n",
       "    <tr>\n",
       "      <th>23393</th>\n",
       "      <td>0</td>\n",
       "      <td>2500000.0</td>\n",
       "      <td>27.70</td>\n",
       "      <td>2017-09-28</td>\n",
       "      <td>0</td>\n",
       "      <td>NaN</td>\n",
       "      <td>24.0</td>\n",
       "      <td>18.00</td>\n",
       "      <td>4</td>\n",
       "      <td>False</td>\n",
       "      <td>False</td>\n",
       "      <td>True</td>\n",
       "      <td>NaN</td>\n",
       "      <td>2</td>\n",
       "      <td>поселок Мурино</td>\n",
       "      <td>NaN</td>\n",
       "      <td>NaN</td>\n",
       "      <td>0</td>\n",
       "      <td>NaN</td>\n",
       "      <td>0</td>\n",
       "      <td>NaN</td>\n",
       "      <td>4.0</td>\n",
       "    </tr>\n",
       "    <tr>\n",
       "      <th>23505</th>\n",
       "      <td>15</td>\n",
       "      <td>3350000.0</td>\n",
       "      <td>26.00</td>\n",
       "      <td>2018-09-07</td>\n",
       "      <td>0</td>\n",
       "      <td>NaN</td>\n",
       "      <td>19.0</td>\n",
       "      <td>NaN</td>\n",
       "      <td>8</td>\n",
       "      <td>False</td>\n",
       "      <td>True</td>\n",
       "      <td>False</td>\n",
       "      <td>NaN</td>\n",
       "      <td>0</td>\n",
       "      <td>Санкт-Петербург</td>\n",
       "      <td>18090.0</td>\n",
       "      <td>17092.0</td>\n",
       "      <td>0</td>\n",
       "      <td>NaN</td>\n",
       "      <td>2</td>\n",
       "      <td>112.0</td>\n",
       "      <td>31.0</td>\n",
       "    </tr>\n",
       "    <tr>\n",
       "      <th>23543</th>\n",
       "      <td>10</td>\n",
       "      <td>1450000.0</td>\n",
       "      <td>29.00</td>\n",
       "      <td>2017-11-11</td>\n",
       "      <td>0</td>\n",
       "      <td>NaN</td>\n",
       "      <td>9.0</td>\n",
       "      <td>18.00</td>\n",
       "      <td>8</td>\n",
       "      <td>False</td>\n",
       "      <td>False</td>\n",
       "      <td>True</td>\n",
       "      <td>NaN</td>\n",
       "      <td>2</td>\n",
       "      <td>село Никольское</td>\n",
       "      <td>NaN</td>\n",
       "      <td>NaN</td>\n",
       "      <td>0</td>\n",
       "      <td>NaN</td>\n",
       "      <td>0</td>\n",
       "      <td>NaN</td>\n",
       "      <td>82.0</td>\n",
       "    </tr>\n",
       "    <tr>\n",
       "      <th>23588</th>\n",
       "      <td>8</td>\n",
       "      <td>2350000.0</td>\n",
       "      <td>26.00</td>\n",
       "      <td>2018-06-26</td>\n",
       "      <td>0</td>\n",
       "      <td>NaN</td>\n",
       "      <td>25.0</td>\n",
       "      <td>17.00</td>\n",
       "      <td>4</td>\n",
       "      <td>False</td>\n",
       "      <td>True</td>\n",
       "      <td>False</td>\n",
       "      <td>NaN</td>\n",
       "      <td>2</td>\n",
       "      <td>поселок Бугры</td>\n",
       "      <td>NaN</td>\n",
       "      <td>NaN</td>\n",
       "      <td>0</td>\n",
       "      <td>NaN</td>\n",
       "      <td>0</td>\n",
       "      <td>NaN</td>\n",
       "      <td>207.0</td>\n",
       "    </tr>\n",
       "  </tbody>\n",
       "</table>\n",
       "<p>196 rows × 22 columns</p>\n",
       "</div>"
      ],
      "text/plain": [
       "       total_images  last_price  total_area first_day_exposition  rooms  \\\n",
       "144               1   2450000.0       27.00           2017-03-30      0   \n",
       "349               4   2320000.0       25.00           2017-09-27      0   \n",
       "440               8   2480000.0       27.11           2018-03-12      0   \n",
       "508               0   3375000.0       34.40           2017-03-28      0   \n",
       "608               2   1850000.0       25.00           2019-02-20      0   \n",
       "...             ...         ...         ...                  ...    ...   \n",
       "23162             7   3200000.0       26.00           2017-09-01      0   \n",
       "23393             0   2500000.0       27.70           2017-09-28      0   \n",
       "23505            15   3350000.0       26.00           2018-09-07      0   \n",
       "23543            10   1450000.0       29.00           2017-11-11      0   \n",
       "23588             8   2350000.0       26.00           2018-06-26      0   \n",
       "\n",
       "       ceiling_height  floors_total  living_area  floor  is_apartment  studio  \\\n",
       "144               NaN          24.0        15.50      2         False    True   \n",
       "349               NaN          14.0        17.00      1         False   False   \n",
       "440               NaN          17.0        24.75      4         False    True   \n",
       "508               NaN          26.0        24.30     19         False   False   \n",
       "608               NaN          10.0          NaN      7         False    True   \n",
       "...               ...           ...          ...    ...           ...     ...   \n",
       "23162             NaN          25.0        18.00     16         False    True   \n",
       "23393             NaN          24.0        18.00      4         False   False   \n",
       "23505             NaN          19.0          NaN      8         False    True   \n",
       "23543             NaN           9.0        18.00      8         False   False   \n",
       "23588             NaN          25.0        17.00      4         False    True   \n",
       "\n",
       "       open_plan  kitchen_area  balcony      locality_name  airports_nearest  \\\n",
       "144        False           NaN        2     поселок Мурино               NaN   \n",
       "349         True           NaN        0    деревня Кудрово               NaN   \n",
       "440        False           NaN        2    Санкт-Петербург           38171.0   \n",
       "508         True           NaN        1  поселок Парголово           53115.0   \n",
       "608        False           NaN        0     поселок Шушары               NaN   \n",
       "...          ...           ...      ...                ...               ...   \n",
       "23162      False           NaN        0    Санкт-Петербург           11405.0   \n",
       "23393       True           NaN        2     поселок Мурино               NaN   \n",
       "23505      False           NaN        0    Санкт-Петербург           18090.0   \n",
       "23543       True           NaN        2    село Никольское               NaN   \n",
       "23588      False           NaN        2      поселок Бугры               NaN   \n",
       "\n",
       "       city_сenters_nearest  parks_around_3000  parks_nearest  \\\n",
       "144                     NaN                  0            NaN   \n",
       "349                     NaN                  0            NaN   \n",
       "440                 15015.0                  0            NaN   \n",
       "508                 19292.0                  0            NaN   \n",
       "608                     NaN                  0            NaN   \n",
       "...                     ...                ...            ...   \n",
       "23162               13222.0                  0            NaN   \n",
       "23393                   NaN                  0            NaN   \n",
       "23505               17092.0                  0            NaN   \n",
       "23543                   NaN                  0            NaN   \n",
       "23588                   NaN                  0            NaN   \n",
       "\n",
       "       ponds_around_3000  ponds_nearest  days_exposition  \n",
       "144                    0            NaN            181.0  \n",
       "349                    0            NaN             45.0  \n",
       "440                    2          982.0             64.0  \n",
       "508                    1          593.0            430.0  \n",
       "608                    0            NaN             29.0  \n",
       "...                  ...            ...              ...  \n",
       "23162                  1          623.0             14.0  \n",
       "23393                  0            NaN              4.0  \n",
       "23505                  2          112.0             31.0  \n",
       "23543                  0            NaN             82.0  \n",
       "23588                  0            NaN            207.0  \n",
       "\n",
       "[196 rows x 22 columns]"
      ]
     },
     "execution_count": 30,
     "metadata": {},
     "output_type": "execute_result"
    }
   ],
   "source": [
    "data.query('rooms == 0')"
   ]
  },
  {
   "cell_type": "markdown",
   "metadata": {},
   "source": [
    "Отбросим слишком большие и слишком маленькие значения параметра 'rooms'."
   ]
  },
  {
   "cell_type": "code",
   "execution_count": 31,
   "metadata": {},
   "outputs": [
    {
     "data": {
      "text/plain": [
       "count    23221.000000\n",
       "mean         2.050084\n",
       "std          0.978378\n",
       "min          1.000000\n",
       "25%          1.000000\n",
       "50%          2.000000\n",
       "75%          3.000000\n",
       "max          8.000000\n",
       "Name: rooms, dtype: float64"
      ]
     },
     "execution_count": 31,
     "metadata": {},
     "output_type": "execute_result"
    }
   ],
   "source": [
    "data = data.query('rooms > 0 & rooms < 10')\n",
    "data['rooms'].describe()"
   ]
  },
  {
   "cell_type": "markdown",
   "metadata": {},
   "source": [
    "Выведем значение столбца 'last_price'."
   ]
  },
  {
   "cell_type": "code",
   "execution_count": 32,
   "metadata": {},
   "outputs": [
    {
     "data": {
      "text/plain": [
       "<AxesSubplot:>"
      ]
     },
     "execution_count": 32,
     "metadata": {},
     "output_type": "execute_result"
    },
    {
     "data": {
      "image/png": "[encoded data removed]",
      "text/plain": [
       "<Figure size 432x288 with 1 Axes>"
      ]
     },
     "metadata": {
      "needs_background": "light"
     },
     "output_type": "display_data"
    }
   ],
   "source": [
    "data['last_price'].hist(bins=100)"
   ]
  },
  {
   "cell_type": "code",
   "execution_count": 33,
   "metadata": {},
   "outputs": [
    {
     "data": {
      "text/plain": [
       "8778         12190.0\n",
       "17426       430000.0\n",
       "14886       430000.0\n",
       "16247       440000.0\n",
       "17645       450000.0\n",
       "            ...     \n",
       "16617    122000000.0\n",
       "4988     124000000.0\n",
       "17880    135000000.0\n",
       "22784    289238400.0\n",
       "1435     330000000.0\n",
       "Name: last_price, Length: 23221, dtype: float64"
      ]
     },
     "execution_count": 33,
     "metadata": {},
     "output_type": "execute_result"
    }
   ],
   "source": [
    "data['last_price'].sort_values()"
   ]
  },
  {
   "cell_type": "markdown",
   "metadata": {},
   "source": [
    "Добавим столбец цены квартиры в тысячах."
   ]
  },
  {
   "cell_type": "code",
   "execution_count": 34,
   "metadata": {},
   "outputs": [],
   "source": [
    "data['last_price_in_thousands'] = round(data['last_price']/1000,2)"
   ]
  },
  {
   "cell_type": "code",
   "execution_count": 35,
   "metadata": {},
   "outputs": [
    {
     "data": {
      "text/plain": [
       "count     23221.000000\n",
       "mean       6044.974998\n",
       "std        6245.962521\n",
       "min          12.190000\n",
       "25%        3445.000000\n",
       "50%        4600.000000\n",
       "75%        6700.000000\n",
       "max      330000.000000\n",
       "Name: last_price_in_thousands, dtype: float64"
      ]
     },
     "execution_count": 35,
     "metadata": {},
     "output_type": "execute_result"
    }
   ],
   "source": [
    "data['last_price_in_thousands'].describe()"
   ]
  },
  {
   "cell_type": "code",
   "execution_count": 36,
   "metadata": {},
   "outputs": [
    {
     "data": {
      "text/plain": [
       "<AxesSubplot:>"
      ]
     },
     "execution_count": 36,
     "metadata": {},
     "output_type": "execute_result"
    },
    {
     "data": {
      "image/png": "[encoded data removed]",
      "text/plain": [
       "<Figure size 432x288 with 1 Axes>"
      ]
     },
     "metadata": {
      "needs_background": "light"
     },
     "output_type": "display_data"
    }
   ],
   "source": [
    "data['last_price_in_thousands'].hist(bins = 100,range=(0,100000))"
   ]
  },
  {
   "cell_type": "markdown",
   "metadata": {},
   "source": [
    "Отсеим слишком маленькие значения и слишком большие в столбце 'last_price_in_thousands'."
   ]
  },
  {
   "cell_type": "code",
   "execution_count": 37,
   "metadata": {},
   "outputs": [
    {
     "data": {
      "text/plain": [
       "count    21468.000000\n",
       "mean      5831.868107\n",
       "std       3469.797675\n",
       "min       2006.000000\n",
       "25%       3600.000000\n",
       "50%       4780.000000\n",
       "75%       6751.265000\n",
       "max      24900.000000\n",
       "Name: last_price_in_thousands, dtype: float64"
      ]
     },
     "execution_count": 37,
     "metadata": {},
     "output_type": "execute_result"
    }
   ],
   "source": [
    "data = data.query('last_price_in_thousands > 2000 & last_price_in_thousands < 25000')\n",
    "\n",
    "data['last_price_in_thousands'].describe()"
   ]
  },
  {
   "cell_type": "code",
   "execution_count": 38,
   "metadata": {},
   "outputs": [
    {
     "data": {
      "text/plain": [
       "<AxesSubplot:>"
      ]
     },
     "execution_count": 38,
     "metadata": {},
     "output_type": "execute_result"
    },
    {
     "data": {
      "image/png": "[encoded data removed]",
      "text/plain": [
       "<Figure size 432x288 with 1 Axes>"
      ]
     },
     "metadata": {
      "needs_background": "light"
     },
     "output_type": "display_data"
    }
   ],
   "source": [
    "data['last_price_in_thousands'].hist(bins = 100)"
   ]
  },
  {
   "cell_type": "markdown",
   "metadata": {},
   "source": [
    "Выведем значение столбца 'floors_total'."
   ]
  },
  {
   "cell_type": "code",
   "execution_count": 39,
   "metadata": {},
   "outputs": [
    {
     "data": {
      "text/plain": [
       "2251     60.0\n",
       "16701    52.0\n",
       "16904    37.0\n",
       "397      36.0\n",
       "11061    36.0\n",
       "5797     36.0\n",
       "1060     35.0\n",
       "7224     35.0\n",
       "12939    35.0\n",
       "12868    35.0\n",
       "18186    35.0\n",
       "1916     35.0\n",
       "5798     35.0\n",
       "8482     35.0\n",
       "9170     35.0\n",
       "21765    35.0\n",
       "871      35.0\n",
       "22898    35.0\n",
       "4847     35.0\n",
       "9354     35.0\n",
       "15955    35.0\n",
       "14322    35.0\n",
       "20898    35.0\n",
       "21556    35.0\n",
       "18584    35.0\n",
       "2962     35.0\n",
       "18596    35.0\n",
       "13952    35.0\n",
       "1696     34.0\n",
       "11556    33.0\n",
       "3792     29.0\n",
       "806      28.0\n",
       "8607     28.0\n",
       "14119    28.0\n",
       "324      28.0\n",
       "14694    28.0\n",
       "14163    28.0\n",
       "23495    28.0\n",
       "22969    28.0\n",
       "7697     28.0\n",
       "19104    28.0\n",
       "4551     28.0\n",
       "14843    28.0\n",
       "6387     28.0\n",
       "16954    28.0\n",
       "18151    28.0\n",
       "20836    28.0\n",
       "13995    28.0\n",
       "12929    28.0\n",
       "14010    28.0\n",
       "Name: floors_total, dtype: float64"
      ]
     },
     "execution_count": 39,
     "metadata": {},
     "output_type": "execute_result"
    }
   ],
   "source": [
    "data['floors_total'].sort_values(ascending = False).head(50)"
   ]
  },
  {
   "cell_type": "code",
   "execution_count": 40,
   "metadata": {},
   "outputs": [
    {
     "data": {
      "text/plain": [
       "5777     1.0\n",
       "8374     1.0\n",
       "19555    1.0\n",
       "4372     1.0\n",
       "5292     1.0\n",
       "14811    1.0\n",
       "8321     1.0\n",
       "17713    1.0\n",
       "22504    1.0\n",
       "15518    1.0\n",
       "16990    1.0\n",
       "11622    1.0\n",
       "22808    1.0\n",
       "757      2.0\n",
       "1176     2.0\n",
       "12621    2.0\n",
       "10680    2.0\n",
       "16118    2.0\n",
       "10677    2.0\n",
       "1169     2.0\n",
       "16646    2.0\n",
       "19173    2.0\n",
       "23512    2.0\n",
       "5951     2.0\n",
       "5945     2.0\n",
       "18603    2.0\n",
       "19179    2.0\n",
       "2260     2.0\n",
       "21591    2.0\n",
       "2870     2.0\n",
       "20896    2.0\n",
       "19787    2.0\n",
       "16672    2.0\n",
       "22890    2.0\n",
       "18161    2.0\n",
       "6679     2.0\n",
       "12509    2.0\n",
       "17691    2.0\n",
       "15143    2.0\n",
       "3016     2.0\n",
       "12532    2.0\n",
       "15085    2.0\n",
       "7592     2.0\n",
       "18913    2.0\n",
       "21780    2.0\n",
       "2052     2.0\n",
       "20733    2.0\n",
       "2177     2.0\n",
       "9092     2.0\n",
       "3504     2.0\n",
       "Name: floors_total, dtype: float64"
      ]
     },
     "execution_count": 40,
     "metadata": {},
     "output_type": "execute_result"
    }
   ],
   "source": [
    "data['floors_total'].sort_values().head(50)"
   ]
  },
  {
   "cell_type": "markdown",
   "metadata": {},
   "source": [
    "Аномалий в столбце 'floors_total' не обнаружено."
   ]
  },
  {
   "cell_type": "markdown",
   "metadata": {},
   "source": [
    "Выведем значение столбца 'living_area'."
   ]
  },
  {
   "cell_type": "code",
   "execution_count": 41,
   "metadata": {},
   "outputs": [
    {
     "data": {
      "text/plain": [
       "21633    164.7\n",
       "22857    159.6\n",
       "9376     150.8\n",
       "11781    147.2\n",
       "18757    145.4\n",
       "16172    145.0\n",
       "4702     142.0\n",
       "12530    140.0\n",
       "13706    140.0\n",
       "12548    140.0\n",
       "9872     136.1\n",
       "4432     133.4\n",
       "18132    128.0\n",
       "5701     127.7\n",
       "10172    127.0\n",
       "417      126.6\n",
       "15622    126.6\n",
       "1812     126.4\n",
       "23399    126.0\n",
       "2259     125.9\n",
       "1942     125.7\n",
       "15666    125.5\n",
       "807      125.1\n",
       "670      125.0\n",
       "1067     125.0\n",
       "8477     124.9\n",
       "3115     124.0\n",
       "7553     123.6\n",
       "12023    123.6\n",
       "10057    123.0\n",
       "6969     123.0\n",
       "13322    122.1\n",
       "16682    122.0\n",
       "22756    122.0\n",
       "3348     122.0\n",
       "2037     121.6\n",
       "18415    120.0\n",
       "7785     120.0\n",
       "5664     119.9\n",
       "335      119.5\n",
       "14865    118.9\n",
       "12215    118.5\n",
       "16626    118.4\n",
       "3541     117.4\n",
       "12352    117.1\n",
       "7376     117.0\n",
       "11114    117.0\n",
       "19243    117.0\n",
       "7113     116.2\n",
       "4428     115.8\n",
       "Name: living_area, dtype: float64"
      ]
     },
     "execution_count": 41,
     "metadata": {},
     "output_type": "execute_result"
    }
   ],
   "source": [
    "data['living_area'].sort_values(ascending = False).head(50)"
   ]
  },
  {
   "cell_type": "code",
   "execution_count": 42,
   "metadata": {},
   "outputs": [
    {
     "data": {
      "text/plain": [
       "13892     2.0\n",
       "3238      3.0\n",
       "21898     5.4\n",
       "16404     6.0\n",
       "19216     6.5\n",
       "20954     8.0\n",
       "23160     8.0\n",
       "114       8.3\n",
       "2307      8.4\n",
       "21462     8.5\n",
       "17218     8.9\n",
       "680       9.0\n",
       "4095      9.0\n",
       "8311      9.0\n",
       "22207     9.0\n",
       "1325      9.0\n",
       "7300      9.0\n",
       "19585     9.0\n",
       "4535      9.0\n",
       "15807     9.0\n",
       "22428     9.1\n",
       "21863     9.8\n",
       "19218    10.0\n",
       "7686     10.0\n",
       "12368    10.0\n",
       "8072     10.0\n",
       "4789     10.0\n",
       "12158    10.0\n",
       "615      10.0\n",
       "18246    10.0\n",
       "19276    10.0\n",
       "2695     10.0\n",
       "15530    10.0\n",
       "10502    10.0\n",
       "5011     10.0\n",
       "19869    10.0\n",
       "10273    10.0\n",
       "14080    10.0\n",
       "19772    10.0\n",
       "21350    10.0\n",
       "7447     10.0\n",
       "7815     10.0\n",
       "10301    10.0\n",
       "12085    10.0\n",
       "21325    10.0\n",
       "10421    10.0\n",
       "248      10.0\n",
       "2650     10.0\n",
       "21864    10.0\n",
       "23310    10.0\n",
       "Name: living_area, dtype: float64"
      ]
     },
     "execution_count": 42,
     "metadata": {},
     "output_type": "execute_result"
    }
   ],
   "source": [
    "data['living_area'].sort_values().head(50)"
   ]
  },
  {
   "cell_type": "markdown",
   "metadata": {},
   "source": [
    "Аномалий в столбце 'living_area' не обнаружено."
   ]
  },
  {
   "cell_type": "markdown",
   "metadata": {},
   "source": [
    "Выведем значение столбца 'floor'."
   ]
  },
  {
   "cell_type": "code",
   "execution_count": 43,
   "metadata": {},
   "outputs": [
    {
     "data": {
      "text/plain": [
       "20515     1\n",
       "2755      1\n",
       "18804     1\n",
       "2757      1\n",
       "21278     1\n",
       "         ..\n",
       "11061    29\n",
       "1916     30\n",
       "18596    31\n",
       "11556    32\n",
       "18186    33\n",
       "Name: floor, Length: 21468, dtype: int64"
      ]
     },
     "execution_count": 43,
     "metadata": {},
     "output_type": "execute_result"
    }
   ],
   "source": [
    "data['floor'].sort_values()"
   ]
  },
  {
   "cell_type": "markdown",
   "metadata": {},
   "source": [
    "Аномалий в столбце 'floor' не обнаружено."
   ]
  },
  {
   "cell_type": "markdown",
   "metadata": {},
   "source": [
    "Выведем значение столбца 'kitchen_area'."
   ]
  },
  {
   "cell_type": "code",
   "execution_count": 44,
   "metadata": {},
   "outputs": [
    {
     "data": {
      "text/plain": [
       "20180    1.3\n",
       "16340    2.0\n",
       "6252     2.0\n",
       "906      2.0\n",
       "9122     2.0\n",
       "        ... \n",
       "23606    NaN\n",
       "23614    NaN\n",
       "23621    NaN\n",
       "23630    NaN\n",
       "23647    NaN\n",
       "Name: kitchen_area, Length: 21468, dtype: float64"
      ]
     },
     "execution_count": 44,
     "metadata": {},
     "output_type": "execute_result"
    }
   ],
   "source": [
    "data['kitchen_area'].sort_values()"
   ]
  },
  {
   "cell_type": "markdown",
   "metadata": {},
   "source": [
    "Аномалий в столбце 'kitchen_area' не обнаружено."
   ]
  },
  {
   "cell_type": "markdown",
   "metadata": {},
   "source": [
    "Выведем значение столбца 'balcony'."
   ]
  },
  {
   "cell_type": "code",
   "execution_count": 45,
   "metadata": {},
   "outputs": [
    {
     "data": {
      "text/plain": [
       "0        0\n",
       "10698    0\n",
       "10699    0\n",
       "10700    0\n",
       "10701    0\n",
       "        ..\n",
       "11543    5\n",
       "11550    5\n",
       "22329    5\n",
       "11432    5\n",
       "16359    5\n",
       "Name: balcony, Length: 21468, dtype: int64"
      ]
     },
     "execution_count": 45,
     "metadata": {},
     "output_type": "execute_result"
    }
   ],
   "source": [
    "data['balcony'].sort_values()"
   ]
  },
  {
   "cell_type": "markdown",
   "metadata": {},
   "source": [
    "Аномалий в столбце 'balcony' не обнаружено."
   ]
  },
  {
   "cell_type": "markdown",
   "metadata": {},
   "source": [
    "Выведем значение столбца 'airports_nearest'."
   ]
  },
  {
   "cell_type": "code",
   "execution_count": 46,
   "metadata": {},
   "outputs": [
    {
     "data": {
      "text/plain": [
       "21045       0.0\n",
       "4012     6450.0\n",
       "12879    6450.0\n",
       "7764     6914.0\n",
       "23102    6949.0\n",
       "          ...  \n",
       "23630       NaN\n",
       "23633       NaN\n",
       "23634       NaN\n",
       "23646       NaN\n",
       "23647       NaN\n",
       "Name: airports_nearest, Length: 21468, dtype: float64"
      ]
     },
     "execution_count": 46,
     "metadata": {},
     "output_type": "execute_result"
    }
   ],
   "source": [
    "data['airports_nearest'].sort_values()"
   ]
  },
  {
   "cell_type": "markdown",
   "metadata": {},
   "source": [
    "Аномалий в столбце 'airports_nearest' не обнаружено."
   ]
  },
  {
   "cell_type": "markdown",
   "metadata": {},
   "source": [
    "Выведем значение столбца 'parks_around_3000'."
   ]
  },
  {
   "cell_type": "code",
   "execution_count": 47,
   "metadata": {},
   "outputs": [
    {
     "data": {
      "text/plain": [
       "11803    0\n",
       "19326    0\n",
       "10961    0\n",
       "10962    0\n",
       "19325    0\n",
       "        ..\n",
       "6721     3\n",
       "6703     3\n",
       "21047    3\n",
       "7107     3\n",
       "8577     3\n",
       "Name: parks_around_3000, Length: 21468, dtype: int64"
      ]
     },
     "execution_count": 47,
     "metadata": {},
     "output_type": "execute_result"
    }
   ],
   "source": [
    "data['parks_around_3000'].sort_values()"
   ]
  },
  {
   "cell_type": "markdown",
   "metadata": {},
   "source": [
    "Аномалий в столбце 'parks_around_3000' не обнаружено."
   ]
  },
  {
   "cell_type": "markdown",
   "metadata": {},
   "source": [
    "Выведем значение столбца 'days_exposition'."
   ]
  },
  {
   "cell_type": "code",
   "execution_count": 48,
   "metadata": {},
   "outputs": [
    {
     "data": {
      "text/plain": [
       "1631     1.0\n",
       "13040    2.0\n",
       "16026    2.0\n",
       "16185    2.0\n",
       "3690     3.0\n",
       "9599     3.0\n",
       "10956    3.0\n",
       "16658    3.0\n",
       "294      3.0\n",
       "16656    3.0\n",
       "9597     3.0\n",
       "3853     3.0\n",
       "18621    3.0\n",
       "1500     3.0\n",
       "16604    3.0\n",
       "18992    3.0\n",
       "8029     3.0\n",
       "20478    3.0\n",
       "5759     3.0\n",
       "15178    3.0\n",
       "15983    3.0\n",
       "4658     3.0\n",
       "8998     3.0\n",
       "11052    3.0\n",
       "16560    3.0\n",
       "21755    3.0\n",
       "18025    3.0\n",
       "19658    3.0\n",
       "4690     3.0\n",
       "23322    3.0\n",
       "13779    3.0\n",
       "2443     3.0\n",
       "9631     3.0\n",
       "4929     3.0\n",
       "13551    3.0\n",
       "9701     3.0\n",
       "10433    3.0\n",
       "16870    3.0\n",
       "3304     3.0\n",
       "10408    3.0\n",
       "19350    3.0\n",
       "4873     3.0\n",
       "17721    3.0\n",
       "5687     3.0\n",
       "17734    3.0\n",
       "4057     3.0\n",
       "21575    3.0\n",
       "2349     3.0\n",
       "21579    3.0\n",
       "16763    3.0\n",
       "Name: days_exposition, dtype: float64"
      ]
     },
     "execution_count": 48,
     "metadata": {},
     "output_type": "execute_result"
    }
   ],
   "source": [
    "data['days_exposition'].sort_values().head(50)"
   ]
  },
  {
   "cell_type": "code",
   "execution_count": 49,
   "metadata": {},
   "outputs": [
    {
     "data": {
      "text/plain": [
       "18810    1580.0\n",
       "9537     1553.0\n",
       "1884     1513.0\n",
       "20929    1512.0\n",
       "6681     1512.0\n",
       "14070    1497.0\n",
       "15288    1489.0\n",
       "19088    1485.0\n",
       "11936    1484.0\n",
       "4728     1477.0\n",
       "2937     1458.0\n",
       "5996     1452.0\n",
       "9539     1434.0\n",
       "14848    1430.0\n",
       "11966    1417.0\n",
       "20956    1413.0\n",
       "6716     1406.0\n",
       "10346    1391.0\n",
       "12028    1375.0\n",
       "4105     1373.0\n",
       "12182    1368.0\n",
       "12190    1363.0\n",
       "11402    1362.0\n",
       "17898    1361.0\n",
       "23377    1360.0\n",
       "9485     1355.0\n",
       "12468    1350.0\n",
       "21711    1349.0\n",
       "21816    1346.0\n",
       "17728    1346.0\n",
       "398      1345.0\n",
       "7009     1344.0\n",
       "13224    1341.0\n",
       "749      1336.0\n",
       "22410    1334.0\n",
       "20731    1332.0\n",
       "12017    1325.0\n",
       "18955    1322.0\n",
       "3247     1315.0\n",
       "4881     1314.0\n",
       "7916     1314.0\n",
       "13577    1313.0\n",
       "4233     1312.0\n",
       "19249    1309.0\n",
       "4781     1305.0\n",
       "3993     1299.0\n",
       "11756    1293.0\n",
       "353      1292.0\n",
       "21049    1281.0\n",
       "8346     1280.0\n",
       "Name: days_exposition, dtype: float64"
      ]
     },
     "execution_count": 49,
     "metadata": {},
     "output_type": "execute_result"
    }
   ],
   "source": [
    "data['days_exposition'].sort_values(ascending = False).head(50)"
   ]
  },
  {
   "cell_type": "markdown",
   "metadata": {},
   "source": [
    "Аномалий в столбце 'days_exposition' не обнаружено."
   ]
  },
  {
   "cell_type": "markdown",
   "metadata": {},
   "source": [
    "Проверим количество отбрасываемых данных:"
   ]
  },
  {
   "cell_type": "code",
   "execution_count": 50,
   "metadata": {},
   "outputs": [
    {
     "data": {
      "text/plain": [
       "0.9058610067935355"
      ]
     },
     "execution_count": 50,
     "metadata": {},
     "output_type": "execute_result"
    }
   ],
   "source": [
    "data.shape[0]/23699"
   ]
  },
  {
   "cell_type": "markdown",
   "metadata": {},
   "source": [
    "~90.6% от первоначальных данных осталось после отброса данных."
   ]
  },
  {
   "cell_type": "markdown",
   "metadata": {},
   "source": [
    "<b>Вывод:</b>\n",
    "1. Названия столбцов были приведены в соответствие с хорошим стилем.\n",
    "2. Было изучено количество пропущенных значений, заменено их там, где это возможно, а именно в столбцах 'is_apartment','balcony','parks_around_3000','ponds_around_3000'.\n",
    "3. Были изучены типы столбцов и изменены, там, где это необходимо, а именно в столбцах 'first_day_exposition', 'balcony','parks_around_3000','ponds_around_3000'.\n",
    "4. Утранены неявные дубликаты в названиях населенного пункта (изначальное количество уникальных значений 365, после исключения дубликатов 316).\n",
    "5. Утранены редкие и выбивающиеся значения, а именно в столбцах 'ceiling_height'. Отброшены слишком большие значения и слишком маленькие в столбцах со стоимостью квартиры, количеством комнат и общей площадью. ~90.6% от первоначальных данных осталось после отброса данных."
   ]
  },
  {
   "cell_type": "markdown",
   "metadata": {},
   "source": [
    "### Посчитайте и добавьте в таблицу новые столбцы"
   ]
  },
  {
   "cell_type": "markdown",
   "metadata": {},
   "source": [
    "3.1 Добавим новый столбец 'price_of_one_square_meter' (цена одного квадратного метра)."
   ]
  },
  {
   "cell_type": "code",
   "execution_count": 51,
   "metadata": {},
   "outputs": [
    {
     "data": {
      "text/plain": [
       "0        120370.370370\n",
       "1         82920.792079\n",
       "2         92785.714286\n",
       "4        100000.000000\n",
       "5         95065.789474\n",
       "             ...      \n",
       "23644     73717.948718\n",
       "23645     72490.845228\n",
       "23646     52542.372881\n",
       "23647     44091.710758\n",
       "23648    149511.400651\n",
       "Name: price_of_one_square_meter, Length: 21468, dtype: float64"
      ]
     },
     "execution_count": 51,
     "metadata": {},
     "output_type": "execute_result"
    }
   ],
   "source": [
    "data['price_of_one_square_meter'] = data['last_price']/data['total_area']\n",
    "data['price_of_one_square_meter']"
   ]
  },
  {
   "cell_type": "markdown",
   "metadata": {},
   "source": [
    "3.2 Добавим новый столбец 'day_of_the_week_of_publication_of_announcement' (день недели публикации объявления (0 — понедельник, 1 — вторник и так далее))."
   ]
  },
  {
   "cell_type": "code",
   "execution_count": 52,
   "metadata": {},
   "outputs": [
    {
     "data": {
      "text/plain": [
       "0        3\n",
       "1        1\n",
       "2        3\n",
       "4        1\n",
       "5        0\n",
       "        ..\n",
       "23644    4\n",
       "23645    1\n",
       "23646    0\n",
       "23647    6\n",
       "23648    1\n",
       "Name: day_of_the_week_of_publication_of_announcement, Length: 21468, dtype: int64"
      ]
     },
     "execution_count": 52,
     "metadata": {},
     "output_type": "execute_result"
    }
   ],
   "source": [
    "data['day_of_the_week_of_publication_of_announcement']=data['first_day_exposition'].dt.weekday\n",
    "data['day_of_the_week_of_publication_of_announcement']"
   ]
  },
  {
   "cell_type": "markdown",
   "metadata": {},
   "source": [
    "3.3 Добавим новый столбец 'month_of_publication_of_ad' (месяц публикации объявления)."
   ]
  },
  {
   "cell_type": "code",
   "execution_count": 53,
   "metadata": {},
   "outputs": [
    {
     "data": {
      "text/plain": [
       "0         3\n",
       "1        12\n",
       "2         8\n",
       "4         6\n",
       "5         9\n",
       "         ..\n",
       "23644     8\n",
       "23645     3\n",
       "23646     1\n",
       "23647     2\n",
       "23648     3\n",
       "Name: month_of_publication_of_ad, Length: 21468, dtype: int64"
      ]
     },
     "execution_count": 53,
     "metadata": {},
     "output_type": "execute_result"
    }
   ],
   "source": [
    "data['month_of_publication_of_ad'] = data['first_day_exposition'].dt.month\n",
    "data['month_of_publication_of_ad'] "
   ]
  },
  {
   "cell_type": "markdown",
   "metadata": {},
   "source": [
    "3.4 Добавим новый столбец 'year_of_publication_of_announcement' (год публикации объявления)."
   ]
  },
  {
   "cell_type": "code",
   "execution_count": 54,
   "metadata": {},
   "outputs": [
    {
     "data": {
      "text/plain": [
       "0        2019\n",
       "1        2018\n",
       "2        2015\n",
       "4        2018\n",
       "5        2018\n",
       "         ... \n",
       "23644    2016\n",
       "23645    2017\n",
       "23646    2018\n",
       "23647    2018\n",
       "23648    2017\n",
       "Name: year_of_publication_of_announcement, Length: 21468, dtype: int64"
      ]
     },
     "execution_count": 54,
     "metadata": {},
     "output_type": "execute_result"
    }
   ],
   "source": [
    "data['year_of_publication_of_announcement'] = data['first_day_exposition'].dt.year\n",
    "data['year_of_publication_of_announcement']"
   ]
  },
  {
   "cell_type": "markdown",
   "metadata": {},
   "source": [
    "3.5 Добавим новый столбец 'type_of_apartment_floor' (тип этажа квартиры  (значения — «‎первый», «последний», «другой»))."
   ]
  },
  {
   "cell_type": "code",
   "execution_count": 55,
   "metadata": {},
   "outputs": [
    {
     "data": {
      "text/plain": [
       "0        другой\n",
       "1        первый\n",
       "2        другой\n",
       "4        другой\n",
       "5        другой\n",
       "          ...  \n",
       "23644    другой\n",
       "23645    другой\n",
       "23646    другой\n",
       "23647    первый\n",
       "23648    другой\n",
       "Name: type_of_apartment_floor, Length: 21468, dtype: object"
      ]
     },
     "execution_count": 55,
     "metadata": {},
     "output_type": "execute_result"
    }
   ],
   "source": [
    "data['type_of_apartment_floor'] = data['floor']\n",
    "data['type_of_apartment_floor'] = data['type_of_apartment_floor'].where(data['type_of_apartment_floor'] != 1, 'первый')\n",
    "data['type_of_apartment_floor'] = data['type_of_apartment_floor'].where(data['type_of_apartment_floor'] != data['floors_total'], 'последний')\n",
    "data['type_of_apartment_floor'] = data['type_of_apartment_floor'].where((data['type_of_apartment_floor'] == 'первый') | (data['type_of_apartment_floor'] == 'последний'), 'другой')\n",
    "data['type_of_apartment_floor']\n"
   ]
  },
  {
   "cell_type": "markdown",
   "metadata": {},
   "source": [
    "3.6 Добавим новый столбец 'distance_to_city_center_in_kilometers' (расстояние до центра города в километрах (переведем из м в км и округлим до целых значений))."
   ]
  },
  {
   "cell_type": "code",
   "execution_count": 56,
   "metadata": {},
   "outputs": [],
   "source": [
    "data['distance_to_city_center_in_kilometers'] = round(data['city_сenters_nearest']/1000)"
   ]
  },
  {
   "cell_type": "markdown",
   "metadata": {},
   "source": [
    "<b>Вывод:</b>\n",
    "\n",
    "Были добавлены столбцы новые столбцы:\n",
    "<li>цена одного квадратного метра;</li>\n",
    "<li>день недели публикации объявления (0 — понедельник, 1 — вторник и так далее);</li>\n",
    "<li>месяц публикации объявления;</li>\n",
    "<li>год публикации объявления;</li>\n",
    "<li>тип этажа квартиры (значения — «первый», «последний», «другой»);</li>\n",
    "<li>расстояние до центра города в километрах.</li>"
   ]
  },
  {
   "cell_type": "markdown",
   "metadata": {},
   "source": [
    "### Проведите исследовательский анализ данных"
   ]
  },
  {
   "cell_type": "markdown",
   "metadata": {},
   "source": [
    "4.1 Изучим параметры продаваемых квартир."
   ]
  },
  {
   "cell_type": "markdown",
   "metadata": {},
   "source": [
    "Построим гистограмму для параметра \"общая площадь\"."
   ]
  },
  {
   "cell_type": "code",
   "execution_count": 57,
   "metadata": {},
   "outputs": [
    {
     "data": {
      "image/png": "[encoded data removed]",
      "text/plain": [
       "<Figure size 432x288 with 1 Axes>"
      ]
     },
     "metadata": {
      "needs_background": "light"
     },
     "output_type": "display_data"
    }
   ],
   "source": [
    "ax = data['total_area'].hist(bins = 100,range=(0,400))\n",
    "ax.set_title('Общая площадь')\n",
    "plt.show()"
   ]
  },
  {
   "cell_type": "markdown",
   "metadata": {},
   "source": [
    "На гистограмме видно, что больше всего продаваемых квартир имеют площадь около 45 м²."
   ]
  },
  {
   "cell_type": "markdown",
   "metadata": {},
   "source": [
    "Построим гистограмму для параметра \"жилая площадь\"."
   ]
  },
  {
   "cell_type": "code",
   "execution_count": 58,
   "metadata": {},
   "outputs": [
    {
     "data": {
      "image/png": "[encoded data removed]",
      "text/plain": [
       "<Figure size 432x288 with 1 Axes>"
      ]
     },
     "metadata": {
      "needs_background": "light"
     },
     "output_type": "display_data"
    }
   ],
   "source": [
    "ax = data['living_area'].hist(bins = 100,range=(0,250))\n",
    "ax.set_title('Жилая площадь')\n",
    "plt.show()"
   ]
  },
  {
   "cell_type": "markdown",
   "metadata": {},
   "source": [
    "На гистограмме видно, что больше всего продаваемых квартир имеют жилую площадь около 20 м² и 30 м²."
   ]
  },
  {
   "cell_type": "markdown",
   "metadata": {},
   "source": [
    "Построим гистограмму для параметра \"площадь кухни\"."
   ]
  },
  {
   "cell_type": "code",
   "execution_count": 59,
   "metadata": {},
   "outputs": [
    {
     "data": {
      "image/png": "[encoded data removed]",
      "text/plain": [
       "<Figure size 432x288 with 1 Axes>"
      ]
     },
     "metadata": {
      "needs_background": "light"
     },
     "output_type": "display_data"
    }
   ],
   "source": [
    "ax = data['kitchen_area'].hist(bins = 100,range=(0,60))\n",
    "ax.set_title('Площадь кухни')\n",
    "plt.show()"
   ]
  },
  {
   "cell_type": "markdown",
   "metadata": {},
   "source": [
    "На гистограмме видно, что больше всего продаваемых квартир имеют площадь кухни около 6 м²."
   ]
  },
  {
   "cell_type": "markdown",
   "metadata": {},
   "source": [
    "Построим гистограмму для параметра \"цена объекта\"."
   ]
  },
  {
   "cell_type": "code",
   "execution_count": 60,
   "metadata": {},
   "outputs": [
    {
     "data": {
      "image/png": "[encoded data removed]",
      "text/plain": [
       "<Figure size 432x288 with 1 Axes>"
      ]
     },
     "metadata": {
      "needs_background": "light"
     },
     "output_type": "display_data"
    }
   ],
   "source": [
    "ax = data['last_price'].hist(bins = 100)\n",
    "ax.set_title('Цена объекта')\n",
    "plt.show()"
   ]
  },
  {
   "cell_type": "markdown",
   "metadata": {},
   "source": [
    "Построим гистограмму по столбцу цены объекта в тысячах."
   ]
  },
  {
   "cell_type": "code",
   "execution_count": 61,
   "metadata": {},
   "outputs": [
    {
     "data": {
      "image/png": "[encoded data removed]",
      "text/plain": [
       "<Figure size 432x288 with 1 Axes>"
      ]
     },
     "metadata": {
      "needs_background": "light"
     },
     "output_type": "display_data"
    }
   ],
   "source": [
    "ax = data['last_price_in_thousands'].hist(bins = 100,range=(0,100000))\n",
    "ax.set_title('Цена объекта в тысячах')\n",
    "plt.show()"
   ]
  },
  {
   "cell_type": "markdown",
   "metadata": {},
   "source": [
    "По гистограмме видно, что больше всего продаваемых квартир имеют цену около 4 000 000."
   ]
  },
  {
   "cell_type": "markdown",
   "metadata": {},
   "source": [
    "Построим гистограмму для параметра \"высота потолков\"."
   ]
  },
  {
   "cell_type": "code",
   "execution_count": 62,
   "metadata": {},
   "outputs": [
    {
     "data": {
      "image/png": "[encoded data removed]",
      "text/plain": [
       "<Figure size 432x288 with 1 Axes>"
      ]
     },
     "metadata": {
      "needs_background": "light"
     },
     "output_type": "display_data"
    }
   ],
   "source": [
    "ax = data['ceiling_height'].hist(bins = 100,range=(1,6))\n",
    "ax.set_title('Высота потолков')\n",
    "plt.show()"
   ]
  },
  {
   "cell_type": "markdown",
   "metadata": {},
   "source": [
    "По гистограмме видно, что больше всего продаваемых квартир высоту потолков около 2.5 метров."
   ]
  },
  {
   "cell_type": "markdown",
   "metadata": {},
   "source": [
    "Построим гистограмму для параметра \"количество комнат\"."
   ]
  },
  {
   "cell_type": "code",
   "execution_count": 63,
   "metadata": {},
   "outputs": [
    {
     "data": {
      "image/png": "[encoded data removed]",
      "text/plain": [
       "<Figure size 432x288 with 1 Axes>"
      ]
     },
     "metadata": {
      "needs_background": "light"
     },
     "output_type": "display_data"
    }
   ],
   "source": [
    "ax = data['rooms'].hist(bins = 100,range=(0,10))\n",
    "ax.set_title('Количество комнат')\n",
    "plt.show()"
   ]
  },
  {
   "cell_type": "markdown",
   "metadata": {},
   "source": [
    "По гистограмме видно, что больше всего продаваемых квартир имеют 1 или 2 комнаты."
   ]
  },
  {
   "cell_type": "markdown",
   "metadata": {},
   "source": [
    "Построим гистограмму для параметра \"этаж квартиры\"."
   ]
  },
  {
   "cell_type": "code",
   "execution_count": 64,
   "metadata": {},
   "outputs": [
    {
     "data": {
      "image/png": "[encoded data removed]",
      "text/plain": [
       "<Figure size 432x288 with 1 Axes>"
      ]
     },
     "metadata": {
      "needs_background": "light"
     },
     "output_type": "display_data"
    }
   ],
   "source": [
    "ax = data['floor'].hist(bins = 100,range=(0,30))\n",
    "ax.set_title('Этаж квартиры')\n",
    "plt.show()"
   ]
  },
  {
   "cell_type": "markdown",
   "metadata": {},
   "source": [
    "По гистограмме видно, что больше всего продаваемых квартир находятся на 2 этаже. "
   ]
  },
  {
   "cell_type": "markdown",
   "metadata": {},
   "source": [
    "Построим гистограмму для параметра \"тип этажа квартиры\"."
   ]
  },
  {
   "cell_type": "code",
   "execution_count": 65,
   "metadata": {},
   "outputs": [
    {
     "data": {
      "image/png": "[encoded data removed]",
      "text/plain": [
       "<Figure size 432x288 with 1 Axes>"
      ]
     },
     "metadata": {
      "needs_background": "light"
     },
     "output_type": "display_data"
    }
   ],
   "source": [
    "ax = data['type_of_apartment_floor'].hist()\n",
    "ax.set_title('Тип этажа квартиры')\n",
    "plt.show()"
   ]
  },
  {
   "cell_type": "markdown",
   "metadata": {},
   "source": [
    "По гистограмме видно, что больше всего продаваемых квартир находятся не на первом и последнем этажах.\n",
    "\n",
    "Также можно отметить, что на последнем этаже продаются квартиры чаще, чем на первом этаже."
   ]
  },
  {
   "cell_type": "markdown",
   "metadata": {},
   "source": [
    "Построим гистограмму для параметра \"общее количество этажей в доме\"."
   ]
  },
  {
   "cell_type": "code",
   "execution_count": 66,
   "metadata": {},
   "outputs": [
    {
     "data": {
      "image/png": "[encoded data removed]",
      "text/plain": [
       "<Figure size 432x288 with 1 Axes>"
      ]
     },
     "metadata": {
      "needs_background": "light"
     },
     "output_type": "display_data"
    }
   ],
   "source": [
    "ax = data['floors_total'].hist(bins = 100,range=(0,40))\n",
    "ax.set_title('Общее количество этажей в доме')\n",
    "plt.show()"
   ]
  },
  {
   "cell_type": "markdown",
   "metadata": {},
   "source": [
    "По гистограмме видно, что больше всего продаваемых квартир находятся в домах, где всего 5 и 8 этажей."
   ]
  },
  {
   "cell_type": "markdown",
   "metadata": {},
   "source": [
    "Построим гистограмму для параметра \"расстояние до центра города в метрах\"."
   ]
  },
  {
   "cell_type": "code",
   "execution_count": 67,
   "metadata": {},
   "outputs": [
    {
     "data": {
      "image/png": "[encoded data removed]",
      "text/plain": [
       "<Figure size 432x288 with 1 Axes>"
      ]
     },
     "metadata": {
      "needs_background": "light"
     },
     "output_type": "display_data"
    }
   ],
   "source": [
    "ax = data['city_сenters_nearest'].hist(bins = 100)\n",
    "ax.set_title('Расстояние до центра города в метрах')\n",
    "plt.show()"
   ]
  },
  {
   "cell_type": "markdown",
   "metadata": {},
   "source": [
    "По гистограмме видно, что больше всего продаваемых квартир находятся от центра в 15 000 метрах."
   ]
  },
  {
   "cell_type": "markdown",
   "metadata": {},
   "source": [
    "Построим гистограмму для параметра \"расстояние до ближайшего аэропорта\"."
   ]
  },
  {
   "cell_type": "code",
   "execution_count": 68,
   "metadata": {},
   "outputs": [
    {
     "data": {
      "image/png": "[encoded data removed]",
      "text/plain": [
       "<Figure size 432x288 with 1 Axes>"
      ]
     },
     "metadata": {
      "needs_background": "light"
     },
     "output_type": "display_data"
    }
   ],
   "source": [
    "ax = data['airports_nearest'].hist(bins = 100)\n",
    "ax.set_title('Расстояние до ближайшего аэропорта')\n",
    "plt.show()"
   ]
  },
  {
   "cell_type": "markdown",
   "metadata": {},
   "source": [
    "По гистограмме видно, что больше всего продаваемых квартир находятся в 25 000 метрах до ближайшего аэропорта."
   ]
  },
  {
   "cell_type": "markdown",
   "metadata": {},
   "source": [
    "Построим гистограмму для параметра \"расстояние до ближайшего парка\"."
   ]
  },
  {
   "cell_type": "code",
   "execution_count": 69,
   "metadata": {},
   "outputs": [
    {
     "data": {
      "image/png": "[encoded data removed]",
      "text/plain": [
       "<Figure size 432x288 with 1 Axes>"
      ]
     },
     "metadata": {
      "needs_background": "light"
     },
     "output_type": "display_data"
    }
   ],
   "source": [
    "ax = data['parks_nearest'].hist(bins = 100)\n",
    "ax.set_title('Расстояние до ближайшего парка')\n",
    "plt.show()"
   ]
  },
  {
   "cell_type": "markdown",
   "metadata": {},
   "source": [
    "По гистограмме видно, что больше всего продаваемых квартир находятся в 450 метрах до ближайшего парка."
   ]
  },
  {
   "cell_type": "markdown",
   "metadata": {},
   "source": [
    "Построим гистограмму для параметра \"день недели публикации объявления\"."
   ]
  },
  {
   "cell_type": "code",
   "execution_count": 70,
   "metadata": {},
   "outputs": [
    {
     "data": {
      "image/png": "[encoded data removed]",
      "text/plain": [
       "<Figure size 432x288 with 1 Axes>"
      ]
     },
     "metadata": {
      "needs_background": "light"
     },
     "output_type": "display_data"
    }
   ],
   "source": [
    "ax = data['day_of_the_week_of_publication_of_announcement'].hist(bins = 100)\n",
    "ax.set_title('День недели публикации объявления')\n",
    "plt.show()"
   ]
  },
  {
   "cell_type": "markdown",
   "metadata": {},
   "source": [
    "По гистограмме видно, что чаще всего квартиры продаются в четверг и во вторник. \n",
    "\n",
    "В выходные квартиры продаются реже всего."
   ]
  },
  {
   "cell_type": "markdown",
   "metadata": {},
   "source": [
    "Построим гистограмму для параметра \"месяц публикации объявления\"."
   ]
  },
  {
   "cell_type": "code",
   "execution_count": 71,
   "metadata": {},
   "outputs": [
    {
     "data": {
      "image/png": "[encoded data removed]",
      "text/plain": [
       "<Figure size 432x288 with 1 Axes>"
      ]
     },
     "metadata": {
      "needs_background": "light"
     },
     "output_type": "display_data"
    }
   ],
   "source": [
    "ax = data['month_of_publication_of_ad'].hist(bins = 100)\n",
    "ax.set_title('Месяц публикации объявления')\n",
    "plt.show()"
   ]
  },
  {
   "cell_type": "markdown",
   "metadata": {},
   "source": [
    "По гистограмме видно, что чаще всего квартиры продаются в феврале и марте.\n",
    "\n",
    "Реже всего квартиры продаются в мае и в январе."
   ]
  },
  {
   "cell_type": "markdown",
   "metadata": {},
   "source": [
    "4.2 Изучим, как быстро продавались квартиры (столбец days_exposition). Этот параметр показывает, сколько дней было размещено каждое объявление."
   ]
  },
  {
   "cell_type": "code",
   "execution_count": 72,
   "metadata": {},
   "outputs": [
    {
     "data": {
      "text/plain": [
       "<AxesSubplot:>"
      ]
     },
     "execution_count": 72,
     "metadata": {},
     "output_type": "execute_result"
    },
    {
     "data": {
      "image/png": "[encoded data removed]",
      "text/plain": [
       "<Figure size 432x288 with 1 Axes>"
      ]
     },
     "metadata": {
      "needs_background": "light"
     },
     "output_type": "display_data"
    }
   ],
   "source": [
    "data['days_exposition'].hist(bins=100)"
   ]
  },
  {
   "cell_type": "code",
   "execution_count": 73,
   "metadata": {},
   "outputs": [
    {
     "data": {
      "text/plain": [
       "count    18701.000000\n",
       "mean       179.082830\n",
       "std        218.144078\n",
       "min          1.000000\n",
       "25%         44.000000\n",
       "50%         95.000000\n",
       "75%        228.000000\n",
       "max       1580.000000\n",
       "Name: days_exposition, dtype: float64"
      ]
     },
     "execution_count": 73,
     "metadata": {},
     "output_type": "execute_result"
    }
   ],
   "source": [
    "data['days_exposition'].describe()"
   ]
  },
  {
   "cell_type": "code",
   "execution_count": 74,
   "metadata": {},
   "outputs": [
    {
     "data": {
      "text/plain": [
       "count    17295.000000\n",
       "mean       176.487193\n",
       "std        187.669729\n",
       "min         11.000000\n",
       "25%         46.000000\n",
       "50%        103.000000\n",
       "75%        233.000000\n",
       "max        999.000000\n",
       "Name: days_exposition, dtype: float64"
      ]
     },
     "execution_count": 74,
     "metadata": {},
     "output_type": "execute_result"
    }
   ],
   "source": [
    "data.query('(days_exposition > 10)&(days_exposition < 1000 )')['days_exposition'].describe()"
   ]
  },
  {
   "cell_type": "code",
   "execution_count": 75,
   "metadata": {},
   "outputs": [
    {
     "data": {
      "text/plain": [
       "<AxesSubplot:>"
      ]
     },
     "execution_count": 75,
     "metadata": {},
     "output_type": "execute_result"
    },
    {
     "data": {
      "image/png": "[encoded data removed]",
      "text/plain": [
       "<Figure size 432x288 with 1 Axes>"
      ]
     },
     "metadata": {
      "needs_background": "light"
     },
     "output_type": "display_data"
    }
   ],
   "source": [
    "data.query('(days_exposition > 10) & (days_exposition < 1000)')['days_exposition'].hist(bins=100)"
   ]
  },
  {
   "cell_type": "markdown",
   "metadata": {},
   "source": [
    "Слишком быстрыми продажами можно считать те, которые размещались на сайте меньше недели.\n",
    "\n",
    "Необычно долгими продажами можно считать те, которые длились более трех лет."
   ]
  },
  {
   "cell_type": "markdown",
   "metadata": {},
   "source": [
    "4.3 Изучим какие факторы больше всего влияют на общую (полную) стоимость объекта?"
   ]
  },
  {
   "cell_type": "code",
   "execution_count": 76,
   "metadata": {},
   "outputs": [
    {
     "data": {
      "image/png": "[encoded data removed]",
      "text/plain": [
       "<Figure size 432x288 with 1 Axes>"
      ]
     },
     "metadata": {
      "needs_background": "light"
     },
     "output_type": "display_data"
    },
    {
     "data": {
      "image/png": "[encoded data removed]",
      "text/plain": [
       "<Figure size 432x288 with 1 Axes>"
      ]
     },
     "metadata": {
      "needs_background": "light"
     },
     "output_type": "display_data"
    },
    {
     "data": {
      "image/png": "[encoded data removed]",
      "text/plain": [
       "<Figure size 432x288 with 1 Axes>"
      ]
     },
     "metadata": {
      "needs_background": "light"
     },
     "output_type": "display_data"
    },
    {
     "data": {
      "image/png": "[encoded data removed]",
      "text/plain": [
       "<Figure size 432x288 with 1 Axes>"
      ]
     },
     "metadata": {
      "needs_background": "light"
     },
     "output_type": "display_data"
    },
    {
     "data": {
      "image/png": "[encoded data removed]",
      "text/plain": [
       "<Figure size 432x288 with 1 Axes>"
      ]
     },
     "metadata": {
      "needs_background": "light"
     },
     "output_type": "display_data"
    },
    {
     "data": {
      "image/png": "[encoded data removed]",
      "text/plain": [
       "<Figure size 432x288 with 1 Axes>"
      ]
     },
     "metadata": {
      "needs_background": "light"
     },
     "output_type": "display_data"
    },
    {
     "data": {
      "image/png": "[encoded data removed]",
      "text/plain": [
       "<Figure size 432x288 with 1 Axes>"
      ]
     },
     "metadata": {
      "needs_background": "light"
     },
     "output_type": "display_data"
    },
    {
     "data": {
      "image/png": "[encoded data removed]",
      "text/plain": [
       "<Figure size 432x288 with 1 Axes>"
      ]
     },
     "metadata": {
      "needs_background": "light"
     },
     "output_type": "display_data"
    },
    {
     "data": {
      "image/png": "[encoded data removed]",
      "text/plain": [
       "<Figure size 432x288 with 1 Axes>"
      ]
     },
     "metadata": {
      "needs_background": "light"
     },
     "output_type": "display_data"
    }
   ],
   "source": [
    "impact_on_total_cost = pd.DataFrame(data=data, columns=['last_price','total_area','living_area','kitchen_area','rooms','type_of_apartment_floor','day_of_the_week_of_publication_of_announcement','month_of_publication_of_ad','year_of_publication_of_announcement'])\n",
    "\n",
    "for value in impact_on_total_cost:\n",
    "    #print(impact_on_total_cost['last_price'].corr(impact_on_total_cost[value]))\n",
    "    impact_on_total_cost.plot(x=value, y='last_price', kind='scatter') \n",
    " \n"
   ]
  },
  {
   "cell_type": "code",
   "execution_count": 77,
   "metadata": {},
   "outputs": [
    {
     "name": "stdout",
     "output_type": "stream",
     "text": [
      "Корреляция между ценой и общей площадью составляет 0.7850119693738742\n",
      "Корреляция между ценой и жилой площадью составляет 0.6727780125151498\n",
      "Корреляция между ценой и площадью кухни составляет 0.5799819998414869\n",
      "Корреляция между ценой и количеством комнат составляет 0.5043560667257467\n"
     ]
    }
   ],
   "source": [
    "print('Корреляция между ценой и общей площадью составляет', data['last_price'].corr(data['total_area']))\n",
    "print('Корреляция между ценой и жилой площадью составляет', data['last_price'].corr(data['living_area']))\n",
    "print('Корреляция между ценой и площадью кухни составляет', data['last_price'].corr(data['kitchen_area']))\n",
    "print('Корреляция между ценой и количеством комнат составляет', data['last_price'].corr(data['rooms']))"
   ]
  },
  {
   "cell_type": "markdown",
   "metadata": {},
   "source": [
    "По построенным диаграммам рассеяния можно сделать следующий вывод:\n",
    "\n",
    "1. Чем больше общая площадь, тем уровень цены становится выше (высокая положительная корреляция 0.79).\n",
    "\n",
    "2. Чем больше жилая площадь, тем уровень цены становится выше (высокая положительная корреляция 0.67).\n",
    "\n",
    "3. Чем больше площадь кухни, тем уровень цены становится выше (положительная корреляция выше среднего 0.58).\n",
    "\n",
    "4. Дороже всего продаются квартиры с 4 и 5 комнатами (средняя корреляция 0.5).\n",
    "\n",
    "5. Дешевле всего продаются квартиры на первом этаже.\n",
    "На последнем этаже и на других этажах квартиры продаются примерно одинаково.\n",
    "\n",
    "6. Цены в среду и пятницу бывают выше, чем в другие дни.\n",
    "\n",
    "7. Цены в апреле выше, чем в другие месяцаю Самые низкие цены в ноябре.\n",
    "\n",
    "8. За весь предоставленный период можно сделать вывод, что в 2014 году были цены на квартиры нижк, чем в другие года. "
   ]
  },
  {
   "cell_type": "markdown",
   "metadata": {},
   "source": [
    "4.4 Посчитаем среднюю цену одного квадратного метра в 10 населённых пунктах с наибольшим числом объявлений. Выделим населённые пункты с самой высокой и низкой стоимостью квадратного метра. "
   ]
  },
  {
   "cell_type": "code",
   "execution_count": 78,
   "metadata": {},
   "outputs": [
    {
     "data": {
      "text/html": [
       "<div>\n",
       "<style scoped>\n",
       "    .dataframe tbody tr th:only-of-type {\n",
       "        vertical-align: middle;\n",
       "    }\n",
       "\n",
       "    .dataframe tbody tr th {\n",
       "        vertical-align: top;\n",
       "    }\n",
       "\n",
       "    .dataframe thead th {\n",
       "        text-align: right;\n",
       "    }\n",
       "</style>\n",
       "<table border=\"1\" class=\"dataframe\">\n",
       "  <thead>\n",
       "    <tr style=\"text-align: right;\">\n",
       "      <th></th>\n",
       "      <th>Общее количество</th>\n",
       "      <th>Средняя цена одного квадратного метра</th>\n",
       "    </tr>\n",
       "    <tr>\n",
       "      <th>locality_name</th>\n",
       "      <th></th>\n",
       "      <th></th>\n",
       "    </tr>\n",
       "  </thead>\n",
       "  <tbody>\n",
       "    <tr>\n",
       "      <th>Санкт-Петербург</th>\n",
       "      <td>15051</td>\n",
       "      <td>109620.752415</td>\n",
       "    </tr>\n",
       "    <tr>\n",
       "      <th>Пушкин</th>\n",
       "      <td>360</td>\n",
       "      <td>102337.839613</td>\n",
       "    </tr>\n",
       "    <tr>\n",
       "      <th>деревня Кудрово</th>\n",
       "      <td>451</td>\n",
       "      <td>95150.960382</td>\n",
       "    </tr>\n",
       "    <tr>\n",
       "      <th>поселок Парголово</th>\n",
       "      <td>320</td>\n",
       "      <td>90655.253810</td>\n",
       "    </tr>\n",
       "    <tr>\n",
       "      <th>поселок Мурино</th>\n",
       "      <td>547</td>\n",
       "      <td>85701.152167</td>\n",
       "    </tr>\n",
       "    <tr>\n",
       "      <th>Петергоф</th>\n",
       "      <td>200</td>\n",
       "      <td>84838.847488</td>\n",
       "    </tr>\n",
       "    <tr>\n",
       "      <th>поселок Шушары</th>\n",
       "      <td>434</td>\n",
       "      <td>78507.552337</td>\n",
       "    </tr>\n",
       "    <tr>\n",
       "      <th>Колпино</th>\n",
       "      <td>337</td>\n",
       "      <td>75333.295801</td>\n",
       "    </tr>\n",
       "    <tr>\n",
       "      <th>Гатчина</th>\n",
       "      <td>287</td>\n",
       "      <td>70322.657779</td>\n",
       "    </tr>\n",
       "    <tr>\n",
       "      <th>Всеволожск</th>\n",
       "      <td>375</td>\n",
       "      <td>69417.422621</td>\n",
       "    </tr>\n",
       "  </tbody>\n",
       "</table>\n",
       "</div>"
      ],
      "text/plain": [
       "                   Общее количество  Средняя цена одного квадратного метра\n",
       "locality_name                                                             \n",
       "Санкт-Петербург               15051                          109620.752415\n",
       "Пушкин                          360                          102337.839613\n",
       "деревня Кудрово                 451                           95150.960382\n",
       "поселок Парголово               320                           90655.253810\n",
       "поселок Мурино                  547                           85701.152167\n",
       "Петергоф                        200                           84838.847488\n",
       "поселок Шушары                  434                           78507.552337\n",
       "Колпино                         337                           75333.295801\n",
       "Гатчина                         287                           70322.657779\n",
       "Всеволожск                      375                           69417.422621"
      ]
     },
     "execution_count": 78,
     "metadata": {},
     "output_type": "execute_result"
    }
   ],
   "source": [
    "number_of_ads_in_localities = data.pivot_table(index = 'locality_name', values = 'price_of_one_square_meter', aggfunc=['count','mean'])\n",
    "number_of_ads_in_localities.columns=['Общее количество', 'Средняя цена одного квадратного метра']\n",
    "number_of_ads_in_localities.sort_values(by = 'Общее количество', ascending = False).head(10).sort_values(by = 'Средняя цена одного квадратного метра', ascending = False)\n"
   ]
  },
  {
   "cell_type": "markdown",
   "metadata": {},
   "source": [
    "Среди 10 населенных пунктах с наибольшим числом объявлений самая высокая стоимость квадратного метра является в Санкт-Петербурге (114856.31), а наименьшая стоимость в Выборге (58141.91)."
   ]
  },
  {
   "cell_type": "markdown",
   "metadata": {},
   "source": [
    "4.5 Выделим квартиры в Санкт-Петербурге с помощью столбца locality_name и вычислим среднюю цену каждого километра. "
   ]
  },
  {
   "cell_type": "code",
   "execution_count": 79,
   "metadata": {},
   "outputs": [
    {
     "data": {
      "image/png": "[encoded data removed]",
      "text/plain": [
       "<Figure size 432x288 with 1 Axes>"
      ]
     },
     "metadata": {
      "needs_background": "light"
     },
     "output_type": "display_data"
    }
   ],
   "source": [
    "data.query('locality_name == \"Санкт-Петербург\"').pivot_table(index = 'distance_to_city_center_in_kilometers', values = 'last_price').plot();"
   ]
  },
  {
   "cell_type": "markdown",
   "metadata": {},
   "source": [
    "По графику можно сделать вывод, что в Санкт-Петербурге основном, чем ближе квартиры расположены к центру, тем выше цена."
   ]
  },
  {
   "cell_type": "markdown",
   "metadata": {},
   "source": [
    "<b>Вывод:</b>\n",
    "\n",
    "1. Были изучены параметры продаваемых квартир с помощью построения диаграмм, по результатам которых можно сделать следующие выводы:\n",
    "\n",
    "    1.1.Больше всего продаваемых квартир имеют:\n",
    "        1.1.1 Общую площадь около 45 м².\n",
    "        1.1.2 Жилую площадь около 20 м² и 30 м².\n",
    "        1.1.3 Площадь кухни около 6 м².\n",
    "        1.1.4 Цену около 4 000 000.\n",
    "        1.1.5 Высоту потолков около 2.5 метров.\n",
    "        1.1.6 1 или 2 комнаты.\n",
    "        1.1.7 2 этаж\n",
    "    \n",
    "    1.2 Больше всего продаваемых квартир находятся не на первом и последнем этажах.\n",
    "        Также можно отметить, что на последнем этаже продаются квартиры чаще, чем на первом этаже.\n",
    "    \n",
    "    1.3 Больше всего продаваемых квартир находятся в домах, где всего 5 и 8 этажей.\n",
    "    \n",
    "    1.4 Больше всего продаваемых квартир находятся от центра в 15 000 метрах.\n",
    "    \n",
    "    1.5 Больше всего продаваемых квартир находятся в 25 000 метрах до ближайшего аэропорта.\n",
    "    \n",
    "    1.6 Больше всего продаваемых квартир находятся в 450 метрах до ближайшего парка.\n",
    "    \n",
    "    1.7 Чаще всего квартиры продаются в четверг и во вторник. \n",
    "        В выходные квартиры продаются реже всего.\n",
    "        \n",
    "    1.8 Чаще всего квартиры продаются в феврале и марте.\n",
    "        Реже всего квартиры продаются в мае и в январе.\n",
    "        \n",
    "2. Было изучено, как быстро продавались квартиры. \n",
    "\n",
    " Слишком быстрыми продажами можно считать те, которые размещались на сайте меньше недели.\n",
    "\n",
    " Необычно долгими продажами можно считать те, которые длились более трех лет.\n",
    "\n",
    "\n",
    "3. Были изучены факторы, которые больше всего влияют на общую (полную) стоимость объекта.\n",
    "    \n",
    "    3.1 По построенным диаграммам рассеяния можно сделать следующий вывод:\n",
    "\n",
    "    3.2 Чем больше общая площадь, тем уровень цены становится выше (высокая положительная корреляция 0.79).\n",
    "\n",
    "    3.3 Чем больше жилая площадь, тем уровень цены становится выше (высокая положительная корреляция 0.67).\n",
    "\n",
    "    3.4 Чем больше площадь кухни, тем уровень цены становится выше (положительная корреляция выше среднего 0.58).\n",
    "\n",
    "    3.5 Дороже всего продаются квартиры с 4 и 5 комнатами (средняя корреляция 0.5).\n",
    "\n",
    "    3.6 Дешевле всего продаются квартиры на первом этаже. На последнем этаже и на других этажах квартиры продаются примерно одинаково.\n",
    "\n",
    "    3.7 Цены в среду и пятницу бывают выше, чем в другие дни.\n",
    "\n",
    "    3.8 Цены в апреле выше, чем в другие месяцаю Самые низкие цены в ноябре.\n",
    "\n",
    "    3.9 За весь предоставленный период можно сделать вывод, что в 2014 году были цены на квартиры нижк, чем в другие года.\n",
    "    \n",
    "    \n",
    "4. Посчитали среднюю цену одного квадратного метра в 10 населённых пунктах с наибольшим числом объявлений. \n",
    "\n",
    " Среди 10 населенных пунктах с наибольшим числом объявлений самая высокая стоимость квадратного метра является в Санкт-Петербурге (114856.31), а наименьшая стоимость в Выборге (58141.91).\n",
    "\n",
    "\n",
    "5. Выделили квартиры в Санкт-Петербурге с помощью столбца locality_name и вычислили среднюю цену каждого километра.\n",
    "\n",
    " По построенному графику можно сделать вывод, что в Санкт-Петербурге основном, чем ближе квартиры расположены к центру, тем выше цена.\n"
   ]
  },
  {
   "cell_type": "markdown",
   "metadata": {},
   "source": [
    "### Общий вывод"
   ]
  },
  {
   "cell_type": "markdown",
   "metadata": {},
   "source": [
    "По результатам проведенного исследования можно сделать следующий вывод:\n",
    "\n",
    "1. Первым шагом открыты данные и изучена полученная информация.\n",
    "\n",
    "\n",
    "2. Вторым шагом были преобработанны данные:\n",
    "\n",
    "    2.1 Названия столбцов были приведены в соответствие с хорошим стилем.\n",
    "    \n",
    "    2.2 Было изучено количество пропущенных значений, заменено их там, где это возможно, а именно в столбцах 'is_apartment','balcony','parks_around_3000','ponds_around_3000'.\n",
    "    \n",
    "    2.3 Были изучены типы столбцов и изменены, там, где это необходимо, а именно в столбцах 'first_day_exposition', 'balcony','parks_around_3000','ponds_around_3000'.\n",
    "    \n",
    "    2.4 Утранены неявные дубликаты в названиях населенного пункта (изначальное количество уникальных значений 365, после исключения дубликатов 316).\n",
    "    \n",
    "    2.5 Утранены редкие и выбивающиеся значения, а именно в столбцах 'ceiling_height'. Отброшены слишком большие значения и слишком маленькие в столбцах со стоимостью квартиры, количеством комнат и общей площадью. ~90.6% от первоначальных данных осталось после отброса данных.\n",
    "    \n",
    "    \n",
    "3. В третьем шаге были добавлены новые столбцы:\n",
    "\n",
    "      -цена одного квадратного метра;\n",
    "      \n",
    "      -день недели публикации объявления (0 — понедельник, 1 — вторник и так далее);\n",
    "      \n",
    "      -месяц публикации объявления;\n",
    "      \n",
    "      -год публикации объявления;\n",
    "      \n",
    "      -тип этажа квартиры (значения — «первый», «последний», «другой»);\n",
    "      \n",
    "      -расстояние до центра города в километрах.\n",
    "      \n",
    "      \n",
    " 4.   Далее был проведен исследовательский анализ данных.\n",
    " \n",
    "     4.1 Были изучены параметры продаваемых квартир с помощью построения диаграмм, по результатам которых можно сделать следующие выводы:\n",
    "\n",
    "            4.1.1 Больше всего продаваемых квартир имеют:\n",
    "                4.1.1.1 Общую площадь около 45 м².\n",
    "                4.1.1.2 Жилую площадь около 20 м² и 30 м².\n",
    "                4.1.1.3 Площадь кухни около 6 м².\n",
    "                4.1.1.4 Цену около 4 000 000.\n",
    "                4.1.1.5 Высоту потолков около 2.5 метров.\n",
    "                4.1.1.6 1 или 2 комнаты.\n",
    "                4.1.1.7 2 этаж\n",
    "\n",
    "            4.1.2 Больше всего продаваемых квартир находятся не на первом и последнем этажах.\n",
    "                Также можно отметить, что на последнем этаже продаются квартиры чаще, чем на первом этаже.\n",
    "\n",
    "            4.1.3 Больше всего продаваемых квартир находятся в домах, где всего 5 и 8 этажей.\n",
    "\n",
    "            4.1.4 Больше всего продаваемых квартир находятся от центра в 15 000 метрах.\n",
    "\n",
    "            4.1.5 Больше всего продаваемых квартир находятся в 25 000 метрах до ближайшего аэропорта.\n",
    "\n",
    "            4.1.6 Больше всего продаваемых квартир находятся в 450 метрах до ближайшего парка.\n",
    "\n",
    "            4.1.7 Чаще всего квартиры продаются в четверг и во вторник. \n",
    "                В выходные квартиры продаются реже всего.\n",
    "\n",
    "            4.1.8 Чаще всего квартиры продаются в феврале и марте.\n",
    "                Реже всего квартиры продаются в мае и в январе.\n",
    "\n",
    "    4.2. Было изучено, как быстро продавались квартиры. \n",
    "\n",
    "         Слишком быстрыми продажами можно считать те, которые размещались на сайте меньше недели.\n",
    "\n",
    "         Необычно долгими продажами можно считать те, которые длились более трех лет.\n",
    "\n",
    "\n",
    "\n",
    "    4.3. Были изучены факторы, которые больше всего влияют на общую (полную) стоимость объекта.\n",
    "\n",
    "        4.3.1 По построенным диаграммам рассеяния можно сделать следующий вывод:\n",
    "\n",
    "        4.3.2 Чем больше общая площадь, тем уровень цены становится выше (высокая положительная корреляция 0.79).\n",
    "\n",
    "        4.3.3 Чем больше жилая площадь, тем уровень цены становится выше (высокая положительная корреляция 0.67).\n",
    "\n",
    "        4.3.4 Чем больше площадь кухни, тем уровень цены становится выше (положительная корреляция выше среднего 0.58).\n",
    "\n",
    "        4.3.5 Дороже всего продаются квартиры с 4 и 5 комнатами (средняя корреляция 0.5).\n",
    "\n",
    "        4.3.6 Дешевле всего продаются квартиры на первом этаже. На последнем этаже и на других этажах квартиры продаются примерно одинаково.\n",
    "\n",
    "        4.3.7 Цены в среду и пятницу бывают выше, чем в другие дни.\n",
    "\n",
    "        4.3.8 Цены в апреле выше, чем в другие месяцаю Самые низкие цены в ноябре.\n",
    "\n",
    "        4.3.9 За весь предоставленный период можно сделать вывод, что в 2014 году были цены на квартиры нижк, чем в другие года.\n",
    "\n",
    "\n",
    "    4.4. Посчитали среднюю цену одного квадратного метра в 10 населённых пунктах с наибольшим числом объявлений. \n",
    "\n",
    "     Среди 10 населенных пунктах с наибольшим числом объявлений самая высокая стоимость квадратного метра является в Санкт-Петербурге (114856.31), а наименьшая стоимость в Выборге (58141.91).\n",
    "\n",
    "\n",
    "    4.5. Выделили квартиры в Санкт-Петербурге с помощью столбца locality_name и вычислили среднюю цену каждого километра.\n",
    "\n",
    "     По построенному графику можно сделать вывод, что в Санкт-Петербурге основном, чем ближе квартиры расположены к центру, тем выше цена."
   ]
  }
 ],
 "metadata": {
  "ExecuteTimeLog": [
   {
    "duration": 396,
    "start_time": "2022-10-14T09:19:59.890Z"
   },
   {
    "duration": 300,
    "start_time": "2022-10-14T09:21:56.500Z"
   },
   {
    "duration": 11,
    "start_time": "2022-10-14T09:22:14.334Z"
   },
   {
    "duration": 126,
    "start_time": "2022-10-14T09:22:27.569Z"
   },
   {
    "duration": 77,
    "start_time": "2022-10-14T09:25:32.146Z"
   },
   {
    "duration": 7,
    "start_time": "2022-10-14T09:25:33.803Z"
   },
   {
    "duration": 75,
    "start_time": "2022-10-14T09:54:25.000Z"
   },
   {
    "duration": 6,
    "start_time": "2022-10-14T09:54:26.023Z"
   },
   {
    "duration": 75,
    "start_time": "2022-10-14T09:54:43.615Z"
   },
   {
    "duration": 8,
    "start_time": "2022-10-14T09:54:44.489Z"
   },
   {
    "duration": 90,
    "start_time": "2022-10-14T09:54:55.715Z"
   },
   {
    "duration": 32,
    "start_time": "2022-10-14T09:54:56.215Z"
   },
   {
    "duration": 5,
    "start_time": "2022-10-14T10:02:54.145Z"
   },
   {
    "duration": 2461,
    "start_time": "2022-10-14T11:06:04.033Z"
   },
   {
    "duration": 3,
    "start_time": "2022-10-14T11:20:10.363Z"
   },
   {
    "duration": 104,
    "start_time": "2022-10-14T11:22:24.225Z"
   },
   {
    "duration": 17,
    "start_time": "2022-10-14T11:23:37.634Z"
   },
   {
    "duration": 76,
    "start_time": "2022-10-14T11:26:50.384Z"
   },
   {
    "duration": 9,
    "start_time": "2022-10-14T11:41:11.546Z"
   },
   {
    "duration": 5,
    "start_time": "2022-10-14T12:02:20.673Z"
   },
   {
    "duration": 121,
    "start_time": "2022-10-14T12:03:12.727Z"
   },
   {
    "duration": 270,
    "start_time": "2022-10-14T12:03:20.465Z"
   },
   {
    "duration": 272,
    "start_time": "2022-10-14T12:04:07.081Z"
   },
   {
    "duration": 202,
    "start_time": "2022-10-14T12:04:20.834Z"
   },
   {
    "duration": 232,
    "start_time": "2022-10-14T12:04:33.572Z"
   },
   {
    "duration": 292,
    "start_time": "2022-10-14T12:06:58.202Z"
   },
   {
    "duration": 5,
    "start_time": "2022-10-14T12:08:26.569Z"
   },
   {
    "duration": 5,
    "start_time": "2022-10-14T12:08:41.082Z"
   },
   {
    "duration": 5,
    "start_time": "2022-10-14T12:08:51.842Z"
   },
   {
    "duration": 5,
    "start_time": "2022-10-14T12:09:24.980Z"
   },
   {
    "duration": 328,
    "start_time": "2022-10-14T12:09:47.330Z"
   },
   {
    "duration": 17,
    "start_time": "2022-10-14T12:13:43.789Z"
   },
   {
    "duration": 125,
    "start_time": "2022-10-14T12:18:50.886Z"
   },
   {
    "duration": 133,
    "start_time": "2022-10-14T12:19:04.304Z"
   },
   {
    "duration": 16,
    "start_time": "2022-10-14T12:19:14.706Z"
   },
   {
    "duration": 129,
    "start_time": "2022-10-14T12:19:29.281Z"
   },
   {
    "duration": 15,
    "start_time": "2022-10-14T12:19:46.066Z"
   },
   {
    "duration": 14,
    "start_time": "2022-10-14T12:19:51.242Z"
   },
   {
    "duration": 14,
    "start_time": "2022-10-14T12:19:56.525Z"
   },
   {
    "duration": 15,
    "start_time": "2022-10-14T12:20:36.610Z"
   },
   {
    "duration": 16,
    "start_time": "2022-10-14T12:20:54.441Z"
   },
   {
    "duration": 16,
    "start_time": "2022-10-14T12:21:09.162Z"
   },
   {
    "duration": 27,
    "start_time": "2022-10-14T12:22:40.579Z"
   },
   {
    "duration": 9,
    "start_time": "2022-10-14T12:44:12.589Z"
   },
   {
    "duration": 14,
    "start_time": "2022-10-14T12:44:26.358Z"
   },
   {
    "duration": 10,
    "start_time": "2022-10-14T12:44:34.673Z"
   },
   {
    "duration": 1304,
    "start_time": "2022-10-14T12:52:34.274Z"
   },
   {
    "duration": 16,
    "start_time": "2022-10-14T12:52:55.123Z"
   },
   {
    "duration": 13,
    "start_time": "2022-10-14T12:55:57.525Z"
   },
   {
    "duration": 14,
    "start_time": "2022-10-14T12:56:31.339Z"
   },
   {
    "duration": 16,
    "start_time": "2022-10-14T14:45:46.525Z"
   },
   {
    "duration": 18,
    "start_time": "2022-10-14T14:46:06.003Z"
   },
   {
    "duration": 11,
    "start_time": "2022-10-14T14:51:29.339Z"
   },
   {
    "duration": 11,
    "start_time": "2022-10-14T14:51:40.380Z"
   },
   {
    "duration": 54,
    "start_time": "2022-10-14T14:51:49.050Z"
   },
   {
    "duration": 16,
    "start_time": "2022-10-14T14:51:57.098Z"
   },
   {
    "duration": 11,
    "start_time": "2022-10-14T14:53:33.367Z"
   },
   {
    "duration": 23,
    "start_time": "2022-10-14T14:55:10.570Z"
   },
   {
    "duration": 26,
    "start_time": "2022-10-14T14:55:59.799Z"
   },
   {
    "duration": 26,
    "start_time": "2022-10-14T14:56:25.347Z"
   },
   {
    "duration": 423,
    "start_time": "2022-10-14T15:24:26.875Z"
   },
   {
    "duration": 90,
    "start_time": "2022-10-14T15:24:27.300Z"
   },
   {
    "duration": 54,
    "start_time": "2022-10-14T15:24:27.392Z"
   },
   {
    "duration": 15,
    "start_time": "2022-10-14T15:24:27.447Z"
   },
   {
    "duration": 2167,
    "start_time": "2022-10-14T15:24:27.464Z"
   },
   {
    "duration": 9,
    "start_time": "2022-10-14T15:24:29.632Z"
   },
   {
    "duration": 5,
    "start_time": "2022-10-14T15:24:29.642Z"
   },
   {
    "duration": 18,
    "start_time": "2022-10-14T15:24:29.648Z"
   },
   {
    "duration": 13,
    "start_time": "2022-10-14T15:24:29.667Z"
   },
   {
    "duration": 247,
    "start_time": "2022-10-14T15:24:29.682Z"
   },
   {
    "duration": 30,
    "start_time": "2022-10-14T15:24:29.930Z"
   },
   {
    "duration": 74,
    "start_time": "2022-10-14T15:36:08.081Z"
   },
   {
    "duration": 7,
    "start_time": "2022-10-14T15:36:17.145Z"
   },
   {
    "duration": 6,
    "start_time": "2022-10-14T15:36:26.970Z"
   },
   {
    "duration": 6,
    "start_time": "2022-10-14T15:36:34.898Z"
   },
   {
    "duration": 9,
    "start_time": "2022-10-14T15:36:38.011Z"
   },
   {
    "duration": 16,
    "start_time": "2022-10-14T15:42:16.582Z"
   },
   {
    "duration": 78,
    "start_time": "2022-10-14T15:45:19.131Z"
   },
   {
    "duration": 402,
    "start_time": "2022-10-14T15:47:57.700Z"
   },
   {
    "duration": 92,
    "start_time": "2022-10-14T15:47:58.113Z"
   },
   {
    "duration": 44,
    "start_time": "2022-10-14T15:47:58.207Z"
   },
   {
    "duration": 14,
    "start_time": "2022-10-14T15:47:58.253Z"
   },
   {
    "duration": 2292,
    "start_time": "2022-10-14T15:47:58.269Z"
   },
   {
    "duration": 6,
    "start_time": "2022-10-14T15:48:00.563Z"
   },
   {
    "duration": 25,
    "start_time": "2022-10-14T15:48:00.570Z"
   },
   {
    "duration": 9,
    "start_time": "2022-10-14T15:48:00.600Z"
   },
   {
    "duration": 34,
    "start_time": "2022-10-14T15:48:00.611Z"
   },
   {
    "duration": 8,
    "start_time": "2022-10-14T15:48:00.646Z"
   },
   {
    "duration": 8,
    "start_time": "2022-10-14T15:48:00.656Z"
   },
   {
    "duration": 6,
    "start_time": "2022-10-14T15:48:00.665Z"
   },
   {
    "duration": 1407,
    "start_time": "2022-10-14T16:07:11.911Z"
   },
   {
    "duration": 1211,
    "start_time": "2022-10-14T16:07:43.630Z"
   },
   {
    "duration": 7,
    "start_time": "2022-10-14T16:08:39.918Z"
   },
   {
    "duration": 15,
    "start_time": "2022-10-14T16:08:50.302Z"
   },
   {
    "duration": 1245,
    "start_time": "2022-10-14T16:09:58.352Z"
   },
   {
    "duration": 0,
    "start_time": "2022-10-14T16:09:59.598Z"
   },
   {
    "duration": 372,
    "start_time": "2022-10-14T16:10:06.559Z"
   },
   {
    "duration": 97,
    "start_time": "2022-10-14T16:10:06.933Z"
   },
   {
    "duration": 49,
    "start_time": "2022-10-14T16:10:07.032Z"
   },
   {
    "duration": 28,
    "start_time": "2022-10-14T16:10:07.087Z"
   },
   {
    "duration": 2166,
    "start_time": "2022-10-14T16:10:07.117Z"
   },
   {
    "duration": 11,
    "start_time": "2022-10-14T16:10:09.284Z"
   },
   {
    "duration": 66,
    "start_time": "2022-10-14T16:10:09.297Z"
   },
   {
    "duration": 57,
    "start_time": "2022-10-14T16:10:09.364Z"
   },
   {
    "duration": 1333,
    "start_time": "2022-10-14T16:10:09.423Z"
   },
   {
    "duration": 0,
    "start_time": "2022-10-14T16:10:10.758Z"
   },
   {
    "duration": 0,
    "start_time": "2022-10-14T16:10:10.759Z"
   },
   {
    "duration": 0,
    "start_time": "2022-10-14T16:10:10.760Z"
   },
   {
    "duration": 0,
    "start_time": "2022-10-14T16:10:10.762Z"
   },
   {
    "duration": 1,
    "start_time": "2022-10-14T16:10:10.762Z"
   },
   {
    "duration": 13,
    "start_time": "2022-10-14T16:10:20.503Z"
   },
   {
    "duration": 13,
    "start_time": "2022-10-14T16:10:21.901Z"
   },
   {
    "duration": 55,
    "start_time": "2022-10-14T16:10:27.766Z"
   },
   {
    "duration": 472,
    "start_time": "2022-10-15T10:35:41.184Z"
   },
   {
    "duration": 361,
    "start_time": "2022-10-15T10:35:41.659Z"
   },
   {
    "duration": 54,
    "start_time": "2022-10-15T10:35:42.022Z"
   },
   {
    "duration": 16,
    "start_time": "2022-10-15T10:35:42.079Z"
   },
   {
    "duration": 2636,
    "start_time": "2022-10-15T10:35:42.097Z"
   },
   {
    "duration": 7,
    "start_time": "2022-10-15T10:35:44.735Z"
   },
   {
    "duration": 14,
    "start_time": "2022-10-15T10:35:44.744Z"
   },
   {
    "duration": 15,
    "start_time": "2022-10-15T10:35:44.760Z"
   },
   {
    "duration": 13,
    "start_time": "2022-10-15T10:35:44.776Z"
   },
   {
    "duration": 6,
    "start_time": "2022-10-15T10:35:44.791Z"
   },
   {
    "duration": 63,
    "start_time": "2022-10-15T10:35:44.799Z"
   },
   {
    "duration": 26,
    "start_time": "2022-10-15T10:35:44.864Z"
   },
   {
    "duration": 6,
    "start_time": "2022-10-15T10:35:44.892Z"
   },
   {
    "duration": 5,
    "start_time": "2022-10-15T10:35:44.900Z"
   },
   {
    "duration": 5,
    "start_time": "2022-10-15T10:35:44.907Z"
   },
   {
    "duration": 6,
    "start_time": "2022-10-15T10:36:11.592Z"
   },
   {
    "duration": 59,
    "start_time": "2022-10-15T10:36:16.401Z"
   },
   {
    "duration": 91,
    "start_time": "2022-10-15T10:37:00.075Z"
   },
   {
    "duration": 456,
    "start_time": "2022-10-15T10:37:10.449Z"
   },
   {
    "duration": 105,
    "start_time": "2022-10-15T10:37:10.906Z"
   },
   {
    "duration": 43,
    "start_time": "2022-10-15T10:37:11.013Z"
   },
   {
    "duration": 31,
    "start_time": "2022-10-15T10:37:11.059Z"
   },
   {
    "duration": 2485,
    "start_time": "2022-10-15T10:37:11.092Z"
   },
   {
    "duration": 7,
    "start_time": "2022-10-15T10:37:13.579Z"
   },
   {
    "duration": 17,
    "start_time": "2022-10-15T10:37:13.587Z"
   },
   {
    "duration": 16,
    "start_time": "2022-10-15T10:37:13.606Z"
   },
   {
    "duration": 10,
    "start_time": "2022-10-15T10:37:13.624Z"
   },
   {
    "duration": 104,
    "start_time": "2022-10-15T10:37:13.637Z"
   },
   {
    "duration": 0,
    "start_time": "2022-10-15T10:37:13.743Z"
   },
   {
    "duration": 0,
    "start_time": "2022-10-15T10:37:13.744Z"
   },
   {
    "duration": 0,
    "start_time": "2022-10-15T10:37:13.745Z"
   },
   {
    "duration": 0,
    "start_time": "2022-10-15T10:37:13.746Z"
   },
   {
    "duration": 0,
    "start_time": "2022-10-15T10:37:13.747Z"
   },
   {
    "duration": 442,
    "start_time": "2022-10-15T10:37:22.781Z"
   },
   {
    "duration": 103,
    "start_time": "2022-10-15T10:37:23.225Z"
   },
   {
    "duration": 59,
    "start_time": "2022-10-15T10:37:23.330Z"
   },
   {
    "duration": 17,
    "start_time": "2022-10-15T10:37:23.392Z"
   },
   {
    "duration": 2418,
    "start_time": "2022-10-15T10:37:23.410Z"
   },
   {
    "duration": 7,
    "start_time": "2022-10-15T10:37:25.853Z"
   },
   {
    "duration": 14,
    "start_time": "2022-10-15T10:37:25.862Z"
   },
   {
    "duration": 16,
    "start_time": "2022-10-15T10:37:25.878Z"
   },
   {
    "duration": 10,
    "start_time": "2022-10-15T10:37:25.896Z"
   },
   {
    "duration": 13,
    "start_time": "2022-10-15T10:37:25.909Z"
   },
   {
    "duration": 80,
    "start_time": "2022-10-15T10:37:25.924Z"
   },
   {
    "duration": 5,
    "start_time": "2022-10-15T10:37:26.007Z"
   },
   {
    "duration": 13,
    "start_time": "2022-10-15T10:37:26.014Z"
   },
   {
    "duration": 6,
    "start_time": "2022-10-15T10:37:26.029Z"
   },
   {
    "duration": 6,
    "start_time": "2022-10-15T10:37:26.037Z"
   },
   {
    "duration": 432,
    "start_time": "2022-10-15T10:37:43.682Z"
   },
   {
    "duration": 105,
    "start_time": "2022-10-15T10:37:44.116Z"
   },
   {
    "duration": 44,
    "start_time": "2022-10-15T10:37:44.222Z"
   },
   {
    "duration": 30,
    "start_time": "2022-10-15T10:37:44.268Z"
   },
   {
    "duration": 2538,
    "start_time": "2022-10-15T10:37:44.299Z"
   },
   {
    "duration": 7,
    "start_time": "2022-10-15T10:37:46.839Z"
   },
   {
    "duration": 23,
    "start_time": "2022-10-15T10:37:46.848Z"
   },
   {
    "duration": 19,
    "start_time": "2022-10-15T10:37:46.872Z"
   },
   {
    "duration": 12,
    "start_time": "2022-10-15T10:37:46.892Z"
   },
   {
    "duration": 11,
    "start_time": "2022-10-15T10:37:46.906Z"
   },
   {
    "duration": 86,
    "start_time": "2022-10-15T10:37:46.919Z"
   },
   {
    "duration": 4,
    "start_time": "2022-10-15T10:37:47.007Z"
   },
   {
    "duration": 9,
    "start_time": "2022-10-15T10:37:47.013Z"
   },
   {
    "duration": 5,
    "start_time": "2022-10-15T10:37:47.026Z"
   },
   {
    "duration": 7,
    "start_time": "2022-10-15T10:37:47.033Z"
   },
   {
    "duration": 405,
    "start_time": "2022-10-15T10:38:17.027Z"
   },
   {
    "duration": 106,
    "start_time": "2022-10-15T10:38:17.433Z"
   },
   {
    "duration": 51,
    "start_time": "2022-10-15T10:38:17.541Z"
   },
   {
    "duration": 17,
    "start_time": "2022-10-15T10:38:17.594Z"
   },
   {
    "duration": 2464,
    "start_time": "2022-10-15T10:38:17.613Z"
   },
   {
    "duration": 8,
    "start_time": "2022-10-15T10:38:20.079Z"
   },
   {
    "duration": 15,
    "start_time": "2022-10-15T10:38:20.089Z"
   },
   {
    "duration": 17,
    "start_time": "2022-10-15T10:38:20.106Z"
   },
   {
    "duration": 11,
    "start_time": "2022-10-15T10:38:20.125Z"
   },
   {
    "duration": 109,
    "start_time": "2022-10-15T10:38:20.139Z"
   },
   {
    "duration": 0,
    "start_time": "2022-10-15T10:38:20.251Z"
   },
   {
    "duration": 0,
    "start_time": "2022-10-15T10:38:20.252Z"
   },
   {
    "duration": 0,
    "start_time": "2022-10-15T10:38:20.254Z"
   },
   {
    "duration": 0,
    "start_time": "2022-10-15T10:38:20.255Z"
   },
   {
    "duration": 0,
    "start_time": "2022-10-15T10:38:20.257Z"
   },
   {
    "duration": 50,
    "start_time": "2022-10-15T10:40:36.031Z"
   },
   {
    "duration": 6,
    "start_time": "2022-10-15T10:43:01.357Z"
   },
   {
    "duration": 8,
    "start_time": "2022-10-15T10:43:21.222Z"
   },
   {
    "duration": 38,
    "start_time": "2022-10-15T10:49:04.911Z"
   },
   {
    "duration": 4,
    "start_time": "2022-10-15T10:56:16.041Z"
   },
   {
    "duration": 10,
    "start_time": "2022-10-15T10:57:09.411Z"
   },
   {
    "duration": 9,
    "start_time": "2022-10-15T10:57:29.638Z"
   },
   {
    "duration": 77,
    "start_time": "2022-10-15T10:57:39.510Z"
   },
   {
    "duration": 8,
    "start_time": "2022-10-15T10:57:42.534Z"
   },
   {
    "duration": 9,
    "start_time": "2022-10-15T10:57:45.206Z"
   },
   {
    "duration": 7,
    "start_time": "2022-10-15T10:57:49.334Z"
   },
   {
    "duration": 9,
    "start_time": "2022-10-15T10:58:05.512Z"
   },
   {
    "duration": 20,
    "start_time": "2022-10-15T11:00:38.855Z"
   },
   {
    "duration": 21,
    "start_time": "2022-10-15T11:00:47.263Z"
   },
   {
    "duration": 53,
    "start_time": "2022-10-15T11:01:16.350Z"
   },
   {
    "duration": 51,
    "start_time": "2022-10-15T11:05:07.773Z"
   },
   {
    "duration": 5,
    "start_time": "2022-10-15T11:05:22.758Z"
   },
   {
    "duration": 11,
    "start_time": "2022-10-15T11:11:52.697Z"
   },
   {
    "duration": 55,
    "start_time": "2022-10-15T11:12:15.782Z"
   },
   {
    "duration": 32,
    "start_time": "2022-10-15T11:15:24.967Z"
   },
   {
    "duration": 48,
    "start_time": "2022-10-15T11:15:29.823Z"
   },
   {
    "duration": 52,
    "start_time": "2022-10-15T11:25:26.958Z"
   },
   {
    "duration": 4498,
    "start_time": "2022-10-15T11:26:34.905Z"
   },
   {
    "duration": 39,
    "start_time": "2022-10-15T11:27:14.072Z"
   },
   {
    "duration": 73,
    "start_time": "2022-10-15T11:29:27.463Z"
   },
   {
    "duration": 71,
    "start_time": "2022-10-15T11:29:43.887Z"
   },
   {
    "duration": 42,
    "start_time": "2022-10-15T11:29:48.522Z"
   },
   {
    "duration": 42,
    "start_time": "2022-10-15T11:30:04.354Z"
   },
   {
    "duration": 65,
    "start_time": "2022-10-15T11:54:20.009Z"
   },
   {
    "duration": 5102,
    "start_time": "2022-10-15T11:54:28.848Z"
   },
   {
    "duration": 65,
    "start_time": "2022-10-15T11:54:58.344Z"
   },
   {
    "duration": 4497,
    "start_time": "2022-10-15T11:55:03.383Z"
   },
   {
    "duration": 427,
    "start_time": "2022-10-15T11:58:06.484Z"
   },
   {
    "duration": 99,
    "start_time": "2022-10-15T11:58:06.912Z"
   },
   {
    "duration": 41,
    "start_time": "2022-10-15T11:58:07.012Z"
   },
   {
    "duration": 15,
    "start_time": "2022-10-15T11:58:07.054Z"
   },
   {
    "duration": 2336,
    "start_time": "2022-10-15T11:58:07.089Z"
   },
   {
    "duration": 7,
    "start_time": "2022-10-15T11:58:09.427Z"
   },
   {
    "duration": 11,
    "start_time": "2022-10-15T11:58:09.435Z"
   },
   {
    "duration": 15,
    "start_time": "2022-10-15T11:58:09.448Z"
   },
   {
    "duration": 11,
    "start_time": "2022-10-15T11:58:09.465Z"
   },
   {
    "duration": 52,
    "start_time": "2022-10-15T11:58:09.478Z"
   },
   {
    "duration": 62,
    "start_time": "2022-10-15T11:58:09.532Z"
   },
   {
    "duration": 6,
    "start_time": "2022-10-15T11:58:09.596Z"
   },
   {
    "duration": 51,
    "start_time": "2022-10-15T11:58:09.604Z"
   },
   {
    "duration": 31,
    "start_time": "2022-10-15T11:58:09.688Z"
   },
   {
    "duration": 129,
    "start_time": "2022-10-15T11:58:09.721Z"
   },
   {
    "duration": 0,
    "start_time": "2022-10-15T11:58:09.855Z"
   },
   {
    "duration": 0,
    "start_time": "2022-10-15T11:58:09.856Z"
   },
   {
    "duration": 0,
    "start_time": "2022-10-15T11:58:09.858Z"
   },
   {
    "duration": 0,
    "start_time": "2022-10-15T11:58:09.859Z"
   },
   {
    "duration": 0,
    "start_time": "2022-10-15T11:58:09.861Z"
   },
   {
    "duration": 0,
    "start_time": "2022-10-15T11:58:09.862Z"
   },
   {
    "duration": 0,
    "start_time": "2022-10-15T11:58:09.864Z"
   },
   {
    "duration": 0,
    "start_time": "2022-10-15T11:58:09.865Z"
   },
   {
    "duration": 4,
    "start_time": "2022-10-15T11:58:33.739Z"
   },
   {
    "duration": 8,
    "start_time": "2022-10-15T11:58:47.667Z"
   },
   {
    "duration": 4692,
    "start_time": "2022-10-15T12:01:08.579Z"
   },
   {
    "duration": 4494,
    "start_time": "2022-10-15T12:01:51.371Z"
   },
   {
    "duration": 5,
    "start_time": "2022-10-15T12:02:07.562Z"
   },
   {
    "duration": 4,
    "start_time": "2022-10-15T12:02:14.423Z"
   },
   {
    "duration": 4,
    "start_time": "2022-10-15T12:02:27.015Z"
   },
   {
    "duration": 37,
    "start_time": "2022-10-15T12:02:38.165Z"
   },
   {
    "duration": 39,
    "start_time": "2022-10-15T12:03:14.884Z"
   },
   {
    "duration": 375,
    "start_time": "2022-10-15T12:09:07.837Z"
   },
   {
    "duration": 116,
    "start_time": "2022-10-15T12:09:08.214Z"
   },
   {
    "duration": 46,
    "start_time": "2022-10-15T12:09:08.332Z"
   },
   {
    "duration": 22,
    "start_time": "2022-10-15T12:09:08.380Z"
   },
   {
    "duration": 2341,
    "start_time": "2022-10-15T12:09:08.404Z"
   },
   {
    "duration": 6,
    "start_time": "2022-10-15T12:09:10.748Z"
   },
   {
    "duration": 15,
    "start_time": "2022-10-15T12:09:10.756Z"
   },
   {
    "duration": 14,
    "start_time": "2022-10-15T12:09:10.773Z"
   },
   {
    "duration": 10,
    "start_time": "2022-10-15T12:09:10.789Z"
   },
   {
    "duration": 59,
    "start_time": "2022-10-15T12:09:10.802Z"
   },
   {
    "duration": 66,
    "start_time": "2022-10-15T12:09:10.863Z"
   },
   {
    "duration": 5,
    "start_time": "2022-10-15T12:09:10.932Z"
   },
   {
    "duration": 71,
    "start_time": "2022-10-15T12:09:10.940Z"
   },
   {
    "duration": 32,
    "start_time": "2022-10-15T12:09:11.013Z"
   },
   {
    "duration": 13,
    "start_time": "2022-10-15T12:09:11.047Z"
   },
   {
    "duration": 4651,
    "start_time": "2022-10-15T12:09:11.090Z"
   },
   {
    "duration": 6,
    "start_time": "2022-10-15T12:09:15.743Z"
   },
   {
    "duration": 61,
    "start_time": "2022-10-15T12:09:15.750Z"
   },
   {
    "duration": 4,
    "start_time": "2022-10-15T12:09:15.813Z"
   },
   {
    "duration": 8,
    "start_time": "2022-10-15T12:09:15.819Z"
   },
   {
    "duration": 8,
    "start_time": "2022-10-15T12:09:15.829Z"
   },
   {
    "duration": 7,
    "start_time": "2022-10-15T12:09:15.838Z"
   },
   {
    "duration": 7,
    "start_time": "2022-10-15T12:09:15.847Z"
   },
   {
    "duration": 4,
    "start_time": "2022-10-15T12:09:15.856Z"
   },
   {
    "duration": 9,
    "start_time": "2022-10-15T12:14:53.766Z"
   },
   {
    "duration": 73,
    "start_time": "2022-10-15T12:16:28.385Z"
   },
   {
    "duration": 14,
    "start_time": "2022-10-15T12:16:37.704Z"
   },
   {
    "duration": 6,
    "start_time": "2022-10-15T12:16:40.800Z"
   },
   {
    "duration": 50,
    "start_time": "2022-10-15T12:16:42.288Z"
   },
   {
    "duration": 42,
    "start_time": "2022-10-15T12:18:29.489Z"
   },
   {
    "duration": 7,
    "start_time": "2022-10-15T12:18:37.224Z"
   },
   {
    "duration": 47,
    "start_time": "2022-10-15T12:18:38.008Z"
   },
   {
    "duration": 75,
    "start_time": "2022-10-15T12:20:10.776Z"
   },
   {
    "duration": 6,
    "start_time": "2022-10-15T12:20:15.081Z"
   },
   {
    "duration": 71,
    "start_time": "2022-10-15T12:21:01.987Z"
   },
   {
    "duration": 7,
    "start_time": "2022-10-15T12:21:07.473Z"
   },
   {
    "duration": 56,
    "start_time": "2022-10-15T12:23:19.409Z"
   },
   {
    "duration": 6,
    "start_time": "2022-10-15T12:23:23.458Z"
   },
   {
    "duration": 424,
    "start_time": "2022-10-15T12:23:37.251Z"
   },
   {
    "duration": 101,
    "start_time": "2022-10-15T12:23:37.676Z"
   },
   {
    "duration": 44,
    "start_time": "2022-10-15T12:23:37.778Z"
   },
   {
    "duration": 21,
    "start_time": "2022-10-15T12:23:37.824Z"
   },
   {
    "duration": 2394,
    "start_time": "2022-10-15T12:23:37.847Z"
   },
   {
    "duration": 6,
    "start_time": "2022-10-15T12:23:40.243Z"
   },
   {
    "duration": 18,
    "start_time": "2022-10-15T12:23:40.252Z"
   },
   {
    "duration": 33,
    "start_time": "2022-10-15T12:23:40.272Z"
   },
   {
    "duration": 16,
    "start_time": "2022-10-15T12:23:40.307Z"
   },
   {
    "duration": 82,
    "start_time": "2022-10-15T12:23:40.328Z"
   },
   {
    "duration": 67,
    "start_time": "2022-10-15T12:23:40.412Z"
   },
   {
    "duration": 5,
    "start_time": "2022-10-15T12:23:40.490Z"
   },
   {
    "duration": 62,
    "start_time": "2022-10-15T12:23:40.497Z"
   },
   {
    "duration": 44,
    "start_time": "2022-10-15T12:23:40.590Z"
   },
   {
    "duration": 12,
    "start_time": "2022-10-15T12:23:40.636Z"
   },
   {
    "duration": 4669,
    "start_time": "2022-10-15T12:23:40.650Z"
   },
   {
    "duration": 13,
    "start_time": "2022-10-15T12:23:45.321Z"
   },
   {
    "duration": 5,
    "start_time": "2022-10-15T12:23:45.336Z"
   },
   {
    "duration": 73,
    "start_time": "2022-10-15T12:23:45.343Z"
   },
   {
    "duration": 5,
    "start_time": "2022-10-15T12:23:45.418Z"
   },
   {
    "duration": 8,
    "start_time": "2022-10-15T12:23:45.425Z"
   },
   {
    "duration": 6,
    "start_time": "2022-10-15T12:23:45.435Z"
   },
   {
    "duration": 5,
    "start_time": "2022-10-15T12:23:45.442Z"
   },
   {
    "duration": 5,
    "start_time": "2022-10-15T12:27:58.353Z"
   },
   {
    "duration": 285,
    "start_time": "2022-10-15T12:34:55.179Z"
   },
   {
    "duration": 281,
    "start_time": "2022-10-15T12:35:40.522Z"
   },
   {
    "duration": 270,
    "start_time": "2022-10-15T12:35:59.579Z"
   },
   {
    "duration": 308,
    "start_time": "2022-10-15T12:36:31.971Z"
   },
   {
    "duration": 304,
    "start_time": "2022-10-15T12:36:59.189Z"
   },
   {
    "duration": 6,
    "start_time": "2022-10-15T12:37:21.218Z"
   },
   {
    "duration": 251,
    "start_time": "2022-10-15T12:37:45.138Z"
   },
   {
    "duration": 329,
    "start_time": "2022-10-15T12:38:26.314Z"
   },
   {
    "duration": 249,
    "start_time": "2022-10-15T12:38:44.378Z"
   },
   {
    "duration": 258,
    "start_time": "2022-10-15T12:38:56.298Z"
   },
   {
    "duration": 353,
    "start_time": "2022-10-15T12:39:04.714Z"
   },
   {
    "duration": 268,
    "start_time": "2022-10-15T12:39:12.314Z"
   },
   {
    "duration": 6,
    "start_time": "2022-10-15T12:41:01.196Z"
   },
   {
    "duration": 11,
    "start_time": "2022-10-15T12:41:51.004Z"
   },
   {
    "duration": 115,
    "start_time": "2022-10-15T12:42:35.379Z"
   },
   {
    "duration": 12,
    "start_time": "2022-10-15T12:43:00.972Z"
   },
   {
    "duration": 11,
    "start_time": "2022-10-15T12:43:13.283Z"
   },
   {
    "duration": 452,
    "start_time": "2022-10-15T12:43:27.782Z"
   },
   {
    "duration": 112,
    "start_time": "2022-10-15T12:43:28.236Z"
   },
   {
    "duration": 45,
    "start_time": "2022-10-15T12:43:28.350Z"
   },
   {
    "duration": 17,
    "start_time": "2022-10-15T12:43:28.397Z"
   },
   {
    "duration": 2509,
    "start_time": "2022-10-15T12:43:28.416Z"
   },
   {
    "duration": 7,
    "start_time": "2022-10-15T12:43:30.927Z"
   },
   {
    "duration": 22,
    "start_time": "2022-10-15T12:43:30.935Z"
   },
   {
    "duration": 17,
    "start_time": "2022-10-15T12:43:30.958Z"
   },
   {
    "duration": 14,
    "start_time": "2022-10-15T12:43:30.978Z"
   },
   {
    "duration": 67,
    "start_time": "2022-10-15T12:43:30.994Z"
   },
   {
    "duration": 64,
    "start_time": "2022-10-15T12:43:31.062Z"
   },
   {
    "duration": 5,
    "start_time": "2022-10-15T12:43:31.128Z"
   },
   {
    "duration": 76,
    "start_time": "2022-10-15T12:43:31.135Z"
   },
   {
    "duration": 47,
    "start_time": "2022-10-15T12:43:31.213Z"
   },
   {
    "duration": 36,
    "start_time": "2022-10-15T12:43:31.262Z"
   },
   {
    "duration": 4685,
    "start_time": "2022-10-15T12:43:31.299Z"
   },
   {
    "duration": 14,
    "start_time": "2022-10-15T12:43:35.986Z"
   },
   {
    "duration": 8,
    "start_time": "2022-10-15T12:43:36.002Z"
   },
   {
    "duration": 85,
    "start_time": "2022-10-15T12:43:36.012Z"
   },
   {
    "duration": 5,
    "start_time": "2022-10-15T12:43:36.099Z"
   },
   {
    "duration": 309,
    "start_time": "2022-10-15T12:43:36.106Z"
   },
   {
    "duration": 283,
    "start_time": "2022-10-15T12:43:36.417Z"
   },
   {
    "duration": 12,
    "start_time": "2022-10-15T12:43:36.702Z"
   },
   {
    "duration": 11,
    "start_time": "2022-10-15T12:44:14.979Z"
   },
   {
    "duration": 130,
    "start_time": "2022-10-15T12:45:59.950Z"
   },
   {
    "duration": 133,
    "start_time": "2022-10-15T12:46:27.315Z"
   },
   {
    "duration": 8,
    "start_time": "2022-10-15T12:46:40.132Z"
   },
   {
    "duration": 7,
    "start_time": "2022-10-15T12:47:15.724Z"
   },
   {
    "duration": 8,
    "start_time": "2022-10-15T12:47:20.151Z"
   },
   {
    "duration": 9,
    "start_time": "2022-10-15T12:47:30.552Z"
   },
   {
    "duration": 8,
    "start_time": "2022-10-15T12:47:41.013Z"
   },
   {
    "duration": 79,
    "start_time": "2022-10-15T12:48:54.667Z"
   },
   {
    "duration": 208,
    "start_time": "2022-10-15T12:49:02.676Z"
   },
   {
    "duration": 8,
    "start_time": "2022-10-15T12:49:07.989Z"
   },
   {
    "duration": 15,
    "start_time": "2022-10-15T12:49:44.651Z"
   },
   {
    "duration": 107,
    "start_time": "2022-10-15T12:53:36.356Z"
   },
   {
    "duration": 42,
    "start_time": "2022-10-15T13:04:23.261Z"
   },
   {
    "duration": 6,
    "start_time": "2022-10-15T13:05:07.762Z"
   },
   {
    "duration": 7,
    "start_time": "2022-10-15T13:06:07.813Z"
   },
   {
    "duration": 10,
    "start_time": "2022-10-15T13:06:23.702Z"
   },
   {
    "duration": 504,
    "start_time": "2022-10-15T13:12:46.679Z"
   },
   {
    "duration": 110,
    "start_time": "2022-10-15T13:12:47.185Z"
   },
   {
    "duration": 46,
    "start_time": "2022-10-15T13:12:47.297Z"
   },
   {
    "duration": 18,
    "start_time": "2022-10-15T13:12:47.346Z"
   },
   {
    "duration": 2496,
    "start_time": "2022-10-15T13:12:47.365Z"
   },
   {
    "duration": 6,
    "start_time": "2022-10-15T13:12:49.863Z"
   },
   {
    "duration": 12,
    "start_time": "2022-10-15T13:12:49.871Z"
   },
   {
    "duration": 17,
    "start_time": "2022-10-15T13:12:49.885Z"
   },
   {
    "duration": 11,
    "start_time": "2022-10-15T13:12:49.904Z"
   },
   {
    "duration": 74,
    "start_time": "2022-10-15T13:12:49.919Z"
   },
   {
    "duration": 60,
    "start_time": "2022-10-15T13:12:49.995Z"
   },
   {
    "duration": 5,
    "start_time": "2022-10-15T13:12:50.056Z"
   },
   {
    "duration": 73,
    "start_time": "2022-10-15T13:12:50.063Z"
   },
   {
    "duration": 71,
    "start_time": "2022-10-15T13:12:50.137Z"
   },
   {
    "duration": 10,
    "start_time": "2022-10-15T13:12:50.210Z"
   },
   {
    "duration": 4836,
    "start_time": "2022-10-15T13:12:50.222Z"
   },
   {
    "duration": 13,
    "start_time": "2022-10-15T13:12:55.060Z"
   },
   {
    "duration": 16,
    "start_time": "2022-10-15T13:12:55.075Z"
   },
   {
    "duration": 48,
    "start_time": "2022-10-15T13:12:55.093Z"
   },
   {
    "duration": 4,
    "start_time": "2022-10-15T13:12:55.143Z"
   },
   {
    "duration": 324,
    "start_time": "2022-10-15T13:12:55.149Z"
   },
   {
    "duration": 16,
    "start_time": "2022-10-15T13:12:55.474Z"
   },
   {
    "duration": 7,
    "start_time": "2022-10-15T13:12:55.491Z"
   },
   {
    "duration": 9,
    "start_time": "2022-10-15T13:12:55.500Z"
   },
   {
    "duration": 287,
    "start_time": "2022-10-15T13:12:55.511Z"
   },
   {
    "duration": 9,
    "start_time": "2022-10-15T13:12:55.800Z"
   },
   {
    "duration": 10,
    "start_time": "2022-10-15T13:16:40.336Z"
   },
   {
    "duration": 10,
    "start_time": "2022-10-15T13:17:30.970Z"
   },
   {
    "duration": 10,
    "start_time": "2022-10-15T13:19:07.033Z"
   },
   {
    "duration": 11,
    "start_time": "2022-10-15T13:19:19.160Z"
   },
   {
    "duration": 10,
    "start_time": "2022-10-15T13:19:35.490Z"
   },
   {
    "duration": 3993,
    "start_time": "2022-10-15T13:23:13.338Z"
   },
   {
    "duration": 88,
    "start_time": "2022-10-15T13:23:41.541Z"
   },
   {
    "duration": 68,
    "start_time": "2022-10-15T13:23:52.553Z"
   },
   {
    "duration": 274,
    "start_time": "2022-10-15T13:23:56.930Z"
   },
   {
    "duration": 280,
    "start_time": "2022-10-15T13:25:23.225Z"
   },
   {
    "duration": 283,
    "start_time": "2022-10-15T13:25:30.536Z"
   },
   {
    "duration": 1629,
    "start_time": "2022-10-15T13:25:40.177Z"
   },
   {
    "duration": 2134,
    "start_time": "2022-10-15T13:26:48.559Z"
   },
   {
    "duration": 25,
    "start_time": "2022-10-15T13:28:36.769Z"
   },
   {
    "duration": 50,
    "start_time": "2022-10-15T13:28:44.706Z"
   },
   {
    "duration": 9,
    "start_time": "2022-10-15T13:32:20.330Z"
   },
   {
    "duration": 8,
    "start_time": "2022-10-15T13:32:25.220Z"
   },
   {
    "duration": 6,
    "start_time": "2022-10-15T13:33:33.426Z"
   },
   {
    "duration": 271,
    "start_time": "2022-10-15T13:34:07.925Z"
   },
   {
    "duration": 7,
    "start_time": "2022-10-15T13:34:25.786Z"
   },
   {
    "duration": 8,
    "start_time": "2022-10-15T13:38:54.429Z"
   },
   {
    "duration": 9,
    "start_time": "2022-10-15T13:39:12.442Z"
   },
   {
    "duration": 8,
    "start_time": "2022-10-15T13:39:19.274Z"
   },
   {
    "duration": 45,
    "start_time": "2022-10-15T13:42:19.962Z"
   },
   {
    "duration": 4,
    "start_time": "2022-10-15T13:43:44.498Z"
   },
   {
    "duration": 405,
    "start_time": "2022-10-15T13:48:39.619Z"
   },
   {
    "duration": 107,
    "start_time": "2022-10-15T13:48:40.027Z"
   },
   {
    "duration": 54,
    "start_time": "2022-10-15T13:48:40.136Z"
   },
   {
    "duration": 16,
    "start_time": "2022-10-15T13:48:40.193Z"
   },
   {
    "duration": 2570,
    "start_time": "2022-10-15T13:48:40.211Z"
   },
   {
    "duration": 6,
    "start_time": "2022-10-15T13:48:42.784Z"
   },
   {
    "duration": 17,
    "start_time": "2022-10-15T13:48:42.792Z"
   },
   {
    "duration": 15,
    "start_time": "2022-10-15T13:48:42.811Z"
   },
   {
    "duration": 10,
    "start_time": "2022-10-15T13:48:42.828Z"
   },
   {
    "duration": 69,
    "start_time": "2022-10-15T13:48:42.841Z"
   },
   {
    "duration": 58,
    "start_time": "2022-10-15T13:48:42.912Z"
   },
   {
    "duration": 18,
    "start_time": "2022-10-15T13:48:42.972Z"
   },
   {
    "duration": 52,
    "start_time": "2022-10-15T13:48:42.992Z"
   },
   {
    "duration": 77,
    "start_time": "2022-10-15T13:48:43.046Z"
   },
   {
    "duration": 11,
    "start_time": "2022-10-15T13:48:43.125Z"
   },
   {
    "duration": 4827,
    "start_time": "2022-10-15T13:48:43.138Z"
   },
   {
    "duration": 12,
    "start_time": "2022-10-15T13:48:47.967Z"
   },
   {
    "duration": 6,
    "start_time": "2022-10-15T13:48:47.989Z"
   },
   {
    "duration": 43,
    "start_time": "2022-10-15T13:48:47.997Z"
   },
   {
    "duration": 5,
    "start_time": "2022-10-15T13:48:48.042Z"
   },
   {
    "duration": 285,
    "start_time": "2022-10-15T13:48:48.090Z"
   },
   {
    "duration": 13,
    "start_time": "2022-10-15T13:48:48.377Z"
   },
   {
    "duration": 7,
    "start_time": "2022-10-15T13:48:48.392Z"
   },
   {
    "duration": 14,
    "start_time": "2022-10-15T13:48:48.401Z"
   },
   {
    "duration": 7,
    "start_time": "2022-10-15T13:48:48.417Z"
   },
   {
    "duration": 6,
    "start_time": "2022-10-15T13:48:48.426Z"
   },
   {
    "duration": 307,
    "start_time": "2022-10-15T13:48:48.434Z"
   },
   {
    "duration": 47,
    "start_time": "2022-10-15T13:48:48.744Z"
   },
   {
    "duration": 67,
    "start_time": "2022-10-15T13:48:48.793Z"
   },
   {
    "duration": 0,
    "start_time": "2022-10-15T13:48:48.861Z"
   },
   {
    "duration": 0,
    "start_time": "2022-10-15T13:48:48.863Z"
   },
   {
    "duration": 0,
    "start_time": "2022-10-15T13:48:48.864Z"
   },
   {
    "duration": 0,
    "start_time": "2022-10-15T13:48:48.865Z"
   },
   {
    "duration": 0,
    "start_time": "2022-10-15T13:48:48.866Z"
   },
   {
    "duration": 0,
    "start_time": "2022-10-15T13:48:48.867Z"
   },
   {
    "duration": 0,
    "start_time": "2022-10-15T13:48:48.869Z"
   },
   {
    "duration": 0,
    "start_time": "2022-10-15T13:48:48.870Z"
   },
   {
    "duration": 0,
    "start_time": "2022-10-15T13:48:48.871Z"
   },
   {
    "duration": 0,
    "start_time": "2022-10-15T13:48:48.872Z"
   },
   {
    "duration": 0,
    "start_time": "2022-10-15T13:48:48.873Z"
   },
   {
    "duration": 0,
    "start_time": "2022-10-15T13:48:48.874Z"
   },
   {
    "duration": 0,
    "start_time": "2022-10-15T13:48:48.876Z"
   },
   {
    "duration": 9,
    "start_time": "2022-10-15T13:49:34.859Z"
   },
   {
    "duration": 8,
    "start_time": "2022-10-15T13:49:43.475Z"
   },
   {
    "duration": 9,
    "start_time": "2022-10-15T13:50:07.131Z"
   },
   {
    "duration": 9,
    "start_time": "2022-10-15T13:50:51.034Z"
   },
   {
    "duration": 9,
    "start_time": "2022-10-15T13:51:13.419Z"
   },
   {
    "duration": 11,
    "start_time": "2022-10-15T13:51:22.178Z"
   },
   {
    "duration": 7,
    "start_time": "2022-10-15T13:51:32.200Z"
   },
   {
    "duration": 8,
    "start_time": "2022-10-15T13:51:53.954Z"
   },
   {
    "duration": 8,
    "start_time": "2022-10-15T13:52:02.410Z"
   },
   {
    "duration": 8,
    "start_time": "2022-10-15T13:52:06.330Z"
   },
   {
    "duration": 1209,
    "start_time": "2022-10-15T13:52:10.178Z"
   },
   {
    "duration": 7,
    "start_time": "2022-10-15T13:52:31.634Z"
   },
   {
    "duration": 9,
    "start_time": "2022-10-15T13:52:35.098Z"
   },
   {
    "duration": 10,
    "start_time": "2022-10-15T13:52:48.867Z"
   },
   {
    "duration": 7,
    "start_time": "2022-10-15T13:53:09.954Z"
   },
   {
    "duration": 417,
    "start_time": "2022-10-16T11:24:25.610Z"
   },
   {
    "duration": 126,
    "start_time": "2022-10-16T11:24:26.029Z"
   },
   {
    "duration": 37,
    "start_time": "2022-10-16T11:24:26.157Z"
   },
   {
    "duration": 15,
    "start_time": "2022-10-16T11:24:26.196Z"
   },
   {
    "duration": 2237,
    "start_time": "2022-10-16T11:24:26.212Z"
   },
   {
    "duration": 6,
    "start_time": "2022-10-16T11:24:28.451Z"
   },
   {
    "duration": 10,
    "start_time": "2022-10-16T11:24:28.458Z"
   },
   {
    "duration": 12,
    "start_time": "2022-10-16T11:24:28.470Z"
   },
   {
    "duration": 9,
    "start_time": "2022-10-16T11:24:28.484Z"
   },
   {
    "duration": 52,
    "start_time": "2022-10-16T11:24:28.496Z"
   },
   {
    "duration": 47,
    "start_time": "2022-10-16T11:24:28.550Z"
   },
   {
    "duration": 13,
    "start_time": "2022-10-16T11:24:28.599Z"
   },
   {
    "duration": 50,
    "start_time": "2022-10-16T11:24:28.614Z"
   },
   {
    "duration": 66,
    "start_time": "2022-10-16T11:24:28.666Z"
   },
   {
    "duration": 8,
    "start_time": "2022-10-16T11:24:28.734Z"
   },
   {
    "duration": 4081,
    "start_time": "2022-10-16T11:24:28.744Z"
   },
   {
    "duration": 11,
    "start_time": "2022-10-16T11:24:32.827Z"
   },
   {
    "duration": 8,
    "start_time": "2022-10-16T11:24:32.840Z"
   },
   {
    "duration": 65,
    "start_time": "2022-10-16T11:24:32.849Z"
   },
   {
    "duration": 4,
    "start_time": "2022-10-16T11:24:32.915Z"
   },
   {
    "duration": 256,
    "start_time": "2022-10-16T11:24:32.921Z"
   },
   {
    "duration": 7,
    "start_time": "2022-10-16T11:24:33.179Z"
   },
   {
    "duration": 5,
    "start_time": "2022-10-16T11:24:33.188Z"
   },
   {
    "duration": 22,
    "start_time": "2022-10-16T11:24:33.194Z"
   },
   {
    "duration": 7,
    "start_time": "2022-10-16T11:24:33.217Z"
   },
   {
    "duration": 5,
    "start_time": "2022-10-16T11:24:33.226Z"
   },
   {
    "duration": 251,
    "start_time": "2022-10-16T11:24:33.233Z"
   },
   {
    "duration": 40,
    "start_time": "2022-10-16T11:24:33.488Z"
   },
   {
    "duration": 42,
    "start_time": "2022-10-16T11:24:33.530Z"
   },
   {
    "duration": 0,
    "start_time": "2022-10-16T11:24:33.574Z"
   },
   {
    "duration": 0,
    "start_time": "2022-10-16T11:24:33.575Z"
   },
   {
    "duration": 0,
    "start_time": "2022-10-16T11:24:33.577Z"
   },
   {
    "duration": 0,
    "start_time": "2022-10-16T11:24:33.578Z"
   },
   {
    "duration": 0,
    "start_time": "2022-10-16T11:24:33.580Z"
   },
   {
    "duration": 0,
    "start_time": "2022-10-16T11:24:33.581Z"
   },
   {
    "duration": 0,
    "start_time": "2022-10-16T11:24:33.583Z"
   },
   {
    "duration": 0,
    "start_time": "2022-10-16T11:24:33.584Z"
   },
   {
    "duration": 0,
    "start_time": "2022-10-16T11:24:33.585Z"
   },
   {
    "duration": 0,
    "start_time": "2022-10-16T11:24:33.587Z"
   },
   {
    "duration": 0,
    "start_time": "2022-10-16T11:24:33.588Z"
   },
   {
    "duration": 0,
    "start_time": "2022-10-16T11:24:33.590Z"
   },
   {
    "duration": 8,
    "start_time": "2022-10-16T11:27:15.742Z"
   },
   {
    "duration": 6,
    "start_time": "2022-10-16T11:28:40.211Z"
   },
   {
    "duration": 381,
    "start_time": "2022-10-16T11:42:21.752Z"
   },
   {
    "duration": 82,
    "start_time": "2022-10-16T11:42:22.135Z"
   },
   {
    "duration": 39,
    "start_time": "2022-10-16T11:42:22.218Z"
   },
   {
    "duration": 13,
    "start_time": "2022-10-16T11:42:22.259Z"
   },
   {
    "duration": 2204,
    "start_time": "2022-10-16T11:42:22.273Z"
   },
   {
    "duration": 6,
    "start_time": "2022-10-16T11:42:24.478Z"
   },
   {
    "duration": 19,
    "start_time": "2022-10-16T11:42:24.486Z"
   },
   {
    "duration": 22,
    "start_time": "2022-10-16T11:42:24.507Z"
   },
   {
    "duration": 29,
    "start_time": "2022-10-16T11:42:24.531Z"
   },
   {
    "duration": 87,
    "start_time": "2022-10-16T11:42:24.563Z"
   },
   {
    "duration": 53,
    "start_time": "2022-10-16T11:42:24.651Z"
   },
   {
    "duration": 5,
    "start_time": "2022-10-16T11:42:24.709Z"
   },
   {
    "duration": 61,
    "start_time": "2022-10-16T11:42:24.716Z"
   },
   {
    "duration": 73,
    "start_time": "2022-10-16T11:42:24.779Z"
   },
   {
    "duration": 10,
    "start_time": "2022-10-16T11:42:24.853Z"
   },
   {
    "duration": 4131,
    "start_time": "2022-10-16T11:42:24.865Z"
   },
   {
    "duration": 14,
    "start_time": "2022-10-16T11:42:28.997Z"
   },
   {
    "duration": 7,
    "start_time": "2022-10-16T11:42:29.013Z"
   },
   {
    "duration": 52,
    "start_time": "2022-10-16T11:42:29.022Z"
   },
   {
    "duration": 33,
    "start_time": "2022-10-16T11:42:29.077Z"
   },
   {
    "duration": 235,
    "start_time": "2022-10-16T11:42:29.112Z"
   },
   {
    "duration": 7,
    "start_time": "2022-10-16T11:42:29.348Z"
   },
   {
    "duration": 18,
    "start_time": "2022-10-16T11:42:29.356Z"
   },
   {
    "duration": 14,
    "start_time": "2022-10-16T11:42:29.375Z"
   },
   {
    "duration": 20,
    "start_time": "2022-10-16T11:42:29.390Z"
   },
   {
    "duration": 247,
    "start_time": "2022-10-16T11:42:29.411Z"
   },
   {
    "duration": 37,
    "start_time": "2022-10-16T11:42:29.659Z"
   },
   {
    "duration": 262,
    "start_time": "2022-10-16T11:42:29.708Z"
   },
   {
    "duration": 9,
    "start_time": "2022-10-16T11:42:29.972Z"
   },
   {
    "duration": 27,
    "start_time": "2022-10-16T11:42:29.982Z"
   },
   {
    "duration": 9,
    "start_time": "2022-10-16T11:42:30.011Z"
   },
   {
    "duration": 13,
    "start_time": "2022-10-16T11:42:30.022Z"
   },
   {
    "duration": 13,
    "start_time": "2022-10-16T11:42:30.037Z"
   },
   {
    "duration": 13,
    "start_time": "2022-10-16T11:42:30.052Z"
   },
   {
    "duration": 13,
    "start_time": "2022-10-16T11:42:30.067Z"
   },
   {
    "duration": 23,
    "start_time": "2022-10-16T11:42:30.082Z"
   },
   {
    "duration": 19,
    "start_time": "2022-10-16T11:42:30.106Z"
   },
   {
    "duration": 34,
    "start_time": "2022-10-16T11:42:30.127Z"
   },
   {
    "duration": 11,
    "start_time": "2022-10-16T11:43:42.682Z"
   },
   {
    "duration": 7,
    "start_time": "2022-10-16T11:45:33.488Z"
   },
   {
    "duration": 9,
    "start_time": "2022-10-16T11:45:57.034Z"
   },
   {
    "duration": 9,
    "start_time": "2022-10-16T11:46:05.575Z"
   },
   {
    "duration": 9,
    "start_time": "2022-10-16T11:46:25.288Z"
   },
   {
    "duration": 10,
    "start_time": "2022-10-16T11:46:38.832Z"
   },
   {
    "duration": 8,
    "start_time": "2022-10-16T11:50:07.175Z"
   },
   {
    "duration": 9,
    "start_time": "2022-10-16T11:50:44.288Z"
   },
   {
    "duration": 4,
    "start_time": "2022-10-16T11:59:36.968Z"
   },
   {
    "duration": 8,
    "start_time": "2022-10-16T11:59:42.585Z"
   },
   {
    "duration": 80,
    "start_time": "2022-10-16T11:59:53.922Z"
   },
   {
    "duration": 10,
    "start_time": "2022-10-16T11:59:59.177Z"
   },
   {
    "duration": 7,
    "start_time": "2022-10-16T12:00:11.373Z"
   },
   {
    "duration": 8,
    "start_time": "2022-10-16T12:06:55.090Z"
   },
   {
    "duration": 7,
    "start_time": "2022-10-16T12:19:44.340Z"
   },
   {
    "duration": 1230,
    "start_time": "2022-10-16T12:22:26.563Z"
   },
   {
    "duration": 8,
    "start_time": "2022-10-16T12:22:46.356Z"
   },
   {
    "duration": 7,
    "start_time": "2022-10-16T12:22:56.043Z"
   },
   {
    "duration": 7,
    "start_time": "2022-10-16T12:23:18.331Z"
   },
   {
    "duration": 50,
    "start_time": "2022-10-16T12:39:15.030Z"
   },
   {
    "duration": 828,
    "start_time": "2022-10-16T12:39:22.949Z"
   },
   {
    "duration": 781,
    "start_time": "2022-10-16T12:39:42.485Z"
   },
   {
    "duration": 7,
    "start_time": "2022-10-16T12:40:16.070Z"
   },
   {
    "duration": 8,
    "start_time": "2022-10-16T12:40:26.941Z"
   },
   {
    "duration": 814,
    "start_time": "2022-10-16T12:40:48.260Z"
   },
   {
    "duration": 4,
    "start_time": "2022-10-16T12:41:04.405Z"
   },
   {
    "duration": 1392,
    "start_time": "2022-10-16T12:41:14.764Z"
   },
   {
    "duration": 822,
    "start_time": "2022-10-16T12:41:24.214Z"
   },
   {
    "duration": 771,
    "start_time": "2022-10-16T12:41:39.788Z"
   },
   {
    "duration": 11,
    "start_time": "2022-10-16T12:42:15.750Z"
   },
   {
    "duration": 373,
    "start_time": "2022-10-16T12:42:39.749Z"
   },
   {
    "duration": 81,
    "start_time": "2022-10-16T12:42:40.124Z"
   },
   {
    "duration": 40,
    "start_time": "2022-10-16T12:42:40.207Z"
   },
   {
    "duration": 15,
    "start_time": "2022-10-16T12:42:40.249Z"
   },
   {
    "duration": 2059,
    "start_time": "2022-10-16T12:42:40.266Z"
   },
   {
    "duration": 6,
    "start_time": "2022-10-16T12:42:42.326Z"
   },
   {
    "duration": 9,
    "start_time": "2022-10-16T12:42:42.334Z"
   },
   {
    "duration": 13,
    "start_time": "2022-10-16T12:42:42.344Z"
   },
   {
    "duration": 8,
    "start_time": "2022-10-16T12:42:42.358Z"
   },
   {
    "duration": 54,
    "start_time": "2022-10-16T12:42:42.369Z"
   },
   {
    "duration": 46,
    "start_time": "2022-10-16T12:42:42.424Z"
   },
   {
    "duration": 5,
    "start_time": "2022-10-16T12:42:42.472Z"
   },
   {
    "duration": 73,
    "start_time": "2022-10-16T12:42:42.479Z"
   },
   {
    "duration": 78,
    "start_time": "2022-10-16T12:42:42.554Z"
   },
   {
    "duration": 10,
    "start_time": "2022-10-16T12:42:42.634Z"
   },
   {
    "duration": 4139,
    "start_time": "2022-10-16T12:42:42.646Z"
   },
   {
    "duration": 11,
    "start_time": "2022-10-16T12:42:46.786Z"
   },
   {
    "duration": 14,
    "start_time": "2022-10-16T12:42:46.799Z"
   },
   {
    "duration": 44,
    "start_time": "2022-10-16T12:42:46.815Z"
   },
   {
    "duration": 4,
    "start_time": "2022-10-16T12:42:46.861Z"
   },
   {
    "duration": 266,
    "start_time": "2022-10-16T12:42:46.866Z"
   },
   {
    "duration": 8,
    "start_time": "2022-10-16T12:42:47.134Z"
   },
   {
    "duration": 6,
    "start_time": "2022-10-16T12:42:47.144Z"
   },
   {
    "duration": 8,
    "start_time": "2022-10-16T12:42:47.152Z"
   },
   {
    "duration": 7,
    "start_time": "2022-10-16T12:42:47.162Z"
   },
   {
    "duration": 264,
    "start_time": "2022-10-16T12:42:47.171Z"
   },
   {
    "duration": 38,
    "start_time": "2022-10-16T12:42:47.437Z"
   },
   {
    "duration": 257,
    "start_time": "2022-10-16T12:42:47.479Z"
   },
   {
    "duration": 8,
    "start_time": "2022-10-16T12:42:47.738Z"
   },
   {
    "duration": 9,
    "start_time": "2022-10-16T12:42:47.748Z"
   },
   {
    "duration": 8,
    "start_time": "2022-10-16T12:42:47.759Z"
   },
   {
    "duration": 7,
    "start_time": "2022-10-16T12:42:47.768Z"
   },
   {
    "duration": 37,
    "start_time": "2022-10-16T12:42:47.777Z"
   },
   {
    "duration": 9,
    "start_time": "2022-10-16T12:42:47.815Z"
   },
   {
    "duration": 7,
    "start_time": "2022-10-16T12:42:47.825Z"
   },
   {
    "duration": 7,
    "start_time": "2022-10-16T12:42:47.833Z"
   },
   {
    "duration": 6,
    "start_time": "2022-10-16T12:42:47.841Z"
   },
   {
    "duration": 7,
    "start_time": "2022-10-16T12:42:47.848Z"
   },
   {
    "duration": 5,
    "start_time": "2022-10-16T12:42:47.857Z"
   },
   {
    "duration": 49,
    "start_time": "2022-10-16T12:42:47.863Z"
   },
   {
    "duration": 9,
    "start_time": "2022-10-16T12:42:47.914Z"
   },
   {
    "duration": 6,
    "start_time": "2022-10-16T12:42:47.924Z"
   },
   {
    "duration": 95,
    "start_time": "2022-10-16T12:42:47.932Z"
   },
   {
    "duration": 7,
    "start_time": "2022-10-16T12:42:48.029Z"
   },
   {
    "duration": 8,
    "start_time": "2022-10-16T12:42:48.037Z"
   },
   {
    "duration": 103,
    "start_time": "2022-10-16T12:42:48.046Z"
   },
   {
    "duration": 43,
    "start_time": "2022-10-16T14:40:00.351Z"
   },
   {
    "duration": 389,
    "start_time": "2022-10-16T14:40:05.805Z"
   },
   {
    "duration": 326,
    "start_time": "2022-10-16T14:40:06.196Z"
   },
   {
    "duration": 42,
    "start_time": "2022-10-16T14:40:06.524Z"
   },
   {
    "duration": 14,
    "start_time": "2022-10-16T14:40:06.568Z"
   },
   {
    "duration": 2449,
    "start_time": "2022-10-16T14:40:06.584Z"
   },
   {
    "duration": 8,
    "start_time": "2022-10-16T14:40:09.035Z"
   },
   {
    "duration": 24,
    "start_time": "2022-10-16T14:40:09.045Z"
   },
   {
    "duration": 24,
    "start_time": "2022-10-16T14:40:09.071Z"
   },
   {
    "duration": 12,
    "start_time": "2022-10-16T14:40:09.097Z"
   },
   {
    "duration": 60,
    "start_time": "2022-10-16T14:40:09.113Z"
   },
   {
    "duration": 61,
    "start_time": "2022-10-16T14:40:09.174Z"
   },
   {
    "duration": 6,
    "start_time": "2022-10-16T14:40:09.237Z"
   },
   {
    "duration": 70,
    "start_time": "2022-10-16T14:40:09.244Z"
   },
   {
    "duration": 43,
    "start_time": "2022-10-16T14:40:09.316Z"
   },
   {
    "duration": 10,
    "start_time": "2022-10-16T14:40:09.385Z"
   },
   {
    "duration": 3385,
    "start_time": "2022-10-16T14:40:09.397Z"
   },
   {
    "duration": 11,
    "start_time": "2022-10-16T14:40:12.784Z"
   },
   {
    "duration": 9,
    "start_time": "2022-10-16T14:40:12.797Z"
   },
   {
    "duration": 37,
    "start_time": "2022-10-16T14:40:12.808Z"
   },
   {
    "duration": 4,
    "start_time": "2022-10-16T14:40:12.847Z"
   },
   {
    "duration": 254,
    "start_time": "2022-10-16T14:40:12.852Z"
   },
   {
    "duration": 7,
    "start_time": "2022-10-16T14:40:13.107Z"
   },
   {
    "duration": 5,
    "start_time": "2022-10-16T14:40:13.116Z"
   },
   {
    "duration": 7,
    "start_time": "2022-10-16T14:40:13.122Z"
   },
   {
    "duration": 5,
    "start_time": "2022-10-16T14:40:13.131Z"
   },
   {
    "duration": 252,
    "start_time": "2022-10-16T14:40:13.137Z"
   },
   {
    "duration": 35,
    "start_time": "2022-10-16T14:40:13.391Z"
   },
   {
    "duration": 297,
    "start_time": "2022-10-16T14:40:13.430Z"
   },
   {
    "duration": 7,
    "start_time": "2022-10-16T14:40:13.728Z"
   },
   {
    "duration": 7,
    "start_time": "2022-10-16T14:40:13.737Z"
   },
   {
    "duration": 8,
    "start_time": "2022-10-16T14:40:13.745Z"
   },
   {
    "duration": 31,
    "start_time": "2022-10-16T14:40:13.755Z"
   },
   {
    "duration": 8,
    "start_time": "2022-10-16T14:40:13.788Z"
   },
   {
    "duration": 8,
    "start_time": "2022-10-16T14:40:13.798Z"
   },
   {
    "duration": 6,
    "start_time": "2022-10-16T14:40:13.807Z"
   },
   {
    "duration": 13,
    "start_time": "2022-10-16T14:40:13.815Z"
   },
   {
    "duration": 12,
    "start_time": "2022-10-16T14:40:13.830Z"
   },
   {
    "duration": 10,
    "start_time": "2022-10-16T14:40:13.843Z"
   },
   {
    "duration": 7,
    "start_time": "2022-10-16T14:40:13.884Z"
   },
   {
    "duration": 8,
    "start_time": "2022-10-16T14:40:13.892Z"
   },
   {
    "duration": 7,
    "start_time": "2022-10-16T14:40:13.902Z"
   },
   {
    "duration": 6,
    "start_time": "2022-10-16T14:40:13.911Z"
   },
   {
    "duration": 8,
    "start_time": "2022-10-16T14:40:13.919Z"
   },
   {
    "duration": 16,
    "start_time": "2022-10-16T14:40:13.928Z"
   },
   {
    "duration": 14,
    "start_time": "2022-10-16T14:40:13.945Z"
   },
   {
    "duration": 2606,
    "start_time": "2022-10-16T14:40:16.541Z"
   },
   {
    "duration": 1180,
    "start_time": "2022-10-16T14:46:00.936Z"
   },
   {
    "duration": 1282,
    "start_time": "2022-10-16T14:46:16.973Z"
   },
   {
    "duration": 4,
    "start_time": "2022-10-16T14:46:35.253Z"
   },
   {
    "duration": 6,
    "start_time": "2022-10-16T14:46:40.676Z"
   },
   {
    "duration": 1107,
    "start_time": "2022-10-16T14:47:16.884Z"
   },
   {
    "duration": 9,
    "start_time": "2022-10-16T14:48:52.054Z"
   },
   {
    "duration": 9,
    "start_time": "2022-10-16T14:49:11.956Z"
   },
   {
    "duration": 8,
    "start_time": "2022-10-16T14:49:29.174Z"
   },
   {
    "duration": 12,
    "start_time": "2022-10-16T14:49:33.213Z"
   },
   {
    "duration": 1331,
    "start_time": "2022-10-16T14:49:55.564Z"
   },
   {
    "duration": 1634,
    "start_time": "2022-10-16T14:50:00.981Z"
   },
   {
    "duration": 2469,
    "start_time": "2022-10-16T14:50:33.229Z"
   },
   {
    "duration": 1135,
    "start_time": "2022-10-16T14:50:41.477Z"
   },
   {
    "duration": 555,
    "start_time": "2022-10-16T14:50:52.181Z"
   },
   {
    "duration": 910,
    "start_time": "2022-10-16T14:51:03.605Z"
   },
   {
    "duration": 1115,
    "start_time": "2022-10-16T14:51:18.454Z"
   },
   {
    "duration": 13,
    "start_time": "2022-10-16T14:56:18.773Z"
   },
   {
    "duration": 19,
    "start_time": "2022-10-16T14:56:26.029Z"
   },
   {
    "duration": 20,
    "start_time": "2022-10-16T14:56:35.005Z"
   },
   {
    "duration": 19,
    "start_time": "2022-10-16T14:56:41.172Z"
   },
   {
    "duration": 407,
    "start_time": "2022-10-16T15:06:55.255Z"
   },
   {
    "duration": 90,
    "start_time": "2022-10-16T15:06:55.664Z"
   },
   {
    "duration": 38,
    "start_time": "2022-10-16T15:06:55.756Z"
   },
   {
    "duration": 15,
    "start_time": "2022-10-16T15:06:55.796Z"
   },
   {
    "duration": 2028,
    "start_time": "2022-10-16T15:06:55.813Z"
   },
   {
    "duration": 6,
    "start_time": "2022-10-16T15:06:57.842Z"
   },
   {
    "duration": 11,
    "start_time": "2022-10-16T15:06:57.849Z"
   },
   {
    "duration": 29,
    "start_time": "2022-10-16T15:06:57.862Z"
   },
   {
    "duration": 9,
    "start_time": "2022-10-16T15:06:57.892Z"
   },
   {
    "duration": 44,
    "start_time": "2022-10-16T15:06:57.903Z"
   },
   {
    "duration": 67,
    "start_time": "2022-10-16T15:06:57.948Z"
   },
   {
    "duration": 5,
    "start_time": "2022-10-16T15:06:58.017Z"
   },
   {
    "duration": 64,
    "start_time": "2022-10-16T15:06:58.024Z"
   },
   {
    "duration": 37,
    "start_time": "2022-10-16T15:06:58.090Z"
   },
   {
    "duration": 10,
    "start_time": "2022-10-16T15:06:58.129Z"
   },
   {
    "duration": 3348,
    "start_time": "2022-10-16T15:06:58.140Z"
   },
   {
    "duration": 8,
    "start_time": "2022-10-16T15:07:01.490Z"
   },
   {
    "duration": 24,
    "start_time": "2022-10-16T15:07:01.500Z"
   },
   {
    "duration": 40,
    "start_time": "2022-10-16T15:07:01.526Z"
   },
   {
    "duration": 4,
    "start_time": "2022-10-16T15:07:01.567Z"
   },
   {
    "duration": 239,
    "start_time": "2022-10-16T15:07:01.572Z"
   },
   {
    "duration": 9,
    "start_time": "2022-10-16T15:07:01.813Z"
   },
   {
    "duration": 10,
    "start_time": "2022-10-16T15:07:01.823Z"
   },
   {
    "duration": 28,
    "start_time": "2022-10-16T15:07:01.835Z"
   },
   {
    "duration": 30,
    "start_time": "2022-10-16T15:07:01.864Z"
   },
   {
    "duration": 253,
    "start_time": "2022-10-16T15:07:01.895Z"
   },
   {
    "duration": 42,
    "start_time": "2022-10-16T15:07:02.150Z"
   },
   {
    "duration": 321,
    "start_time": "2022-10-16T15:07:02.195Z"
   },
   {
    "duration": 7,
    "start_time": "2022-10-16T15:07:02.517Z"
   },
   {
    "duration": 8,
    "start_time": "2022-10-16T15:07:02.526Z"
   },
   {
    "duration": 10,
    "start_time": "2022-10-16T15:07:02.535Z"
   },
   {
    "duration": 7,
    "start_time": "2022-10-16T15:07:02.546Z"
   },
   {
    "duration": 8,
    "start_time": "2022-10-16T15:07:02.554Z"
   },
   {
    "duration": 8,
    "start_time": "2022-10-16T15:07:02.584Z"
   },
   {
    "duration": 11,
    "start_time": "2022-10-16T15:07:02.593Z"
   },
   {
    "duration": 16,
    "start_time": "2022-10-16T15:07:02.605Z"
   },
   {
    "duration": 6,
    "start_time": "2022-10-16T15:07:02.622Z"
   },
   {
    "duration": 10,
    "start_time": "2022-10-16T15:07:02.629Z"
   },
   {
    "duration": 7,
    "start_time": "2022-10-16T15:07:02.641Z"
   },
   {
    "duration": 8,
    "start_time": "2022-10-16T15:07:02.649Z"
   },
   {
    "duration": 31,
    "start_time": "2022-10-16T15:07:02.659Z"
   },
   {
    "duration": 7,
    "start_time": "2022-10-16T15:07:02.691Z"
   },
   {
    "duration": 16,
    "start_time": "2022-10-16T15:07:02.699Z"
   },
   {
    "duration": 7,
    "start_time": "2022-10-16T15:07:02.716Z"
   },
   {
    "duration": 18,
    "start_time": "2022-10-16T15:07:02.725Z"
   },
   {
    "duration": 26,
    "start_time": "2022-10-16T15:07:02.744Z"
   },
   {
    "duration": 86,
    "start_time": "2022-10-16T15:08:17.243Z"
   },
   {
    "duration": 3,
    "start_time": "2022-10-16T15:08:53.682Z"
   },
   {
    "duration": 79,
    "start_time": "2022-10-16T15:17:49.786Z"
   },
   {
    "duration": 1179,
    "start_time": "2022-10-16T15:18:05.050Z"
   },
   {
    "duration": 1249,
    "start_time": "2022-10-16T17:49:30.742Z"
   },
   {
    "duration": 25,
    "start_time": "2022-10-16T17:49:47.103Z"
   },
   {
    "duration": 402,
    "start_time": "2022-10-16T17:52:05.674Z"
   },
   {
    "duration": 87,
    "start_time": "2022-10-16T17:52:06.079Z"
   },
   {
    "duration": 36,
    "start_time": "2022-10-16T17:52:06.168Z"
   },
   {
    "duration": 13,
    "start_time": "2022-10-16T17:52:06.206Z"
   },
   {
    "duration": 2142,
    "start_time": "2022-10-16T17:52:06.221Z"
   },
   {
    "duration": 7,
    "start_time": "2022-10-16T17:52:08.365Z"
   },
   {
    "duration": 14,
    "start_time": "2022-10-16T17:52:08.374Z"
   },
   {
    "duration": 14,
    "start_time": "2022-10-16T17:52:08.390Z"
   },
   {
    "duration": 10,
    "start_time": "2022-10-16T17:52:08.405Z"
   },
   {
    "duration": 69,
    "start_time": "2022-10-16T17:52:08.417Z"
   },
   {
    "duration": 48,
    "start_time": "2022-10-16T17:52:08.488Z"
   },
   {
    "duration": 7,
    "start_time": "2022-10-16T17:52:08.539Z"
   },
   {
    "duration": 72,
    "start_time": "2022-10-16T17:52:08.548Z"
   },
   {
    "duration": 67,
    "start_time": "2022-10-16T17:52:08.625Z"
   },
   {
    "duration": 11,
    "start_time": "2022-10-16T17:52:08.694Z"
   },
   {
    "duration": 3587,
    "start_time": "2022-10-16T17:52:08.707Z"
   },
   {
    "duration": 14,
    "start_time": "2022-10-16T17:52:12.297Z"
   },
   {
    "duration": 31,
    "start_time": "2022-10-16T17:52:12.313Z"
   },
   {
    "duration": 56,
    "start_time": "2022-10-16T17:52:12.347Z"
   },
   {
    "duration": 7,
    "start_time": "2022-10-16T17:52:12.408Z"
   },
   {
    "duration": 442,
    "start_time": "2022-10-16T17:52:12.417Z"
   },
   {
    "duration": 10,
    "start_time": "2022-10-16T17:52:12.861Z"
   },
   {
    "duration": 15,
    "start_time": "2022-10-16T17:52:12.873Z"
   },
   {
    "duration": 11,
    "start_time": "2022-10-16T17:52:12.890Z"
   },
   {
    "duration": 11,
    "start_time": "2022-10-16T17:52:12.903Z"
   },
   {
    "duration": 273,
    "start_time": "2022-10-16T17:52:12.916Z"
   },
   {
    "duration": 40,
    "start_time": "2022-10-16T17:52:13.191Z"
   },
   {
    "duration": 286,
    "start_time": "2022-10-16T17:52:13.235Z"
   },
   {
    "duration": 8,
    "start_time": "2022-10-16T17:52:13.523Z"
   },
   {
    "duration": 66,
    "start_time": "2022-10-16T17:52:13.532Z"
   },
   {
    "duration": 8,
    "start_time": "2022-10-16T17:52:13.599Z"
   },
   {
    "duration": 7,
    "start_time": "2022-10-16T17:52:13.609Z"
   },
   {
    "duration": 15,
    "start_time": "2022-10-16T17:52:13.617Z"
   },
   {
    "duration": 9,
    "start_time": "2022-10-16T17:52:13.634Z"
   },
   {
    "duration": 42,
    "start_time": "2022-10-16T17:52:13.644Z"
   },
   {
    "duration": 8,
    "start_time": "2022-10-16T17:52:13.688Z"
   },
   {
    "duration": 7,
    "start_time": "2022-10-16T17:52:13.698Z"
   },
   {
    "duration": 7,
    "start_time": "2022-10-16T17:52:13.706Z"
   },
   {
    "duration": 8,
    "start_time": "2022-10-16T17:52:13.715Z"
   },
   {
    "duration": 12,
    "start_time": "2022-10-16T17:52:13.725Z"
   },
   {
    "duration": 9,
    "start_time": "2022-10-16T17:52:13.739Z"
   },
   {
    "duration": 138,
    "start_time": "2022-10-16T17:52:13.750Z"
   },
   {
    "duration": 9,
    "start_time": "2022-10-16T17:52:13.890Z"
   },
   {
    "duration": 7,
    "start_time": "2022-10-16T17:52:13.901Z"
   },
   {
    "duration": 7,
    "start_time": "2022-10-16T17:52:13.910Z"
   },
   {
    "duration": 22,
    "start_time": "2022-10-16T17:52:13.918Z"
   },
   {
    "duration": 73,
    "start_time": "2022-10-16T17:54:42.786Z"
   },
   {
    "duration": 11,
    "start_time": "2022-10-16T17:55:03.503Z"
   },
   {
    "duration": 9,
    "start_time": "2022-10-16T17:56:04.275Z"
   },
   {
    "duration": 77,
    "start_time": "2022-10-16T17:56:25.163Z"
   },
   {
    "duration": 69,
    "start_time": "2022-10-16T17:56:29.233Z"
   },
   {
    "duration": 9,
    "start_time": "2022-10-16T17:56:34.010Z"
   },
   {
    "duration": 6,
    "start_time": "2022-10-16T17:56:44.986Z"
   },
   {
    "duration": 49,
    "start_time": "2022-10-16T18:06:57.533Z"
   },
   {
    "duration": 15,
    "start_time": "2022-10-16T18:13:24.563Z"
   },
   {
    "duration": 352,
    "start_time": "2022-10-16T18:14:24.323Z"
   },
   {
    "duration": 91,
    "start_time": "2022-10-16T18:14:24.676Z"
   },
   {
    "duration": 36,
    "start_time": "2022-10-16T18:14:24.768Z"
   },
   {
    "duration": 12,
    "start_time": "2022-10-16T18:14:24.806Z"
   },
   {
    "duration": 2024,
    "start_time": "2022-10-16T18:14:24.819Z"
   },
   {
    "duration": 6,
    "start_time": "2022-10-16T18:14:26.844Z"
   },
   {
    "duration": 11,
    "start_time": "2022-10-16T18:14:26.851Z"
   },
   {
    "duration": 30,
    "start_time": "2022-10-16T18:14:26.864Z"
   },
   {
    "duration": 9,
    "start_time": "2022-10-16T18:14:26.895Z"
   },
   {
    "duration": 44,
    "start_time": "2022-10-16T18:14:26.906Z"
   },
   {
    "duration": 60,
    "start_time": "2022-10-16T18:14:26.952Z"
   },
   {
    "duration": 4,
    "start_time": "2022-10-16T18:14:27.014Z"
   },
   {
    "duration": 70,
    "start_time": "2022-10-16T18:14:27.019Z"
   },
   {
    "duration": 46,
    "start_time": "2022-10-16T18:14:27.090Z"
   },
   {
    "duration": 22,
    "start_time": "2022-10-16T18:14:27.138Z"
   },
   {
    "duration": 3400,
    "start_time": "2022-10-16T18:14:27.162Z"
   },
   {
    "duration": 10,
    "start_time": "2022-10-16T18:14:30.564Z"
   },
   {
    "duration": 17,
    "start_time": "2022-10-16T18:14:30.575Z"
   },
   {
    "duration": 55,
    "start_time": "2022-10-16T18:14:30.593Z"
   },
   {
    "duration": 7,
    "start_time": "2022-10-16T18:14:30.650Z"
   },
   {
    "duration": 257,
    "start_time": "2022-10-16T18:14:30.658Z"
   },
   {
    "duration": 16,
    "start_time": "2022-10-16T18:14:30.917Z"
   },
   {
    "duration": 10,
    "start_time": "2022-10-16T18:14:30.935Z"
   },
   {
    "duration": 19,
    "start_time": "2022-10-16T18:14:30.946Z"
   },
   {
    "duration": 16,
    "start_time": "2022-10-16T18:14:30.968Z"
   },
   {
    "duration": 254,
    "start_time": "2022-10-16T18:14:30.985Z"
   },
   {
    "duration": 45,
    "start_time": "2022-10-16T18:14:31.241Z"
   },
   {
    "duration": 257,
    "start_time": "2022-10-16T18:14:31.289Z"
   },
   {
    "duration": 7,
    "start_time": "2022-10-16T18:14:31.548Z"
   },
   {
    "duration": 35,
    "start_time": "2022-10-16T18:14:31.556Z"
   },
   {
    "duration": 19,
    "start_time": "2022-10-16T18:14:31.593Z"
   },
   {
    "duration": 16,
    "start_time": "2022-10-16T18:14:31.614Z"
   },
   {
    "duration": 9,
    "start_time": "2022-10-16T18:14:31.631Z"
   },
   {
    "duration": 9,
    "start_time": "2022-10-16T18:14:31.642Z"
   },
   {
    "duration": 12,
    "start_time": "2022-10-16T18:14:31.652Z"
   },
   {
    "duration": 24,
    "start_time": "2022-10-16T18:14:31.666Z"
   },
   {
    "duration": 10,
    "start_time": "2022-10-16T18:14:31.691Z"
   },
   {
    "duration": 27,
    "start_time": "2022-10-16T18:14:31.702Z"
   },
   {
    "duration": 15,
    "start_time": "2022-10-16T18:14:31.730Z"
   },
   {
    "duration": 18,
    "start_time": "2022-10-16T18:14:31.747Z"
   },
   {
    "duration": 22,
    "start_time": "2022-10-16T18:14:31.767Z"
   },
   {
    "duration": 41,
    "start_time": "2022-10-16T18:14:31.790Z"
   },
   {
    "duration": 95,
    "start_time": "2022-10-16T18:14:31.833Z"
   },
   {
    "duration": 8,
    "start_time": "2022-10-16T18:14:31.930Z"
   },
   {
    "duration": 7,
    "start_time": "2022-10-16T18:14:31.940Z"
   },
   {
    "duration": 91,
    "start_time": "2022-10-16T18:14:31.948Z"
   },
   {
    "duration": 3,
    "start_time": "2022-10-16T18:15:07.409Z"
   },
   {
    "duration": 6,
    "start_time": "2022-10-16T18:15:12.888Z"
   },
   {
    "duration": 8,
    "start_time": "2022-10-16T18:15:40.702Z"
   },
   {
    "duration": 7,
    "start_time": "2022-10-16T18:15:59.959Z"
   },
   {
    "duration": 8,
    "start_time": "2022-10-16T18:16:44.351Z"
   },
   {
    "duration": 8,
    "start_time": "2022-10-16T18:16:57.711Z"
   },
   {
    "duration": 13,
    "start_time": "2022-10-16T18:18:39.815Z"
   },
   {
    "duration": 435,
    "start_time": "2022-10-16T18:21:50.511Z"
   },
   {
    "duration": 16,
    "start_time": "2022-10-16T18:22:08.529Z"
   },
   {
    "duration": 16,
    "start_time": "2022-10-16T18:22:18.159Z"
   },
   {
    "duration": 1326,
    "start_time": "2022-10-16T18:34:22.951Z"
   },
   {
    "duration": 19,
    "start_time": "2022-10-16T18:35:13.458Z"
   },
   {
    "duration": 7,
    "start_time": "2022-10-16T18:35:24.208Z"
   },
   {
    "duration": 6,
    "start_time": "2022-10-16T18:36:40.853Z"
   },
   {
    "duration": 9,
    "start_time": "2022-10-16T18:37:01.192Z"
   },
   {
    "duration": 11,
    "start_time": "2022-10-16T18:37:09.367Z"
   },
   {
    "duration": 6,
    "start_time": "2022-10-16T18:37:20.423Z"
   },
   {
    "duration": 155,
    "start_time": "2022-10-16T18:40:49.217Z"
   },
   {
    "duration": 214,
    "start_time": "2022-10-16T18:41:42.705Z"
   },
   {
    "duration": 357,
    "start_time": "2022-10-16T18:43:27.921Z"
   },
   {
    "duration": 87,
    "start_time": "2022-10-16T18:43:28.281Z"
   },
   {
    "duration": 29,
    "start_time": "2022-10-16T18:43:28.370Z"
   },
   {
    "duration": 13,
    "start_time": "2022-10-16T18:43:28.400Z"
   },
   {
    "duration": 2000,
    "start_time": "2022-10-16T18:43:28.414Z"
   },
   {
    "duration": 18,
    "start_time": "2022-10-16T18:43:30.416Z"
   },
   {
    "duration": 8,
    "start_time": "2022-10-16T18:43:30.436Z"
   },
   {
    "duration": 26,
    "start_time": "2022-10-16T18:43:30.446Z"
   },
   {
    "duration": 9,
    "start_time": "2022-10-16T18:43:30.485Z"
   },
   {
    "duration": 71,
    "start_time": "2022-10-16T18:43:30.497Z"
   },
   {
    "duration": 43,
    "start_time": "2022-10-16T18:43:30.569Z"
   },
   {
    "duration": 5,
    "start_time": "2022-10-16T18:43:30.613Z"
   },
   {
    "duration": 70,
    "start_time": "2022-10-16T18:43:30.620Z"
   },
   {
    "duration": 39,
    "start_time": "2022-10-16T18:43:30.691Z"
   },
   {
    "duration": 10,
    "start_time": "2022-10-16T18:43:30.731Z"
   },
   {
    "duration": 3491,
    "start_time": "2022-10-16T18:43:30.743Z"
   },
   {
    "duration": 9,
    "start_time": "2022-10-16T18:43:34.235Z"
   },
   {
    "duration": 7,
    "start_time": "2022-10-16T18:43:34.245Z"
   },
   {
    "duration": 39,
    "start_time": "2022-10-16T18:43:34.254Z"
   },
   {
    "duration": 4,
    "start_time": "2022-10-16T18:43:34.302Z"
   },
   {
    "duration": 261,
    "start_time": "2022-10-16T18:43:34.307Z"
   },
   {
    "duration": 15,
    "start_time": "2022-10-16T18:43:34.570Z"
   },
   {
    "duration": 5,
    "start_time": "2022-10-16T18:43:34.587Z"
   },
   {
    "duration": 12,
    "start_time": "2022-10-16T18:43:34.594Z"
   },
   {
    "duration": 6,
    "start_time": "2022-10-16T18:43:34.607Z"
   },
   {
    "duration": 251,
    "start_time": "2022-10-16T18:43:34.614Z"
   },
   {
    "duration": 37,
    "start_time": "2022-10-16T18:43:34.867Z"
   },
   {
    "duration": 246,
    "start_time": "2022-10-16T18:43:34.907Z"
   },
   {
    "duration": 7,
    "start_time": "2022-10-16T18:43:35.155Z"
   },
   {
    "duration": 21,
    "start_time": "2022-10-16T18:43:35.164Z"
   },
   {
    "duration": 8,
    "start_time": "2022-10-16T18:43:35.186Z"
   },
   {
    "duration": 7,
    "start_time": "2022-10-16T18:43:35.195Z"
   },
   {
    "duration": 11,
    "start_time": "2022-10-16T18:43:35.204Z"
   },
   {
    "duration": 6,
    "start_time": "2022-10-16T18:43:35.216Z"
   },
   {
    "duration": 5,
    "start_time": "2022-10-16T18:43:35.224Z"
   },
   {
    "duration": 8,
    "start_time": "2022-10-16T18:43:35.231Z"
   },
   {
    "duration": 6,
    "start_time": "2022-10-16T18:43:35.241Z"
   },
   {
    "duration": 38,
    "start_time": "2022-10-16T18:43:35.248Z"
   },
   {
    "duration": 6,
    "start_time": "2022-10-16T18:43:35.287Z"
   },
   {
    "duration": 8,
    "start_time": "2022-10-16T18:43:35.295Z"
   },
   {
    "duration": 8,
    "start_time": "2022-10-16T18:43:35.304Z"
   },
   {
    "duration": 9,
    "start_time": "2022-10-16T18:43:35.314Z"
   },
   {
    "duration": 113,
    "start_time": "2022-10-16T18:43:35.324Z"
   },
   {
    "duration": 8,
    "start_time": "2022-10-16T18:43:35.439Z"
   },
   {
    "duration": 7,
    "start_time": "2022-10-16T18:43:35.449Z"
   },
   {
    "duration": 36,
    "start_time": "2022-10-16T18:43:35.458Z"
   },
   {
    "duration": 4,
    "start_time": "2022-10-16T18:43:35.495Z"
   },
   {
    "duration": 84,
    "start_time": "2022-10-16T18:43:35.500Z"
   },
   {
    "duration": 215,
    "start_time": "2022-10-16T18:43:59.874Z"
   },
   {
    "duration": 80,
    "start_time": "2022-10-16T18:44:12.664Z"
   },
   {
    "duration": 217,
    "start_time": "2022-10-16T18:44:24.945Z"
   },
   {
    "duration": 105,
    "start_time": "2022-10-16T18:45:28.027Z"
   },
   {
    "duration": 221,
    "start_time": "2022-10-16T18:45:42.505Z"
   },
   {
    "duration": 122,
    "start_time": "2022-10-16T18:46:16.201Z"
   },
   {
    "duration": 215,
    "start_time": "2022-10-16T18:46:24.402Z"
   },
   {
    "duration": 325,
    "start_time": "2022-10-16T18:46:57.472Z"
   },
   {
    "duration": 128,
    "start_time": "2022-10-16T18:47:27.163Z"
   },
   {
    "duration": 242,
    "start_time": "2022-10-16T18:47:35.137Z"
   },
   {
    "duration": 222,
    "start_time": "2022-10-16T18:47:51.009Z"
   },
   {
    "duration": 225,
    "start_time": "2022-10-16T18:47:57.721Z"
   },
   {
    "duration": 209,
    "start_time": "2022-10-16T18:48:05.435Z"
   },
   {
    "duration": 339,
    "start_time": "2022-10-16T18:48:14.649Z"
   },
   {
    "duration": 258,
    "start_time": "2022-10-16T18:48:31.969Z"
   },
   {
    "duration": 127,
    "start_time": "2022-10-16T18:48:58.530Z"
   },
   {
    "duration": 236,
    "start_time": "2022-10-16T18:49:09.538Z"
   },
   {
    "duration": 246,
    "start_time": "2022-10-16T18:49:38.433Z"
   },
   {
    "duration": 130,
    "start_time": "2022-10-16T18:50:14.474Z"
   },
   {
    "duration": 207,
    "start_time": "2022-10-16T18:50:21.484Z"
   },
   {
    "duration": 235,
    "start_time": "2022-10-16T18:50:35.828Z"
   },
   {
    "duration": 365,
    "start_time": "2022-10-16T18:50:47.025Z"
   },
   {
    "duration": 119,
    "start_time": "2022-10-16T18:51:52.937Z"
   },
   {
    "duration": 235,
    "start_time": "2022-10-16T18:52:35.323Z"
   },
   {
    "duration": 103,
    "start_time": "2022-10-16T18:53:20.507Z"
   },
   {
    "duration": 116,
    "start_time": "2022-10-16T18:54:45.796Z"
   },
   {
    "duration": 237,
    "start_time": "2022-10-16T18:54:59.138Z"
   },
   {
    "duration": 1360,
    "start_time": "2022-10-16T18:55:20.410Z"
   },
   {
    "duration": 220,
    "start_time": "2022-10-16T18:55:26.522Z"
   },
   {
    "duration": 644,
    "start_time": "2022-10-16T18:55:31.441Z"
   },
   {
    "duration": 516,
    "start_time": "2022-10-16T18:55:43.138Z"
   },
   {
    "duration": 219,
    "start_time": "2022-10-16T18:55:50.249Z"
   },
   {
    "duration": 149,
    "start_time": "2022-10-16T18:55:55.442Z"
   },
   {
    "duration": 1243,
    "start_time": "2022-10-16T18:56:08.561Z"
   },
   {
    "duration": 413,
    "start_time": "2022-10-16T18:56:17.802Z"
   },
   {
    "duration": 167,
    "start_time": "2022-10-16T18:56:23.523Z"
   },
   {
    "duration": 254,
    "start_time": "2022-10-16T18:56:30.289Z"
   },
   {
    "duration": 119,
    "start_time": "2022-10-16T18:57:39.658Z"
   },
   {
    "duration": 214,
    "start_time": "2022-10-16T18:57:51.802Z"
   },
   {
    "duration": 104,
    "start_time": "2022-10-16T19:00:14.223Z"
   },
   {
    "duration": 203,
    "start_time": "2022-10-16T19:00:21.594Z"
   },
   {
    "duration": 135,
    "start_time": "2022-10-16T19:00:34.850Z"
   },
   {
    "duration": 274,
    "start_time": "2022-10-16T19:00:56.820Z"
   },
   {
    "duration": 116,
    "start_time": "2022-10-16T19:01:10.043Z"
   },
   {
    "duration": 206,
    "start_time": "2022-10-16T19:01:20.763Z"
   },
   {
    "duration": 121,
    "start_time": "2022-10-16T19:01:29.690Z"
   },
   {
    "duration": 213,
    "start_time": "2022-10-16T19:01:52.298Z"
   },
   {
    "duration": 220,
    "start_time": "2022-10-16T19:02:30.281Z"
   },
   {
    "duration": 125,
    "start_time": "2022-10-16T19:02:34.322Z"
   },
   {
    "duration": 220,
    "start_time": "2022-10-16T19:02:43.779Z"
   },
   {
    "duration": 103,
    "start_time": "2022-10-17T05:27:49.321Z"
   },
   {
    "duration": 486,
    "start_time": "2022-10-17T05:28:08.869Z"
   },
   {
    "duration": 404,
    "start_time": "2022-10-17T05:28:09.359Z"
   },
   {
    "duration": 44,
    "start_time": "2022-10-17T05:28:09.765Z"
   },
   {
    "duration": 24,
    "start_time": "2022-10-17T05:28:09.811Z"
   },
   {
    "duration": 3238,
    "start_time": "2022-10-17T05:28:09.837Z"
   },
   {
    "duration": 29,
    "start_time": "2022-10-17T05:28:13.078Z"
   },
   {
    "duration": 41,
    "start_time": "2022-10-17T05:28:13.109Z"
   },
   {
    "duration": 30,
    "start_time": "2022-10-17T05:28:13.152Z"
   },
   {
    "duration": 43,
    "start_time": "2022-10-17T05:28:13.184Z"
   },
   {
    "duration": 57,
    "start_time": "2022-10-17T05:28:13.230Z"
   },
   {
    "duration": 55,
    "start_time": "2022-10-17T05:28:13.289Z"
   },
   {
    "duration": 7,
    "start_time": "2022-10-17T05:28:13.346Z"
   },
   {
    "duration": 73,
    "start_time": "2022-10-17T05:28:13.355Z"
   },
   {
    "duration": 87,
    "start_time": "2022-10-17T05:28:13.431Z"
   },
   {
    "duration": 15,
    "start_time": "2022-10-17T05:28:13.520Z"
   },
   {
    "duration": 5737,
    "start_time": "2022-10-17T05:28:13.538Z"
   },
   {
    "duration": 27,
    "start_time": "2022-10-17T05:28:19.277Z"
   },
   {
    "duration": 51,
    "start_time": "2022-10-17T05:28:19.315Z"
   },
   {
    "duration": 113,
    "start_time": "2022-10-17T05:28:19.368Z"
   },
   {
    "duration": 7,
    "start_time": "2022-10-17T05:28:19.484Z"
   },
   {
    "duration": 424,
    "start_time": "2022-10-17T05:28:19.493Z"
   },
   {
    "duration": 9,
    "start_time": "2022-10-17T05:28:19.919Z"
   },
   {
    "duration": 6,
    "start_time": "2022-10-17T05:28:19.930Z"
   },
   {
    "duration": 18,
    "start_time": "2022-10-17T05:28:19.938Z"
   },
   {
    "duration": 8,
    "start_time": "2022-10-17T05:28:19.958Z"
   },
   {
    "duration": 329,
    "start_time": "2022-10-17T05:28:19.994Z"
   },
   {
    "duration": 68,
    "start_time": "2022-10-17T05:28:20.326Z"
   },
   {
    "duration": 431,
    "start_time": "2022-10-17T05:28:20.399Z"
   },
   {
    "duration": 11,
    "start_time": "2022-10-17T05:28:20.832Z"
   },
   {
    "duration": 41,
    "start_time": "2022-10-17T05:28:20.846Z"
   },
   {
    "duration": 30,
    "start_time": "2022-10-17T05:28:20.889Z"
   },
   {
    "duration": 9,
    "start_time": "2022-10-17T05:28:20.921Z"
   },
   {
    "duration": 11,
    "start_time": "2022-10-17T05:28:20.932Z"
   },
   {
    "duration": 8,
    "start_time": "2022-10-17T05:28:20.945Z"
   },
   {
    "duration": 11,
    "start_time": "2022-10-17T05:28:20.955Z"
   },
   {
    "duration": 30,
    "start_time": "2022-10-17T05:28:20.968Z"
   },
   {
    "duration": 17,
    "start_time": "2022-10-17T05:28:21.000Z"
   },
   {
    "duration": 11,
    "start_time": "2022-10-17T05:28:21.019Z"
   },
   {
    "duration": 10,
    "start_time": "2022-10-17T05:28:21.032Z"
   },
   {
    "duration": 11,
    "start_time": "2022-10-17T05:28:21.044Z"
   },
   {
    "duration": 35,
    "start_time": "2022-10-17T05:28:21.057Z"
   },
   {
    "duration": 9,
    "start_time": "2022-10-17T05:28:21.094Z"
   },
   {
    "duration": 29,
    "start_time": "2022-10-17T05:28:21.105Z"
   },
   {
    "duration": 12,
    "start_time": "2022-10-17T05:28:21.136Z"
   },
   {
    "duration": 12,
    "start_time": "2022-10-17T05:28:21.151Z"
   },
   {
    "duration": 45,
    "start_time": "2022-10-17T05:28:21.166Z"
   },
   {
    "duration": 5,
    "start_time": "2022-10-17T05:28:21.213Z"
   },
   {
    "duration": 357,
    "start_time": "2022-10-17T05:28:21.221Z"
   },
   {
    "duration": 376,
    "start_time": "2022-10-17T05:28:21.581Z"
   },
   {
    "duration": 353,
    "start_time": "2022-10-17T05:28:21.960Z"
   },
   {
    "duration": 374,
    "start_time": "2022-10-17T05:28:22.316Z"
   },
   {
    "duration": 321,
    "start_time": "2022-10-17T05:28:22.692Z"
   },
   {
    "duration": 461,
    "start_time": "2022-10-17T05:28:23.015Z"
   },
   {
    "duration": 328,
    "start_time": "2022-10-17T05:28:23.478Z"
   },
   {
    "duration": 164,
    "start_time": "2022-10-17T05:28:23.810Z"
   },
   {
    "duration": 370,
    "start_time": "2022-10-17T05:28:23.975Z"
   },
   {
    "duration": 282,
    "start_time": "2022-10-17T05:28:24.347Z"
   },
   {
    "duration": 280,
    "start_time": "2022-10-17T05:28:24.631Z"
   },
   {
    "duration": 437,
    "start_time": "2022-10-17T05:28:24.913Z"
   },
   {
    "duration": 314,
    "start_time": "2022-10-17T05:28:25.352Z"
   },
   {
    "duration": 301,
    "start_time": "2022-10-17T05:28:25.669Z"
   },
   {
    "duration": 312,
    "start_time": "2022-10-17T05:28:38.934Z"
   },
   {
    "duration": 306,
    "start_time": "2022-10-17T05:28:43.388Z"
   },
   {
    "duration": 363,
    "start_time": "2022-10-17T05:28:48.045Z"
   },
   {
    "duration": 546,
    "start_time": "2022-10-17T05:29:06.988Z"
   },
   {
    "duration": 453,
    "start_time": "2022-10-17T05:29:18.216Z"
   },
   {
    "duration": 393,
    "start_time": "2022-10-17T05:29:38.757Z"
   },
   {
    "duration": 443,
    "start_time": "2022-10-17T05:30:33.320Z"
   },
   {
    "duration": 315,
    "start_time": "2022-10-17T05:31:47.048Z"
   },
   {
    "duration": 411,
    "start_time": "2022-10-17T05:32:11.692Z"
   },
   {
    "duration": 315,
    "start_time": "2022-10-17T05:34:47.304Z"
   },
   {
    "duration": 2129,
    "start_time": "2022-10-17T05:38:56.212Z"
   },
   {
    "duration": 1303,
    "start_time": "2022-10-17T05:39:05.354Z"
   },
   {
    "duration": 1046,
    "start_time": "2022-10-17T05:39:11.404Z"
   },
   {
    "duration": 1452,
    "start_time": "2022-10-17T05:39:18.091Z"
   },
   {
    "duration": 1087,
    "start_time": "2022-10-17T05:39:25.138Z"
   },
   {
    "duration": 591,
    "start_time": "2022-10-17T05:41:42.380Z"
   },
   {
    "duration": 371,
    "start_time": "2022-10-17T05:41:49.466Z"
   },
   {
    "duration": 319,
    "start_time": "2022-10-17T05:44:29.621Z"
   },
   {
    "duration": 573,
    "start_time": "2022-10-17T05:44:41.718Z"
   },
   {
    "duration": 638,
    "start_time": "2022-10-17T05:44:48.893Z"
   },
   {
    "duration": 89,
    "start_time": "2022-10-17T05:49:04.563Z"
   },
   {
    "duration": 181,
    "start_time": "2022-10-17T06:03:30.300Z"
   },
   {
    "duration": 260,
    "start_time": "2022-10-17T06:03:38.346Z"
   },
   {
    "duration": 10,
    "start_time": "2022-10-17T06:04:34.826Z"
   },
   {
    "duration": 30,
    "start_time": "2022-10-17T06:08:30.635Z"
   },
   {
    "duration": 20,
    "start_time": "2022-10-17T06:08:43.929Z"
   },
   {
    "duration": 323,
    "start_time": "2022-10-17T06:09:23.659Z"
   },
   {
    "duration": 346,
    "start_time": "2022-10-17T06:09:33.209Z"
   },
   {
    "duration": 327,
    "start_time": "2022-10-17T06:09:39.345Z"
   },
   {
    "duration": 297,
    "start_time": "2022-10-17T06:09:46.309Z"
   },
   {
    "duration": 321,
    "start_time": "2022-10-17T06:10:00.910Z"
   },
   {
    "duration": 16,
    "start_time": "2022-10-17T06:13:32.257Z"
   },
   {
    "duration": 21,
    "start_time": "2022-10-17T06:13:40.185Z"
   },
   {
    "duration": 18,
    "start_time": "2022-10-17T06:13:44.377Z"
   },
   {
    "duration": 88,
    "start_time": "2022-10-17T06:30:15.081Z"
   },
   {
    "duration": 12,
    "start_time": "2022-10-17T06:32:23.682Z"
   },
   {
    "duration": 17,
    "start_time": "2022-10-17T06:35:11.112Z"
   },
   {
    "duration": 7880,
    "start_time": "2022-10-17T06:35:59.299Z"
   },
   {
    "duration": 8,
    "start_time": "2022-10-17T06:38:06.545Z"
   },
   {
    "duration": 387,
    "start_time": "2022-10-17T06:38:52.849Z"
   },
   {
    "duration": 1887,
    "start_time": "2022-10-17T06:40:21.690Z"
   },
   {
    "duration": 1820,
    "start_time": "2022-10-17T06:41:46.512Z"
   },
   {
    "duration": 59,
    "start_time": "2022-10-17T08:30:05.719Z"
   },
   {
    "duration": 443,
    "start_time": "2022-10-17T08:30:16.174Z"
   },
   {
    "duration": 120,
    "start_time": "2022-10-17T08:30:16.618Z"
   },
   {
    "duration": 27,
    "start_time": "2022-10-17T08:30:16.740Z"
   },
   {
    "duration": 26,
    "start_time": "2022-10-17T08:30:16.769Z"
   },
   {
    "duration": 2253,
    "start_time": "2022-10-17T08:30:16.796Z"
   },
   {
    "duration": 18,
    "start_time": "2022-10-17T08:30:19.051Z"
   },
   {
    "duration": 36,
    "start_time": "2022-10-17T08:30:19.071Z"
   },
   {
    "duration": 44,
    "start_time": "2022-10-17T08:30:19.109Z"
   },
   {
    "duration": 31,
    "start_time": "2022-10-17T08:30:19.155Z"
   },
   {
    "duration": 68,
    "start_time": "2022-10-17T08:30:19.189Z"
   },
   {
    "duration": 45,
    "start_time": "2022-10-17T08:30:19.258Z"
   },
   {
    "duration": 6,
    "start_time": "2022-10-17T08:30:19.304Z"
   },
   {
    "duration": 97,
    "start_time": "2022-10-17T08:30:19.311Z"
   },
   {
    "duration": 49,
    "start_time": "2022-10-17T08:30:19.410Z"
   },
   {
    "duration": 23,
    "start_time": "2022-10-17T08:30:19.461Z"
   },
   {
    "duration": 4228,
    "start_time": "2022-10-17T08:30:19.487Z"
   },
   {
    "duration": 12,
    "start_time": "2022-10-17T08:30:23.717Z"
   },
   {
    "duration": 40,
    "start_time": "2022-10-17T08:30:23.730Z"
   },
   {
    "duration": 95,
    "start_time": "2022-10-17T08:30:23.772Z"
   },
   {
    "duration": 5,
    "start_time": "2022-10-17T08:30:23.869Z"
   },
   {
    "duration": 293,
    "start_time": "2022-10-17T08:30:23.877Z"
   },
   {
    "duration": 8,
    "start_time": "2022-10-17T08:30:24.172Z"
   },
   {
    "duration": 23,
    "start_time": "2022-10-17T08:30:24.182Z"
   },
   {
    "duration": 33,
    "start_time": "2022-10-17T08:30:24.207Z"
   },
   {
    "duration": 17,
    "start_time": "2022-10-17T08:30:24.242Z"
   },
   {
    "duration": 280,
    "start_time": "2022-10-17T08:30:24.260Z"
   },
   {
    "duration": 32,
    "start_time": "2022-10-17T08:30:24.542Z"
   },
   {
    "duration": 328,
    "start_time": "2022-10-17T08:30:24.578Z"
   },
   {
    "duration": 7,
    "start_time": "2022-10-17T08:30:24.909Z"
   },
   {
    "duration": 39,
    "start_time": "2022-10-17T08:30:24.918Z"
   },
   {
    "duration": 26,
    "start_time": "2022-10-17T08:30:24.959Z"
   },
   {
    "duration": 47,
    "start_time": "2022-10-17T08:30:24.987Z"
   },
   {
    "duration": 24,
    "start_time": "2022-10-17T08:30:25.037Z"
   },
   {
    "duration": 45,
    "start_time": "2022-10-17T08:30:25.062Z"
   },
   {
    "duration": 16,
    "start_time": "2022-10-17T08:30:25.109Z"
   },
   {
    "duration": 24,
    "start_time": "2022-10-17T08:30:25.127Z"
   },
   {
    "duration": 34,
    "start_time": "2022-10-17T08:30:25.153Z"
   },
   {
    "duration": 15,
    "start_time": "2022-10-17T08:30:25.189Z"
   },
   {
    "duration": 36,
    "start_time": "2022-10-17T08:30:25.206Z"
   },
   {
    "duration": 47,
    "start_time": "2022-10-17T08:30:25.244Z"
   },
   {
    "duration": 25,
    "start_time": "2022-10-17T08:30:25.293Z"
   },
   {
    "duration": 21,
    "start_time": "2022-10-17T08:30:25.319Z"
   },
   {
    "duration": 48,
    "start_time": "2022-10-17T08:30:25.341Z"
   },
   {
    "duration": 34,
    "start_time": "2022-10-17T08:30:25.391Z"
   },
   {
    "duration": 33,
    "start_time": "2022-10-17T08:30:25.427Z"
   },
   {
    "duration": 49,
    "start_time": "2022-10-17T08:30:25.461Z"
   },
   {
    "duration": 16,
    "start_time": "2022-10-17T08:30:25.511Z"
   },
   {
    "duration": 260,
    "start_time": "2022-10-17T08:30:25.528Z"
   },
   {
    "duration": 220,
    "start_time": "2022-10-17T08:30:25.789Z"
   },
   {
    "duration": 281,
    "start_time": "2022-10-17T08:30:26.010Z"
   },
   {
    "duration": 254,
    "start_time": "2022-10-17T08:30:26.293Z"
   },
   {
    "duration": 228,
    "start_time": "2022-10-17T08:30:26.550Z"
   },
   {
    "duration": 302,
    "start_time": "2022-10-17T08:30:26.780Z"
   },
   {
    "duration": 228,
    "start_time": "2022-10-17T08:30:27.083Z"
   },
   {
    "duration": 240,
    "start_time": "2022-10-17T08:30:27.313Z"
   },
   {
    "duration": 130,
    "start_time": "2022-10-17T08:30:27.555Z"
   },
   {
    "duration": 238,
    "start_time": "2022-10-17T08:30:27.687Z"
   },
   {
    "duration": 230,
    "start_time": "2022-10-17T08:30:27.927Z"
   },
   {
    "duration": 301,
    "start_time": "2022-10-17T08:30:28.159Z"
   },
   {
    "duration": 223,
    "start_time": "2022-10-17T08:30:28.462Z"
   },
   {
    "duration": 224,
    "start_time": "2022-10-17T08:30:28.687Z"
   },
   {
    "duration": 215,
    "start_time": "2022-10-17T08:30:28.912Z"
   },
   {
    "duration": 224,
    "start_time": "2022-10-17T08:30:29.128Z"
   },
   {
    "duration": 8,
    "start_time": "2022-10-17T08:30:29.354Z"
   },
   {
    "duration": 96,
    "start_time": "2022-10-17T08:30:29.363Z"
   },
   {
    "duration": 0,
    "start_time": "2022-10-17T08:30:29.460Z"
   },
   {
    "duration": 0,
    "start_time": "2022-10-17T08:30:29.462Z"
   },
   {
    "duration": 0,
    "start_time": "2022-10-17T08:30:29.463Z"
   },
   {
    "duration": 25,
    "start_time": "2022-10-17T08:31:00.401Z"
   },
   {
    "duration": 13,
    "start_time": "2022-10-17T08:31:14.673Z"
   },
   {
    "duration": 224,
    "start_time": "2022-10-17T08:31:16.270Z"
   },
   {
    "duration": 1632,
    "start_time": "2022-10-17T08:31:20.286Z"
   },
   {
    "duration": 21,
    "start_time": "2022-10-17T08:31:25.790Z"
   },
   {
    "duration": 31,
    "start_time": "2022-10-17T08:31:32.265Z"
   },
   {
    "duration": 79,
    "start_time": "2022-10-17T08:32:20.426Z"
   },
   {
    "duration": 16,
    "start_time": "2022-10-17T08:32:25.329Z"
   },
   {
    "duration": 14,
    "start_time": "2022-10-17T08:33:54.641Z"
   },
   {
    "duration": 14,
    "start_time": "2022-10-17T08:34:04.453Z"
   },
   {
    "duration": 13,
    "start_time": "2022-10-17T08:34:07.953Z"
   },
   {
    "duration": 11,
    "start_time": "2022-10-17T08:34:25.019Z"
   },
   {
    "duration": 4,
    "start_time": "2022-10-17T08:35:33.058Z"
   },
   {
    "duration": 5,
    "start_time": "2022-10-17T08:35:45.890Z"
   },
   {
    "duration": 5,
    "start_time": "2022-10-17T08:35:57.906Z"
   },
   {
    "duration": 439,
    "start_time": "2022-10-17T08:36:09.586Z"
   },
   {
    "duration": 81,
    "start_time": "2022-10-17T08:36:10.027Z"
   },
   {
    "duration": 30,
    "start_time": "2022-10-17T08:36:10.109Z"
   },
   {
    "duration": 28,
    "start_time": "2022-10-17T08:36:10.142Z"
   },
   {
    "duration": 2133,
    "start_time": "2022-10-17T08:36:10.172Z"
   },
   {
    "duration": 19,
    "start_time": "2022-10-17T08:36:12.307Z"
   },
   {
    "duration": 9,
    "start_time": "2022-10-17T08:36:12.327Z"
   },
   {
    "duration": 18,
    "start_time": "2022-10-17T08:36:12.337Z"
   },
   {
    "duration": 9,
    "start_time": "2022-10-17T08:36:12.357Z"
   },
   {
    "duration": 60,
    "start_time": "2022-10-17T08:36:12.369Z"
   },
   {
    "duration": 43,
    "start_time": "2022-10-17T08:36:12.430Z"
   },
   {
    "duration": 6,
    "start_time": "2022-10-17T08:36:12.474Z"
   },
   {
    "duration": 85,
    "start_time": "2022-10-17T08:36:12.482Z"
   },
   {
    "duration": 79,
    "start_time": "2022-10-17T08:36:12.569Z"
   },
   {
    "duration": 12,
    "start_time": "2022-10-17T08:36:12.649Z"
   },
   {
    "duration": 4233,
    "start_time": "2022-10-17T08:36:12.663Z"
   },
   {
    "duration": 15,
    "start_time": "2022-10-17T08:36:16.897Z"
   },
   {
    "duration": 7,
    "start_time": "2022-10-17T08:36:16.913Z"
   },
   {
    "duration": 44,
    "start_time": "2022-10-17T08:36:16.921Z"
   },
   {
    "duration": 4,
    "start_time": "2022-10-17T08:36:16.967Z"
   },
   {
    "duration": 233,
    "start_time": "2022-10-17T08:36:17.010Z"
   },
   {
    "duration": 6,
    "start_time": "2022-10-17T08:36:17.245Z"
   },
   {
    "duration": 3,
    "start_time": "2022-10-17T08:36:17.253Z"
   },
   {
    "duration": 9,
    "start_time": "2022-10-17T08:36:17.258Z"
   },
   {
    "duration": 29,
    "start_time": "2022-10-17T08:36:17.269Z"
   },
   {
    "duration": 229,
    "start_time": "2022-10-17T08:36:17.300Z"
   },
   {
    "duration": 31,
    "start_time": "2022-10-17T08:36:17.531Z"
   },
   {
    "duration": 246,
    "start_time": "2022-10-17T08:36:17.565Z"
   },
   {
    "duration": 8,
    "start_time": "2022-10-17T08:36:17.812Z"
   },
   {
    "duration": 8,
    "start_time": "2022-10-17T08:36:17.821Z"
   },
   {
    "duration": 7,
    "start_time": "2022-10-17T08:36:17.831Z"
   },
   {
    "duration": 17,
    "start_time": "2022-10-17T08:36:17.840Z"
   },
   {
    "duration": 8,
    "start_time": "2022-10-17T08:36:17.860Z"
   },
   {
    "duration": 10,
    "start_time": "2022-10-17T08:36:17.869Z"
   },
   {
    "duration": 7,
    "start_time": "2022-10-17T08:36:17.909Z"
   },
   {
    "duration": 13,
    "start_time": "2022-10-17T08:36:17.917Z"
   },
   {
    "duration": 6,
    "start_time": "2022-10-17T08:36:17.931Z"
   },
   {
    "duration": 9,
    "start_time": "2022-10-17T08:36:17.938Z"
   },
   {
    "duration": 6,
    "start_time": "2022-10-17T08:36:17.948Z"
   },
   {
    "duration": 12,
    "start_time": "2022-10-17T08:36:17.956Z"
   },
   {
    "duration": 15,
    "start_time": "2022-10-17T08:36:17.969Z"
   },
   {
    "duration": 91,
    "start_time": "2022-10-17T08:36:17.985Z"
   },
   {
    "duration": 13,
    "start_time": "2022-10-17T08:36:18.078Z"
   },
   {
    "duration": 26,
    "start_time": "2022-10-17T08:36:18.094Z"
   },
   {
    "duration": 8,
    "start_time": "2022-10-17T08:36:18.122Z"
   },
   {
    "duration": 28,
    "start_time": "2022-10-17T08:36:18.132Z"
   },
   {
    "duration": 4,
    "start_time": "2022-10-17T08:36:18.162Z"
   },
   {
    "duration": 275,
    "start_time": "2022-10-17T08:36:18.168Z"
   },
   {
    "duration": 215,
    "start_time": "2022-10-17T08:36:18.445Z"
   },
   {
    "duration": 221,
    "start_time": "2022-10-17T08:36:18.661Z"
   },
   {
    "duration": 269,
    "start_time": "2022-10-17T08:36:18.884Z"
   },
   {
    "duration": 229,
    "start_time": "2022-10-17T08:36:19.155Z"
   },
   {
    "duration": 326,
    "start_time": "2022-10-17T08:36:19.385Z"
   },
   {
    "duration": 229,
    "start_time": "2022-10-17T08:36:19.713Z"
   },
   {
    "duration": 227,
    "start_time": "2022-10-17T08:36:19.944Z"
   },
   {
    "duration": 126,
    "start_time": "2022-10-17T08:36:20.173Z"
   },
   {
    "duration": 234,
    "start_time": "2022-10-17T08:36:20.300Z"
   },
   {
    "duration": 224,
    "start_time": "2022-10-17T08:36:20.536Z"
   },
   {
    "duration": 318,
    "start_time": "2022-10-17T08:36:20.761Z"
   },
   {
    "duration": 221,
    "start_time": "2022-10-17T08:36:21.081Z"
   },
   {
    "duration": 223,
    "start_time": "2022-10-17T08:36:21.303Z"
   },
   {
    "duration": 218,
    "start_time": "2022-10-17T08:36:21.528Z"
   },
   {
    "duration": 232,
    "start_time": "2022-10-17T08:36:21.748Z"
   },
   {
    "duration": 10,
    "start_time": "2022-10-17T08:36:21.982Z"
   },
   {
    "duration": 31,
    "start_time": "2022-10-17T08:36:21.994Z"
   },
   {
    "duration": 240,
    "start_time": "2022-10-17T08:36:22.027Z"
   },
   {
    "duration": 1692,
    "start_time": "2022-10-17T08:36:22.269Z"
   },
   {
    "duration": 5,
    "start_time": "2022-10-17T08:36:23.963Z"
   },
   {
    "duration": 10,
    "start_time": "2022-10-17T08:37:11.113Z"
   },
   {
    "duration": 10,
    "start_time": "2022-10-17T08:37:29.952Z"
   },
   {
    "duration": 13,
    "start_time": "2022-10-17T08:37:40.930Z"
   },
   {
    "duration": 10,
    "start_time": "2022-10-17T08:38:39.192Z"
   },
   {
    "duration": 12,
    "start_time": "2022-10-17T08:46:38.089Z"
   },
   {
    "duration": 17,
    "start_time": "2022-10-17T08:46:41.841Z"
   },
   {
    "duration": 25,
    "start_time": "2022-10-17T08:47:01.819Z"
   },
   {
    "duration": 104,
    "start_time": "2022-10-17T08:47:28.777Z"
   },
   {
    "duration": 26,
    "start_time": "2022-10-17T08:47:37.273Z"
   },
   {
    "duration": 23,
    "start_time": "2022-10-17T08:48:39.529Z"
   },
   {
    "duration": 25,
    "start_time": "2022-10-17T08:49:11.337Z"
   },
   {
    "duration": 25,
    "start_time": "2022-10-17T08:49:19.798Z"
   },
   {
    "duration": 25,
    "start_time": "2022-10-17T08:49:30.834Z"
   },
   {
    "duration": 22,
    "start_time": "2022-10-17T08:49:37.570Z"
   },
   {
    "duration": 37,
    "start_time": "2022-10-17T08:49:49.824Z"
   },
   {
    "duration": 9,
    "start_time": "2022-10-17T08:52:18.682Z"
   },
   {
    "duration": 31,
    "start_time": "2022-10-17T08:53:05.986Z"
   },
   {
    "duration": 38,
    "start_time": "2022-10-17T09:01:07.961Z"
   },
   {
    "duration": 16,
    "start_time": "2022-10-17T09:02:14.338Z"
   },
   {
    "duration": 16,
    "start_time": "2022-10-17T09:03:26.475Z"
   },
   {
    "duration": 23,
    "start_time": "2022-10-17T09:03:43.626Z"
   },
   {
    "duration": 132,
    "start_time": "2022-10-17T09:04:18.274Z"
   },
   {
    "duration": 239,
    "start_time": "2022-10-17T09:04:28.074Z"
   },
   {
    "duration": 1343,
    "start_time": "2022-10-17T09:04:51.850Z"
   },
   {
    "duration": 2561,
    "start_time": "2022-10-17T09:04:58.858Z"
   },
   {
    "duration": 340,
    "start_time": "2022-10-17T09:05:06.514Z"
   },
   {
    "duration": 141,
    "start_time": "2022-10-17T09:05:23.953Z"
   },
   {
    "duration": 6,
    "start_time": "2022-10-17T09:08:06.034Z"
   },
   {
    "duration": 6,
    "start_time": "2022-10-17T09:08:24.467Z"
   },
   {
    "duration": 3,
    "start_time": "2022-10-17T09:17:58.724Z"
   },
   {
    "duration": 35,
    "start_time": "2022-10-17T09:19:15.047Z"
   },
   {
    "duration": 10,
    "start_time": "2022-10-17T09:30:54.827Z"
   },
   {
    "duration": 16,
    "start_time": "2022-10-17T09:31:01.882Z"
   },
   {
    "duration": 18,
    "start_time": "2022-10-17T09:34:51.573Z"
   },
   {
    "duration": 9,
    "start_time": "2022-10-17T09:37:15.672Z"
   },
   {
    "duration": 503,
    "start_time": "2022-10-17T09:42:28.797Z"
   },
   {
    "duration": 95,
    "start_time": "2022-10-17T09:42:29.302Z"
   },
   {
    "duration": 58,
    "start_time": "2022-10-17T09:42:29.399Z"
   },
   {
    "duration": 15,
    "start_time": "2022-10-17T09:42:29.459Z"
   },
   {
    "duration": 2189,
    "start_time": "2022-10-17T09:42:29.476Z"
   },
   {
    "duration": 27,
    "start_time": "2022-10-17T09:42:31.667Z"
   },
   {
    "duration": 9,
    "start_time": "2022-10-17T09:42:31.696Z"
   },
   {
    "duration": 21,
    "start_time": "2022-10-17T09:42:31.707Z"
   },
   {
    "duration": 12,
    "start_time": "2022-10-17T09:42:31.730Z"
   },
   {
    "duration": 71,
    "start_time": "2022-10-17T09:42:31.746Z"
   },
   {
    "duration": 53,
    "start_time": "2022-10-17T09:42:31.819Z"
   },
   {
    "duration": 6,
    "start_time": "2022-10-17T09:42:31.874Z"
   },
   {
    "duration": 127,
    "start_time": "2022-10-17T09:42:31.882Z"
   },
   {
    "duration": 44,
    "start_time": "2022-10-17T09:42:32.011Z"
   },
   {
    "duration": 13,
    "start_time": "2022-10-17T09:42:32.057Z"
   },
   {
    "duration": 4579,
    "start_time": "2022-10-17T09:42:32.072Z"
   },
   {
    "duration": 10,
    "start_time": "2022-10-17T09:42:36.653Z"
   },
   {
    "duration": 15,
    "start_time": "2022-10-17T09:42:36.665Z"
   },
   {
    "duration": 49,
    "start_time": "2022-10-17T09:42:36.681Z"
   },
   {
    "duration": 7,
    "start_time": "2022-10-17T09:42:36.736Z"
   },
   {
    "duration": 307,
    "start_time": "2022-10-17T09:42:36.745Z"
   },
   {
    "duration": 9,
    "start_time": "2022-10-17T09:42:37.054Z"
   },
   {
    "duration": 9,
    "start_time": "2022-10-17T09:42:37.066Z"
   },
   {
    "duration": 14,
    "start_time": "2022-10-17T09:42:37.077Z"
   },
   {
    "duration": 23,
    "start_time": "2022-10-17T09:42:37.093Z"
   },
   {
    "duration": 281,
    "start_time": "2022-10-17T09:42:37.118Z"
   },
   {
    "duration": 56,
    "start_time": "2022-10-17T09:42:37.402Z"
   },
   {
    "duration": 252,
    "start_time": "2022-10-17T09:42:37.462Z"
   },
   {
    "duration": 10,
    "start_time": "2022-10-17T09:42:37.716Z"
   },
   {
    "duration": 9,
    "start_time": "2022-10-17T09:42:37.728Z"
   },
   {
    "duration": 18,
    "start_time": "2022-10-17T09:42:37.739Z"
   },
   {
    "duration": 10,
    "start_time": "2022-10-17T09:42:37.758Z"
   },
   {
    "duration": 44,
    "start_time": "2022-10-17T09:42:37.769Z"
   },
   {
    "duration": 9,
    "start_time": "2022-10-17T09:42:37.814Z"
   },
   {
    "duration": 10,
    "start_time": "2022-10-17T09:42:37.825Z"
   },
   {
    "duration": 9,
    "start_time": "2022-10-17T09:42:37.837Z"
   },
   {
    "duration": 8,
    "start_time": "2022-10-17T09:42:37.848Z"
   },
   {
    "duration": 10,
    "start_time": "2022-10-17T09:42:37.858Z"
   },
   {
    "duration": 46,
    "start_time": "2022-10-17T09:42:37.870Z"
   },
   {
    "duration": 12,
    "start_time": "2022-10-17T09:42:37.918Z"
   },
   {
    "duration": 11,
    "start_time": "2022-10-17T09:42:37.932Z"
   },
   {
    "duration": 101,
    "start_time": "2022-10-17T09:42:37.945Z"
   },
   {
    "duration": 13,
    "start_time": "2022-10-17T09:42:38.048Z"
   },
   {
    "duration": 9,
    "start_time": "2022-10-17T09:42:38.063Z"
   },
   {
    "duration": 9,
    "start_time": "2022-10-17T09:42:38.074Z"
   },
   {
    "duration": 31,
    "start_time": "2022-10-17T09:42:38.110Z"
   },
   {
    "duration": 8,
    "start_time": "2022-10-17T09:42:38.143Z"
   },
   {
    "duration": 245,
    "start_time": "2022-10-17T09:42:38.154Z"
   },
   {
    "duration": 226,
    "start_time": "2022-10-17T09:42:38.401Z"
   },
   {
    "duration": 249,
    "start_time": "2022-10-17T09:42:38.629Z"
   },
   {
    "duration": 278,
    "start_time": "2022-10-17T09:42:38.880Z"
   },
   {
    "duration": 232,
    "start_time": "2022-10-17T09:42:39.160Z"
   },
   {
    "duration": 325,
    "start_time": "2022-10-17T09:42:39.394Z"
   },
   {
    "duration": 251,
    "start_time": "2022-10-17T09:42:39.721Z"
   },
   {
    "duration": 234,
    "start_time": "2022-10-17T09:42:39.975Z"
   },
   {
    "duration": 131,
    "start_time": "2022-10-17T09:42:40.211Z"
   },
   {
    "duration": 254,
    "start_time": "2022-10-17T09:42:40.344Z"
   },
   {
    "duration": 224,
    "start_time": "2022-10-17T09:42:40.608Z"
   },
   {
    "duration": 325,
    "start_time": "2022-10-17T09:42:40.834Z"
   },
   {
    "duration": 227,
    "start_time": "2022-10-17T09:42:41.161Z"
   },
   {
    "duration": 238,
    "start_time": "2022-10-17T09:42:41.390Z"
   },
   {
    "duration": 239,
    "start_time": "2022-10-17T09:42:41.630Z"
   },
   {
    "duration": 238,
    "start_time": "2022-10-17T09:42:41.871Z"
   },
   {
    "duration": 10,
    "start_time": "2022-10-17T09:42:42.110Z"
   },
   {
    "duration": 19,
    "start_time": "2022-10-17T09:42:42.121Z"
   },
   {
    "duration": 264,
    "start_time": "2022-10-17T09:42:42.142Z"
   },
   {
    "duration": 1754,
    "start_time": "2022-10-17T09:42:42.409Z"
   },
   {
    "duration": 44,
    "start_time": "2022-10-17T09:42:44.167Z"
   },
   {
    "duration": 161,
    "start_time": "2022-10-17T09:42:44.213Z"
   },
   {
    "duration": 57,
    "start_time": "2022-10-17T09:45:53.798Z"
   },
   {
    "duration": 408,
    "start_time": "2022-10-17T10:37:57.443Z"
   },
   {
    "duration": 78,
    "start_time": "2022-10-17T10:37:57.853Z"
   },
   {
    "duration": 38,
    "start_time": "2022-10-17T10:37:57.933Z"
   },
   {
    "duration": 15,
    "start_time": "2022-10-17T10:37:57.973Z"
   },
   {
    "duration": 2009,
    "start_time": "2022-10-17T10:37:57.990Z"
   },
   {
    "duration": 24,
    "start_time": "2022-10-17T10:38:00.002Z"
   },
   {
    "duration": 11,
    "start_time": "2022-10-17T10:38:00.027Z"
   },
   {
    "duration": 20,
    "start_time": "2022-10-17T10:38:00.039Z"
   },
   {
    "duration": 10,
    "start_time": "2022-10-17T10:38:00.061Z"
   },
   {
    "duration": 78,
    "start_time": "2022-10-17T10:38:00.074Z"
   },
   {
    "duration": 59,
    "start_time": "2022-10-17T10:38:00.154Z"
   },
   {
    "duration": 5,
    "start_time": "2022-10-17T10:38:00.215Z"
   },
   {
    "duration": 60,
    "start_time": "2022-10-17T10:38:00.222Z"
   },
   {
    "duration": 47,
    "start_time": "2022-10-17T10:38:00.310Z"
   },
   {
    "duration": 11,
    "start_time": "2022-10-17T10:38:00.359Z"
   },
   {
    "duration": 4184,
    "start_time": "2022-10-17T10:38:00.372Z"
   },
   {
    "duration": 11,
    "start_time": "2022-10-17T10:38:04.557Z"
   },
   {
    "duration": 13,
    "start_time": "2022-10-17T10:38:04.569Z"
   },
   {
    "duration": 48,
    "start_time": "2022-10-17T10:38:04.584Z"
   },
   {
    "duration": 17,
    "start_time": "2022-10-17T10:38:04.639Z"
   },
   {
    "duration": 282,
    "start_time": "2022-10-17T10:38:04.658Z"
   },
   {
    "duration": 8,
    "start_time": "2022-10-17T10:38:04.942Z"
   },
   {
    "duration": 4,
    "start_time": "2022-10-17T10:38:04.951Z"
   },
   {
    "duration": 12,
    "start_time": "2022-10-17T10:38:04.957Z"
   },
   {
    "duration": 6,
    "start_time": "2022-10-17T10:38:04.970Z"
   },
   {
    "duration": 257,
    "start_time": "2022-10-17T10:38:04.977Z"
   },
   {
    "duration": 38,
    "start_time": "2022-10-17T10:38:05.237Z"
   },
   {
    "duration": 252,
    "start_time": "2022-10-17T10:38:05.279Z"
   },
   {
    "duration": 8,
    "start_time": "2022-10-17T10:38:05.532Z"
   },
   {
    "duration": 8,
    "start_time": "2022-10-17T10:38:05.541Z"
   },
   {
    "duration": 7,
    "start_time": "2022-10-17T10:38:05.551Z"
   },
   {
    "duration": 7,
    "start_time": "2022-10-17T10:38:05.560Z"
   },
   {
    "duration": 7,
    "start_time": "2022-10-17T10:38:05.569Z"
   },
   {
    "duration": 38,
    "start_time": "2022-10-17T10:38:05.577Z"
   },
   {
    "duration": 7,
    "start_time": "2022-10-17T10:38:05.617Z"
   },
   {
    "duration": 8,
    "start_time": "2022-10-17T10:38:05.626Z"
   },
   {
    "duration": 8,
    "start_time": "2022-10-17T10:38:05.636Z"
   },
   {
    "duration": 9,
    "start_time": "2022-10-17T10:38:05.646Z"
   },
   {
    "duration": 6,
    "start_time": "2022-10-17T10:38:05.657Z"
   },
   {
    "duration": 46,
    "start_time": "2022-10-17T10:38:05.665Z"
   },
   {
    "duration": 9,
    "start_time": "2022-10-17T10:38:05.713Z"
   },
   {
    "duration": 87,
    "start_time": "2022-10-17T10:38:05.724Z"
   },
   {
    "duration": 10,
    "start_time": "2022-10-17T10:38:05.813Z"
   },
   {
    "duration": 7,
    "start_time": "2022-10-17T10:38:05.825Z"
   },
   {
    "duration": 8,
    "start_time": "2022-10-17T10:38:05.833Z"
   },
   {
    "duration": 25,
    "start_time": "2022-10-17T10:38:05.843Z"
   },
   {
    "duration": 39,
    "start_time": "2022-10-17T10:38:05.870Z"
   },
   {
    "duration": 230,
    "start_time": "2022-10-17T10:38:05.911Z"
   },
   {
    "duration": 216,
    "start_time": "2022-10-17T10:38:06.143Z"
   },
   {
    "duration": 228,
    "start_time": "2022-10-17T10:38:06.361Z"
   },
   {
    "duration": 245,
    "start_time": "2022-10-17T10:38:06.591Z"
   },
   {
    "duration": 211,
    "start_time": "2022-10-17T10:38:06.838Z"
   },
   {
    "duration": 298,
    "start_time": "2022-10-17T10:38:07.051Z"
   },
   {
    "duration": 234,
    "start_time": "2022-10-17T10:38:07.351Z"
   },
   {
    "duration": 223,
    "start_time": "2022-10-17T10:38:07.587Z"
   },
   {
    "duration": 124,
    "start_time": "2022-10-17T10:38:07.812Z"
   },
   {
    "duration": 232,
    "start_time": "2022-10-17T10:38:07.938Z"
   },
   {
    "duration": 220,
    "start_time": "2022-10-17T10:38:08.172Z"
   },
   {
    "duration": 307,
    "start_time": "2022-10-17T10:38:08.393Z"
   },
   {
    "duration": 225,
    "start_time": "2022-10-17T10:38:08.702Z"
   },
   {
    "duration": 219,
    "start_time": "2022-10-17T10:38:08.928Z"
   },
   {
    "duration": 215,
    "start_time": "2022-10-17T10:38:09.149Z"
   },
   {
    "duration": 232,
    "start_time": "2022-10-17T10:38:09.366Z"
   },
   {
    "duration": 14,
    "start_time": "2022-10-17T10:38:09.600Z"
   },
   {
    "duration": 18,
    "start_time": "2022-10-17T10:38:09.616Z"
   },
   {
    "duration": 242,
    "start_time": "2022-10-17T10:38:09.636Z"
   },
   {
    "duration": 1606,
    "start_time": "2022-10-17T10:38:09.880Z"
   },
   {
    "duration": 38,
    "start_time": "2022-10-17T10:38:11.488Z"
   },
   {
    "duration": 188,
    "start_time": "2022-10-17T10:38:11.527Z"
   },
   {
    "duration": 397,
    "start_time": "2022-10-17T11:31:01.857Z"
   },
   {
    "duration": 85,
    "start_time": "2022-10-17T11:31:02.256Z"
   },
   {
    "duration": 39,
    "start_time": "2022-10-17T11:31:02.343Z"
   },
   {
    "duration": 25,
    "start_time": "2022-10-17T11:31:02.384Z"
   },
   {
    "duration": 2103,
    "start_time": "2022-10-17T11:31:02.410Z"
   },
   {
    "duration": 18,
    "start_time": "2022-10-17T11:31:04.514Z"
   },
   {
    "duration": 43,
    "start_time": "2022-10-17T11:31:04.534Z"
   },
   {
    "duration": 50,
    "start_time": "2022-10-17T11:31:04.578Z"
   },
   {
    "duration": 41,
    "start_time": "2022-10-17T11:31:04.630Z"
   },
   {
    "duration": 64,
    "start_time": "2022-10-17T11:31:04.673Z"
   },
   {
    "duration": 47,
    "start_time": "2022-10-17T11:31:04.739Z"
   },
   {
    "duration": 5,
    "start_time": "2022-10-17T11:31:04.788Z"
   },
   {
    "duration": 66,
    "start_time": "2022-10-17T11:31:04.794Z"
   },
   {
    "duration": 71,
    "start_time": "2022-10-17T11:31:04.862Z"
   },
   {
    "duration": 29,
    "start_time": "2022-10-17T11:31:04.935Z"
   },
   {
    "duration": 4014,
    "start_time": "2022-10-17T11:31:04.966Z"
   },
   {
    "duration": 9,
    "start_time": "2022-10-17T11:31:08.982Z"
   },
   {
    "duration": 28,
    "start_time": "2022-10-17T11:31:08.993Z"
   },
   {
    "duration": 71,
    "start_time": "2022-10-17T11:31:09.023Z"
   },
   {
    "duration": 6,
    "start_time": "2022-10-17T11:31:09.096Z"
   },
   {
    "duration": 244,
    "start_time": "2022-10-17T11:31:09.103Z"
   },
   {
    "duration": 7,
    "start_time": "2022-10-17T11:31:09.349Z"
   },
   {
    "duration": 23,
    "start_time": "2022-10-17T11:31:09.357Z"
   },
   {
    "duration": 37,
    "start_time": "2022-10-17T11:31:09.381Z"
   },
   {
    "duration": 11,
    "start_time": "2022-10-17T11:31:09.420Z"
   },
   {
    "duration": 251,
    "start_time": "2022-10-17T11:31:09.432Z"
   },
   {
    "duration": 39,
    "start_time": "2022-10-17T11:31:09.685Z"
   },
   {
    "duration": 245,
    "start_time": "2022-10-17T11:31:09.729Z"
   },
   {
    "duration": 9,
    "start_time": "2022-10-17T11:31:09.976Z"
   },
   {
    "duration": 23,
    "start_time": "2022-10-17T11:31:09.987Z"
   },
   {
    "duration": 9,
    "start_time": "2022-10-17T11:31:10.012Z"
   },
   {
    "duration": 23,
    "start_time": "2022-10-17T11:31:10.023Z"
   },
   {
    "duration": 18,
    "start_time": "2022-10-17T11:31:10.048Z"
   },
   {
    "duration": 20,
    "start_time": "2022-10-17T11:31:10.068Z"
   },
   {
    "duration": 19,
    "start_time": "2022-10-17T11:31:10.089Z"
   },
   {
    "duration": 8,
    "start_time": "2022-10-17T11:31:10.110Z"
   },
   {
    "duration": 9,
    "start_time": "2022-10-17T11:31:10.119Z"
   },
   {
    "duration": 11,
    "start_time": "2022-10-17T11:31:10.129Z"
   },
   {
    "duration": 18,
    "start_time": "2022-10-17T11:31:10.142Z"
   },
   {
    "duration": 19,
    "start_time": "2022-10-17T11:31:10.161Z"
   },
   {
    "duration": 15,
    "start_time": "2022-10-17T11:31:10.182Z"
   },
   {
    "duration": 74,
    "start_time": "2022-10-17T11:31:10.198Z"
   },
   {
    "duration": 28,
    "start_time": "2022-10-17T11:31:10.273Z"
   },
   {
    "duration": 24,
    "start_time": "2022-10-17T11:31:10.302Z"
   },
   {
    "duration": 30,
    "start_time": "2022-10-17T11:31:10.327Z"
   },
   {
    "duration": 28,
    "start_time": "2022-10-17T11:31:10.360Z"
   },
   {
    "duration": 5,
    "start_time": "2022-10-17T11:31:10.389Z"
   },
   {
    "duration": 273,
    "start_time": "2022-10-17T11:31:10.396Z"
   },
   {
    "duration": 213,
    "start_time": "2022-10-17T11:31:10.671Z"
   },
   {
    "duration": 211,
    "start_time": "2022-10-17T11:31:10.885Z"
   },
   {
    "duration": 248,
    "start_time": "2022-10-17T11:31:11.098Z"
   },
   {
    "duration": 223,
    "start_time": "2022-10-17T11:31:11.348Z"
   },
   {
    "duration": 316,
    "start_time": "2022-10-17T11:31:11.573Z"
   },
   {
    "duration": 223,
    "start_time": "2022-10-17T11:31:11.891Z"
   },
   {
    "duration": 225,
    "start_time": "2022-10-17T11:31:12.116Z"
   },
   {
    "duration": 128,
    "start_time": "2022-10-17T11:31:12.343Z"
   },
   {
    "duration": 293,
    "start_time": "2022-10-17T11:31:12.473Z"
   },
   {
    "duration": 228,
    "start_time": "2022-10-17T11:31:12.768Z"
   },
   {
    "duration": 315,
    "start_time": "2022-10-17T11:31:12.997Z"
   },
   {
    "duration": 213,
    "start_time": "2022-10-17T11:31:13.313Z"
   },
   {
    "duration": 218,
    "start_time": "2022-10-17T11:31:13.528Z"
   },
   {
    "duration": 236,
    "start_time": "2022-10-17T11:31:13.747Z"
   },
   {
    "duration": 225,
    "start_time": "2022-10-17T11:31:13.985Z"
   },
   {
    "duration": 9,
    "start_time": "2022-10-17T11:31:14.212Z"
   },
   {
    "duration": 27,
    "start_time": "2022-10-17T11:31:14.222Z"
   },
   {
    "duration": 232,
    "start_time": "2022-10-17T11:31:14.251Z"
   },
   {
    "duration": 1572,
    "start_time": "2022-10-17T11:31:14.484Z"
   },
   {
    "duration": 24,
    "start_time": "2022-10-17T11:31:16.057Z"
   },
   {
    "duration": 153,
    "start_time": "2022-10-17T11:31:16.083Z"
   },
   {
    "duration": 13,
    "start_time": "2022-10-17T11:39:34.430Z"
   },
   {
    "duration": 86,
    "start_time": "2022-10-17T11:39:37.816Z"
   },
   {
    "duration": 7,
    "start_time": "2022-10-17T11:40:26.988Z"
   },
   {
    "duration": 47,
    "start_time": "2022-10-18T04:27:15.970Z"
   },
   {
    "duration": 363,
    "start_time": "2022-10-18T04:27:23.436Z"
   },
   {
    "duration": 116,
    "start_time": "2022-10-18T04:27:26.619Z"
   },
   {
    "duration": 2,
    "start_time": "2022-10-18T04:27:28.706Z"
   },
   {
    "duration": 3,
    "start_time": "2022-10-18T04:27:36.873Z"
   },
   {
    "duration": 37,
    "start_time": "2022-10-18T04:27:46.533Z"
   },
   {
    "duration": 2159,
    "start_time": "2022-10-18T04:29:04.333Z"
   },
   {
    "duration": 18,
    "start_time": "2022-10-18T04:29:31.766Z"
   },
   {
    "duration": 19,
    "start_time": "2022-10-18T04:29:34.477Z"
   },
   {
    "duration": 8,
    "start_time": "2022-10-18T04:32:38.684Z"
   },
   {
    "duration": 10,
    "start_time": "2022-10-18T04:33:13.053Z"
   },
   {
    "duration": 203,
    "start_time": "2022-10-18T04:33:41.021Z"
   },
   {
    "duration": 23,
    "start_time": "2022-10-18T04:33:54.765Z"
   },
   {
    "duration": 19,
    "start_time": "2022-10-18T04:34:13.654Z"
   },
   {
    "duration": 3,
    "start_time": "2022-10-18T04:34:27.877Z"
   },
   {
    "duration": 24,
    "start_time": "2022-10-18T04:34:43.758Z"
   },
   {
    "duration": 399,
    "start_time": "2022-10-18T04:35:30.595Z"
   },
   {
    "duration": 110,
    "start_time": "2022-10-18T04:35:31.008Z"
   },
   {
    "duration": 44,
    "start_time": "2022-10-18T04:35:31.120Z"
   },
   {
    "duration": 14,
    "start_time": "2022-10-18T04:35:31.167Z"
   },
   {
    "duration": 1961,
    "start_time": "2022-10-18T04:35:31.183Z"
   },
   {
    "duration": 16,
    "start_time": "2022-10-18T04:35:33.146Z"
   },
   {
    "duration": 8,
    "start_time": "2022-10-18T04:35:33.163Z"
   },
   {
    "duration": 12,
    "start_time": "2022-10-18T04:35:33.173Z"
   },
   {
    "duration": 9,
    "start_time": "2022-10-18T04:35:33.186Z"
   },
   {
    "duration": 47,
    "start_time": "2022-10-18T04:35:33.198Z"
   },
   {
    "duration": 65,
    "start_time": "2022-10-18T04:35:33.246Z"
   },
   {
    "duration": 5,
    "start_time": "2022-10-18T04:35:33.312Z"
   },
   {
    "duration": 49,
    "start_time": "2022-10-18T04:35:33.320Z"
   },
   {
    "duration": 77,
    "start_time": "2022-10-18T04:35:33.371Z"
   },
   {
    "duration": 11,
    "start_time": "2022-10-18T04:35:33.450Z"
   },
   {
    "duration": 3949,
    "start_time": "2022-10-18T04:35:33.463Z"
   },
   {
    "duration": 10,
    "start_time": "2022-10-18T04:35:37.414Z"
   },
   {
    "duration": 7,
    "start_time": "2022-10-18T04:35:37.425Z"
   },
   {
    "duration": 78,
    "start_time": "2022-10-18T04:35:37.434Z"
   },
   {
    "duration": 4,
    "start_time": "2022-10-18T04:35:37.513Z"
   },
   {
    "duration": 227,
    "start_time": "2022-10-18T04:35:37.519Z"
   },
   {
    "duration": 17,
    "start_time": "2022-10-18T04:35:37.748Z"
   },
   {
    "duration": 5,
    "start_time": "2022-10-18T04:35:37.766Z"
   },
   {
    "duration": 23,
    "start_time": "2022-10-18T04:35:37.772Z"
   },
   {
    "duration": 6,
    "start_time": "2022-10-18T04:35:37.809Z"
   },
   {
    "duration": 222,
    "start_time": "2022-10-18T04:35:37.816Z"
   },
   {
    "duration": 43,
    "start_time": "2022-10-18T04:35:38.040Z"
   },
   {
    "duration": 299,
    "start_time": "2022-10-18T04:35:38.086Z"
   },
   {
    "duration": 23,
    "start_time": "2022-10-18T04:35:38.386Z"
   },
   {
    "duration": 16,
    "start_time": "2022-10-18T04:35:38.410Z"
   },
   {
    "duration": 7,
    "start_time": "2022-10-18T04:35:38.428Z"
   },
   {
    "duration": 15,
    "start_time": "2022-10-18T04:35:38.436Z"
   },
   {
    "duration": 15,
    "start_time": "2022-10-18T04:35:38.452Z"
   },
   {
    "duration": 50,
    "start_time": "2022-10-18T04:35:38.468Z"
   },
   {
    "duration": 17,
    "start_time": "2022-10-18T04:35:38.519Z"
   },
   {
    "duration": 7,
    "start_time": "2022-10-18T04:35:38.537Z"
   },
   {
    "duration": 21,
    "start_time": "2022-10-18T04:35:38.545Z"
   },
   {
    "duration": 9,
    "start_time": "2022-10-18T04:35:38.568Z"
   },
   {
    "duration": 48,
    "start_time": "2022-10-18T04:35:38.578Z"
   },
   {
    "duration": 6,
    "start_time": "2022-10-18T04:35:38.628Z"
   },
   {
    "duration": 17,
    "start_time": "2022-10-18T04:35:38.636Z"
   },
   {
    "duration": 16,
    "start_time": "2022-10-18T04:35:38.655Z"
   },
   {
    "duration": 48,
    "start_time": "2022-10-18T04:35:38.673Z"
   },
   {
    "duration": 7,
    "start_time": "2022-10-18T04:35:38.722Z"
   },
   {
    "duration": 7,
    "start_time": "2022-10-18T04:35:38.731Z"
   },
   {
    "duration": 8,
    "start_time": "2022-10-18T04:35:38.740Z"
   },
   {
    "duration": 16,
    "start_time": "2022-10-18T04:35:38.750Z"
   },
   {
    "duration": 4,
    "start_time": "2022-10-18T04:35:38.768Z"
   },
   {
    "duration": 237,
    "start_time": "2022-10-18T04:35:38.773Z"
   },
   {
    "duration": 204,
    "start_time": "2022-10-18T04:35:39.012Z"
   },
   {
    "duration": 198,
    "start_time": "2022-10-18T04:35:39.218Z"
   },
   {
    "duration": 231,
    "start_time": "2022-10-18T04:35:39.418Z"
   },
   {
    "duration": 202,
    "start_time": "2022-10-18T04:35:39.651Z"
   },
   {
    "duration": 263,
    "start_time": "2022-10-18T04:35:39.855Z"
   },
   {
    "duration": 216,
    "start_time": "2022-10-18T04:35:40.119Z"
   },
   {
    "duration": 213,
    "start_time": "2022-10-18T04:35:40.337Z"
   },
   {
    "duration": 127,
    "start_time": "2022-10-18T04:35:40.551Z"
   },
   {
    "duration": 218,
    "start_time": "2022-10-18T04:35:40.679Z"
   },
   {
    "duration": 201,
    "start_time": "2022-10-18T04:35:40.899Z"
   },
   {
    "duration": 266,
    "start_time": "2022-10-18T04:35:41.101Z"
   },
   {
    "duration": 206,
    "start_time": "2022-10-18T04:35:41.369Z"
   },
   {
    "duration": 233,
    "start_time": "2022-10-18T04:35:41.576Z"
   },
   {
    "duration": 201,
    "start_time": "2022-10-18T04:35:41.811Z"
   },
   {
    "duration": 207,
    "start_time": "2022-10-18T04:35:42.014Z"
   },
   {
    "duration": 17,
    "start_time": "2022-10-18T04:35:42.223Z"
   },
   {
    "duration": 26,
    "start_time": "2022-10-18T04:35:42.242Z"
   },
   {
    "duration": 314,
    "start_time": "2022-10-18T04:35:42.269Z"
   },
   {
    "duration": 1379,
    "start_time": "2022-10-18T04:35:42.584Z"
   },
   {
    "duration": 56,
    "start_time": "2022-10-18T04:35:43.965Z"
   },
   {
    "duration": 139,
    "start_time": "2022-10-18T04:35:44.022Z"
   },
   {
    "duration": 375,
    "start_time": "2022-10-18T04:36:28.252Z"
   },
   {
    "duration": 87,
    "start_time": "2022-10-18T04:36:28.628Z"
   },
   {
    "duration": 51,
    "start_time": "2022-10-18T04:36:28.717Z"
   },
   {
    "duration": 38,
    "start_time": "2022-10-18T04:36:28.771Z"
   },
   {
    "duration": 1937,
    "start_time": "2022-10-18T04:36:28.811Z"
   },
   {
    "duration": 17,
    "start_time": "2022-10-18T04:36:30.750Z"
   },
   {
    "duration": 8,
    "start_time": "2022-10-18T04:36:30.768Z"
   },
   {
    "duration": 32,
    "start_time": "2022-10-18T04:36:30.777Z"
   },
   {
    "duration": 30,
    "start_time": "2022-10-18T04:36:30.811Z"
   },
   {
    "duration": 41,
    "start_time": "2022-10-18T04:36:30.844Z"
   },
   {
    "duration": 39,
    "start_time": "2022-10-18T04:36:30.887Z"
   },
   {
    "duration": 5,
    "start_time": "2022-10-18T04:36:30.928Z"
   },
   {
    "duration": 74,
    "start_time": "2022-10-18T04:36:30.935Z"
   },
   {
    "duration": 51,
    "start_time": "2022-10-18T04:36:31.011Z"
   },
   {
    "duration": 13,
    "start_time": "2022-10-18T04:36:31.064Z"
   },
   {
    "duration": 3831,
    "start_time": "2022-10-18T04:36:31.078Z"
   },
   {
    "duration": 11,
    "start_time": "2022-10-18T04:36:34.910Z"
   },
   {
    "duration": 6,
    "start_time": "2022-10-18T04:36:34.923Z"
   },
   {
    "duration": 78,
    "start_time": "2022-10-18T04:36:34.931Z"
   },
   {
    "duration": 6,
    "start_time": "2022-10-18T04:36:35.010Z"
   },
   {
    "duration": 226,
    "start_time": "2022-10-18T04:36:35.017Z"
   },
   {
    "duration": 9,
    "start_time": "2022-10-18T04:36:35.245Z"
   },
   {
    "duration": 4,
    "start_time": "2022-10-18T04:36:35.256Z"
   },
   {
    "duration": 14,
    "start_time": "2022-10-18T04:36:35.262Z"
   },
   {
    "duration": 7,
    "start_time": "2022-10-18T04:36:35.278Z"
   },
   {
    "duration": 240,
    "start_time": "2022-10-18T04:36:35.287Z"
   },
   {
    "duration": 30,
    "start_time": "2022-10-18T04:36:35.529Z"
   },
   {
    "duration": 225,
    "start_time": "2022-10-18T04:36:35.562Z"
   },
   {
    "duration": 22,
    "start_time": "2022-10-18T04:36:35.789Z"
   },
   {
    "duration": 8,
    "start_time": "2022-10-18T04:36:35.813Z"
   },
   {
    "duration": 7,
    "start_time": "2022-10-18T04:36:35.823Z"
   },
   {
    "duration": 10,
    "start_time": "2022-10-18T04:36:35.832Z"
   },
   {
    "duration": 11,
    "start_time": "2022-10-18T04:36:35.843Z"
   },
   {
    "duration": 12,
    "start_time": "2022-10-18T04:36:35.856Z"
   },
   {
    "duration": 9,
    "start_time": "2022-10-18T04:36:35.869Z"
   },
   {
    "duration": 31,
    "start_time": "2022-10-18T04:36:35.880Z"
   },
   {
    "duration": 7,
    "start_time": "2022-10-18T04:36:35.912Z"
   },
   {
    "duration": 19,
    "start_time": "2022-10-18T04:36:35.921Z"
   },
   {
    "duration": 11,
    "start_time": "2022-10-18T04:36:35.942Z"
   },
   {
    "duration": 11,
    "start_time": "2022-10-18T04:36:35.955Z"
   },
   {
    "duration": 13,
    "start_time": "2022-10-18T04:36:35.968Z"
   },
   {
    "duration": 28,
    "start_time": "2022-10-18T04:36:35.983Z"
   },
   {
    "duration": 81,
    "start_time": "2022-10-18T04:36:36.013Z"
   },
   {
    "duration": 15,
    "start_time": "2022-10-18T04:36:36.095Z"
   },
   {
    "duration": 7,
    "start_time": "2022-10-18T04:36:36.111Z"
   },
   {
    "duration": 11,
    "start_time": "2022-10-18T04:36:36.119Z"
   },
   {
    "duration": 15,
    "start_time": "2022-10-18T04:36:36.132Z"
   },
   {
    "duration": 4,
    "start_time": "2022-10-18T04:36:36.148Z"
   },
   {
    "duration": 244,
    "start_time": "2022-10-18T04:36:36.153Z"
   },
   {
    "duration": 221,
    "start_time": "2022-10-18T04:36:36.398Z"
   },
   {
    "duration": 201,
    "start_time": "2022-10-18T04:36:36.621Z"
   },
   {
    "duration": 225,
    "start_time": "2022-10-18T04:36:36.824Z"
   },
   {
    "duration": 204,
    "start_time": "2022-10-18T04:36:37.051Z"
   },
   {
    "duration": 283,
    "start_time": "2022-10-18T04:36:37.257Z"
   },
   {
    "duration": 228,
    "start_time": "2022-10-18T04:36:37.542Z"
   },
   {
    "duration": 223,
    "start_time": "2022-10-18T04:36:37.772Z"
   },
   {
    "duration": 134,
    "start_time": "2022-10-18T04:36:37.996Z"
   },
   {
    "duration": 222,
    "start_time": "2022-10-18T04:36:38.132Z"
   },
   {
    "duration": 206,
    "start_time": "2022-10-18T04:36:38.355Z"
   },
   {
    "duration": 274,
    "start_time": "2022-10-18T04:36:38.563Z"
   },
   {
    "duration": 204,
    "start_time": "2022-10-18T04:36:38.838Z"
   },
   {
    "duration": 203,
    "start_time": "2022-10-18T04:36:39.044Z"
   },
   {
    "duration": 207,
    "start_time": "2022-10-18T04:36:39.249Z"
   },
   {
    "duration": 207,
    "start_time": "2022-10-18T04:36:39.458Z"
   },
   {
    "duration": 8,
    "start_time": "2022-10-18T04:36:39.666Z"
   },
   {
    "duration": 16,
    "start_time": "2022-10-18T04:36:39.676Z"
   },
   {
    "duration": 227,
    "start_time": "2022-10-18T04:36:39.694Z"
   },
   {
    "duration": 1475,
    "start_time": "2022-10-18T04:36:39.922Z"
   },
   {
    "duration": 29,
    "start_time": "2022-10-18T04:36:41.399Z"
   },
   {
    "duration": 150,
    "start_time": "2022-10-18T04:36:41.430Z"
   },
   {
    "duration": 9,
    "start_time": "2022-10-18T04:39:15.248Z"
   },
   {
    "duration": 4,
    "start_time": "2022-10-18T04:39:29.410Z"
   },
   {
    "duration": 8,
    "start_time": "2022-10-18T04:39:31.119Z"
   },
   {
    "duration": 118,
    "start_time": "2022-10-18T04:40:58.481Z"
   },
   {
    "duration": 225,
    "start_time": "2022-10-18T04:41:04.186Z"
   },
   {
    "duration": 229,
    "start_time": "2022-10-18T04:41:11.305Z"
   },
   {
    "duration": 219,
    "start_time": "2022-10-18T04:41:41.395Z"
   },
   {
    "duration": 7,
    "start_time": "2022-10-18T04:42:30.873Z"
   },
   {
    "duration": 311,
    "start_time": "2022-10-18T04:42:31.464Z"
   },
   {
    "duration": 7,
    "start_time": "2022-10-18T04:42:57.544Z"
   },
   {
    "duration": 189,
    "start_time": "2022-10-18T04:42:58.788Z"
   },
   {
    "duration": 202,
    "start_time": "2022-10-18T04:43:27.219Z"
   },
   {
    "duration": 11,
    "start_time": "2022-10-18T04:43:47.505Z"
   },
   {
    "duration": 403,
    "start_time": "2022-10-18T04:44:05.612Z"
   },
   {
    "duration": 78,
    "start_time": "2022-10-18T04:44:06.016Z"
   },
   {
    "duration": 37,
    "start_time": "2022-10-18T04:44:06.096Z"
   },
   {
    "duration": 13,
    "start_time": "2022-10-18T04:44:06.135Z"
   },
   {
    "duration": 1923,
    "start_time": "2022-10-18T04:44:06.149Z"
   },
   {
    "duration": 17,
    "start_time": "2022-10-18T04:44:08.073Z"
   },
   {
    "duration": 8,
    "start_time": "2022-10-18T04:44:08.091Z"
   },
   {
    "duration": 13,
    "start_time": "2022-10-18T04:44:08.100Z"
   },
   {
    "duration": 7,
    "start_time": "2022-10-18T04:44:08.115Z"
   },
   {
    "duration": 33,
    "start_time": "2022-10-18T04:44:08.124Z"
   },
   {
    "duration": 50,
    "start_time": "2022-10-18T04:44:08.158Z"
   },
   {
    "duration": 5,
    "start_time": "2022-10-18T04:44:08.209Z"
   },
   {
    "duration": 44,
    "start_time": "2022-10-18T04:44:08.215Z"
   },
   {
    "duration": 72,
    "start_time": "2022-10-18T04:44:08.260Z"
   },
   {
    "duration": 11,
    "start_time": "2022-10-18T04:44:08.334Z"
   },
   {
    "duration": 3805,
    "start_time": "2022-10-18T04:44:08.346Z"
   },
   {
    "duration": 10,
    "start_time": "2022-10-18T04:44:12.152Z"
   },
   {
    "duration": 6,
    "start_time": "2022-10-18T04:44:12.163Z"
   },
   {
    "duration": 60,
    "start_time": "2022-10-18T04:44:12.170Z"
   },
   {
    "duration": 4,
    "start_time": "2022-10-18T04:44:12.231Z"
   },
   {
    "duration": 236,
    "start_time": "2022-10-18T04:44:12.237Z"
   },
   {
    "duration": 7,
    "start_time": "2022-10-18T04:44:12.475Z"
   },
   {
    "duration": 5,
    "start_time": "2022-10-18T04:44:12.484Z"
   },
   {
    "duration": 24,
    "start_time": "2022-10-18T04:44:12.490Z"
   },
   {
    "duration": 8,
    "start_time": "2022-10-18T04:44:12.516Z"
   },
   {
    "duration": 238,
    "start_time": "2022-10-18T04:44:12.526Z"
   },
   {
    "duration": 31,
    "start_time": "2022-10-18T04:44:12.765Z"
   },
   {
    "duration": 219,
    "start_time": "2022-10-18T04:44:12.811Z"
   },
   {
    "duration": 8,
    "start_time": "2022-10-18T04:44:13.032Z"
   },
   {
    "duration": 7,
    "start_time": "2022-10-18T04:44:13.041Z"
   },
   {
    "duration": 10,
    "start_time": "2022-10-18T04:44:13.049Z"
   },
   {
    "duration": 289,
    "start_time": "2022-10-18T04:44:13.060Z"
   },
   {
    "duration": 14,
    "start_time": "2022-10-18T04:44:13.350Z"
   },
   {
    "duration": 214,
    "start_time": "2022-10-18T04:44:13.366Z"
   },
   {
    "duration": 7,
    "start_time": "2022-10-18T04:44:13.582Z"
   },
   {
    "duration": 21,
    "start_time": "2022-10-18T04:44:13.591Z"
   },
   {
    "duration": 8,
    "start_time": "2022-10-18T04:44:13.613Z"
   },
   {
    "duration": 7,
    "start_time": "2022-10-18T04:44:13.622Z"
   },
   {
    "duration": 6,
    "start_time": "2022-10-18T04:44:13.630Z"
   },
   {
    "duration": 6,
    "start_time": "2022-10-18T04:44:13.638Z"
   },
   {
    "duration": 5,
    "start_time": "2022-10-18T04:44:13.645Z"
   },
   {
    "duration": 12,
    "start_time": "2022-10-18T04:44:13.651Z"
   },
   {
    "duration": 6,
    "start_time": "2022-10-18T04:44:13.664Z"
   },
   {
    "duration": 39,
    "start_time": "2022-10-18T04:44:13.671Z"
   },
   {
    "duration": 9,
    "start_time": "2022-10-18T04:44:13.711Z"
   },
   {
    "duration": 7,
    "start_time": "2022-10-18T04:44:13.721Z"
   },
   {
    "duration": 9,
    "start_time": "2022-10-18T04:44:13.729Z"
   },
   {
    "duration": 6,
    "start_time": "2022-10-18T04:44:13.739Z"
   },
   {
    "duration": 6,
    "start_time": "2022-10-18T04:44:13.746Z"
   },
   {
    "duration": 15,
    "start_time": "2022-10-18T04:44:13.753Z"
   },
   {
    "duration": 40,
    "start_time": "2022-10-18T04:44:13.770Z"
   },
   {
    "duration": 222,
    "start_time": "2022-10-18T04:44:13.811Z"
   },
   {
    "duration": 199,
    "start_time": "2022-10-18T04:44:14.035Z"
   },
   {
    "duration": 246,
    "start_time": "2022-10-18T04:44:14.236Z"
   },
   {
    "duration": 301,
    "start_time": "2022-10-18T04:44:14.483Z"
   },
   {
    "duration": 207,
    "start_time": "2022-10-18T04:44:14.786Z"
   },
   {
    "duration": 211,
    "start_time": "2022-10-18T04:44:14.995Z"
   },
   {
    "duration": 215,
    "start_time": "2022-10-18T04:44:15.209Z"
   },
   {
    "duration": 229,
    "start_time": "2022-10-18T04:44:15.426Z"
   },
   {
    "duration": 119,
    "start_time": "2022-10-18T04:44:15.656Z"
   },
   {
    "duration": 288,
    "start_time": "2022-10-18T04:44:15.776Z"
   },
   {
    "duration": 214,
    "start_time": "2022-10-18T04:44:16.065Z"
   },
   {
    "duration": 199,
    "start_time": "2022-10-18T04:44:16.280Z"
   },
   {
    "duration": 204,
    "start_time": "2022-10-18T04:44:16.481Z"
   },
   {
    "duration": 214,
    "start_time": "2022-10-18T04:44:16.686Z"
   },
   {
    "duration": 195,
    "start_time": "2022-10-18T04:44:16.901Z"
   },
   {
    "duration": 336,
    "start_time": "2022-10-18T04:44:17.097Z"
   },
   {
    "duration": 8,
    "start_time": "2022-10-18T04:44:17.435Z"
   },
   {
    "duration": 18,
    "start_time": "2022-10-18T04:44:17.444Z"
   },
   {
    "duration": 225,
    "start_time": "2022-10-18T04:44:17.463Z"
   },
   {
    "duration": 1332,
    "start_time": "2022-10-18T04:44:17.689Z"
   },
   {
    "duration": 22,
    "start_time": "2022-10-18T04:44:19.022Z"
   },
   {
    "duration": 151,
    "start_time": "2022-10-18T04:44:19.045Z"
   },
   {
    "duration": 4,
    "start_time": "2022-10-18T04:46:10.475Z"
   },
   {
    "duration": 13,
    "start_time": "2022-10-18T04:53:26.821Z"
   },
   {
    "duration": 6,
    "start_time": "2022-10-18T04:54:15.375Z"
   },
   {
    "duration": 14,
    "start_time": "2022-10-18T04:54:32.317Z"
   },
   {
    "duration": 14,
    "start_time": "2022-10-18T04:54:51.317Z"
   },
   {
    "duration": 6,
    "start_time": "2022-10-18T04:55:24.980Z"
   },
   {
    "duration": 8,
    "start_time": "2022-10-18T04:56:16.654Z"
   },
   {
    "duration": 8,
    "start_time": "2022-10-18T04:56:55.486Z"
   },
   {
    "duration": 203,
    "start_time": "2022-10-18T05:00:23.695Z"
   },
   {
    "duration": 13,
    "start_time": "2022-10-18T05:02:04.408Z"
   },
   {
    "duration": 10,
    "start_time": "2022-10-18T05:02:31.712Z"
   },
   {
    "duration": 380,
    "start_time": "2022-10-18T05:02:36.860Z"
   },
   {
    "duration": 83,
    "start_time": "2022-10-18T05:02:37.242Z"
   },
   {
    "duration": 34,
    "start_time": "2022-10-18T05:02:37.326Z"
   },
   {
    "duration": 13,
    "start_time": "2022-10-18T05:02:37.362Z"
   },
   {
    "duration": 2035,
    "start_time": "2022-10-18T05:02:37.377Z"
   },
   {
    "duration": 17,
    "start_time": "2022-10-18T05:02:39.414Z"
   },
   {
    "duration": 8,
    "start_time": "2022-10-18T05:02:39.433Z"
   },
   {
    "duration": 19,
    "start_time": "2022-10-18T05:02:39.443Z"
   },
   {
    "duration": 9,
    "start_time": "2022-10-18T05:02:39.463Z"
   },
   {
    "duration": 60,
    "start_time": "2022-10-18T05:02:39.474Z"
   },
   {
    "duration": 39,
    "start_time": "2022-10-18T05:02:39.535Z"
   },
   {
    "duration": 5,
    "start_time": "2022-10-18T05:02:39.576Z"
   },
   {
    "duration": 70,
    "start_time": "2022-10-18T05:02:39.582Z"
   },
   {
    "duration": 73,
    "start_time": "2022-10-18T05:02:39.653Z"
   },
   {
    "duration": 12,
    "start_time": "2022-10-18T05:02:39.728Z"
   },
   {
    "duration": 3924,
    "start_time": "2022-10-18T05:02:39.742Z"
   },
   {
    "duration": 10,
    "start_time": "2022-10-18T05:02:43.668Z"
   },
   {
    "duration": 7,
    "start_time": "2022-10-18T05:02:43.680Z"
   },
   {
    "duration": 55,
    "start_time": "2022-10-18T05:02:43.688Z"
   },
   {
    "duration": 4,
    "start_time": "2022-10-18T05:02:43.746Z"
   },
   {
    "duration": 258,
    "start_time": "2022-10-18T05:02:43.751Z"
   },
   {
    "duration": 9,
    "start_time": "2022-10-18T05:02:44.011Z"
   },
   {
    "duration": 5,
    "start_time": "2022-10-18T05:02:44.022Z"
   },
   {
    "duration": 11,
    "start_time": "2022-10-18T05:02:44.028Z"
   },
   {
    "duration": 7,
    "start_time": "2022-10-18T05:02:44.041Z"
   },
   {
    "duration": 221,
    "start_time": "2022-10-18T05:02:44.050Z"
   },
   {
    "duration": 13,
    "start_time": "2022-10-18T05:02:44.273Z"
   },
   {
    "duration": 18,
    "start_time": "2022-10-18T05:02:44.291Z"
   },
   {
    "duration": 8,
    "start_time": "2022-10-18T05:02:44.310Z"
   },
   {
    "duration": 32,
    "start_time": "2022-10-18T05:02:44.319Z"
   },
   {
    "duration": 12,
    "start_time": "2022-10-18T05:02:44.352Z"
   },
   {
    "duration": 293,
    "start_time": "2022-10-18T05:02:44.366Z"
   },
   {
    "duration": 8,
    "start_time": "2022-10-18T05:02:44.660Z"
   },
   {
    "duration": 4,
    "start_time": "2022-10-18T05:02:44.670Z"
   },
   {
    "duration": 9,
    "start_time": "2022-10-18T05:02:44.676Z"
   },
   {
    "duration": 295,
    "start_time": "2022-10-18T05:02:44.686Z"
   },
   {
    "duration": 14,
    "start_time": "2022-10-18T05:02:44.982Z"
   },
   {
    "duration": 211,
    "start_time": "2022-10-18T05:02:45.008Z"
   },
   {
    "duration": 4,
    "start_time": "2022-10-18T05:02:45.221Z"
   },
   {
    "duration": 12,
    "start_time": "2022-10-18T05:02:45.226Z"
   },
   {
    "duration": 8,
    "start_time": "2022-10-18T05:02:45.239Z"
   },
   {
    "duration": 10,
    "start_time": "2022-10-18T05:02:45.248Z"
   },
   {
    "duration": 10,
    "start_time": "2022-10-18T05:02:45.260Z"
   },
   {
    "duration": 41,
    "start_time": "2022-10-18T05:02:45.272Z"
   },
   {
    "duration": 7,
    "start_time": "2022-10-18T05:02:45.314Z"
   },
   {
    "duration": 6,
    "start_time": "2022-10-18T05:02:45.323Z"
   },
   {
    "duration": 11,
    "start_time": "2022-10-18T05:02:45.330Z"
   },
   {
    "duration": 7,
    "start_time": "2022-10-18T05:02:45.342Z"
   },
   {
    "duration": 21,
    "start_time": "2022-10-18T05:02:45.355Z"
   },
   {
    "duration": 33,
    "start_time": "2022-10-18T05:02:45.377Z"
   },
   {
    "duration": 7,
    "start_time": "2022-10-18T05:02:45.411Z"
   },
   {
    "duration": 10,
    "start_time": "2022-10-18T05:02:45.419Z"
   },
   {
    "duration": 6,
    "start_time": "2022-10-18T05:02:45.431Z"
   },
   {
    "duration": 11,
    "start_time": "2022-10-18T05:02:45.439Z"
   },
   {
    "duration": 18,
    "start_time": "2022-10-18T05:02:45.451Z"
   },
   {
    "duration": 4,
    "start_time": "2022-10-18T05:02:45.470Z"
   },
   {
    "duration": 240,
    "start_time": "2022-10-18T05:02:45.509Z"
   },
   {
    "duration": 213,
    "start_time": "2022-10-18T05:02:45.750Z"
   },
   {
    "duration": 233,
    "start_time": "2022-10-18T05:02:45.964Z"
   },
   {
    "duration": 310,
    "start_time": "2022-10-18T05:02:46.199Z"
   },
   {
    "duration": 206,
    "start_time": "2022-10-18T05:02:46.510Z"
   },
   {
    "duration": 225,
    "start_time": "2022-10-18T05:02:46.718Z"
   },
   {
    "duration": 217,
    "start_time": "2022-10-18T05:02:46.945Z"
   },
   {
    "duration": 214,
    "start_time": "2022-10-18T05:02:47.164Z"
   },
   {
    "duration": 122,
    "start_time": "2022-10-18T05:02:47.380Z"
   },
   {
    "duration": 294,
    "start_time": "2022-10-18T05:02:47.509Z"
   },
   {
    "duration": 222,
    "start_time": "2022-10-18T05:02:47.804Z"
   },
   {
    "duration": 242,
    "start_time": "2022-10-18T05:02:48.028Z"
   },
   {
    "duration": 217,
    "start_time": "2022-10-18T05:02:48.272Z"
   },
   {
    "duration": 229,
    "start_time": "2022-10-18T05:02:48.491Z"
   },
   {
    "duration": 223,
    "start_time": "2022-10-18T05:02:48.722Z"
   },
   {
    "duration": 348,
    "start_time": "2022-10-18T05:02:48.947Z"
   },
   {
    "duration": 14,
    "start_time": "2022-10-18T05:02:49.297Z"
   },
   {
    "duration": 17,
    "start_time": "2022-10-18T05:02:49.313Z"
   },
   {
    "duration": 219,
    "start_time": "2022-10-18T05:02:49.332Z"
   },
   {
    "duration": 1375,
    "start_time": "2022-10-18T05:02:49.553Z"
   },
   {
    "duration": 21,
    "start_time": "2022-10-18T05:02:50.930Z"
   },
   {
    "duration": 144,
    "start_time": "2022-10-18T05:02:50.953Z"
   },
   {
    "duration": 3,
    "start_time": "2022-10-18T05:03:22.294Z"
   },
   {
    "duration": 3,
    "start_time": "2022-10-18T05:14:57.319Z"
   },
   {
    "duration": 391,
    "start_time": "2022-10-18T05:15:04.771Z"
   },
   {
    "duration": 78,
    "start_time": "2022-10-18T05:15:05.164Z"
   },
   {
    "duration": 36,
    "start_time": "2022-10-18T05:15:05.244Z"
   },
   {
    "duration": 35,
    "start_time": "2022-10-18T05:15:05.283Z"
   },
   {
    "duration": 1953,
    "start_time": "2022-10-18T05:15:05.319Z"
   },
   {
    "duration": 17,
    "start_time": "2022-10-18T05:15:07.274Z"
   },
   {
    "duration": 7,
    "start_time": "2022-10-18T05:15:07.293Z"
   },
   {
    "duration": 20,
    "start_time": "2022-10-18T05:15:07.302Z"
   },
   {
    "duration": 20,
    "start_time": "2022-10-18T05:15:07.323Z"
   },
   {
    "duration": 52,
    "start_time": "2022-10-18T05:15:07.346Z"
   },
   {
    "duration": 37,
    "start_time": "2022-10-18T05:15:07.400Z"
   },
   {
    "duration": 5,
    "start_time": "2022-10-18T05:15:07.438Z"
   },
   {
    "duration": 35,
    "start_time": "2022-10-18T05:15:07.444Z"
   },
   {
    "duration": 37,
    "start_time": "2022-10-18T05:15:07.509Z"
   },
   {
    "duration": 12,
    "start_time": "2022-10-18T05:15:07.548Z"
   },
   {
    "duration": 3778,
    "start_time": "2022-10-18T05:15:07.561Z"
   },
   {
    "duration": 9,
    "start_time": "2022-10-18T05:15:11.341Z"
   },
   {
    "duration": 7,
    "start_time": "2022-10-18T05:15:11.351Z"
   },
   {
    "duration": 50,
    "start_time": "2022-10-18T05:15:11.360Z"
   },
   {
    "duration": 11,
    "start_time": "2022-10-18T05:15:11.416Z"
   },
   {
    "duration": 249,
    "start_time": "2022-10-18T05:15:11.429Z"
   },
   {
    "duration": 8,
    "start_time": "2022-10-18T05:15:11.680Z"
   },
   {
    "duration": 22,
    "start_time": "2022-10-18T05:15:11.690Z"
   },
   {
    "duration": 12,
    "start_time": "2022-10-18T05:15:11.714Z"
   },
   {
    "duration": 11,
    "start_time": "2022-10-18T05:15:11.728Z"
   },
   {
    "duration": 205,
    "start_time": "2022-10-18T05:15:11.740Z"
   },
   {
    "duration": 14,
    "start_time": "2022-10-18T05:15:11.947Z"
   },
   {
    "duration": 5,
    "start_time": "2022-10-18T05:15:11.966Z"
   },
   {
    "duration": 7,
    "start_time": "2022-10-18T05:15:11.973Z"
   },
   {
    "duration": 52,
    "start_time": "2022-10-18T05:15:11.981Z"
   },
   {
    "duration": 10,
    "start_time": "2022-10-18T05:15:12.035Z"
   },
   {
    "duration": 284,
    "start_time": "2022-10-18T05:15:12.047Z"
   },
   {
    "duration": 9,
    "start_time": "2022-10-18T05:15:12.332Z"
   },
   {
    "duration": 6,
    "start_time": "2022-10-18T05:15:12.342Z"
   },
   {
    "duration": 10,
    "start_time": "2022-10-18T05:15:12.350Z"
   },
   {
    "duration": 234,
    "start_time": "2022-10-18T05:15:12.362Z"
   },
   {
    "duration": 25,
    "start_time": "2022-10-18T05:15:12.598Z"
   },
   {
    "duration": 204,
    "start_time": "2022-10-18T05:15:12.624Z"
   },
   {
    "duration": 3,
    "start_time": "2022-10-18T05:15:12.830Z"
   },
   {
    "duration": 16,
    "start_time": "2022-10-18T05:15:12.834Z"
   },
   {
    "duration": 8,
    "start_time": "2022-10-18T05:15:12.851Z"
   },
   {
    "duration": 8,
    "start_time": "2022-10-18T05:15:12.860Z"
   },
   {
    "duration": 44,
    "start_time": "2022-10-18T05:15:12.869Z"
   },
   {
    "duration": 36,
    "start_time": "2022-10-18T05:15:12.915Z"
   },
   {
    "duration": 12,
    "start_time": "2022-10-18T05:15:12.952Z"
   },
   {
    "duration": 5,
    "start_time": "2022-10-18T05:15:12.966Z"
   },
   {
    "duration": 12,
    "start_time": "2022-10-18T05:15:12.972Z"
   },
   {
    "duration": 5,
    "start_time": "2022-10-18T05:15:12.986Z"
   },
   {
    "duration": 9,
    "start_time": "2022-10-18T05:15:12.992Z"
   },
   {
    "duration": 9,
    "start_time": "2022-10-18T05:15:13.003Z"
   },
   {
    "duration": 8,
    "start_time": "2022-10-18T05:15:13.013Z"
   },
   {
    "duration": 6,
    "start_time": "2022-10-18T05:15:13.022Z"
   },
   {
    "duration": 5,
    "start_time": "2022-10-18T05:15:13.030Z"
   },
   {
    "duration": 6,
    "start_time": "2022-10-18T05:15:13.037Z"
   },
   {
    "duration": 15,
    "start_time": "2022-10-18T05:15:13.045Z"
   },
   {
    "duration": 4,
    "start_time": "2022-10-18T05:15:13.061Z"
   },
   {
    "duration": 248,
    "start_time": "2022-10-18T05:15:13.066Z"
   },
   {
    "duration": 205,
    "start_time": "2022-10-18T05:15:13.315Z"
   },
   {
    "duration": 215,
    "start_time": "2022-10-18T05:15:13.521Z"
   },
   {
    "duration": 274,
    "start_time": "2022-10-18T05:15:13.737Z"
   },
   {
    "duration": 203,
    "start_time": "2022-10-18T05:15:14.013Z"
   },
   {
    "duration": 220,
    "start_time": "2022-10-18T05:15:14.218Z"
   },
   {
    "duration": 250,
    "start_time": "2022-10-18T05:15:14.440Z"
   },
   {
    "duration": 207,
    "start_time": "2022-10-18T05:15:14.692Z"
   },
   {
    "duration": 120,
    "start_time": "2022-10-18T05:15:14.901Z"
   },
   {
    "duration": 294,
    "start_time": "2022-10-18T05:15:15.023Z"
   },
   {
    "duration": 211,
    "start_time": "2022-10-18T05:15:15.318Z"
   },
   {
    "duration": 204,
    "start_time": "2022-10-18T05:15:15.530Z"
   },
   {
    "duration": 205,
    "start_time": "2022-10-18T05:15:15.736Z"
   },
   {
    "duration": 217,
    "start_time": "2022-10-18T05:15:15.943Z"
   },
   {
    "duration": 306,
    "start_time": "2022-10-18T05:15:16.161Z"
   },
   {
    "duration": 245,
    "start_time": "2022-10-18T05:15:16.469Z"
   },
   {
    "duration": 9,
    "start_time": "2022-10-18T05:15:16.717Z"
   },
   {
    "duration": 17,
    "start_time": "2022-10-18T05:15:16.728Z"
   },
   {
    "duration": 224,
    "start_time": "2022-10-18T05:15:16.747Z"
   },
   {
    "duration": 1333,
    "start_time": "2022-10-18T05:15:16.973Z"
   },
   {
    "duration": 21,
    "start_time": "2022-10-18T05:15:18.307Z"
   },
   {
    "duration": 155,
    "start_time": "2022-10-18T05:15:18.329Z"
   },
   {
    "duration": 4,
    "start_time": "2022-10-18T05:16:05.953Z"
   },
   {
    "duration": 14,
    "start_time": "2022-10-18T05:16:23.921Z"
   },
   {
    "duration": 3,
    "start_time": "2022-10-18T05:16:32.867Z"
   },
   {
    "duration": 398,
    "start_time": "2022-10-18T05:18:28.937Z"
   },
   {
    "duration": 86,
    "start_time": "2022-10-18T05:18:29.337Z"
   },
   {
    "duration": 39,
    "start_time": "2022-10-18T05:18:29.425Z"
   },
   {
    "duration": 23,
    "start_time": "2022-10-18T05:18:29.466Z"
   },
   {
    "duration": 1977,
    "start_time": "2022-10-18T05:18:29.491Z"
   },
   {
    "duration": 18,
    "start_time": "2022-10-18T05:18:31.470Z"
   },
   {
    "duration": 9,
    "start_time": "2022-10-18T05:18:31.489Z"
   },
   {
    "duration": 19,
    "start_time": "2022-10-18T05:18:31.499Z"
   },
   {
    "duration": 9,
    "start_time": "2022-10-18T05:18:31.519Z"
   },
   {
    "duration": 37,
    "start_time": "2022-10-18T05:18:31.530Z"
   },
   {
    "duration": 50,
    "start_time": "2022-10-18T05:18:31.569Z"
   },
   {
    "duration": 5,
    "start_time": "2022-10-18T05:18:31.620Z"
   },
   {
    "duration": 67,
    "start_time": "2022-10-18T05:18:31.626Z"
   },
   {
    "duration": 38,
    "start_time": "2022-10-18T05:18:31.708Z"
   },
   {
    "duration": 12,
    "start_time": "2022-10-18T05:18:31.748Z"
   },
   {
    "duration": 3826,
    "start_time": "2022-10-18T05:18:31.761Z"
   },
   {
    "duration": 10,
    "start_time": "2022-10-18T05:18:35.588Z"
   },
   {
    "duration": 13,
    "start_time": "2022-10-18T05:18:35.600Z"
   },
   {
    "duration": 43,
    "start_time": "2022-10-18T05:18:35.615Z"
   },
   {
    "duration": 4,
    "start_time": "2022-10-18T05:18:35.660Z"
   },
   {
    "duration": 249,
    "start_time": "2022-10-18T05:18:35.665Z"
   },
   {
    "duration": 7,
    "start_time": "2022-10-18T05:18:35.916Z"
   },
   {
    "duration": 5,
    "start_time": "2022-10-18T05:18:35.924Z"
   },
   {
    "duration": 15,
    "start_time": "2022-10-18T05:18:35.930Z"
   },
   {
    "duration": 7,
    "start_time": "2022-10-18T05:18:35.946Z"
   },
   {
    "duration": 213,
    "start_time": "2022-10-18T05:18:35.955Z"
   },
   {
    "duration": 17,
    "start_time": "2022-10-18T05:18:36.169Z"
   },
   {
    "duration": 20,
    "start_time": "2022-10-18T05:18:36.190Z"
   },
   {
    "duration": 9,
    "start_time": "2022-10-18T05:18:36.211Z"
   },
   {
    "duration": 35,
    "start_time": "2022-10-18T05:18:36.221Z"
   },
   {
    "duration": 13,
    "start_time": "2022-10-18T05:18:36.258Z"
   },
   {
    "duration": 241,
    "start_time": "2022-10-18T05:18:36.272Z"
   },
   {
    "duration": 7,
    "start_time": "2022-10-18T05:18:36.514Z"
   },
   {
    "duration": 17,
    "start_time": "2022-10-18T05:18:36.522Z"
   },
   {
    "duration": 15,
    "start_time": "2022-10-18T05:18:36.541Z"
   },
   {
    "duration": 285,
    "start_time": "2022-10-18T05:18:36.558Z"
   },
   {
    "duration": 16,
    "start_time": "2022-10-18T05:18:36.844Z"
   },
   {
    "duration": 204,
    "start_time": "2022-10-18T05:18:36.862Z"
   },
   {
    "duration": 9,
    "start_time": "2022-10-18T05:18:37.068Z"
   },
   {
    "duration": 7,
    "start_time": "2022-10-18T05:18:37.079Z"
   },
   {
    "duration": 25,
    "start_time": "2022-10-18T05:18:37.087Z"
   },
   {
    "duration": 16,
    "start_time": "2022-10-18T05:18:37.114Z"
   },
   {
    "duration": 21,
    "start_time": "2022-10-18T05:18:37.131Z"
   },
   {
    "duration": 30,
    "start_time": "2022-10-18T05:18:37.154Z"
   },
   {
    "duration": 18,
    "start_time": "2022-10-18T05:18:37.185Z"
   },
   {
    "duration": 16,
    "start_time": "2022-10-18T05:18:37.204Z"
   },
   {
    "duration": 6,
    "start_time": "2022-10-18T05:18:37.222Z"
   },
   {
    "duration": 9,
    "start_time": "2022-10-18T05:18:37.229Z"
   },
   {
    "duration": 8,
    "start_time": "2022-10-18T05:18:37.239Z"
   },
   {
    "duration": 6,
    "start_time": "2022-10-18T05:18:37.248Z"
   },
   {
    "duration": 13,
    "start_time": "2022-10-18T05:18:37.256Z"
   },
   {
    "duration": 18,
    "start_time": "2022-10-18T05:18:37.271Z"
   },
   {
    "duration": 19,
    "start_time": "2022-10-18T05:18:37.291Z"
   },
   {
    "duration": 13,
    "start_time": "2022-10-18T05:18:37.312Z"
   },
   {
    "duration": 15,
    "start_time": "2022-10-18T05:18:37.326Z"
   },
   {
    "duration": 3,
    "start_time": "2022-10-18T05:18:37.343Z"
   },
   {
    "duration": 242,
    "start_time": "2022-10-18T05:18:37.347Z"
   },
   {
    "duration": 204,
    "start_time": "2022-10-18T05:18:37.591Z"
   },
   {
    "duration": 227,
    "start_time": "2022-10-18T05:18:37.796Z"
   },
   {
    "duration": 269,
    "start_time": "2022-10-18T05:18:38.025Z"
   },
   {
    "duration": 201,
    "start_time": "2022-10-18T05:18:38.295Z"
   },
   {
    "duration": 212,
    "start_time": "2022-10-18T05:18:38.497Z"
   },
   {
    "duration": 223,
    "start_time": "2022-10-18T05:18:38.710Z"
   },
   {
    "duration": 225,
    "start_time": "2022-10-18T05:18:38.934Z"
   },
   {
    "duration": 123,
    "start_time": "2022-10-18T05:18:39.161Z"
   },
   {
    "duration": 297,
    "start_time": "2022-10-18T05:18:39.285Z"
   },
   {
    "duration": 206,
    "start_time": "2022-10-18T05:18:39.584Z"
   },
   {
    "duration": 197,
    "start_time": "2022-10-18T05:18:39.792Z"
   },
   {
    "duration": 201,
    "start_time": "2022-10-18T05:18:39.990Z"
   },
   {
    "duration": 225,
    "start_time": "2022-10-18T05:18:40.192Z"
   },
   {
    "duration": 206,
    "start_time": "2022-10-18T05:18:40.419Z"
   },
   {
    "duration": 321,
    "start_time": "2022-10-18T05:18:40.626Z"
   },
   {
    "duration": 8,
    "start_time": "2022-10-18T05:18:40.949Z"
   },
   {
    "duration": 17,
    "start_time": "2022-10-18T05:18:40.958Z"
   },
   {
    "duration": 218,
    "start_time": "2022-10-18T05:18:40.976Z"
   },
   {
    "duration": 1313,
    "start_time": "2022-10-18T05:18:41.196Z"
   },
   {
    "duration": 22,
    "start_time": "2022-10-18T05:18:42.510Z"
   },
   {
    "duration": 150,
    "start_time": "2022-10-18T05:18:42.533Z"
   },
   {
    "duration": 66,
    "start_time": "2022-10-18T05:35:24.807Z"
   },
   {
    "duration": 14,
    "start_time": "2022-10-18T05:39:05.920Z"
   },
   {
    "duration": 13,
    "start_time": "2022-10-18T05:39:25.110Z"
   },
   {
    "duration": 369,
    "start_time": "2022-10-18T05:39:30.453Z"
   },
   {
    "duration": 78,
    "start_time": "2022-10-18T05:39:30.823Z"
   },
   {
    "duration": 34,
    "start_time": "2022-10-18T05:39:30.908Z"
   },
   {
    "duration": 15,
    "start_time": "2022-10-18T05:39:30.945Z"
   },
   {
    "duration": 1962,
    "start_time": "2022-10-18T05:39:30.962Z"
   },
   {
    "duration": 17,
    "start_time": "2022-10-18T05:39:32.926Z"
   },
   {
    "duration": 10,
    "start_time": "2022-10-18T05:39:32.945Z"
   },
   {
    "duration": 12,
    "start_time": "2022-10-18T05:39:32.956Z"
   },
   {
    "duration": 9,
    "start_time": "2022-10-18T05:39:32.969Z"
   },
   {
    "duration": 42,
    "start_time": "2022-10-18T05:39:32.980Z"
   },
   {
    "duration": 37,
    "start_time": "2022-10-18T05:39:33.023Z"
   },
   {
    "duration": 4,
    "start_time": "2022-10-18T05:39:33.062Z"
   },
   {
    "duration": 61,
    "start_time": "2022-10-18T05:39:33.068Z"
   },
   {
    "duration": 39,
    "start_time": "2022-10-18T05:39:33.135Z"
   },
   {
    "duration": 33,
    "start_time": "2022-10-18T05:39:33.176Z"
   },
   {
    "duration": 3840,
    "start_time": "2022-10-18T05:39:33.210Z"
   },
   {
    "duration": 9,
    "start_time": "2022-10-18T05:39:37.051Z"
   },
   {
    "duration": 8,
    "start_time": "2022-10-18T05:39:37.061Z"
   },
   {
    "duration": 40,
    "start_time": "2022-10-18T05:39:37.071Z"
   },
   {
    "duration": 4,
    "start_time": "2022-10-18T05:39:37.121Z"
   },
   {
    "duration": 244,
    "start_time": "2022-10-18T05:39:37.127Z"
   },
   {
    "duration": 7,
    "start_time": "2022-10-18T05:39:37.373Z"
   },
   {
    "duration": 5,
    "start_time": "2022-10-18T05:39:37.382Z"
   },
   {
    "duration": 23,
    "start_time": "2022-10-18T05:39:37.388Z"
   },
   {
    "duration": 8,
    "start_time": "2022-10-18T05:39:37.412Z"
   },
   {
    "duration": 198,
    "start_time": "2022-10-18T05:39:37.421Z"
   },
   {
    "duration": 14,
    "start_time": "2022-10-18T05:39:37.620Z"
   },
   {
    "duration": 6,
    "start_time": "2022-10-18T05:39:37.638Z"
   },
   {
    "duration": 10,
    "start_time": "2022-10-18T05:39:37.645Z"
   },
   {
    "duration": 29,
    "start_time": "2022-10-18T05:39:37.656Z"
   },
   {
    "duration": 11,
    "start_time": "2022-10-18T05:39:37.709Z"
   },
   {
    "duration": 221,
    "start_time": "2022-10-18T05:39:37.721Z"
   },
   {
    "duration": 7,
    "start_time": "2022-10-18T05:39:37.943Z"
   },
   {
    "duration": 3,
    "start_time": "2022-10-18T05:39:37.952Z"
   },
   {
    "duration": 13,
    "start_time": "2022-10-18T05:39:37.957Z"
   },
   {
    "duration": 285,
    "start_time": "2022-10-18T05:39:37.972Z"
   },
   {
    "duration": 14,
    "start_time": "2022-10-18T05:39:38.258Z"
   },
   {
    "duration": 203,
    "start_time": "2022-10-18T05:39:38.274Z"
   },
   {
    "duration": 8,
    "start_time": "2022-10-18T05:39:38.478Z"
   },
   {
    "duration": 25,
    "start_time": "2022-10-18T05:39:38.487Z"
   },
   {
    "duration": 7,
    "start_time": "2022-10-18T05:39:38.513Z"
   },
   {
    "duration": 13,
    "start_time": "2022-10-18T05:39:38.521Z"
   },
   {
    "duration": 5,
    "start_time": "2022-10-18T05:39:38.535Z"
   },
   {
    "duration": 30,
    "start_time": "2022-10-18T05:39:38.542Z"
   },
   {
    "duration": 10,
    "start_time": "2022-10-18T05:39:38.573Z"
   },
   {
    "duration": 7,
    "start_time": "2022-10-18T05:39:38.585Z"
   },
   {
    "duration": 6,
    "start_time": "2022-10-18T05:39:38.593Z"
   },
   {
    "duration": 7,
    "start_time": "2022-10-18T05:39:38.609Z"
   },
   {
    "duration": 8,
    "start_time": "2022-10-18T05:39:38.618Z"
   },
   {
    "duration": 3,
    "start_time": "2022-10-18T05:39:38.628Z"
   },
   {
    "duration": 7,
    "start_time": "2022-10-18T05:39:38.632Z"
   },
   {
    "duration": 7,
    "start_time": "2022-10-18T05:39:38.641Z"
   },
   {
    "duration": 7,
    "start_time": "2022-10-18T05:39:38.649Z"
   },
   {
    "duration": 6,
    "start_time": "2022-10-18T05:39:38.657Z"
   },
   {
    "duration": 53,
    "start_time": "2022-10-18T05:39:38.664Z"
   },
   {
    "duration": 4,
    "start_time": "2022-10-18T05:39:38.718Z"
   },
   {
    "duration": 240,
    "start_time": "2022-10-18T05:39:38.723Z"
   },
   {
    "duration": 204,
    "start_time": "2022-10-18T05:39:38.965Z"
   },
   {
    "duration": 223,
    "start_time": "2022-10-18T05:39:39.171Z"
   },
   {
    "duration": 265,
    "start_time": "2022-10-18T05:39:39.395Z"
   },
   {
    "duration": 201,
    "start_time": "2022-10-18T05:39:39.661Z"
   },
   {
    "duration": 215,
    "start_time": "2022-10-18T05:39:39.864Z"
   },
   {
    "duration": 204,
    "start_time": "2022-10-18T05:39:40.080Z"
   },
   {
    "duration": 209,
    "start_time": "2022-10-18T05:39:40.285Z"
   },
   {
    "duration": 118,
    "start_time": "2022-10-18T05:39:40.496Z"
   },
   {
    "duration": 276,
    "start_time": "2022-10-18T05:39:40.615Z"
   },
   {
    "duration": 199,
    "start_time": "2022-10-18T05:39:40.892Z"
   },
   {
    "duration": 193,
    "start_time": "2022-10-18T05:39:41.092Z"
   },
   {
    "duration": 207,
    "start_time": "2022-10-18T05:39:41.287Z"
   },
   {
    "duration": 232,
    "start_time": "2022-10-18T05:39:41.496Z"
   },
   {
    "duration": 193,
    "start_time": "2022-10-18T05:39:41.729Z"
   },
   {
    "duration": 319,
    "start_time": "2022-10-18T05:39:41.924Z"
   },
   {
    "duration": 8,
    "start_time": "2022-10-18T05:39:42.244Z"
   },
   {
    "duration": 17,
    "start_time": "2022-10-18T05:39:42.254Z"
   },
   {
    "duration": 224,
    "start_time": "2022-10-18T05:39:42.272Z"
   },
   {
    "duration": 1288,
    "start_time": "2022-10-18T05:39:42.498Z"
   },
   {
    "duration": 28,
    "start_time": "2022-10-18T05:39:43.788Z"
   },
   {
    "duration": 145,
    "start_time": "2022-10-18T05:39:43.817Z"
   },
   {
    "duration": 4,
    "start_time": "2022-10-18T05:40:58.077Z"
   },
   {
    "duration": 265,
    "start_time": "2022-10-18T05:46:37.548Z"
   },
   {
    "duration": 2,
    "start_time": "2022-10-18T05:47:05.907Z"
   },
   {
    "duration": 196,
    "start_time": "2022-10-18T05:47:17.083Z"
   },
   {
    "duration": 321,
    "start_time": "2022-10-18T05:47:49.532Z"
   },
   {
    "duration": 189,
    "start_time": "2022-10-18T05:48:06.837Z"
   },
   {
    "duration": 220,
    "start_time": "2022-10-18T05:51:22.701Z"
   },
   {
    "duration": 195,
    "start_time": "2022-10-18T05:51:34.115Z"
   },
   {
    "duration": 209,
    "start_time": "2022-10-18T05:51:42.955Z"
   },
   {
    "duration": 205,
    "start_time": "2022-10-18T05:51:53.251Z"
   },
   {
    "duration": 197,
    "start_time": "2022-10-18T05:52:27.436Z"
   },
   {
    "duration": 335,
    "start_time": "2022-10-18T05:52:36.674Z"
   },
   {
    "duration": 200,
    "start_time": "2022-10-18T05:52:50.219Z"
   },
   {
    "duration": 198,
    "start_time": "2022-10-18T05:53:02.613Z"
   },
   {
    "duration": 114,
    "start_time": "2022-10-18T05:53:15.732Z"
   },
   {
    "duration": 222,
    "start_time": "2022-10-18T05:53:29.123Z"
   },
   {
    "duration": 203,
    "start_time": "2022-10-18T05:53:40.493Z"
   },
   {
    "duration": 192,
    "start_time": "2022-10-18T05:53:50.860Z"
   },
   {
    "duration": 335,
    "start_time": "2022-10-18T05:54:05.663Z"
   },
   {
    "duration": 206,
    "start_time": "2022-10-18T05:54:14.876Z"
   },
   {
    "duration": 217,
    "start_time": "2022-10-18T05:55:06.348Z"
   },
   {
    "duration": 203,
    "start_time": "2022-10-18T05:55:17.174Z"
   },
   {
    "duration": 1300,
    "start_time": "2022-10-18T06:00:34.860Z"
   },
   {
    "duration": 1115,
    "start_time": "2022-10-18T06:00:47.641Z"
   },
   {
    "duration": 4,
    "start_time": "2022-10-18T06:02:26.879Z"
   },
   {
    "duration": 4,
    "start_time": "2022-10-18T06:02:41.853Z"
   },
   {
    "duration": 1507,
    "start_time": "2022-10-18T06:02:46.036Z"
   },
   {
    "duration": 9,
    "start_time": "2022-10-18T06:03:04.124Z"
   },
   {
    "duration": 20,
    "start_time": "2022-10-18T06:08:33.869Z"
   },
   {
    "duration": 25,
    "start_time": "2022-10-18T06:08:38.179Z"
   },
   {
    "duration": 194,
    "start_time": "2022-10-18T06:08:47.131Z"
   },
   {
    "duration": 21,
    "start_time": "2022-10-18T06:09:05.885Z"
   },
   {
    "duration": 724,
    "start_time": "2022-10-18T06:09:13.832Z"
   },
   {
    "duration": 102,
    "start_time": "2022-10-18T06:09:14.558Z"
   },
   {
    "duration": 34,
    "start_time": "2022-10-18T06:09:14.664Z"
   },
   {
    "duration": 18,
    "start_time": "2022-10-18T06:09:14.700Z"
   },
   {
    "duration": 1813,
    "start_time": "2022-10-18T06:09:14.719Z"
   },
   {
    "duration": 20,
    "start_time": "2022-10-18T06:09:16.534Z"
   },
   {
    "duration": 10,
    "start_time": "2022-10-18T06:09:16.556Z"
   },
   {
    "duration": 19,
    "start_time": "2022-10-18T06:09:16.568Z"
   },
   {
    "duration": 19,
    "start_time": "2022-10-18T06:09:16.589Z"
   },
   {
    "duration": 45,
    "start_time": "2022-10-18T06:09:16.611Z"
   },
   {
    "duration": 39,
    "start_time": "2022-10-18T06:09:16.658Z"
   },
   {
    "duration": 12,
    "start_time": "2022-10-18T06:09:16.699Z"
   },
   {
    "duration": 49,
    "start_time": "2022-10-18T06:09:16.712Z"
   },
   {
    "duration": 80,
    "start_time": "2022-10-18T06:09:16.762Z"
   },
   {
    "duration": 12,
    "start_time": "2022-10-18T06:09:16.843Z"
   },
   {
    "duration": 3894,
    "start_time": "2022-10-18T06:09:16.856Z"
   },
   {
    "duration": 9,
    "start_time": "2022-10-18T06:09:20.752Z"
   },
   {
    "duration": 13,
    "start_time": "2022-10-18T06:09:20.762Z"
   },
   {
    "duration": 54,
    "start_time": "2022-10-18T06:09:20.776Z"
   },
   {
    "duration": 4,
    "start_time": "2022-10-18T06:09:20.832Z"
   },
   {
    "duration": 255,
    "start_time": "2022-10-18T06:09:20.837Z"
   },
   {
    "duration": 17,
    "start_time": "2022-10-18T06:09:21.094Z"
   },
   {
    "duration": 5,
    "start_time": "2022-10-18T06:09:21.113Z"
   },
   {
    "duration": 14,
    "start_time": "2022-10-18T06:09:21.119Z"
   },
   {
    "duration": 10,
    "start_time": "2022-10-18T06:09:21.135Z"
   },
   {
    "duration": 214,
    "start_time": "2022-10-18T06:09:21.146Z"
   },
   {
    "duration": 14,
    "start_time": "2022-10-18T06:09:21.362Z"
   },
   {
    "duration": 5,
    "start_time": "2022-10-18T06:09:21.380Z"
   },
   {
    "duration": 8,
    "start_time": "2022-10-18T06:09:21.409Z"
   },
   {
    "duration": 31,
    "start_time": "2022-10-18T06:09:21.418Z"
   },
   {
    "duration": 12,
    "start_time": "2022-10-18T06:09:21.450Z"
   },
   {
    "duration": 351,
    "start_time": "2022-10-18T06:09:21.463Z"
   },
   {
    "duration": 7,
    "start_time": "2022-10-18T06:09:21.816Z"
   },
   {
    "duration": 4,
    "start_time": "2022-10-18T06:09:21.825Z"
   },
   {
    "duration": 9,
    "start_time": "2022-10-18T06:09:21.831Z"
   },
   {
    "duration": 294,
    "start_time": "2022-10-18T06:09:21.842Z"
   },
   {
    "duration": 15,
    "start_time": "2022-10-18T06:09:22.138Z"
   },
   {
    "duration": 210,
    "start_time": "2022-10-18T06:09:22.155Z"
   },
   {
    "duration": 8,
    "start_time": "2022-10-18T06:09:22.367Z"
   },
   {
    "duration": 8,
    "start_time": "2022-10-18T06:09:22.377Z"
   },
   {
    "duration": 26,
    "start_time": "2022-10-18T06:09:22.387Z"
   },
   {
    "duration": 8,
    "start_time": "2022-10-18T06:09:22.415Z"
   },
   {
    "duration": 22,
    "start_time": "2022-10-18T06:09:22.425Z"
   },
   {
    "duration": 9,
    "start_time": "2022-10-18T06:09:22.448Z"
   },
   {
    "duration": 9,
    "start_time": "2022-10-18T06:09:22.459Z"
   },
   {
    "duration": 8,
    "start_time": "2022-10-18T06:09:22.470Z"
   },
   {
    "duration": 9,
    "start_time": "2022-10-18T06:09:22.479Z"
   },
   {
    "duration": 26,
    "start_time": "2022-10-18T06:09:22.489Z"
   },
   {
    "duration": 22,
    "start_time": "2022-10-18T06:09:22.516Z"
   },
   {
    "duration": 3,
    "start_time": "2022-10-18T06:09:22.539Z"
   },
   {
    "duration": 10,
    "start_time": "2022-10-18T06:09:22.543Z"
   },
   {
    "duration": 7,
    "start_time": "2022-10-18T06:09:22.555Z"
   },
   {
    "duration": 7,
    "start_time": "2022-10-18T06:09:22.564Z"
   },
   {
    "duration": 9,
    "start_time": "2022-10-18T06:09:22.572Z"
   },
   {
    "duration": 53,
    "start_time": "2022-10-18T06:09:22.582Z"
   },
   {
    "duration": 4,
    "start_time": "2022-10-18T06:09:22.637Z"
   },
   {
    "duration": 264,
    "start_time": "2022-10-18T06:09:22.643Z"
   },
   {
    "duration": 219,
    "start_time": "2022-10-18T06:09:22.909Z"
   },
   {
    "duration": 223,
    "start_time": "2022-10-18T06:09:23.130Z"
   },
   {
    "duration": 274,
    "start_time": "2022-10-18T06:09:23.355Z"
   },
   {
    "duration": 201,
    "start_time": "2022-10-18T06:09:23.632Z"
   },
   {
    "duration": 267,
    "start_time": "2022-10-18T06:09:23.835Z"
   },
   {
    "duration": 261,
    "start_time": "2022-10-18T06:09:24.104Z"
   },
   {
    "duration": 278,
    "start_time": "2022-10-18T06:09:24.367Z"
   },
   {
    "duration": 130,
    "start_time": "2022-10-18T06:09:24.647Z"
   },
   {
    "duration": 312,
    "start_time": "2022-10-18T06:09:24.779Z"
   },
   {
    "duration": 216,
    "start_time": "2022-10-18T06:09:25.093Z"
   },
   {
    "duration": 218,
    "start_time": "2022-10-18T06:09:25.311Z"
   },
   {
    "duration": 230,
    "start_time": "2022-10-18T06:09:25.530Z"
   },
   {
    "duration": 223,
    "start_time": "2022-10-18T06:09:25.762Z"
   },
   {
    "duration": 203,
    "start_time": "2022-10-18T06:09:25.987Z"
   },
   {
    "duration": 316,
    "start_time": "2022-10-18T06:09:26.191Z"
   },
   {
    "duration": 8,
    "start_time": "2022-10-18T06:09:26.509Z"
   },
   {
    "duration": 43,
    "start_time": "2022-10-18T06:09:26.519Z"
   },
   {
    "duration": 205,
    "start_time": "2022-10-18T06:09:26.563Z"
   },
   {
    "duration": 1274,
    "start_time": "2022-10-18T06:09:26.770Z"
   },
   {
    "duration": 8,
    "start_time": "2022-10-18T06:09:28.046Z"
   },
   {
    "duration": 22,
    "start_time": "2022-10-18T06:09:28.056Z"
   },
   {
    "duration": 169,
    "start_time": "2022-10-18T06:09:28.080Z"
   },
   {
    "duration": 138,
    "start_time": "2022-10-18T06:12:15.336Z"
   },
   {
    "duration": 663,
    "start_time": "2022-10-18T20:01:27.416Z"
   },
   {
    "duration": 84,
    "start_time": "2022-10-18T20:01:28.080Z"
   },
   {
    "duration": 30,
    "start_time": "2022-10-18T20:01:28.166Z"
   },
   {
    "duration": 13,
    "start_time": "2022-10-18T20:01:28.206Z"
   },
   {
    "duration": 1663,
    "start_time": "2022-10-18T20:01:28.221Z"
   },
   {
    "duration": 26,
    "start_time": "2022-10-18T20:01:29.886Z"
   },
   {
    "duration": 8,
    "start_time": "2022-10-18T20:01:29.914Z"
   },
   {
    "duration": 10,
    "start_time": "2022-10-18T20:01:29.924Z"
   },
   {
    "duration": 7,
    "start_time": "2022-10-18T20:01:29.936Z"
   },
   {
    "duration": 32,
    "start_time": "2022-10-18T20:01:29.945Z"
   },
   {
    "duration": 37,
    "start_time": "2022-10-18T20:01:30.004Z"
   },
   {
    "duration": 4,
    "start_time": "2022-10-18T20:01:30.043Z"
   },
   {
    "duration": 62,
    "start_time": "2022-10-18T20:01:30.048Z"
   },
   {
    "duration": 34,
    "start_time": "2022-10-18T20:01:30.112Z"
   },
   {
    "duration": 11,
    "start_time": "2022-10-18T20:01:30.148Z"
   },
   {
    "duration": 3272,
    "start_time": "2022-10-18T20:01:30.160Z"
   },
   {
    "duration": 8,
    "start_time": "2022-10-18T20:01:33.433Z"
   },
   {
    "duration": 6,
    "start_time": "2022-10-18T20:01:33.443Z"
   },
   {
    "duration": 30,
    "start_time": "2022-10-18T20:01:33.450Z"
   },
   {
    "duration": 4,
    "start_time": "2022-10-18T20:01:33.505Z"
   },
   {
    "duration": 224,
    "start_time": "2022-10-18T20:01:33.510Z"
   },
   {
    "duration": 7,
    "start_time": "2022-10-18T20:01:33.735Z"
   },
   {
    "duration": 11,
    "start_time": "2022-10-18T20:01:33.743Z"
   },
   {
    "duration": 11,
    "start_time": "2022-10-18T20:01:33.756Z"
   },
   {
    "duration": 7,
    "start_time": "2022-10-18T20:01:33.768Z"
   },
   {
    "duration": 224,
    "start_time": "2022-10-18T20:01:33.776Z"
   },
   {
    "duration": 18,
    "start_time": "2022-10-18T20:01:34.001Z"
   },
   {
    "duration": 7,
    "start_time": "2022-10-18T20:01:34.023Z"
   },
   {
    "duration": 10,
    "start_time": "2022-10-18T20:01:34.031Z"
   },
   {
    "duration": 29,
    "start_time": "2022-10-18T20:01:34.043Z"
   },
   {
    "duration": 38,
    "start_time": "2022-10-18T20:01:34.073Z"
   },
   {
    "duration": 318,
    "start_time": "2022-10-18T20:01:34.112Z"
   },
   {
    "duration": 7,
    "start_time": "2022-10-18T20:01:34.431Z"
   },
   {
    "duration": 3,
    "start_time": "2022-10-18T20:01:34.440Z"
   },
   {
    "duration": 10,
    "start_time": "2022-10-18T20:01:34.445Z"
   },
   {
    "duration": 223,
    "start_time": "2022-10-18T20:01:34.457Z"
   },
   {
    "duration": 14,
    "start_time": "2022-10-18T20:01:34.681Z"
   },
   {
    "duration": 202,
    "start_time": "2022-10-18T20:01:34.696Z"
   },
   {
    "duration": 8,
    "start_time": "2022-10-18T20:01:34.904Z"
   },
   {
    "duration": 7,
    "start_time": "2022-10-18T20:01:34.913Z"
   },
   {
    "duration": 7,
    "start_time": "2022-10-18T20:01:34.921Z"
   },
   {
    "duration": 7,
    "start_time": "2022-10-18T20:01:34.929Z"
   },
   {
    "duration": 5,
    "start_time": "2022-10-18T20:01:34.938Z"
   },
   {
    "duration": 6,
    "start_time": "2022-10-18T20:01:34.945Z"
   },
   {
    "duration": 6,
    "start_time": "2022-10-18T20:01:34.952Z"
   },
   {
    "duration": 9,
    "start_time": "2022-10-18T20:01:34.959Z"
   },
   {
    "duration": 6,
    "start_time": "2022-10-18T20:01:35.005Z"
   },
   {
    "duration": 11,
    "start_time": "2022-10-18T20:01:35.012Z"
   },
   {
    "duration": 7,
    "start_time": "2022-10-18T20:01:35.024Z"
   },
   {
    "duration": 3,
    "start_time": "2022-10-18T20:01:35.032Z"
   },
   {
    "duration": 7,
    "start_time": "2022-10-18T20:01:35.037Z"
   },
   {
    "duration": 10,
    "start_time": "2022-10-18T20:01:35.045Z"
   },
   {
    "duration": 7,
    "start_time": "2022-10-18T20:01:35.057Z"
   },
   {
    "duration": 41,
    "start_time": "2022-10-18T20:01:35.065Z"
   },
   {
    "duration": 14,
    "start_time": "2022-10-18T20:01:35.107Z"
   },
   {
    "duration": 4,
    "start_time": "2022-10-18T20:01:35.122Z"
   },
   {
    "duration": 234,
    "start_time": "2022-10-18T20:01:35.127Z"
   },
   {
    "duration": 222,
    "start_time": "2022-10-18T20:01:35.362Z"
   },
   {
    "duration": 222,
    "start_time": "2022-10-18T20:01:35.585Z"
   },
   {
    "duration": 290,
    "start_time": "2022-10-18T20:01:35.809Z"
   },
   {
    "duration": 219,
    "start_time": "2022-10-18T20:01:36.101Z"
   },
   {
    "duration": 208,
    "start_time": "2022-10-18T20:01:36.322Z"
   },
   {
    "duration": 228,
    "start_time": "2022-10-18T20:01:36.532Z"
   },
   {
    "duration": 269,
    "start_time": "2022-10-18T20:01:36.762Z"
   },
   {
    "duration": 143,
    "start_time": "2022-10-18T20:01:37.033Z"
   },
   {
    "duration": 389,
    "start_time": "2022-10-18T20:01:37.179Z"
   },
   {
    "duration": 227,
    "start_time": "2022-10-18T20:01:37.570Z"
   },
   {
    "duration": 273,
    "start_time": "2022-10-18T20:01:37.798Z"
   },
   {
    "duration": 249,
    "start_time": "2022-10-18T20:01:38.073Z"
   },
   {
    "duration": 238,
    "start_time": "2022-10-18T20:01:38.323Z"
   },
   {
    "duration": 311,
    "start_time": "2022-10-18T20:01:38.562Z"
   },
   {
    "duration": 247,
    "start_time": "2022-10-18T20:01:38.875Z"
   },
   {
    "duration": 8,
    "start_time": "2022-10-18T20:01:39.124Z"
   },
   {
    "duration": 25,
    "start_time": "2022-10-18T20:01:39.133Z"
   },
   {
    "duration": 224,
    "start_time": "2022-10-18T20:01:39.160Z"
   },
   {
    "duration": 1248,
    "start_time": "2022-10-18T20:01:39.385Z"
   },
   {
    "duration": 7,
    "start_time": "2022-10-18T20:01:40.635Z"
   },
   {
    "duration": 22,
    "start_time": "2022-10-18T20:01:40.644Z"
   },
   {
    "duration": 142,
    "start_time": "2022-10-18T20:01:40.667Z"
   },
   {
    "duration": 587,
    "start_time": "2022-10-18T20:02:09.077Z"
   },
   {
    "duration": 82,
    "start_time": "2022-10-18T20:02:09.665Z"
   },
   {
    "duration": 29,
    "start_time": "2022-10-18T20:02:09.748Z"
   },
   {
    "duration": 13,
    "start_time": "2022-10-18T20:02:09.778Z"
   },
   {
    "duration": 1713,
    "start_time": "2022-10-18T20:02:09.792Z"
   },
   {
    "duration": 16,
    "start_time": "2022-10-18T20:02:11.507Z"
   },
   {
    "duration": 7,
    "start_time": "2022-10-18T20:02:11.525Z"
   },
   {
    "duration": 13,
    "start_time": "2022-10-18T20:02:11.534Z"
   },
   {
    "duration": 8,
    "start_time": "2022-10-18T20:02:11.548Z"
   },
   {
    "duration": 66,
    "start_time": "2022-10-18T20:02:11.557Z"
   },
   {
    "duration": 41,
    "start_time": "2022-10-18T20:02:11.625Z"
   },
   {
    "duration": 5,
    "start_time": "2022-10-18T20:02:11.668Z"
   },
   {
    "duration": 67,
    "start_time": "2022-10-18T20:02:11.674Z"
   },
   {
    "duration": 64,
    "start_time": "2022-10-18T20:02:11.745Z"
   },
   {
    "duration": 11,
    "start_time": "2022-10-18T20:02:11.810Z"
   },
   {
    "duration": 3192,
    "start_time": "2022-10-18T20:02:11.823Z"
   },
   {
    "duration": 9,
    "start_time": "2022-10-18T20:02:15.017Z"
   },
   {
    "duration": 15,
    "start_time": "2022-10-18T20:02:15.028Z"
   },
   {
    "duration": 60,
    "start_time": "2022-10-18T20:02:15.045Z"
   },
   {
    "duration": 4,
    "start_time": "2022-10-18T20:02:15.107Z"
   },
   {
    "duration": 245,
    "start_time": "2022-10-18T20:02:15.112Z"
   },
   {
    "duration": 9,
    "start_time": "2022-10-18T20:02:15.359Z"
   },
   {
    "duration": 6,
    "start_time": "2022-10-18T20:02:15.369Z"
   },
   {
    "duration": 9,
    "start_time": "2022-10-18T20:02:15.376Z"
   },
   {
    "duration": 22,
    "start_time": "2022-10-18T20:02:15.386Z"
   },
   {
    "duration": 200,
    "start_time": "2022-10-18T20:02:15.409Z"
   },
   {
    "duration": 13,
    "start_time": "2022-10-18T20:02:15.610Z"
   },
   {
    "duration": 5,
    "start_time": "2022-10-18T20:02:15.624Z"
   },
   {
    "duration": 7,
    "start_time": "2022-10-18T20:02:15.630Z"
   },
   {
    "duration": 29,
    "start_time": "2022-10-18T20:02:15.639Z"
   },
   {
    "duration": 42,
    "start_time": "2022-10-18T20:02:15.669Z"
   },
   {
    "duration": 209,
    "start_time": "2022-10-18T20:02:15.712Z"
   },
   {
    "duration": 7,
    "start_time": "2022-10-18T20:02:15.922Z"
   },
   {
    "duration": 4,
    "start_time": "2022-10-18T20:02:15.931Z"
   },
   {
    "duration": 8,
    "start_time": "2022-10-18T20:02:15.937Z"
   },
   {
    "duration": 300,
    "start_time": "2022-10-18T20:02:15.946Z"
   },
   {
    "duration": 15,
    "start_time": "2022-10-18T20:02:16.248Z"
   },
   {
    "duration": 208,
    "start_time": "2022-10-18T20:02:16.264Z"
   },
   {
    "duration": 7,
    "start_time": "2022-10-18T20:02:16.474Z"
   },
   {
    "duration": 6,
    "start_time": "2022-10-18T20:02:16.483Z"
   },
   {
    "duration": 8,
    "start_time": "2022-10-18T20:02:16.504Z"
   },
   {
    "duration": 7,
    "start_time": "2022-10-18T20:02:16.513Z"
   },
   {
    "duration": 5,
    "start_time": "2022-10-18T20:02:16.521Z"
   },
   {
    "duration": 8,
    "start_time": "2022-10-18T20:02:16.528Z"
   },
   {
    "duration": 5,
    "start_time": "2022-10-18T20:02:16.537Z"
   },
   {
    "duration": 6,
    "start_time": "2022-10-18T20:02:16.543Z"
   },
   {
    "duration": 8,
    "start_time": "2022-10-18T20:02:16.551Z"
   },
   {
    "duration": 10,
    "start_time": "2022-10-18T20:02:16.560Z"
   },
   {
    "duration": 8,
    "start_time": "2022-10-18T20:02:16.605Z"
   },
   {
    "duration": 5,
    "start_time": "2022-10-18T20:02:16.614Z"
   },
   {
    "duration": 9,
    "start_time": "2022-10-18T20:02:16.620Z"
   },
   {
    "duration": 15,
    "start_time": "2022-10-18T20:02:16.631Z"
   },
   {
    "duration": 8,
    "start_time": "2022-10-18T20:02:16.647Z"
   },
   {
    "duration": 7,
    "start_time": "2022-10-18T20:02:16.656Z"
   },
   {
    "duration": 41,
    "start_time": "2022-10-18T20:02:16.665Z"
   },
   {
    "duration": 4,
    "start_time": "2022-10-18T20:02:16.708Z"
   },
   {
    "duration": 233,
    "start_time": "2022-10-18T20:02:16.714Z"
   },
   {
    "duration": 202,
    "start_time": "2022-10-18T20:02:16.948Z"
   },
   {
    "duration": 232,
    "start_time": "2022-10-18T20:02:17.152Z"
   },
   {
    "duration": 322,
    "start_time": "2022-10-18T20:02:17.386Z"
   },
   {
    "duration": 223,
    "start_time": "2022-10-18T20:02:17.710Z"
   },
   {
    "duration": 246,
    "start_time": "2022-10-18T20:02:17.935Z"
   },
   {
    "duration": 225,
    "start_time": "2022-10-18T20:02:18.183Z"
   },
   {
    "duration": 210,
    "start_time": "2022-10-18T20:02:18.411Z"
   },
   {
    "duration": 114,
    "start_time": "2022-10-18T20:02:18.623Z"
   },
   {
    "duration": 308,
    "start_time": "2022-10-18T20:02:18.739Z"
   },
   {
    "duration": 207,
    "start_time": "2022-10-18T20:02:19.049Z"
   },
   {
    "duration": 214,
    "start_time": "2022-10-18T20:02:19.258Z"
   },
   {
    "duration": 218,
    "start_time": "2022-10-18T20:02:19.474Z"
   },
   {
    "duration": 225,
    "start_time": "2022-10-18T20:02:19.694Z"
   },
   {
    "duration": 222,
    "start_time": "2022-10-18T20:02:19.921Z"
   },
   {
    "duration": 327,
    "start_time": "2022-10-18T20:02:20.144Z"
   },
   {
    "duration": 9,
    "start_time": "2022-10-18T20:02:20.473Z"
   },
   {
    "duration": 30,
    "start_time": "2022-10-18T20:02:20.483Z"
   },
   {
    "duration": 213,
    "start_time": "2022-10-18T20:02:20.514Z"
   },
   {
    "duration": 1236,
    "start_time": "2022-10-18T20:02:20.729Z"
   },
   {
    "duration": 8,
    "start_time": "2022-10-18T20:02:21.966Z"
   },
   {
    "duration": 32,
    "start_time": "2022-10-18T20:02:21.975Z"
   },
   {
    "duration": 143,
    "start_time": "2022-10-18T20:02:22.009Z"
   },
   {
    "duration": 13,
    "start_time": "2022-10-18T20:02:40.860Z"
   },
   {
    "duration": 83,
    "start_time": "2022-10-18T20:02:44.257Z"
   }
  ],
  "kernelspec": {
   "display_name": "Python 3 (ipykernel)",
   "language": "python",
   "name": "python3"
  },
  "language_info": {
   "codemirror_mode": {
    "name": "ipython",
    "version": 3
   },
   "file_extension": ".py",
   "mimetype": "text/x-python",
   "name": "python",
   "nbconvert_exporter": "python",
   "pygments_lexer": "ipython3",
   "version": "3.9.12"
  },
  "toc": {
   "base_numbering": 1,
   "nav_menu": {},
   "number_sections": true,
   "sideBar": true,
   "skip_h1_title": true,
   "title_cell": "Table of Contents",
   "title_sidebar": "Contents",
   "toc_cell": false,
   "toc_position": {},
   "toc_section_display": true,
   "toc_window_display": false
  }
 },
 "nbformat": 4,
 "nbformat_minor": 2
}
